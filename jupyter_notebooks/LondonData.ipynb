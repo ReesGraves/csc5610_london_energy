{
 "cells": [
  {
   "cell_type": "code",
   "execution_count": 1117,
   "id": "1cd9a21a-8709-49b8-b062-cf8a60d3cda8",
   "metadata": {
    "ExecuteTime": {
     "end_time": "2023-12-06T06:16:19.804271800Z",
     "start_time": "2023-12-06T06:16:18.986144200Z"
    }
   },
   "outputs": [],
   "source": [
    "import pandas as pd\n",
    "import numpy as np\n",
    "import scipy.stats as stats\n",
    "import matplotlib.pyplot as plt\n",
    "import datetime as dt\n",
    "import time as time\n",
    "import seaborn as sns\n",
    "import os\n",
    "import warnings\n",
    "import statistics\n",
    "import pyarrow"
   ]
  },
  {
   "cell_type": "code",
   "execution_count": 1118,
   "outputs": [],
   "source": [
    "# os.getcwd()"
   ],
   "metadata": {
    "collapsed": false,
    "ExecuteTime": {
     "end_time": "2023-12-06T06:16:19.805272900Z",
     "start_time": "2023-12-06T06:16:18.989711200Z"
    }
   }
  },
  {
   "cell_type": "markdown",
   "id": "f4bd2f30-f9ef-4716-bf10-b7b114747ba8",
   "metadata": {},
   "source": [
    "# Data Preperation\n",
    "\n",
    "(Put some nice description here later)\n",
    "\n",
    "## London Energy Usage Data Preperation\n",
    "\n",
    "The main dataset for this project is the London Energy Usage Dataset. With this data we will try to predict tomorrows energy usage."
   ]
  },
  {
   "cell_type": "code",
   "execution_count": 1119,
   "id": "c8adcaab-46d3-4c62-953b-62be5333a4b0",
   "metadata": {
    "ExecuteTime": {
     "end_time": "2023-12-06T06:16:20.253680400Z",
     "start_time": "2023-12-06T06:16:19.009071Z"
    }
   },
   "outputs": [
    {
     "name": "stdout",
     "output_type": "stream",
     "text": [
      "       LCLid        Date     KWH\n",
      "0  MAC000002  10/12/2012   7.098\n",
      "1  MAC000002  10/13/2012  11.087\n",
      "2  MAC000002  10/14/2012  13.223\n",
      "3  MAC000002  10/15/2012  10.257\n",
      "4  MAC000002  10/16/2012   9.769\n",
      "5  MAC000002  10/17/2012  10.885\n",
      "6  MAC000002  10/18/2012  10.751\n",
      "7  MAC000002  10/19/2012   8.431\n",
      "8  MAC000002  10/20/2012  17.578\n",
      "9  MAC000002  10/21/2012  24.490\n"
     ]
    },
    {
     "data": {
      "text/plain": "0          10/12/2012\n1          10/13/2012\n2          10/14/2012\n3          10/15/2012\n4          10/16/2012\n              ...    \n1048570     11/7/2012\n1048571     11/8/2012\n1048572     11/9/2012\n1048573    11/10/2012\n1048574    11/11/2012\nName: Date, Length: 1048575, dtype: object"
     },
     "execution_count": 1119,
     "metadata": {},
     "output_type": "execute_result"
    }
   ],
   "source": [
    "LondonEnergy_df = pd.read_csv(\"../data/clean/LondonEnergy.xls\")\n",
    "print(LondonEnergy_df.head(10))\n",
    "LondonEnergy_df['Date'] = LondonEnergy_df['Date'].map(lambda s: str(s))\n",
    "LondonEnergy_df['Date']"
   ]
  },
  {
   "cell_type": "markdown",
   "id": "09011560-dba3-484f-bd09-8fbdfa2802eb",
   "metadata": {},
   "source": [
    "To prepare the energy usage data set for joining lets convert the data column to the datetime data type."
   ]
  },
  {
   "cell_type": "code",
   "execution_count": 1120,
   "id": "b0923649-76d3-4d62-81e3-214ad650f238",
   "metadata": {
    "ExecuteTime": {
     "end_time": "2023-12-06T06:16:26.256720100Z",
     "start_time": "2023-12-06T06:16:19.473971500Z"
    }
   },
   "outputs": [
    {
     "name": "stdout",
     "output_type": "stream",
     "text": [
      "0          10/12/2012\n",
      "1          10/13/2012\n",
      "2          10/14/2012\n",
      "3          10/15/2012\n",
      "4          10/16/2012\n",
      "              ...    \n",
      "1048570     11/7/2012\n",
      "1048571     11/8/2012\n",
      "1048572     11/9/2012\n",
      "1048573    11/10/2012\n",
      "1048574    11/11/2012\n",
      "Name: Date, Length: 1048575, dtype: object\n"
     ]
    },
    {
     "data": {
      "text/plain": "0         2012-10-12\n1         2012-10-13\n2         2012-10-14\n3         2012-10-15\n4         2012-10-16\n             ...    \n1048570   2012-11-07\n1048571   2012-11-08\n1048572   2012-11-09\n1048573   2012-11-10\n1048574   2012-11-11\nName: Date, Length: 1048575, dtype: datetime64[ns]"
     },
     "execution_count": 1120,
     "metadata": {},
     "output_type": "execute_result"
    }
   ],
   "source": [
    "format_str = \"%m/%d/%Y\"\n",
    "print(LondonEnergy_df['Date'])\n",
    "LondonEnergy_df['Date'] = LondonEnergy_df['Date'].map(lambda s: dt.datetime.strptime(str(s), format_str))\n",
    "LondonEnergy_df['Date']"
   ]
  },
  {
   "cell_type": "markdown",
   "source": [
    "Now that we have the date data in the data time format the data set is ready to be joined with other complimentary datasets based on date.\n",
    "Before we move on to the other data sets however lets:\n",
    "- Collapse the home power usage into an average so we have one label per day\n",
    "- Ensure dates range from 2012-2014\n",
    "- check for corrupted or missing data in the energy usage data set.\n",
    "\n",
    "# Collapse power usage to average\n",
    "Average the KWH data so that we get a single label for each day,\n",
    "then drop all but the first entry for each day,\n",
    "then delete the LCLid, and KWH columns as they dont represent any meaningful data.\n"
   ],
   "metadata": {
    "collapsed": false
   }
  },
  {
   "cell_type": "code",
   "execution_count": 1121,
   "outputs": [
    {
     "data": {
      "text/plain": "            LCLid       Date     KWH     avgKWH\n0       MAC000002 2012-10-12   7.098   9.255908\n1       MAC000002 2012-10-13  11.087   9.655415\n2       MAC000002 2012-10-14  13.223  10.254760\n3       MAC000002 2012-10-15  10.257   9.820895\n4       MAC000002 2012-10-16   9.769   9.424696\n...           ...        ...     ...        ...\n108385  MAC000145 2011-12-01  13.572   9.227707\n108386  MAC000145 2011-12-02  11.720  10.145910\n108387  MAC000145 2011-12-03  13.170  10.780273\n108388  MAC000145 2011-12-04  16.575  12.163127\n108389  MAC000145 2011-12-05  12.427  10.609714\n\n[829 rows x 4 columns]",
      "text/html": "<div>\n<style scoped>\n    .dataframe tbody tr th:only-of-type {\n        vertical-align: middle;\n    }\n\n    .dataframe tbody tr th {\n        vertical-align: top;\n    }\n\n    .dataframe thead th {\n        text-align: right;\n    }\n</style>\n<table border=\"1\" class=\"dataframe\">\n  <thead>\n    <tr style=\"text-align: right;\">\n      <th></th>\n      <th>LCLid</th>\n      <th>Date</th>\n      <th>KWH</th>\n      <th>avgKWH</th>\n    </tr>\n  </thead>\n  <tbody>\n    <tr>\n      <th>0</th>\n      <td>MAC000002</td>\n      <td>2012-10-12</td>\n      <td>7.098</td>\n      <td>9.255908</td>\n    </tr>\n    <tr>\n      <th>1</th>\n      <td>MAC000002</td>\n      <td>2012-10-13</td>\n      <td>11.087</td>\n      <td>9.655415</td>\n    </tr>\n    <tr>\n      <th>2</th>\n      <td>MAC000002</td>\n      <td>2012-10-14</td>\n      <td>13.223</td>\n      <td>10.254760</td>\n    </tr>\n    <tr>\n      <th>3</th>\n      <td>MAC000002</td>\n      <td>2012-10-15</td>\n      <td>10.257</td>\n      <td>9.820895</td>\n    </tr>\n    <tr>\n      <th>4</th>\n      <td>MAC000002</td>\n      <td>2012-10-16</td>\n      <td>9.769</td>\n      <td>9.424696</td>\n    </tr>\n    <tr>\n      <th>...</th>\n      <td>...</td>\n      <td>...</td>\n      <td>...</td>\n      <td>...</td>\n    </tr>\n    <tr>\n      <th>108385</th>\n      <td>MAC000145</td>\n      <td>2011-12-01</td>\n      <td>13.572</td>\n      <td>9.227707</td>\n    </tr>\n    <tr>\n      <th>108386</th>\n      <td>MAC000145</td>\n      <td>2011-12-02</td>\n      <td>11.720</td>\n      <td>10.145910</td>\n    </tr>\n    <tr>\n      <th>108387</th>\n      <td>MAC000145</td>\n      <td>2011-12-03</td>\n      <td>13.170</td>\n      <td>10.780273</td>\n    </tr>\n    <tr>\n      <th>108388</th>\n      <td>MAC000145</td>\n      <td>2011-12-04</td>\n      <td>16.575</td>\n      <td>12.163127</td>\n    </tr>\n    <tr>\n      <th>108389</th>\n      <td>MAC000145</td>\n      <td>2011-12-05</td>\n      <td>12.427</td>\n      <td>10.609714</td>\n    </tr>\n  </tbody>\n</table>\n<p>829 rows × 4 columns</p>\n</div>"
     },
     "execution_count": 1121,
     "metadata": {},
     "output_type": "execute_result"
    }
   ],
   "source": [
    "LondonEnergy_df['avgKWH'] = LondonEnergy_df.groupby('Date')['KWH'].transform('mean')\n",
    "LondonEnergy_df = LondonEnergy_df.drop_duplicates(subset=['Date'], keep='first')\n",
    "LondonEnergy_df"
   ],
   "metadata": {
    "collapsed": false,
    "ExecuteTime": {
     "end_time": "2023-12-06T06:16:26.312049800Z",
     "start_time": "2023-12-06T06:16:26.258721800Z"
    }
   }
  },
  {
   "cell_type": "code",
   "execution_count": 1122,
   "outputs": [
    {
     "data": {
      "text/plain": "             Date     avgKWH\n0      2012-10-12   9.255908\n1      2012-10-13   9.655415\n2      2012-10-14  10.254760\n3      2012-10-15   9.820895\n4      2012-10-16   9.424696\n...           ...        ...\n108385 2011-12-01   9.227707\n108386 2011-12-02  10.145910\n108387 2011-12-03  10.780273\n108388 2011-12-04  12.163127\n108389 2011-12-05  10.609714\n\n[829 rows x 2 columns]",
      "text/html": "<div>\n<style scoped>\n    .dataframe tbody tr th:only-of-type {\n        vertical-align: middle;\n    }\n\n    .dataframe tbody tr th {\n        vertical-align: top;\n    }\n\n    .dataframe thead th {\n        text-align: right;\n    }\n</style>\n<table border=\"1\" class=\"dataframe\">\n  <thead>\n    <tr style=\"text-align: right;\">\n      <th></th>\n      <th>Date</th>\n      <th>avgKWH</th>\n    </tr>\n  </thead>\n  <tbody>\n    <tr>\n      <th>0</th>\n      <td>2012-10-12</td>\n      <td>9.255908</td>\n    </tr>\n    <tr>\n      <th>1</th>\n      <td>2012-10-13</td>\n      <td>9.655415</td>\n    </tr>\n    <tr>\n      <th>2</th>\n      <td>2012-10-14</td>\n      <td>10.254760</td>\n    </tr>\n    <tr>\n      <th>3</th>\n      <td>2012-10-15</td>\n      <td>9.820895</td>\n    </tr>\n    <tr>\n      <th>4</th>\n      <td>2012-10-16</td>\n      <td>9.424696</td>\n    </tr>\n    <tr>\n      <th>...</th>\n      <td>...</td>\n      <td>...</td>\n    </tr>\n    <tr>\n      <th>108385</th>\n      <td>2011-12-01</td>\n      <td>9.227707</td>\n    </tr>\n    <tr>\n      <th>108386</th>\n      <td>2011-12-02</td>\n      <td>10.145910</td>\n    </tr>\n    <tr>\n      <th>108387</th>\n      <td>2011-12-03</td>\n      <td>10.780273</td>\n    </tr>\n    <tr>\n      <th>108388</th>\n      <td>2011-12-04</td>\n      <td>12.163127</td>\n    </tr>\n    <tr>\n      <th>108389</th>\n      <td>2011-12-05</td>\n      <td>10.609714</td>\n    </tr>\n  </tbody>\n</table>\n<p>829 rows × 2 columns</p>\n</div>"
     },
     "execution_count": 1122,
     "metadata": {},
     "output_type": "execute_result"
    }
   ],
   "source": [
    "LondonEnergy_df.pop('LCLid')\n",
    "LondonEnergy_df.pop('KWH')\n",
    "LondonEnergy_df"
   ],
   "metadata": {
    "collapsed": false,
    "ExecuteTime": {
     "end_time": "2023-12-06T06:16:26.320693800Z",
     "start_time": "2023-12-06T06:16:26.312049800Z"
    }
   }
  },
  {
   "cell_type": "markdown",
   "source": [
    "\n"
   ],
   "metadata": {
    "collapsed": false
   }
  },
  {
   "cell_type": "markdown",
   "source": [
    "### Ensure dates range from 2012-2014\n",
    "Lets get the number of days between the minimum and maximum days"
   ],
   "metadata": {
    "collapsed": false
   }
  },
  {
   "cell_type": "code",
   "execution_count": 1123,
   "outputs": [
    {
     "name": "stdout",
     "output_type": "stream",
     "text": [
      "828\n"
     ]
    }
   ],
   "source": [
    "LondonEnergy_df = LondonEnergy_df.sort_values(\"Date\")\n",
    "LondonEnergy_df = LondonEnergy_df.reset_index(drop=True)\n",
    "print((LondonEnergy_df[\"Date\"].max()-LondonEnergy_df['Date'].min()).days)"
   ],
   "metadata": {
    "collapsed": false,
    "ExecuteTime": {
     "end_time": "2023-12-06T06:16:26.324148100Z",
     "start_time": "2023-12-06T06:16:26.321145200Z"
    }
   }
  },
  {
   "cell_type": "markdown",
   "source": [
    "Next lets see how many days there are"
   ],
   "metadata": {
    "collapsed": false
   }
  },
  {
   "cell_type": "code",
   "execution_count": 1124,
   "outputs": [
    {
     "name": "stdout",
     "output_type": "stream",
     "text": [
      "<class 'pandas.core.frame.DataFrame'>\n",
      "RangeIndex: 829 entries, 0 to 828\n",
      "Data columns (total 2 columns):\n",
      " #   Column  Non-Null Count  Dtype         \n",
      "---  ------  --------------  -----         \n",
      " 0   Date    829 non-null    datetime64[ns]\n",
      " 1   avgKWH  829 non-null    float64       \n",
      "dtypes: datetime64[ns](1), float64(1)\n",
      "memory usage: 13.1 KB\n"
     ]
    }
   ],
   "source": [
    "LondonEnergy_df.info()"
   ],
   "metadata": {
    "collapsed": false,
    "ExecuteTime": {
     "end_time": "2023-12-06T06:16:26.330866900Z",
     "start_time": "2023-12-06T06:16:26.325149700Z"
    }
   }
  },
  {
   "cell_type": "markdown",
   "source": [
    "There are in fact 828 days, and 828 unique dated records between the first day of the dataset and the last. This also means that none of the data is null/NAN."
   ],
   "metadata": {
    "collapsed": false
   }
  },
  {
   "cell_type": "code",
   "execution_count": 1125,
   "outputs": [
    {
     "name": "stdout",
     "output_type": "stream",
     "text": [
      "<class 'pandas.core.frame.DataFrame'>\n",
      "RangeIndex: 829 entries, 0 to 828\n",
      "Data columns (total 2 columns):\n",
      " #   Column  Non-Null Count  Dtype         \n",
      "---  ------  --------------  -----         \n",
      " 0   Date    829 non-null    datetime64[ns]\n",
      " 1   avgKWH  829 non-null    float64       \n",
      "dtypes: datetime64[ns](1), float64(1)\n",
      "memory usage: 13.1 KB\n"
     ]
    }
   ],
   "source": [
    "LondonEnergy_df.info()"
   ],
   "metadata": {
    "collapsed": false,
    "ExecuteTime": {
     "end_time": "2023-12-06T06:16:26.338431400Z",
     "start_time": "2023-12-06T06:16:26.330866900Z"
    }
   }
  },
  {
   "cell_type": "markdown",
   "source": [
    "## London Weather Data Preparation\n",
    "\n",
    "The second data set we will be joining for our model is a data set detailing the weather in london."
   ],
   "metadata": {
    "collapsed": false
   }
  },
  {
   "cell_type": "code",
   "execution_count": 1126,
   "outputs": [
    {
     "name": "stdout",
     "output_type": "stream",
     "text": [
      "       date  cloud_cover  sunshine  global_radiation  max_temp  mean_temp  \\\n",
      "0  19790101          2.0       7.0              52.0       2.3       -4.1   \n",
      "1  19790102          6.0       1.7              27.0       1.6       -2.6   \n",
      "2  19790103          5.0       0.0              13.0       1.3       -2.8   \n",
      "3  19790104          8.0       0.0              13.0      -0.3       -2.6   \n",
      "4  19790105          6.0       2.0              29.0       5.6       -0.8   \n",
      "\n",
      "   min_temp  precipitation  pressure  snow_depth  \n",
      "0      -7.5            0.4  101900.0         9.0  \n",
      "1      -7.5            0.0  102530.0         8.0  \n",
      "2      -7.2            0.0  102050.0         4.0  \n",
      "3      -6.5            0.0  100840.0         2.0  \n",
      "4      -1.4            0.0  102250.0         1.0  \n",
      "           date  cloud_cover  sunshine  global_radiation  max_temp  mean_temp  \\\n",
      "15336  20201227          1.0       0.9              32.0       7.5        7.5   \n",
      "15337  20201228          7.0       3.7              38.0       3.6        1.1   \n",
      "15338  20201229          7.0       0.0              21.0       4.1        2.6   \n",
      "15339  20201230          6.0       0.4              22.0       5.6        2.7   \n",
      "15340  20201231          7.0       1.3              34.0       1.5       -0.8   \n",
      "\n",
      "       min_temp  precipitation  pressure  snow_depth  \n",
      "15336       7.6            2.0   98000.0         NaN  \n",
      "15337      -1.3            0.2   97370.0         NaN  \n",
      "15338       1.1            0.0   98830.0         NaN  \n",
      "15339      -0.1            0.0  100200.0         NaN  \n",
      "15340      -3.1            0.0  100500.0         NaN  \n"
     ]
    }
   ],
   "source": [
    "LondonWeather = pd.read_csv(\"../data/clean/LondonWeather.xls\")\n",
    "print(LondonWeather.head())\n",
    "print(LondonWeather.tail())"
   ],
   "metadata": {
    "collapsed": false,
    "ExecuteTime": {
     "end_time": "2023-12-06T06:16:26.381749900Z",
     "start_time": "2023-12-06T06:16:26.337430400Z"
    }
   }
  },
  {
   "cell_type": "markdown",
   "source": [
    "The date in this data set appears to have been read in as an integer, to join this data set with the other two we will want to utilize the datetime data type."
   ],
   "metadata": {
    "collapsed": false
   }
  },
  {
   "cell_type": "code",
   "execution_count": 1127,
   "outputs": [
    {
     "name": "stdout",
     "output_type": "stream",
     "text": [
      "0        19790101\n",
      "1        19790102\n",
      "2        19790103\n",
      "3        19790104\n",
      "4        19790105\n",
      "           ...   \n",
      "15336    20201227\n",
      "15337    20201228\n",
      "15338    20201229\n",
      "15339    20201230\n",
      "15340    20201231\n",
      "Name: date, Length: 15341, dtype: int64\n",
      "0       1979-01-01\n",
      "1       1979-01-02\n",
      "2       1979-01-03\n",
      "3       1979-01-04\n",
      "4       1979-01-05\n",
      "           ...    \n",
      "15336   2020-12-27\n",
      "15337   2020-12-28\n",
      "15338   2020-12-29\n",
      "15339   2020-12-30\n",
      "15340   2020-12-31\n",
      "Name: date, Length: 15341, dtype: datetime64[ns]\n"
     ]
    }
   ],
   "source": [
    "format_str = \"%Y%m%d\"\n",
    "print(LondonWeather['date'])\n",
    "LondonWeather['date'] = LondonWeather['date'].map(lambda s: dt.datetime.strptime(str(s), format_str))\n",
    "print(LondonWeather['date'])"
   ],
   "metadata": {
    "collapsed": false,
    "ExecuteTime": {
     "end_time": "2023-12-06T06:16:26.469546200Z",
     "start_time": "2023-12-06T06:16:26.361732300Z"
    }
   }
  },
  {
   "cell_type": "markdown",
   "source": [
    "The london Weather data begins in 1979 and concludes in 2020. This timeframe is far beyond the scope of our project so lets limit our data to 2011-2014. Additionally, the date column label does not align to our original data set so lets change that as well."
   ],
   "metadata": {
    "collapsed": false
   }
  },
  {
   "cell_type": "code",
   "execution_count": 1128,
   "outputs": [
    {
     "data": {
      "text/plain": "           Date  cloud_cover  sunshine  global_radiation  max_temp  mean_temp  \\\n0    2011-01-01          8.0       0.0              13.0       4.0        5.9   \n1    2011-01-02          8.0       0.1              15.0       2.9        3.0   \n2    2011-01-03          7.0       0.1              15.0       6.0        1.3   \n3    2011-01-04          7.0       0.0              13.0       7.1        2.9   \n4    2011-01-05          6.0       2.3              31.0       5.1        4.2   \n...         ...          ...       ...               ...       ...        ...   \n1456 2014-12-27          5.0       2.0              28.0       6.2        3.0   \n1457 2014-12-28          0.0       6.0              47.0       5.8        3.6   \n1458 2014-12-29          0.0       6.1              47.0       5.7        1.2   \n1459 2014-12-30          1.0       3.3              35.0       8.5        0.8   \n1460 2014-12-31          3.0       2.3              30.0      12.9        2.2   \n\n      min_temp  precipitation  pressure  snow_depth  \n0          4.6            0.6  102500.0         0.0  \n1          1.9            0.0  102830.0         0.0  \n2         -0.3            0.0  102460.0         0.0  \n3         -0.3            0.0  101360.0         NaN  \n4          1.3            1.0  100040.0         0.0  \n...        ...            ...       ...         ...  \n1456       1.2            0.0  100730.0         0.0  \n1457       0.9            0.0  102950.0         0.0  \n1458      -3.5            0.2  104060.0         0.0  \n1459      -4.1            0.2  103940.0         0.0  \n1460      -4.1            0.2  103410.0         0.0  \n\n[1461 rows x 10 columns]",
      "text/html": "<div>\n<style scoped>\n    .dataframe tbody tr th:only-of-type {\n        vertical-align: middle;\n    }\n\n    .dataframe tbody tr th {\n        vertical-align: top;\n    }\n\n    .dataframe thead th {\n        text-align: right;\n    }\n</style>\n<table border=\"1\" class=\"dataframe\">\n  <thead>\n    <tr style=\"text-align: right;\">\n      <th></th>\n      <th>Date</th>\n      <th>cloud_cover</th>\n      <th>sunshine</th>\n      <th>global_radiation</th>\n      <th>max_temp</th>\n      <th>mean_temp</th>\n      <th>min_temp</th>\n      <th>precipitation</th>\n      <th>pressure</th>\n      <th>snow_depth</th>\n    </tr>\n  </thead>\n  <tbody>\n    <tr>\n      <th>0</th>\n      <td>2011-01-01</td>\n      <td>8.0</td>\n      <td>0.0</td>\n      <td>13.0</td>\n      <td>4.0</td>\n      <td>5.9</td>\n      <td>4.6</td>\n      <td>0.6</td>\n      <td>102500.0</td>\n      <td>0.0</td>\n    </tr>\n    <tr>\n      <th>1</th>\n      <td>2011-01-02</td>\n      <td>8.0</td>\n      <td>0.1</td>\n      <td>15.0</td>\n      <td>2.9</td>\n      <td>3.0</td>\n      <td>1.9</td>\n      <td>0.0</td>\n      <td>102830.0</td>\n      <td>0.0</td>\n    </tr>\n    <tr>\n      <th>2</th>\n      <td>2011-01-03</td>\n      <td>7.0</td>\n      <td>0.1</td>\n      <td>15.0</td>\n      <td>6.0</td>\n      <td>1.3</td>\n      <td>-0.3</td>\n      <td>0.0</td>\n      <td>102460.0</td>\n      <td>0.0</td>\n    </tr>\n    <tr>\n      <th>3</th>\n      <td>2011-01-04</td>\n      <td>7.0</td>\n      <td>0.0</td>\n      <td>13.0</td>\n      <td>7.1</td>\n      <td>2.9</td>\n      <td>-0.3</td>\n      <td>0.0</td>\n      <td>101360.0</td>\n      <td>NaN</td>\n    </tr>\n    <tr>\n      <th>4</th>\n      <td>2011-01-05</td>\n      <td>6.0</td>\n      <td>2.3</td>\n      <td>31.0</td>\n      <td>5.1</td>\n      <td>4.2</td>\n      <td>1.3</td>\n      <td>1.0</td>\n      <td>100040.0</td>\n      <td>0.0</td>\n    </tr>\n    <tr>\n      <th>...</th>\n      <td>...</td>\n      <td>...</td>\n      <td>...</td>\n      <td>...</td>\n      <td>...</td>\n      <td>...</td>\n      <td>...</td>\n      <td>...</td>\n      <td>...</td>\n      <td>...</td>\n    </tr>\n    <tr>\n      <th>1456</th>\n      <td>2014-12-27</td>\n      <td>5.0</td>\n      <td>2.0</td>\n      <td>28.0</td>\n      <td>6.2</td>\n      <td>3.0</td>\n      <td>1.2</td>\n      <td>0.0</td>\n      <td>100730.0</td>\n      <td>0.0</td>\n    </tr>\n    <tr>\n      <th>1457</th>\n      <td>2014-12-28</td>\n      <td>0.0</td>\n      <td>6.0</td>\n      <td>47.0</td>\n      <td>5.8</td>\n      <td>3.6</td>\n      <td>0.9</td>\n      <td>0.0</td>\n      <td>102950.0</td>\n      <td>0.0</td>\n    </tr>\n    <tr>\n      <th>1458</th>\n      <td>2014-12-29</td>\n      <td>0.0</td>\n      <td>6.1</td>\n      <td>47.0</td>\n      <td>5.7</td>\n      <td>1.2</td>\n      <td>-3.5</td>\n      <td>0.2</td>\n      <td>104060.0</td>\n      <td>0.0</td>\n    </tr>\n    <tr>\n      <th>1459</th>\n      <td>2014-12-30</td>\n      <td>1.0</td>\n      <td>3.3</td>\n      <td>35.0</td>\n      <td>8.5</td>\n      <td>0.8</td>\n      <td>-4.1</td>\n      <td>0.2</td>\n      <td>103940.0</td>\n      <td>0.0</td>\n    </tr>\n    <tr>\n      <th>1460</th>\n      <td>2014-12-31</td>\n      <td>3.0</td>\n      <td>2.3</td>\n      <td>30.0</td>\n      <td>12.9</td>\n      <td>2.2</td>\n      <td>-4.1</td>\n      <td>0.2</td>\n      <td>103410.0</td>\n      <td>0.0</td>\n    </tr>\n  </tbody>\n</table>\n<p>1461 rows × 10 columns</p>\n</div>"
     },
     "execution_count": 1128,
     "metadata": {},
     "output_type": "execute_result"
    }
   ],
   "source": [
    "DesiredTime = (LondonWeather['date'].dt.year >= 2011) & \\\n",
    "              (LondonWeather['date'].dt.year <= 2014)\n",
    "LondonWeather_df = LondonWeather[DesiredTime]\n",
    "# Lets reindex so it looks nicer\n",
    "LondonWeather_df = LondonWeather_df.reset_index()\n",
    "# Get rid of the old index\n",
    "LondonWeather_df.pop('index')\n",
    "# And lets fix the column name\n",
    "LondonWeather_df = LondonWeather_df.rename(columns = {'date':'Date'})\n",
    "\n",
    "LondonWeather_df"
   ],
   "metadata": {
    "collapsed": false,
    "ExecuteTime": {
     "end_time": "2023-12-06T06:16:26.483223400Z",
     "start_time": "2023-12-06T06:16:26.469546200Z"
    }
   }
  },
  {
   "cell_type": "markdown",
   "source": [
    "Now the London Weather data set is ready to be joined to the original Energy usage data set.\n",
    "\n",
    "### Are All Dates Present?\n",
    "\n",
    "Lets now ensure that all dates are present in this data set."
   ],
   "metadata": {
    "collapsed": false
   }
  },
  {
   "cell_type": "code",
   "execution_count": 1129,
   "outputs": [
    {
     "name": "stdout",
     "output_type": "stream",
     "text": [
      "DatetimeIndex([], dtype='datetime64[ns]', freq='D')\n"
     ]
    }
   ],
   "source": [
    "MissingDates = pd.date_range(start = '2011-01-01', end = '2014-12-31' ).difference(LondonWeather_df['Date'])\n",
    "print(MissingDates)"
   ],
   "metadata": {
    "collapsed": false,
    "ExecuteTime": {
     "end_time": "2023-12-06T06:16:26.488465300Z",
     "start_time": "2023-12-06T06:16:26.483223400Z"
    }
   }
  },
  {
   "cell_type": "markdown",
   "source": [
    "All days from 2011-2014 are present, and there are no additional dates.\n",
    "### Is The Data Uncorrupted?"
   ],
   "metadata": {
    "collapsed": false
   }
  },
  {
   "cell_type": "code",
   "execution_count": 1130,
   "outputs": [
    {
     "name": "stdout",
     "output_type": "stream",
     "text": [
      "The 'Date' column contains 0 null values.\n",
      "The 'cloud_cover' column contains 2 null values.\n",
      "The 'sunshine' column contains 0 null values.\n",
      "The 'global_radiation' column contains 0 null values.\n",
      "The 'max_temp' column contains 0 null values.\n",
      "The 'mean_temp' column contains 0 null values.\n",
      "The 'min_temp' column contains 0 null values.\n",
      "The 'precipitation' column contains 0 null values.\n",
      "The 'pressure' column contains 0 null values.\n",
      "The 'snow_depth' column contains 180 null values.\n"
     ]
    }
   ],
   "source": [
    "for col in LondonWeather_df:\n",
    "    NanCheck = LondonWeather_df[col].isnull().sum()\n",
    "    print(f'The \\'{col}\\' column contains {NanCheck} null values.')"
   ],
   "metadata": {
    "collapsed": false,
    "ExecuteTime": {
     "end_time": "2023-12-06T06:16:26.494023700Z",
     "start_time": "2023-12-06T06:16:26.488465300Z"
    }
   }
  },
  {
   "cell_type": "markdown",
   "source": [
    "Both cloud_cover and snow_depth contain null values. The cloud_cover column contains only 2 null values, but the snow_depth column contains 180. 180 nulls represent slightly less than a seventh of total observations.\n",
    "Lets deal with the CloudNulls first."
   ],
   "metadata": {
    "collapsed": false
   }
  },
  {
   "cell_type": "code",
   "execution_count": 1131,
   "outputs": [
    {
     "data": {
      "text/plain": "          Date  cloud_cover  sunshine  global_radiation  max_temp  mean_temp  \\\n323 2011-11-20          NaN       0.0              17.0      11.5        5.3   \n426 2012-03-02          NaN       3.4              88.0      15.0        7.5   \n\n     min_temp  precipitation  pressure  snow_depth  \n323       2.2            0.2  101890.0         0.0  \n426       3.2            0.0  102560.0         0.0  ",
      "text/html": "<div>\n<style scoped>\n    .dataframe tbody tr th:only-of-type {\n        vertical-align: middle;\n    }\n\n    .dataframe tbody tr th {\n        vertical-align: top;\n    }\n\n    .dataframe thead th {\n        text-align: right;\n    }\n</style>\n<table border=\"1\" class=\"dataframe\">\n  <thead>\n    <tr style=\"text-align: right;\">\n      <th></th>\n      <th>Date</th>\n      <th>cloud_cover</th>\n      <th>sunshine</th>\n      <th>global_radiation</th>\n      <th>max_temp</th>\n      <th>mean_temp</th>\n      <th>min_temp</th>\n      <th>precipitation</th>\n      <th>pressure</th>\n      <th>snow_depth</th>\n    </tr>\n  </thead>\n  <tbody>\n    <tr>\n      <th>323</th>\n      <td>2011-11-20</td>\n      <td>NaN</td>\n      <td>0.0</td>\n      <td>17.0</td>\n      <td>11.5</td>\n      <td>5.3</td>\n      <td>2.2</td>\n      <td>0.2</td>\n      <td>101890.0</td>\n      <td>0.0</td>\n    </tr>\n    <tr>\n      <th>426</th>\n      <td>2012-03-02</td>\n      <td>NaN</td>\n      <td>3.4</td>\n      <td>88.0</td>\n      <td>15.0</td>\n      <td>7.5</td>\n      <td>3.2</td>\n      <td>0.0</td>\n      <td>102560.0</td>\n      <td>0.0</td>\n    </tr>\n  </tbody>\n</table>\n</div>"
     },
     "execution_count": 1131,
     "metadata": {},
     "output_type": "execute_result"
    }
   ],
   "source": [
    "CloudNulls = (LondonWeather_df['cloud_cover'].isnull())\n",
    "LondonWeather_df[CloudNulls]"
   ],
   "metadata": {
    "collapsed": false,
    "ExecuteTime": {
     "end_time": "2023-12-06T06:16:26.520641800Z",
     "start_time": "2023-12-06T06:16:26.495024600Z"
    }
   }
  },
  {
   "cell_type": "markdown",
   "source": [
    "Considering how little data is null data I recommend one of the two following approaches:\n",
    "* Zero padding: Since theres so little data missing just placing zeros here is unlikely to meaningfully impact the model\n",
    "* Average the previous and following day: Lived experience tells me that on average cloud coverage usually comes and goes in trends, it would be abnormal to have overcast, clear skies, overcast in three successive days. Based on this observation the most likely value for the cloud coverage between two days is likely found between the prevalence of the surrounding days."
   ],
   "metadata": {
    "collapsed": false
   }
  },
  {
   "cell_type": "code",
   "execution_count": 1132,
   "outputs": [
    {
     "name": "stdout",
     "output_type": "stream",
     "text": [
      "1.0 7.0\n",
      "5.0 5.0\n"
     ]
    }
   ],
   "source": [
    "CloudNulls = (LondonWeather_df['cloud_cover'].isnull())\n",
    "inds = LondonWeather_df[CloudNulls].index\n",
    "for index in inds:\n",
    "    before = LondonWeather_df['cloud_cover'].iloc[index-1]\n",
    "    after  = LondonWeather_df['cloud_cover'].iloc[index+1]\n",
    "    print(str(before)+' '+str(after))\n",
    "# Averaging approach\n",
    "    LondonWeather_df.loc[index,'cloud_cover'] = (float(before)+float(after))/2\n",
    "##Zero padding approach\n",
    "# LondonWeather_df['cloud_cover'] = LondonWeather_df[\"cloud_cover\"].fillna(0.0)\n",
    "\n"
   ],
   "metadata": {
    "collapsed": false,
    "ExecuteTime": {
     "end_time": "2023-12-06T06:16:26.640908Z",
     "start_time": "2023-12-06T06:16:26.504259400Z"
    }
   }
  },
  {
   "cell_type": "markdown",
   "source": [
    "Now lets confirm there is no more nulls."
   ],
   "metadata": {
    "collapsed": false
   }
  },
  {
   "cell_type": "code",
   "execution_count": 1133,
   "outputs": [
    {
     "data": {
      "text/plain": "Empty DataFrame\nColumns: [Date, cloud_cover, sunshine, global_radiation, max_temp, mean_temp, min_temp, precipitation, pressure, snow_depth]\nIndex: []",
      "text/html": "<div>\n<style scoped>\n    .dataframe tbody tr th:only-of-type {\n        vertical-align: middle;\n    }\n\n    .dataframe tbody tr th {\n        vertical-align: top;\n    }\n\n    .dataframe thead th {\n        text-align: right;\n    }\n</style>\n<table border=\"1\" class=\"dataframe\">\n  <thead>\n    <tr style=\"text-align: right;\">\n      <th></th>\n      <th>Date</th>\n      <th>cloud_cover</th>\n      <th>sunshine</th>\n      <th>global_radiation</th>\n      <th>max_temp</th>\n      <th>mean_temp</th>\n      <th>min_temp</th>\n      <th>precipitation</th>\n      <th>pressure</th>\n      <th>snow_depth</th>\n    </tr>\n  </thead>\n  <tbody>\n  </tbody>\n</table>\n</div>"
     },
     "execution_count": 1133,
     "metadata": {},
     "output_type": "execute_result"
    }
   ],
   "source": [
    "CloudNulls = (LondonWeather_df['cloud_cover'].isnull())\n",
    "LondonWeather_df[CloudNulls]"
   ],
   "metadata": {
    "collapsed": false,
    "ExecuteTime": {
     "end_time": "2023-12-06T06:16:26.688951400Z",
     "start_time": "2023-12-06T06:16:26.510224900Z"
    }
   }
  },
  {
   "cell_type": "markdown",
   "source": [
    "Now that we have confirmed there are no cloud coverage nulls lets move to snow_depth nulls. Lets print the month and year of the snow_depth nulls out to look for insight to why these nulls exist."
   ],
   "metadata": {
    "collapsed": false
   }
  },
  {
   "cell_type": "code",
   "execution_count": 1134,
   "outputs": [
    {
     "name": "stdout",
     "output_type": "stream",
     "text": [
      "1 2011\n",
      "1 2011\n",
      "4 2011\n",
      "4 2011\n",
      "4 2011\n",
      "4 2011\n",
      "4 2011\n",
      "4 2011\n",
      "4 2011\n",
      "4 2011\n",
      "4 2011\n",
      "4 2011\n",
      "4 2011\n",
      "4 2011\n",
      "4 2011\n",
      "4 2011\n",
      "4 2011\n",
      "4 2011\n",
      "4 2011\n",
      "4 2011\n",
      "5 2011\n",
      "5 2011\n",
      "5 2011\n",
      "5 2011\n",
      "5 2011\n",
      "5 2011\n",
      "5 2011\n",
      "5 2011\n",
      "5 2011\n",
      "5 2011\n",
      "5 2011\n",
      "5 2011\n",
      "5 2011\n",
      "5 2011\n",
      "5 2011\n",
      "5 2011\n",
      "5 2011\n",
      "5 2011\n",
      "5 2011\n",
      "5 2011\n",
      "5 2011\n",
      "5 2011\n",
      "5 2011\n",
      "5 2011\n",
      "5 2011\n",
      "5 2011\n",
      "5 2011\n",
      "5 2011\n",
      "5 2011\n",
      "5 2011\n",
      "5 2011\n",
      "6 2011\n",
      "6 2011\n",
      "6 2011\n",
      "6 2011\n",
      "6 2011\n",
      "6 2011\n",
      "6 2011\n",
      "6 2011\n",
      "6 2011\n",
      "6 2011\n",
      "6 2011\n",
      "6 2011\n",
      "6 2011\n",
      "6 2011\n",
      "6 2011\n",
      "6 2011\n",
      "6 2011\n",
      "6 2011\n",
      "6 2011\n",
      "6 2011\n",
      "6 2011\n",
      "6 2011\n",
      "6 2011\n",
      "6 2011\n",
      "6 2011\n",
      "6 2011\n",
      "6 2011\n",
      "6 2011\n",
      "6 2011\n",
      "6 2011\n",
      "7 2011\n",
      "7 2011\n",
      "7 2011\n",
      "7 2011\n",
      "7 2011\n",
      "7 2011\n",
      "7 2011\n",
      "7 2011\n",
      "7 2011\n",
      "7 2011\n",
      "7 2011\n",
      "7 2011\n",
      "7 2011\n",
      "7 2011\n",
      "7 2011\n",
      "7 2011\n",
      "7 2011\n",
      "7 2011\n",
      "7 2011\n",
      "7 2011\n",
      "7 2011\n",
      "7 2011\n",
      "7 2011\n",
      "7 2011\n",
      "7 2011\n",
      "7 2011\n",
      "7 2011\n",
      "7 2011\n",
      "7 2011\n",
      "7 2011\n",
      "7 2011\n",
      "8 2011\n",
      "8 2011\n",
      "8 2011\n",
      "8 2011\n",
      "8 2011\n",
      "8 2011\n",
      "8 2011\n",
      "8 2011\n",
      "8 2011\n",
      "8 2011\n",
      "8 2011\n",
      "8 2011\n",
      "8 2011\n",
      "8 2011\n",
      "8 2011\n",
      "8 2011\n",
      "8 2011\n",
      "8 2011\n",
      "8 2011\n",
      "8 2011\n",
      "8 2011\n",
      "8 2011\n",
      "8 2011\n",
      "8 2011\n",
      "8 2011\n",
      "8 2011\n",
      "8 2011\n",
      "8 2011\n",
      "8 2011\n",
      "8 2011\n",
      "8 2011\n",
      "9 2011\n",
      "9 2011\n",
      "9 2011\n",
      "9 2011\n",
      "9 2011\n",
      "9 2011\n",
      "9 2011\n",
      "9 2011\n",
      "9 2011\n",
      "9 2011\n",
      "9 2011\n",
      "9 2011\n",
      "9 2011\n",
      "9 2011\n",
      "9 2011\n",
      "9 2011\n",
      "9 2011\n",
      "9 2011\n",
      "9 2011\n",
      "9 2011\n",
      "9 2011\n",
      "9 2011\n",
      "9 2011\n",
      "9 2011\n",
      "9 2011\n",
      "9 2011\n",
      "9 2011\n",
      "9 2011\n",
      "9 2011\n",
      "9 2011\n",
      "10 2011\n",
      "10 2011\n",
      "10 2011\n",
      "10 2011\n",
      "10 2011\n",
      "10 2011\n",
      "10 2011\n"
     ]
    }
   ],
   "source": [
    "SnowNulls = (LondonWeather_df['snow_depth'].isnull())\n",
    "for ind in LondonWeather_df.loc[(SnowNulls==True)].index:\n",
    "    print(str(LondonWeather_df['Date'].iloc[ind].month) + ' '+ str(LondonWeather_df['Date'].iloc[ind].year))"
   ],
   "metadata": {
    "collapsed": false,
    "ExecuteTime": {
     "end_time": "2023-12-06T06:16:26.736995400Z",
     "start_time": "2023-12-06T06:16:26.517327300Z"
    }
   }
  },
  {
   "cell_type": "markdown",
   "source": [
    "Notice that the vast majority of the snow_depth NaN values occur from April to October of 2011. Londons snow season is Dec to Feb, based on this observation it is likely that these NaN values were days where there was no snowfall and would recommend zero padding. But before we take action lets check what the values before and after each NaN were, as this may give us some more insight into the situation."
   ],
   "metadata": {
    "collapsed": false
   }
  },
  {
   "cell_type": "code",
   "execution_count": 1135,
   "outputs": [
    {
     "name": "stdout",
     "output_type": "stream",
     "text": [
      "Before:After\n",
      "0.0:0.0\n",
      "0.0:0.0\n",
      "0.0:nan\n",
      "nan:nan\n",
      "nan:nan\n",
      "nan:nan\n",
      "nan:nan\n",
      "nan:nan\n",
      "nan:nan\n",
      "nan:nan\n",
      "nan:nan\n",
      "nan:nan\n",
      "nan:nan\n",
      "nan:nan\n",
      "nan:nan\n",
      "nan:nan\n",
      "nan:nan\n",
      "nan:nan\n",
      "nan:nan\n",
      "nan:nan\n",
      "nan:nan\n",
      "nan:nan\n",
      "nan:nan\n",
      "nan:nan\n",
      "nan:nan\n",
      "nan:nan\n",
      "nan:nan\n",
      "nan:nan\n",
      "nan:nan\n",
      "nan:nan\n",
      "nan:nan\n",
      "nan:nan\n",
      "nan:nan\n",
      "nan:nan\n",
      "nan:nan\n",
      "nan:nan\n",
      "nan:nan\n",
      "nan:nan\n",
      "nan:nan\n",
      "nan:nan\n",
      "nan:nan\n",
      "nan:nan\n",
      "nan:nan\n",
      "nan:nan\n",
      "nan:nan\n",
      "nan:nan\n",
      "nan:nan\n",
      "nan:nan\n",
      "nan:nan\n",
      "nan:nan\n",
      "nan:nan\n",
      "nan:nan\n",
      "nan:nan\n",
      "nan:nan\n",
      "nan:nan\n",
      "nan:nan\n",
      "nan:nan\n",
      "nan:nan\n",
      "nan:nan\n",
      "nan:nan\n",
      "nan:nan\n",
      "nan:nan\n",
      "nan:nan\n",
      "nan:nan\n",
      "nan:nan\n",
      "nan:nan\n",
      "nan:nan\n",
      "nan:nan\n",
      "nan:nan\n",
      "nan:nan\n",
      "nan:nan\n",
      "nan:nan\n",
      "nan:nan\n",
      "nan:nan\n",
      "nan:nan\n",
      "nan:nan\n",
      "nan:nan\n",
      "nan:nan\n",
      "nan:nan\n",
      "nan:nan\n",
      "nan:nan\n",
      "nan:nan\n",
      "nan:nan\n",
      "nan:nan\n",
      "nan:nan\n",
      "nan:nan\n",
      "nan:nan\n",
      "nan:nan\n",
      "nan:nan\n",
      "nan:nan\n",
      "nan:nan\n",
      "nan:nan\n",
      "nan:nan\n",
      "nan:nan\n",
      "nan:nan\n",
      "nan:nan\n",
      "nan:nan\n",
      "nan:nan\n",
      "nan:nan\n",
      "nan:nan\n",
      "nan:nan\n",
      "nan:nan\n",
      "nan:nan\n",
      "nan:nan\n",
      "nan:nan\n",
      "nan:nan\n",
      "nan:nan\n",
      "nan:nan\n",
      "nan:nan\n",
      "nan:nan\n",
      "nan:nan\n",
      "nan:nan\n",
      "nan:nan\n",
      "nan:nan\n",
      "nan:nan\n",
      "nan:nan\n",
      "nan:nan\n",
      "nan:nan\n",
      "nan:nan\n",
      "nan:nan\n",
      "nan:nan\n",
      "nan:nan\n",
      "nan:nan\n",
      "nan:nan\n",
      "nan:nan\n",
      "nan:nan\n",
      "nan:nan\n",
      "nan:nan\n",
      "nan:nan\n",
      "nan:nan\n",
      "nan:nan\n",
      "nan:nan\n",
      "nan:nan\n",
      "nan:nan\n",
      "nan:nan\n",
      "nan:nan\n",
      "nan:nan\n",
      "nan:nan\n",
      "nan:nan\n",
      "nan:nan\n",
      "nan:nan\n",
      "nan:nan\n",
      "nan:nan\n",
      "nan:nan\n",
      "nan:nan\n",
      "nan:nan\n",
      "nan:nan\n",
      "nan:nan\n",
      "nan:nan\n",
      "nan:nan\n",
      "nan:nan\n",
      "nan:nan\n",
      "nan:nan\n",
      "nan:nan\n",
      "nan:nan\n",
      "nan:nan\n",
      "nan:nan\n",
      "nan:nan\n",
      "nan:nan\n",
      "nan:nan\n",
      "nan:nan\n",
      "nan:nan\n",
      "nan:nan\n",
      "nan:nan\n",
      "nan:nan\n",
      "nan:nan\n",
      "nan:nan\n",
      "nan:nan\n",
      "nan:nan\n",
      "nan:nan\n",
      "nan:nan\n",
      "nan:nan\n",
      "nan:nan\n",
      "nan:nan\n",
      "nan:nan\n",
      "nan:nan\n",
      "nan:nan\n",
      "nan:nan\n",
      "nan:nan\n",
      "nan:0.0\n"
     ]
    }
   ],
   "source": [
    "SnowNulls = (LondonWeather_df['snow_depth'].isnull())\n",
    "inds = LondonWeather_df[SnowNulls].index\n",
    "print(\"Before:After\")\n",
    "for index in inds:\n",
    "    before = LondonWeather_df['snow_depth'].iloc[index-1]\n",
    "    after  = LondonWeather_df['snow_depth'].iloc[index+1]\n",
    "    print(str(before)+':'+str(after))"
   ],
   "metadata": {
    "collapsed": false,
    "ExecuteTime": {
     "end_time": "2023-12-06T06:16:26.740998900Z",
     "start_time": "2023-12-06T06:16:26.529338Z"
    }
   }
  },
  {
   "cell_type": "markdown",
   "source": [
    "All snow_depth NaN values are prempted and followed by zero inches of snow, or by another NaN. Based on these findings I conclude that the most reasonable explanation is that in 2011 researchers werent recording the snow_depth during times that there was no snow on the ground and or there was no expectation that there might be snow. From this finding I reccomend zero padding these nan values.\n",
    "After zero padding lets check again to make sure theres no more null values"
   ],
   "metadata": {
    "collapsed": false
   }
  },
  {
   "cell_type": "code",
   "execution_count": 1136,
   "outputs": [
    {
     "data": {
      "text/plain": "Empty DataFrame\nColumns: [Date, cloud_cover, sunshine, global_radiation, max_temp, mean_temp, min_temp, precipitation, pressure, snow_depth]\nIndex: []",
      "text/html": "<div>\n<style scoped>\n    .dataframe tbody tr th:only-of-type {\n        vertical-align: middle;\n    }\n\n    .dataframe tbody tr th {\n        vertical-align: top;\n    }\n\n    .dataframe thead th {\n        text-align: right;\n    }\n</style>\n<table border=\"1\" class=\"dataframe\">\n  <thead>\n    <tr style=\"text-align: right;\">\n      <th></th>\n      <th>Date</th>\n      <th>cloud_cover</th>\n      <th>sunshine</th>\n      <th>global_radiation</th>\n      <th>max_temp</th>\n      <th>mean_temp</th>\n      <th>min_temp</th>\n      <th>precipitation</th>\n      <th>pressure</th>\n      <th>snow_depth</th>\n    </tr>\n  </thead>\n  <tbody>\n  </tbody>\n</table>\n</div>"
     },
     "execution_count": 1136,
     "metadata": {},
     "output_type": "execute_result"
    }
   ],
   "source": [
    "LondonWeather_df['snow_depth'] = LondonWeather_df[\"snow_depth\"].fillna(0.0)\n",
    "SnowNulls = (LondonWeather_df['snow_depth'].isnull())\n",
    "LondonWeather_df[SnowNulls]"
   ],
   "metadata": {
    "collapsed": false,
    "ExecuteTime": {
     "end_time": "2023-12-06T06:16:26.741999900Z",
     "start_time": "2023-12-06T06:16:26.535215400Z"
    }
   }
  },
  {
   "cell_type": "code",
   "execution_count": 1137,
   "outputs": [
    {
     "data": {
      "text/plain": "           Date  cloud_cover  sunshine  global_radiation  max_temp  mean_temp  \\\n0    2011-01-01          8.0       0.0              13.0       4.0        5.9   \n1    2011-01-02          8.0       0.1              15.0       2.9        3.0   \n2    2011-01-03          7.0       0.1              15.0       6.0        1.3   \n3    2011-01-04          7.0       0.0              13.0       7.1        2.9   \n4    2011-01-05          6.0       2.3              31.0       5.1        4.2   \n...         ...          ...       ...               ...       ...        ...   \n1456 2014-12-27          5.0       2.0              28.0       6.2        3.0   \n1457 2014-12-28          0.0       6.0              47.0       5.8        3.6   \n1458 2014-12-29          0.0       6.1              47.0       5.7        1.2   \n1459 2014-12-30          1.0       3.3              35.0       8.5        0.8   \n1460 2014-12-31          3.0       2.3              30.0      12.9        2.2   \n\n      min_temp  precipitation  pressure  snow_depth  \n0          4.6            0.6  102500.0         0.0  \n1          1.9            0.0  102830.0         0.0  \n2         -0.3            0.0  102460.0         0.0  \n3         -0.3            0.0  101360.0         0.0  \n4          1.3            1.0  100040.0         0.0  \n...        ...            ...       ...         ...  \n1456       1.2            0.0  100730.0         0.0  \n1457       0.9            0.0  102950.0         0.0  \n1458      -3.5            0.2  104060.0         0.0  \n1459      -4.1            0.2  103940.0         0.0  \n1460      -4.1            0.2  103410.0         0.0  \n\n[1461 rows x 10 columns]",
      "text/html": "<div>\n<style scoped>\n    .dataframe tbody tr th:only-of-type {\n        vertical-align: middle;\n    }\n\n    .dataframe tbody tr th {\n        vertical-align: top;\n    }\n\n    .dataframe thead th {\n        text-align: right;\n    }\n</style>\n<table border=\"1\" class=\"dataframe\">\n  <thead>\n    <tr style=\"text-align: right;\">\n      <th></th>\n      <th>Date</th>\n      <th>cloud_cover</th>\n      <th>sunshine</th>\n      <th>global_radiation</th>\n      <th>max_temp</th>\n      <th>mean_temp</th>\n      <th>min_temp</th>\n      <th>precipitation</th>\n      <th>pressure</th>\n      <th>snow_depth</th>\n    </tr>\n  </thead>\n  <tbody>\n    <tr>\n      <th>0</th>\n      <td>2011-01-01</td>\n      <td>8.0</td>\n      <td>0.0</td>\n      <td>13.0</td>\n      <td>4.0</td>\n      <td>5.9</td>\n      <td>4.6</td>\n      <td>0.6</td>\n      <td>102500.0</td>\n      <td>0.0</td>\n    </tr>\n    <tr>\n      <th>1</th>\n      <td>2011-01-02</td>\n      <td>8.0</td>\n      <td>0.1</td>\n      <td>15.0</td>\n      <td>2.9</td>\n      <td>3.0</td>\n      <td>1.9</td>\n      <td>0.0</td>\n      <td>102830.0</td>\n      <td>0.0</td>\n    </tr>\n    <tr>\n      <th>2</th>\n      <td>2011-01-03</td>\n      <td>7.0</td>\n      <td>0.1</td>\n      <td>15.0</td>\n      <td>6.0</td>\n      <td>1.3</td>\n      <td>-0.3</td>\n      <td>0.0</td>\n      <td>102460.0</td>\n      <td>0.0</td>\n    </tr>\n    <tr>\n      <th>3</th>\n      <td>2011-01-04</td>\n      <td>7.0</td>\n      <td>0.0</td>\n      <td>13.0</td>\n      <td>7.1</td>\n      <td>2.9</td>\n      <td>-0.3</td>\n      <td>0.0</td>\n      <td>101360.0</td>\n      <td>0.0</td>\n    </tr>\n    <tr>\n      <th>4</th>\n      <td>2011-01-05</td>\n      <td>6.0</td>\n      <td>2.3</td>\n      <td>31.0</td>\n      <td>5.1</td>\n      <td>4.2</td>\n      <td>1.3</td>\n      <td>1.0</td>\n      <td>100040.0</td>\n      <td>0.0</td>\n    </tr>\n    <tr>\n      <th>...</th>\n      <td>...</td>\n      <td>...</td>\n      <td>...</td>\n      <td>...</td>\n      <td>...</td>\n      <td>...</td>\n      <td>...</td>\n      <td>...</td>\n      <td>...</td>\n      <td>...</td>\n    </tr>\n    <tr>\n      <th>1456</th>\n      <td>2014-12-27</td>\n      <td>5.0</td>\n      <td>2.0</td>\n      <td>28.0</td>\n      <td>6.2</td>\n      <td>3.0</td>\n      <td>1.2</td>\n      <td>0.0</td>\n      <td>100730.0</td>\n      <td>0.0</td>\n    </tr>\n    <tr>\n      <th>1457</th>\n      <td>2014-12-28</td>\n      <td>0.0</td>\n      <td>6.0</td>\n      <td>47.0</td>\n      <td>5.8</td>\n      <td>3.6</td>\n      <td>0.9</td>\n      <td>0.0</td>\n      <td>102950.0</td>\n      <td>0.0</td>\n    </tr>\n    <tr>\n      <th>1458</th>\n      <td>2014-12-29</td>\n      <td>0.0</td>\n      <td>6.1</td>\n      <td>47.0</td>\n      <td>5.7</td>\n      <td>1.2</td>\n      <td>-3.5</td>\n      <td>0.2</td>\n      <td>104060.0</td>\n      <td>0.0</td>\n    </tr>\n    <tr>\n      <th>1459</th>\n      <td>2014-12-30</td>\n      <td>1.0</td>\n      <td>3.3</td>\n      <td>35.0</td>\n      <td>8.5</td>\n      <td>0.8</td>\n      <td>-4.1</td>\n      <td>0.2</td>\n      <td>103940.0</td>\n      <td>0.0</td>\n    </tr>\n    <tr>\n      <th>1460</th>\n      <td>2014-12-31</td>\n      <td>3.0</td>\n      <td>2.3</td>\n      <td>30.0</td>\n      <td>12.9</td>\n      <td>2.2</td>\n      <td>-4.1</td>\n      <td>0.2</td>\n      <td>103410.0</td>\n      <td>0.0</td>\n    </tr>\n  </tbody>\n</table>\n<p>1461 rows × 10 columns</p>\n</div>"
     },
     "execution_count": 1137,
     "metadata": {},
     "output_type": "execute_result"
    }
   ],
   "source": [
    "LondonWeather_df"
   ],
   "metadata": {
    "collapsed": false,
    "ExecuteTime": {
     "end_time": "2023-12-06T06:16:26.842036100Z",
     "start_time": "2023-12-06T06:16:26.543672900Z"
    }
   }
  },
  {
   "cell_type": "markdown",
   "source": [
    "## Energy Cost Data Preperation\n",
    "\n",
    "The third data set we will be joining for our model is a data set detailing the average cost of energy in the UK. This was as local of energy pricing data as could be found. All pricing is in Euro/MWh."
   ],
   "metadata": {
    "collapsed": false
   }
  },
  {
   "cell_type": "code",
   "execution_count": 1138,
   "outputs": [
    {
     "data": {
      "text/plain": "    Datetime  Settlement Period Market Index Data Provider Id  \\\n0   1-Jan-11                 48                       APXMIDP   \n1   2-Jan-11                 48                       APXMIDP   \n2   3-Jan-11                 48                       APXMIDP   \n3   4-Jan-11                 48                       APXMIDP   \n4   5-Jan-11                 48                       APXMIDP   \n5   6-Jan-11                 48                       APXMIDP   \n6   7-Jan-11                 48                       APXMIDP   \n7   8-Jan-11                 48                       APXMIDP   \n8   9-Jan-11                 48                       APXMIDP   \n9  10-Jan-11                 48                       APXMIDP   \n\n   Market Index Volume(MWh)  Market Index Price(£/MWh)  \\\n0                     415.0                      46.46   \n1                     326.0                      45.50   \n2                     221.0                      42.72   \n3                     115.5                      41.18   \n4                     250.5                      38.04   \n5                     444.5                      42.65   \n6                     196.0                      44.27   \n7                     661.5                      43.73   \n8                     466.0                      42.92   \n9                     200.0                      40.10   \n\n   Volume * Price Product  start daily row  end daily row  \\\n0               19280.900                2             49   \n1               14833.000               50             97   \n2                9441.120               98            145   \n3                4756.290              146            193   \n4                9529.020              194            241   \n5               18957.925              242            289   \n6                8676.920              290            337   \n7               28927.395              338            385   \n8               20000.720              386            433   \n9                8020.000              434            481   \n\n   daily volume * Price Product  Daily volume  volume weighted price  \n0                       1613523       33795.0                 47.744  \n1                       1926510       34913.0                 55.180  \n2                       1631767       32858.5                 49.660  \n3                       1887767       35356.5                 53.390  \n4                       1219950       25136.0                 48.530  \n5                       1926271       36778.0                 52.380  \n6                       1299543       26035.5                 49.910  \n7                       1411038       28783.0                 49.020  \n8                       1823653       35624.5                 51.190  \n9                       1936495       37316.5                 51.890  ",
      "text/html": "<div>\n<style scoped>\n    .dataframe tbody tr th:only-of-type {\n        vertical-align: middle;\n    }\n\n    .dataframe tbody tr th {\n        vertical-align: top;\n    }\n\n    .dataframe thead th {\n        text-align: right;\n    }\n</style>\n<table border=\"1\" class=\"dataframe\">\n  <thead>\n    <tr style=\"text-align: right;\">\n      <th></th>\n      <th>Datetime</th>\n      <th>Settlement Period</th>\n      <th>Market Index Data Provider Id</th>\n      <th>Market Index Volume(MWh)</th>\n      <th>Market Index Price(£/MWh)</th>\n      <th>Volume * Price Product</th>\n      <th>start daily row</th>\n      <th>end daily row</th>\n      <th>daily volume * Price Product</th>\n      <th>Daily volume</th>\n      <th>volume weighted price</th>\n    </tr>\n  </thead>\n  <tbody>\n    <tr>\n      <th>0</th>\n      <td>1-Jan-11</td>\n      <td>48</td>\n      <td>APXMIDP</td>\n      <td>415.0</td>\n      <td>46.46</td>\n      <td>19280.900</td>\n      <td>2</td>\n      <td>49</td>\n      <td>1613523</td>\n      <td>33795.0</td>\n      <td>47.744</td>\n    </tr>\n    <tr>\n      <th>1</th>\n      <td>2-Jan-11</td>\n      <td>48</td>\n      <td>APXMIDP</td>\n      <td>326.0</td>\n      <td>45.50</td>\n      <td>14833.000</td>\n      <td>50</td>\n      <td>97</td>\n      <td>1926510</td>\n      <td>34913.0</td>\n      <td>55.180</td>\n    </tr>\n    <tr>\n      <th>2</th>\n      <td>3-Jan-11</td>\n      <td>48</td>\n      <td>APXMIDP</td>\n      <td>221.0</td>\n      <td>42.72</td>\n      <td>9441.120</td>\n      <td>98</td>\n      <td>145</td>\n      <td>1631767</td>\n      <td>32858.5</td>\n      <td>49.660</td>\n    </tr>\n    <tr>\n      <th>3</th>\n      <td>4-Jan-11</td>\n      <td>48</td>\n      <td>APXMIDP</td>\n      <td>115.5</td>\n      <td>41.18</td>\n      <td>4756.290</td>\n      <td>146</td>\n      <td>193</td>\n      <td>1887767</td>\n      <td>35356.5</td>\n      <td>53.390</td>\n    </tr>\n    <tr>\n      <th>4</th>\n      <td>5-Jan-11</td>\n      <td>48</td>\n      <td>APXMIDP</td>\n      <td>250.5</td>\n      <td>38.04</td>\n      <td>9529.020</td>\n      <td>194</td>\n      <td>241</td>\n      <td>1219950</td>\n      <td>25136.0</td>\n      <td>48.530</td>\n    </tr>\n    <tr>\n      <th>5</th>\n      <td>6-Jan-11</td>\n      <td>48</td>\n      <td>APXMIDP</td>\n      <td>444.5</td>\n      <td>42.65</td>\n      <td>18957.925</td>\n      <td>242</td>\n      <td>289</td>\n      <td>1926271</td>\n      <td>36778.0</td>\n      <td>52.380</td>\n    </tr>\n    <tr>\n      <th>6</th>\n      <td>7-Jan-11</td>\n      <td>48</td>\n      <td>APXMIDP</td>\n      <td>196.0</td>\n      <td>44.27</td>\n      <td>8676.920</td>\n      <td>290</td>\n      <td>337</td>\n      <td>1299543</td>\n      <td>26035.5</td>\n      <td>49.910</td>\n    </tr>\n    <tr>\n      <th>7</th>\n      <td>8-Jan-11</td>\n      <td>48</td>\n      <td>APXMIDP</td>\n      <td>661.5</td>\n      <td>43.73</td>\n      <td>28927.395</td>\n      <td>338</td>\n      <td>385</td>\n      <td>1411038</td>\n      <td>28783.0</td>\n      <td>49.020</td>\n    </tr>\n    <tr>\n      <th>8</th>\n      <td>9-Jan-11</td>\n      <td>48</td>\n      <td>APXMIDP</td>\n      <td>466.0</td>\n      <td>42.92</td>\n      <td>20000.720</td>\n      <td>386</td>\n      <td>433</td>\n      <td>1823653</td>\n      <td>35624.5</td>\n      <td>51.190</td>\n    </tr>\n    <tr>\n      <th>9</th>\n      <td>10-Jan-11</td>\n      <td>48</td>\n      <td>APXMIDP</td>\n      <td>200.0</td>\n      <td>40.10</td>\n      <td>8020.000</td>\n      <td>434</td>\n      <td>481</td>\n      <td>1936495</td>\n      <td>37316.5</td>\n      <td>51.890</td>\n    </tr>\n  </tbody>\n</table>\n</div>"
     },
     "execution_count": 1138,
     "metadata": {},
     "output_type": "execute_result"
    }
   ],
   "source": [
    "UKEnergyCost2011 = pd.read_csv(\"../data/clean/2011ElectricityCostData_UTF8.xls\")\n",
    "UKEnergyCost2011.head(10)"
   ],
   "metadata": {
    "collapsed": false,
    "ExecuteTime": {
     "end_time": "2023-12-06T06:16:26.875246900Z",
     "start_time": "2023-12-06T06:16:26.557770600Z"
    }
   }
  },
  {
   "cell_type": "code",
   "execution_count": 1139,
   "outputs": [
    {
     "name": "stdout",
     "output_type": "stream",
     "text": [
      "1461\n",
      "1457\n",
      "1457\n",
      "1457\n",
      "1457\n",
      "1457\n",
      "1457\n",
      "1457\n",
      "1457\n",
      "1457\n",
      "1461\n",
      "Index(['Datetime', 'Settlement Period', 'Market Index Data Provider Id',\n",
      "       'Market Index Volume(MWh)', 'Market Index Price(£/MWh)',\n",
      "       'Volume * Price Product', 'start daily row', 'end daily row',\n",
      "       'daily volume * Price Product', 'Daily volume',\n",
      "       'volume weighted price'],\n",
      "      dtype='object')\n"
     ]
    }
   ],
   "source": [
    "UKEnergyCost2012 = pd.read_csv(\"../data/clean/2012ElectricityCostData_UTF8.xls\")\n",
    "UKEnergyCost2013 = pd.read_csv(\"../data/clean/2013ElectricityCostData_UTF8.xls\")\n",
    "UKEnergyCost2014 = pd.read_csv(\"../data/clean/2014ElectricityCostData_UTF8.xls\")\n",
    "UKEnergyCost = pd.concat([UKEnergyCost2011,UKEnergyCost2012,UKEnergyCost2013,UKEnergyCost2014], ignore_index=True, axis=0)\n",
    "for col in UKEnergyCost:\n",
    "    print(UKEnergyCost[col].count())\n",
    "print(UKEnergyCost.columns)"
   ],
   "metadata": {
    "collapsed": false,
    "ExecuteTime": {
     "end_time": "2023-12-06T06:16:26.875246900Z",
     "start_time": "2023-12-06T06:16:26.569407500Z"
    }
   }
  },
  {
   "cell_type": "markdown",
   "source": [
    "Based on the count results for the columns in the dataframe and verification done on the csv's in excel it's seen that only the volume weighted price, and Datetime columns are complete. This is not an issue as those are the only columns we need for our purposes so lets drop those incomplete columns.  <br>Additionally, to join this data set to the others we need to get the Datetime column into the Datetime data type."
   ],
   "metadata": {
    "collapsed": false
   }
  },
  {
   "cell_type": "code",
   "execution_count": 1140,
   "outputs": [
    {
     "name": "stdout",
     "output_type": "stream",
     "text": [
      "0        1-Jan-11\n",
      "1        2-Jan-11\n",
      "2        3-Jan-11\n",
      "3        4-Jan-11\n",
      "4        5-Jan-11\n",
      "          ...    \n",
      "1456    27-Dec-14\n",
      "1457    28-Dec-14\n",
      "1458    29-Dec-14\n",
      "1459    30-Dec-14\n",
      "1460    31-Dec-14\n",
      "Name: Datetime, Length: 1461, dtype: object\n",
      "0      2011-01-01\n",
      "1      2011-01-02\n",
      "2      2011-01-03\n",
      "3      2011-01-04\n",
      "4      2011-01-05\n",
      "          ...    \n",
      "1456   2014-12-27\n",
      "1457   2014-12-28\n",
      "1458   2014-12-29\n",
      "1459   2014-12-30\n",
      "1460   2014-12-31\n",
      "Name: Datetime, Length: 1461, dtype: datetime64[ns]\n"
     ]
    }
   ],
   "source": [
    "format_str = \"%d_%b_%y\"\n",
    "EnergyCost_df = UKEnergyCost[['Datetime','volume weighted price']].copy()\n",
    "print(EnergyCost_df['Datetime'])\n",
    "# Replace the hyphens with underscores due to special character limitations of strptime.\n",
    "EnergyCost_df['Datetime'] = EnergyCost_df['Datetime'].apply(lambda s: s.replace('-', '_'))\n",
    "EnergyCost_df['Datetime'] = EnergyCost_df[\"Datetime\"].map(lambda s: dt.datetime.strptime(s, format_str))\n",
    "print(EnergyCost_df['Datetime'])"
   ],
   "metadata": {
    "collapsed": false,
    "ExecuteTime": {
     "end_time": "2023-12-06T06:16:26.876248Z",
     "start_time": "2023-12-06T06:16:26.582059600Z"
    }
   }
  },
  {
   "cell_type": "markdown",
   "source": [
    "Now that we have joined and reformated the energy cost data lets correct the Datetime column's label to match our other two datasets."
   ],
   "metadata": {
    "collapsed": false
   }
  },
  {
   "cell_type": "code",
   "execution_count": 1141,
   "outputs": [
    {
     "data": {
      "text/plain": "           Date  volume weighted price\n0    2011-01-01                 47.744\n1    2011-01-02                 55.180\n2    2011-01-03                 49.660\n3    2011-01-04                 53.390\n4    2011-01-05                 48.530\n...         ...                    ...\n1456 2014-12-27                 49.930\n1457 2014-12-28                 46.780\n1458 2014-12-29                 49.000\n1459 2014-12-30                 46.050\n1460 2014-12-31                 37.230\n\n[1461 rows x 2 columns]",
      "text/html": "<div>\n<style scoped>\n    .dataframe tbody tr th:only-of-type {\n        vertical-align: middle;\n    }\n\n    .dataframe tbody tr th {\n        vertical-align: top;\n    }\n\n    .dataframe thead th {\n        text-align: right;\n    }\n</style>\n<table border=\"1\" class=\"dataframe\">\n  <thead>\n    <tr style=\"text-align: right;\">\n      <th></th>\n      <th>Date</th>\n      <th>volume weighted price</th>\n    </tr>\n  </thead>\n  <tbody>\n    <tr>\n      <th>0</th>\n      <td>2011-01-01</td>\n      <td>47.744</td>\n    </tr>\n    <tr>\n      <th>1</th>\n      <td>2011-01-02</td>\n      <td>55.180</td>\n    </tr>\n    <tr>\n      <th>2</th>\n      <td>2011-01-03</td>\n      <td>49.660</td>\n    </tr>\n    <tr>\n      <th>3</th>\n      <td>2011-01-04</td>\n      <td>53.390</td>\n    </tr>\n    <tr>\n      <th>4</th>\n      <td>2011-01-05</td>\n      <td>48.530</td>\n    </tr>\n    <tr>\n      <th>...</th>\n      <td>...</td>\n      <td>...</td>\n    </tr>\n    <tr>\n      <th>1456</th>\n      <td>2014-12-27</td>\n      <td>49.930</td>\n    </tr>\n    <tr>\n      <th>1457</th>\n      <td>2014-12-28</td>\n      <td>46.780</td>\n    </tr>\n    <tr>\n      <th>1458</th>\n      <td>2014-12-29</td>\n      <td>49.000</td>\n    </tr>\n    <tr>\n      <th>1459</th>\n      <td>2014-12-30</td>\n      <td>46.050</td>\n    </tr>\n    <tr>\n      <th>1460</th>\n      <td>2014-12-31</td>\n      <td>37.230</td>\n    </tr>\n  </tbody>\n</table>\n<p>1461 rows × 2 columns</p>\n</div>"
     },
     "execution_count": 1141,
     "metadata": {},
     "output_type": "execute_result"
    }
   ],
   "source": [
    "EnergyCost_df = EnergyCost_df.rename(columns = {'Datetime':'Date'})\n",
    "EnergyCost_df"
   ],
   "metadata": {
    "collapsed": false,
    "ExecuteTime": {
     "end_time": "2023-12-06T06:16:26.876248Z",
     "start_time": "2023-12-06T06:16:26.599318600Z"
    }
   }
  },
  {
   "cell_type": "markdown",
   "source": [
    "The energy cost data set is now ready to be joined to the weather and energy usage data.\n",
    "\n",
    "### Are All Dates Present?\n",
    "\n",
    "Lets now ensure that all dates are present in this data set."
   ],
   "metadata": {
    "collapsed": false
   }
  },
  {
   "cell_type": "code",
   "execution_count": 1142,
   "outputs": [
    {
     "name": "stdout",
     "output_type": "stream",
     "text": [
      "DatetimeIndex([], dtype='datetime64[ns]', freq='D')\n"
     ]
    }
   ],
   "source": [
    "MissingDates = pd.date_range(start = '2011-01-01', end = '2014-12-31' ).difference(EnergyCost_df['Date'])\n",
    "print(MissingDates)"
   ],
   "metadata": {
    "collapsed": false,
    "ExecuteTime": {
     "end_time": "2023-12-06T06:16:26.876248Z",
     "start_time": "2023-12-06T06:16:26.606343Z"
    }
   }
  },
  {
   "cell_type": "markdown",
   "source": [
    "All dates from 2011-2014 are present, and there are no additional dates. Now lets ensure that the volume weighted price data is uncorrupted as well.\n",
    "### Is The Data Uncorrupted?"
   ],
   "metadata": {
    "collapsed": false
   }
  },
  {
   "cell_type": "code",
   "execution_count": 1143,
   "outputs": [
    {
     "name": "stdout",
     "output_type": "stream",
     "text": [
      "False\n"
     ]
    },
    {
     "data": {
      "text/plain": "count    1461.000000\nmean       47.457867\nstd         6.813896\nmin        30.450000\n25%        43.310000\n50%        47.060000\n75%        51.010000\nmax        84.270000\nName: volume weighted price, dtype: float64"
     },
     "execution_count": 1143,
     "metadata": {},
     "output_type": "execute_result"
    }
   ],
   "source": [
    "print(EnergyCost_df.isnull().values.any())\n",
    "EnergyCost_df['volume weighted price'].describe()"
   ],
   "metadata": {
    "collapsed": false,
    "ExecuteTime": {
     "end_time": "2023-12-06T06:16:26.876248Z",
     "start_time": "2023-12-06T06:16:26.611589300Z"
    }
   }
  },
  {
   "cell_type": "markdown",
   "source": [
    "isnull = false therefore there are no null values in the dataframe. The min, max, and general distribution of the energy price appear reasonable but lets plot them as well to be thourough."
   ],
   "metadata": {
    "collapsed": false
   }
  },
  {
   "cell_type": "code",
   "execution_count": 1144,
   "outputs": [
    {
     "data": {
      "text/plain": "[Text(0.5, 1.0, 'volume weighted price distribution')]"
     },
     "execution_count": 1144,
     "metadata": {},
     "output_type": "execute_result"
    },
    {
     "data": {
      "text/plain": "<Figure size 640x480 with 1 Axes>",
      "image/png": "[encoded data removed]"
     },
     "metadata": {},
     "output_type": "display_data"
    }
   ],
   "source": [
    "plt.xticks(rotation=45,fontsize=8)\n",
    "plt.Axes.minorticks_on\n",
    "sns.histplot(data = EnergyCost_df, x=\"volume weighted price\").set(title='volume weighted price distribution')\n",
    "# plt.savefig(\"RESSqft.svg\", format='svg')"
   ],
   "metadata": {
    "collapsed": false,
    "ExecuteTime": {
     "end_time": "2023-12-06T06:16:27.002617400Z",
     "start_time": "2023-12-06T06:16:26.616886100Z"
    }
   }
  },
  {
   "cell_type": "markdown",
   "source": [
    "Nothing in the volume weighted price visualization appears unreasonable, at this time there is no reason to suspect corrupted energy cost data."
   ],
   "metadata": {
    "collapsed": false
   }
  },
  {
   "cell_type": "markdown",
   "source": [
    "# Merge Data"
   ],
   "metadata": {
    "collapsed": false
   }
  },
  {
   "cell_type": "code",
   "execution_count": 1145,
   "outputs": [
    {
     "data": {
      "text/plain": "        Date     avgKWH\n0 2011-11-23   6.952692\n1 2011-11-24   8.536480\n2 2011-11-25   9.499781\n3 2011-11-26  10.267707\n4 2011-11-27  10.850805",
      "text/html": "<div>\n<style scoped>\n    .dataframe tbody tr th:only-of-type {\n        vertical-align: middle;\n    }\n\n    .dataframe tbody tr th {\n        vertical-align: top;\n    }\n\n    .dataframe thead th {\n        text-align: right;\n    }\n</style>\n<table border=\"1\" class=\"dataframe\">\n  <thead>\n    <tr style=\"text-align: right;\">\n      <th></th>\n      <th>Date</th>\n      <th>avgKWH</th>\n    </tr>\n  </thead>\n  <tbody>\n    <tr>\n      <th>0</th>\n      <td>2011-11-23</td>\n      <td>6.952692</td>\n    </tr>\n    <tr>\n      <th>1</th>\n      <td>2011-11-24</td>\n      <td>8.536480</td>\n    </tr>\n    <tr>\n      <th>2</th>\n      <td>2011-11-25</td>\n      <td>9.499781</td>\n    </tr>\n    <tr>\n      <th>3</th>\n      <td>2011-11-26</td>\n      <td>10.267707</td>\n    </tr>\n    <tr>\n      <th>4</th>\n      <td>2011-11-27</td>\n      <td>10.850805</td>\n    </tr>\n  </tbody>\n</table>\n</div>"
     },
     "execution_count": 1145,
     "metadata": {},
     "output_type": "execute_result"
    }
   ],
   "source": [
    "LondonEnergy_df.head()"
   ],
   "metadata": {
    "collapsed": false,
    "ExecuteTime": {
     "end_time": "2023-12-06T06:16:27.050660500Z",
     "start_time": "2023-12-06T06:16:26.837130600Z"
    }
   }
  },
  {
   "cell_type": "code",
   "execution_count": 1146,
   "outputs": [
    {
     "data": {
      "text/plain": "        Date  cloud_cover  sunshine  global_radiation  max_temp  mean_temp  \\\n0 2011-01-01          8.0       0.0              13.0       4.0        5.9   \n1 2011-01-02          8.0       0.1              15.0       2.9        3.0   \n2 2011-01-03          7.0       0.1              15.0       6.0        1.3   \n3 2011-01-04          7.0       0.0              13.0       7.1        2.9   \n4 2011-01-05          6.0       2.3              31.0       5.1        4.2   \n\n   min_temp  precipitation  pressure  snow_depth  \n0       4.6            0.6  102500.0         0.0  \n1       1.9            0.0  102830.0         0.0  \n2      -0.3            0.0  102460.0         0.0  \n3      -0.3            0.0  101360.0         0.0  \n4       1.3            1.0  100040.0         0.0  ",
      "text/html": "<div>\n<style scoped>\n    .dataframe tbody tr th:only-of-type {\n        vertical-align: middle;\n    }\n\n    .dataframe tbody tr th {\n        vertical-align: top;\n    }\n\n    .dataframe thead th {\n        text-align: right;\n    }\n</style>\n<table border=\"1\" class=\"dataframe\">\n  <thead>\n    <tr style=\"text-align: right;\">\n      <th></th>\n      <th>Date</th>\n      <th>cloud_cover</th>\n      <th>sunshine</th>\n      <th>global_radiation</th>\n      <th>max_temp</th>\n      <th>mean_temp</th>\n      <th>min_temp</th>\n      <th>precipitation</th>\n      <th>pressure</th>\n      <th>snow_depth</th>\n    </tr>\n  </thead>\n  <tbody>\n    <tr>\n      <th>0</th>\n      <td>2011-01-01</td>\n      <td>8.0</td>\n      <td>0.0</td>\n      <td>13.0</td>\n      <td>4.0</td>\n      <td>5.9</td>\n      <td>4.6</td>\n      <td>0.6</td>\n      <td>102500.0</td>\n      <td>0.0</td>\n    </tr>\n    <tr>\n      <th>1</th>\n      <td>2011-01-02</td>\n      <td>8.0</td>\n      <td>0.1</td>\n      <td>15.0</td>\n      <td>2.9</td>\n      <td>3.0</td>\n      <td>1.9</td>\n      <td>0.0</td>\n      <td>102830.0</td>\n      <td>0.0</td>\n    </tr>\n    <tr>\n      <th>2</th>\n      <td>2011-01-03</td>\n      <td>7.0</td>\n      <td>0.1</td>\n      <td>15.0</td>\n      <td>6.0</td>\n      <td>1.3</td>\n      <td>-0.3</td>\n      <td>0.0</td>\n      <td>102460.0</td>\n      <td>0.0</td>\n    </tr>\n    <tr>\n      <th>3</th>\n      <td>2011-01-04</td>\n      <td>7.0</td>\n      <td>0.0</td>\n      <td>13.0</td>\n      <td>7.1</td>\n      <td>2.9</td>\n      <td>-0.3</td>\n      <td>0.0</td>\n      <td>101360.0</td>\n      <td>0.0</td>\n    </tr>\n    <tr>\n      <th>4</th>\n      <td>2011-01-05</td>\n      <td>6.0</td>\n      <td>2.3</td>\n      <td>31.0</td>\n      <td>5.1</td>\n      <td>4.2</td>\n      <td>1.3</td>\n      <td>1.0</td>\n      <td>100040.0</td>\n      <td>0.0</td>\n    </tr>\n  </tbody>\n</table>\n</div>"
     },
     "execution_count": 1146,
     "metadata": {},
     "output_type": "execute_result"
    }
   ],
   "source": [
    "LondonWeather_df.head()"
   ],
   "metadata": {
    "collapsed": false,
    "ExecuteTime": {
     "end_time": "2023-12-06T06:16:27.081689900Z",
     "start_time": "2023-12-06T06:16:26.847042500Z"
    }
   }
  },
  {
   "cell_type": "code",
   "execution_count": 1147,
   "outputs": [
    {
     "data": {
      "text/plain": "        Date  volume weighted price\n0 2011-01-01                 47.744\n1 2011-01-02                 55.180\n2 2011-01-03                 49.660\n3 2011-01-04                 53.390\n4 2011-01-05                 48.530",
      "text/html": "<div>\n<style scoped>\n    .dataframe tbody tr th:only-of-type {\n        vertical-align: middle;\n    }\n\n    .dataframe tbody tr th {\n        vertical-align: top;\n    }\n\n    .dataframe thead th {\n        text-align: right;\n    }\n</style>\n<table border=\"1\" class=\"dataframe\">\n  <thead>\n    <tr style=\"text-align: right;\">\n      <th></th>\n      <th>Date</th>\n      <th>volume weighted price</th>\n    </tr>\n  </thead>\n  <tbody>\n    <tr>\n      <th>0</th>\n      <td>2011-01-01</td>\n      <td>47.744</td>\n    </tr>\n    <tr>\n      <th>1</th>\n      <td>2011-01-02</td>\n      <td>55.180</td>\n    </tr>\n    <tr>\n      <th>2</th>\n      <td>2011-01-03</td>\n      <td>49.660</td>\n    </tr>\n    <tr>\n      <th>3</th>\n      <td>2011-01-04</td>\n      <td>53.390</td>\n    </tr>\n    <tr>\n      <th>4</th>\n      <td>2011-01-05</td>\n      <td>48.530</td>\n    </tr>\n  </tbody>\n</table>\n</div>"
     },
     "execution_count": 1147,
     "metadata": {},
     "output_type": "execute_result"
    }
   ],
   "source": [
    "EnergyCost_df.head()"
   ],
   "metadata": {
    "collapsed": false,
    "ExecuteTime": {
     "end_time": "2023-12-06T06:16:27.288877200Z",
     "start_time": "2023-12-06T06:16:26.862056900Z"
    }
   }
  },
  {
   "cell_type": "code",
   "execution_count": 1148,
   "outputs": [
    {
     "name": "stdout",
     "output_type": "stream",
     "text": [
      "Index(['Date', 'avgKWH', 'volume weighted price', 'cloud_cover', 'sunshine',\n",
      "       'global_radiation', 'max_temp', 'mean_temp', 'min_temp',\n",
      "       'precipitation', 'pressure', 'snow_depth'],\n",
      "      dtype='object')\n"
     ]
    },
    {
     "data": {
      "text/plain": "          Date     avgKWH  volume weighted price  cloud_cover  sunshine  \\\n0   2011-11-23   6.952692                  49.85          7.0       2.0   \n1   2011-11-24   8.536480                  44.97          3.0       2.0   \n2   2011-11-25   9.499781                  42.66          3.0       5.0   \n3   2011-11-26  10.267707                  41.20          4.0       0.7   \n4   2011-11-27  10.850805                  42.83          3.0       5.9   \n..         ...        ...                    ...          ...       ...   \n824 2014-02-24  10.092758                  42.81          4.0       4.4   \n825 2014-02-25  10.042841                  41.60          5.0       2.0   \n826 2014-02-26   9.992153                  47.71          1.0       7.7   \n827 2014-02-27  10.045084                  45.77          4.0       4.9   \n828 2014-02-28   0.394141                  45.33          7.0       1.0   \n\n     global_radiation  max_temp  mean_temp  min_temp  precipitation  pressure  \\\n0                35.0      13.5        6.8       2.6            0.2  102720.0   \n1                35.0      12.5        8.6       3.7            0.2  102710.0   \n2                52.0      14.0       11.0       9.5            0.0  102450.0   \n3                24.0      13.9       10.2       6.3            0.0  102580.0   \n4                55.0      13.2       11.8       9.7            0.0  102130.0   \n..                ...       ...        ...       ...            ...       ...   \n824              82.0      10.7       10.9       6.8            3.2  100500.0   \n825              60.0      11.8        9.4       8.1            2.6  100050.0   \n826             111.0      12.0        7.4       2.9            2.8  101270.0   \n827              90.0       8.4        8.9       5.7            4.8  100700.0   \n828              50.0      10.1        5.1       1.8            3.4   99890.0   \n\n     snow_depth  \n0           0.0  \n1           0.0  \n2           0.0  \n3           0.0  \n4           0.0  \n..          ...  \n824         0.0  \n825         0.0  \n826         0.0  \n827         0.0  \n828         0.0  \n\n[829 rows x 12 columns]",
      "text/html": "<div>\n<style scoped>\n    .dataframe tbody tr th:only-of-type {\n        vertical-align: middle;\n    }\n\n    .dataframe tbody tr th {\n        vertical-align: top;\n    }\n\n    .dataframe thead th {\n        text-align: right;\n    }\n</style>\n<table border=\"1\" class=\"dataframe\">\n  <thead>\n    <tr style=\"text-align: right;\">\n      <th></th>\n      <th>Date</th>\n      <th>avgKWH</th>\n      <th>volume weighted price</th>\n      <th>cloud_cover</th>\n      <th>sunshine</th>\n      <th>global_radiation</th>\n      <th>max_temp</th>\n      <th>mean_temp</th>\n      <th>min_temp</th>\n      <th>precipitation</th>\n      <th>pressure</th>\n      <th>snow_depth</th>\n    </tr>\n  </thead>\n  <tbody>\n    <tr>\n      <th>0</th>\n      <td>2011-11-23</td>\n      <td>6.952692</td>\n      <td>49.85</td>\n      <td>7.0</td>\n      <td>2.0</td>\n      <td>35.0</td>\n      <td>13.5</td>\n      <td>6.8</td>\n      <td>2.6</td>\n      <td>0.2</td>\n      <td>102720.0</td>\n      <td>0.0</td>\n    </tr>\n    <tr>\n      <th>1</th>\n      <td>2011-11-24</td>\n      <td>8.536480</td>\n      <td>44.97</td>\n      <td>3.0</td>\n      <td>2.0</td>\n      <td>35.0</td>\n      <td>12.5</td>\n      <td>8.6</td>\n      <td>3.7</td>\n      <td>0.2</td>\n      <td>102710.0</td>\n      <td>0.0</td>\n    </tr>\n    <tr>\n      <th>2</th>\n      <td>2011-11-25</td>\n      <td>9.499781</td>\n      <td>42.66</td>\n      <td>3.0</td>\n      <td>5.0</td>\n      <td>52.0</td>\n      <td>14.0</td>\n      <td>11.0</td>\n      <td>9.5</td>\n      <td>0.0</td>\n      <td>102450.0</td>\n      <td>0.0</td>\n    </tr>\n    <tr>\n      <th>3</th>\n      <td>2011-11-26</td>\n      <td>10.267707</td>\n      <td>41.20</td>\n      <td>4.0</td>\n      <td>0.7</td>\n      <td>24.0</td>\n      <td>13.9</td>\n      <td>10.2</td>\n      <td>6.3</td>\n      <td>0.0</td>\n      <td>102580.0</td>\n      <td>0.0</td>\n    </tr>\n    <tr>\n      <th>4</th>\n      <td>2011-11-27</td>\n      <td>10.850805</td>\n      <td>42.83</td>\n      <td>3.0</td>\n      <td>5.9</td>\n      <td>55.0</td>\n      <td>13.2</td>\n      <td>11.8</td>\n      <td>9.7</td>\n      <td>0.0</td>\n      <td>102130.0</td>\n      <td>0.0</td>\n    </tr>\n    <tr>\n      <th>...</th>\n      <td>...</td>\n      <td>...</td>\n      <td>...</td>\n      <td>...</td>\n      <td>...</td>\n      <td>...</td>\n      <td>...</td>\n      <td>...</td>\n      <td>...</td>\n      <td>...</td>\n      <td>...</td>\n      <td>...</td>\n    </tr>\n    <tr>\n      <th>824</th>\n      <td>2014-02-24</td>\n      <td>10.092758</td>\n      <td>42.81</td>\n      <td>4.0</td>\n      <td>4.4</td>\n      <td>82.0</td>\n      <td>10.7</td>\n      <td>10.9</td>\n      <td>6.8</td>\n      <td>3.2</td>\n      <td>100500.0</td>\n      <td>0.0</td>\n    </tr>\n    <tr>\n      <th>825</th>\n      <td>2014-02-25</td>\n      <td>10.042841</td>\n      <td>41.60</td>\n      <td>5.0</td>\n      <td>2.0</td>\n      <td>60.0</td>\n      <td>11.8</td>\n      <td>9.4</td>\n      <td>8.1</td>\n      <td>2.6</td>\n      <td>100050.0</td>\n      <td>0.0</td>\n    </tr>\n    <tr>\n      <th>826</th>\n      <td>2014-02-26</td>\n      <td>9.992153</td>\n      <td>47.71</td>\n      <td>1.0</td>\n      <td>7.7</td>\n      <td>111.0</td>\n      <td>12.0</td>\n      <td>7.4</td>\n      <td>2.9</td>\n      <td>2.8</td>\n      <td>101270.0</td>\n      <td>0.0</td>\n    </tr>\n    <tr>\n      <th>827</th>\n      <td>2014-02-27</td>\n      <td>10.045084</td>\n      <td>45.77</td>\n      <td>4.0</td>\n      <td>4.9</td>\n      <td>90.0</td>\n      <td>8.4</td>\n      <td>8.9</td>\n      <td>5.7</td>\n      <td>4.8</td>\n      <td>100700.0</td>\n      <td>0.0</td>\n    </tr>\n    <tr>\n      <th>828</th>\n      <td>2014-02-28</td>\n      <td>0.394141</td>\n      <td>45.33</td>\n      <td>7.0</td>\n      <td>1.0</td>\n      <td>50.0</td>\n      <td>10.1</td>\n      <td>5.1</td>\n      <td>1.8</td>\n      <td>3.4</td>\n      <td>99890.0</td>\n      <td>0.0</td>\n    </tr>\n  </tbody>\n</table>\n<p>829 rows × 12 columns</p>\n</div>"
     },
     "execution_count": 1148,
     "metadata": {},
     "output_type": "execute_result"
    }
   ],
   "source": [
    "CleanedData_df = pd.merge(LondonEnergy_df, EnergyCost_df, on=\"Date\")\n",
    "CleanedData_df = pd.merge(CleanedData_df, LondonWeather_df, on=\"Date\")\n",
    "print(CleanedData_df.columns)\n",
    "CleanedData_df"
   ],
   "metadata": {
    "collapsed": false,
    "ExecuteTime": {
     "end_time": "2023-12-06T06:16:27.315901600Z",
     "start_time": "2023-12-06T06:16:26.871243700Z"
    }
   }
  },
  {
   "cell_type": "markdown",
   "source": [
    "# Engineer base model features."
   ],
   "metadata": {
    "collapsed": false
   }
  },
  {
   "cell_type": "code",
   "execution_count": 1149,
   "outputs": [
    {
     "data": {
      "text/plain": "          Date     avgKWH  volume weighted price  cloud_cover  sunshine  \\\n0   2011-11-23   6.952692                  49.85          7.0       2.0   \n1   2011-11-24   8.536480                  44.97          3.0       2.0   \n2   2011-11-25   9.499781                  42.66          3.0       5.0   \n3   2011-11-26  10.267707                  41.20          4.0       0.7   \n4   2011-11-27  10.850805                  42.83          3.0       5.9   \n..         ...        ...                    ...          ...       ...   \n824 2014-02-24  10.092758                  42.81          4.0       4.4   \n825 2014-02-25  10.042841                  41.60          5.0       2.0   \n826 2014-02-26   9.992153                  47.71          1.0       7.7   \n827 2014-02-27  10.045084                  45.77          4.0       4.9   \n828 2014-02-28   0.394141                  45.33          7.0       1.0   \n\n     global_radiation  max_temp  mean_temp  min_temp  precipitation  pressure  \\\n0                35.0      13.5        6.8       2.6            0.2  102720.0   \n1                35.0      12.5        8.6       3.7            0.2  102710.0   \n2                52.0      14.0       11.0       9.5            0.0  102450.0   \n3                24.0      13.9       10.2       6.3            0.0  102580.0   \n4                55.0      13.2       11.8       9.7            0.0  102130.0   \n..                ...       ...        ...       ...            ...       ...   \n824              82.0      10.7       10.9       6.8            3.2  100500.0   \n825              60.0      11.8        9.4       8.1            2.6  100050.0   \n826             111.0      12.0        7.4       2.9            2.8  101270.0   \n827              90.0       8.4        8.9       5.7            4.8  100700.0   \n828              50.0      10.1        5.1       1.8            3.4   99890.0   \n\n     snow_depth  days_elapsed  (-1)avgKWH  SMA3_avgKWH  \n0           0.0             0         NaN          NaN  \n1           0.0             1    6.952692          NaN  \n2           0.0             2    8.536480     8.329651  \n3           0.0             3    9.499781     9.434656  \n4           0.0             4   10.267707    10.206098  \n..          ...           ...         ...          ...  \n824         0.0           824   11.078963    10.509701  \n825         0.0           825   10.092758    10.404854  \n826         0.0           826   10.042841    10.042584  \n827         0.0           827    9.992153    10.026693  \n828         0.0           828   10.045084     6.810460  \n\n[829 rows x 15 columns]",
      "text/html": "<div>\n<style scoped>\n    .dataframe tbody tr th:only-of-type {\n        vertical-align: middle;\n    }\n\n    .dataframe tbody tr th {\n        vertical-align: top;\n    }\n\n    .dataframe thead th {\n        text-align: right;\n    }\n</style>\n<table border=\"1\" class=\"dataframe\">\n  <thead>\n    <tr style=\"text-align: right;\">\n      <th></th>\n      <th>Date</th>\n      <th>avgKWH</th>\n      <th>volume weighted price</th>\n      <th>cloud_cover</th>\n      <th>sunshine</th>\n      <th>global_radiation</th>\n      <th>max_temp</th>\n      <th>mean_temp</th>\n      <th>min_temp</th>\n      <th>precipitation</th>\n      <th>pressure</th>\n      <th>snow_depth</th>\n      <th>days_elapsed</th>\n      <th>(-1)avgKWH</th>\n      <th>SMA3_avgKWH</th>\n    </tr>\n  </thead>\n  <tbody>\n    <tr>\n      <th>0</th>\n      <td>2011-11-23</td>\n      <td>6.952692</td>\n      <td>49.85</td>\n      <td>7.0</td>\n      <td>2.0</td>\n      <td>35.0</td>\n      <td>13.5</td>\n      <td>6.8</td>\n      <td>2.6</td>\n      <td>0.2</td>\n      <td>102720.0</td>\n      <td>0.0</td>\n      <td>0</td>\n      <td>NaN</td>\n      <td>NaN</td>\n    </tr>\n    <tr>\n      <th>1</th>\n      <td>2011-11-24</td>\n      <td>8.536480</td>\n      <td>44.97</td>\n      <td>3.0</td>\n      <td>2.0</td>\n      <td>35.0</td>\n      <td>12.5</td>\n      <td>8.6</td>\n      <td>3.7</td>\n      <td>0.2</td>\n      <td>102710.0</td>\n      <td>0.0</td>\n      <td>1</td>\n      <td>6.952692</td>\n      <td>NaN</td>\n    </tr>\n    <tr>\n      <th>2</th>\n      <td>2011-11-25</td>\n      <td>9.499781</td>\n      <td>42.66</td>\n      <td>3.0</td>\n      <td>5.0</td>\n      <td>52.0</td>\n      <td>14.0</td>\n      <td>11.0</td>\n      <td>9.5</td>\n      <td>0.0</td>\n      <td>102450.0</td>\n      <td>0.0</td>\n      <td>2</td>\n      <td>8.536480</td>\n      <td>8.329651</td>\n    </tr>\n    <tr>\n      <th>3</th>\n      <td>2011-11-26</td>\n      <td>10.267707</td>\n      <td>41.20</td>\n      <td>4.0</td>\n      <td>0.7</td>\n      <td>24.0</td>\n      <td>13.9</td>\n      <td>10.2</td>\n      <td>6.3</td>\n      <td>0.0</td>\n      <td>102580.0</td>\n      <td>0.0</td>\n      <td>3</td>\n      <td>9.499781</td>\n      <td>9.434656</td>\n    </tr>\n    <tr>\n      <th>4</th>\n      <td>2011-11-27</td>\n      <td>10.850805</td>\n      <td>42.83</td>\n      <td>3.0</td>\n      <td>5.9</td>\n      <td>55.0</td>\n      <td>13.2</td>\n      <td>11.8</td>\n      <td>9.7</td>\n      <td>0.0</td>\n      <td>102130.0</td>\n      <td>0.0</td>\n      <td>4</td>\n      <td>10.267707</td>\n      <td>10.206098</td>\n    </tr>\n    <tr>\n      <th>...</th>\n      <td>...</td>\n      <td>...</td>\n      <td>...</td>\n      <td>...</td>\n      <td>...</td>\n      <td>...</td>\n      <td>...</td>\n      <td>...</td>\n      <td>...</td>\n      <td>...</td>\n      <td>...</td>\n      <td>...</td>\n      <td>...</td>\n      <td>...</td>\n      <td>...</td>\n    </tr>\n    <tr>\n      <th>824</th>\n      <td>2014-02-24</td>\n      <td>10.092758</td>\n      <td>42.81</td>\n      <td>4.0</td>\n      <td>4.4</td>\n      <td>82.0</td>\n      <td>10.7</td>\n      <td>10.9</td>\n      <td>6.8</td>\n      <td>3.2</td>\n      <td>100500.0</td>\n      <td>0.0</td>\n      <td>824</td>\n      <td>11.078963</td>\n      <td>10.509701</td>\n    </tr>\n    <tr>\n      <th>825</th>\n      <td>2014-02-25</td>\n      <td>10.042841</td>\n      <td>41.60</td>\n      <td>5.0</td>\n      <td>2.0</td>\n      <td>60.0</td>\n      <td>11.8</td>\n      <td>9.4</td>\n      <td>8.1</td>\n      <td>2.6</td>\n      <td>100050.0</td>\n      <td>0.0</td>\n      <td>825</td>\n      <td>10.092758</td>\n      <td>10.404854</td>\n    </tr>\n    <tr>\n      <th>826</th>\n      <td>2014-02-26</td>\n      <td>9.992153</td>\n      <td>47.71</td>\n      <td>1.0</td>\n      <td>7.7</td>\n      <td>111.0</td>\n      <td>12.0</td>\n      <td>7.4</td>\n      <td>2.9</td>\n      <td>2.8</td>\n      <td>101270.0</td>\n      <td>0.0</td>\n      <td>826</td>\n      <td>10.042841</td>\n      <td>10.042584</td>\n    </tr>\n    <tr>\n      <th>827</th>\n      <td>2014-02-27</td>\n      <td>10.045084</td>\n      <td>45.77</td>\n      <td>4.0</td>\n      <td>4.9</td>\n      <td>90.0</td>\n      <td>8.4</td>\n      <td>8.9</td>\n      <td>5.7</td>\n      <td>4.8</td>\n      <td>100700.0</td>\n      <td>0.0</td>\n      <td>827</td>\n      <td>9.992153</td>\n      <td>10.026693</td>\n    </tr>\n    <tr>\n      <th>828</th>\n      <td>2014-02-28</td>\n      <td>0.394141</td>\n      <td>45.33</td>\n      <td>7.0</td>\n      <td>1.0</td>\n      <td>50.0</td>\n      <td>10.1</td>\n      <td>5.1</td>\n      <td>1.8</td>\n      <td>3.4</td>\n      <td>99890.0</td>\n      <td>0.0</td>\n      <td>828</td>\n      <td>10.045084</td>\n      <td>6.810460</td>\n    </tr>\n  </tbody>\n</table>\n<p>829 rows × 15 columns</p>\n</div>"
     },
     "execution_count": 1149,
     "metadata": {},
     "output_type": "execute_result"
    }
   ],
   "source": [
    "# Elapsed days\n",
    "MIN_DATE = CleanedData_df['Date'].min()\n",
    "CleanedData_df['days_elapsed'] = CleanedData_df.apply(lambda x: (x[\"Date\"] - MIN_DATE).days, axis=1)\n",
    "# Yesterdays power usage\n",
    "CleanedData_df[\"(-1)avgKWH\"] = CleanedData_df['avgKWH'].shift(periods = 1)\n",
    "# Average power of the last three days\n",
    "CleanedData_df['SMA3_avgKWH'] = CleanedData_df['avgKWH'].rolling(3).mean()\n",
    "CleanedData_df"
   ],
   "metadata": {
    "collapsed": false,
    "ExecuteTime": {
     "end_time": "2023-12-06T06:16:27.377471200Z",
     "start_time": "2023-12-06T06:16:26.891261700Z"
    }
   }
  },
  {
   "cell_type": "markdown",
   "source": [
    "# Engineer cyclical time series features."
   ],
   "metadata": {
    "collapsed": false
   }
  },
  {
   "cell_type": "markdown",
   "source": [
    "Add cyclical time series variable month, week of year, and time of year"
   ],
   "metadata": {
    "collapsed": false
   }
  },
  {
   "cell_type": "code",
   "execution_count": 1150,
   "outputs": [],
   "source": [
    "date_time = pd.to_datetime(CleanedData_df['Date'], format='%Y-%m-%d')\n",
    "timestamp_s = date_time.map(pd.Timestamp.timestamp) #Dates in seconds\n",
    "\n",
    "# Day of week\n",
    "weekday = CleanedData_df[\"Date\"].apply(lambda dt: dt.weekday())\n",
    "CleanedData_df['weekday sin'] = np.sin(weekday*(2*np.pi/7))\n",
    "CleanedData_df['weekday cos'] = np.cos(weekday*(2*np.pi/7))\n",
    "# Month of the year\n",
    "month = CleanedData_df[\"Date\"].apply(lambda dt: dt.month)\n",
    "CleanedData_df['month sin'] = np.sin(month*(2*np.pi/12))\n",
    "CleanedData_df['month cos'] = np.cos(month*(2*np.pi/12))\n",
    "#From tensorflow time_series #Feature-engineering example\n",
    "# Time of year\n",
    "day = 24*60*60\n",
    "year = (365.2425)*day\n",
    "CleanedData_df['Time of Year sin'] = np.sin(timestamp_s * (2 * np.pi / year))\n",
    "CleanedData_df['Time of Year cos'] = np.cos(timestamp_s * (2 * np.pi / year))\n",
    "# Year\n",
    "CleanedData_df['year'] = CleanedData_df[\"Date\"].apply(lambda dt: dt.year)\n",
    "CleanedData_df\n",
    "# Season\n",
    "# 0=spring,1=summer,2=fall,3=winter\n",
    "MonthToSeasonMapping = {1: 3, 2: 3, 3: 0, 4: 0, 5: 0, 6: 1, 7: 1, 8: 1, 9: 2, 10: 2, 11: 2, 12: 3}\n",
    "season = CleanedData_df['Date'].dt.month.map(MonthToSeasonMapping)\n",
    "CleanedData_df['season sin'] = np.sin(season * (2 * np.pi / 4))\n",
    "CleanedData_df['season cos'] = np.cos(season * (2 * np.pi / 4))"
   ],
   "metadata": {
    "collapsed": false,
    "ExecuteTime": {
     "end_time": "2023-12-06T06:16:27.380474100Z",
     "start_time": "2023-12-06T06:16:26.916279300Z"
    }
   }
  },
  {
   "cell_type": "markdown",
   "source": [
    "# Engineer delayed energy cost for continuity\n",
    "We won't have access to the energy cost data beforehand therefore we have to shift the cost data by one so that we are always using yesterday's data"
   ],
   "metadata": {
    "collapsed": false
   }
  },
  {
   "cell_type": "code",
   "execution_count": 1151,
   "outputs": [
    {
     "data": {
      "text/plain": "          Date     avgKWH  cloud_cover  sunshine  global_radiation  max_temp  \\\n0   2011-11-23   6.952692          7.0       2.0              35.0      13.5   \n1   2011-11-24   8.536480          3.0       2.0              35.0      12.5   \n2   2011-11-25   9.499781          3.0       5.0              52.0      14.0   \n3   2011-11-26  10.267707          4.0       0.7              24.0      13.9   \n4   2011-11-27  10.850805          3.0       5.9              55.0      13.2   \n..         ...        ...          ...       ...               ...       ...   \n824 2014-02-24  10.092758          4.0       4.4              82.0      10.7   \n825 2014-02-25  10.042841          5.0       2.0              60.0      11.8   \n826 2014-02-26   9.992153          1.0       7.7             111.0      12.0   \n827 2014-02-27  10.045084          4.0       4.9              90.0       8.4   \n828 2014-02-28   0.394141          7.0       1.0              50.0      10.1   \n\n     mean_temp  min_temp  precipitation  pressure  ...  weekday sin  \\\n0          6.8       2.6            0.2  102720.0  ...     0.974928   \n1          8.6       3.7            0.2  102710.0  ...     0.433884   \n2         11.0       9.5            0.0  102450.0  ...    -0.433884   \n3         10.2       6.3            0.0  102580.0  ...    -0.974928   \n4         11.8       9.7            0.0  102130.0  ...    -0.781831   \n..         ...       ...            ...       ...  ...          ...   \n824       10.9       6.8            3.2  100500.0  ...     0.000000   \n825        9.4       8.1            2.6  100050.0  ...     0.781831   \n826        7.4       2.9            2.8  101270.0  ...     0.974928   \n827        8.9       5.7            4.8  100700.0  ...     0.433884   \n828        5.1       1.8            3.4   99890.0  ...    -0.433884   \n\n     weekday cos  month sin  month cos  Time of Year sin  Time of Year cos  \\\n0      -0.222521  -0.500000   0.866025         -0.624187          0.781275   \n1      -0.900969  -0.500000   0.866025         -0.610655          0.791896   \n2      -0.900969  -0.500000   0.866025         -0.596943          0.802284   \n3      -0.222521  -0.500000   0.866025         -0.583054          0.812434   \n4       0.623490  -0.500000   0.866025         -0.568992          0.822343   \n..           ...        ...        ...               ...               ...   \n824     1.000000   0.866025   0.500000          0.804377          0.594119   \n825     0.623490   0.866025   0.500000          0.814478          0.580194   \n826    -0.222521   0.866025   0.500000          0.824338          0.566097   \n827    -0.900969   0.866025   0.500000          0.833954          0.551833   \n828    -0.900969   0.866025   0.500000          0.843324          0.537406   \n\n     year    season sin    season cos  (-1)volume weighted price  \n0    2011  1.224647e-16 -1.000000e+00                        NaN  \n1    2011  1.224647e-16 -1.000000e+00                      49.85  \n2    2011  1.224647e-16 -1.000000e+00                      44.97  \n3    2011  1.224647e-16 -1.000000e+00                      42.66  \n4    2011  1.224647e-16 -1.000000e+00                      41.20  \n..    ...           ...           ...                        ...  \n824  2014 -1.000000e+00 -1.836970e-16                      38.19  \n825  2014 -1.000000e+00 -1.836970e-16                      42.81  \n826  2014 -1.000000e+00 -1.836970e-16                      41.60  \n827  2014 -1.000000e+00 -1.836970e-16                      47.71  \n828  2014 -1.000000e+00 -1.836970e-16                      45.77  \n\n[829 rows x 24 columns]",
      "text/html": "<div>\n<style scoped>\n    .dataframe tbody tr th:only-of-type {\n        vertical-align: middle;\n    }\n\n    .dataframe tbody tr th {\n        vertical-align: top;\n    }\n\n    .dataframe thead th {\n        text-align: right;\n    }\n</style>\n<table border=\"1\" class=\"dataframe\">\n  <thead>\n    <tr style=\"text-align: right;\">\n      <th></th>\n      <th>Date</th>\n      <th>avgKWH</th>\n      <th>cloud_cover</th>\n      <th>sunshine</th>\n      <th>global_radiation</th>\n      <th>max_temp</th>\n      <th>mean_temp</th>\n      <th>min_temp</th>\n      <th>precipitation</th>\n      <th>pressure</th>\n      <th>...</th>\n      <th>weekday sin</th>\n      <th>weekday cos</th>\n      <th>month sin</th>\n      <th>month cos</th>\n      <th>Time of Year sin</th>\n      <th>Time of Year cos</th>\n      <th>year</th>\n      <th>season sin</th>\n      <th>season cos</th>\n      <th>(-1)volume weighted price</th>\n    </tr>\n  </thead>\n  <tbody>\n    <tr>\n      <th>0</th>\n      <td>2011-11-23</td>\n      <td>6.952692</td>\n      <td>7.0</td>\n      <td>2.0</td>\n      <td>35.0</td>\n      <td>13.5</td>\n      <td>6.8</td>\n      <td>2.6</td>\n      <td>0.2</td>\n      <td>102720.0</td>\n      <td>...</td>\n      <td>0.974928</td>\n      <td>-0.222521</td>\n      <td>-0.500000</td>\n      <td>0.866025</td>\n      <td>-0.624187</td>\n      <td>0.781275</td>\n      <td>2011</td>\n      <td>1.224647e-16</td>\n      <td>-1.000000e+00</td>\n      <td>NaN</td>\n    </tr>\n    <tr>\n      <th>1</th>\n      <td>2011-11-24</td>\n      <td>8.536480</td>\n      <td>3.0</td>\n      <td>2.0</td>\n      <td>35.0</td>\n      <td>12.5</td>\n      <td>8.6</td>\n      <td>3.7</td>\n      <td>0.2</td>\n      <td>102710.0</td>\n      <td>...</td>\n      <td>0.433884</td>\n      <td>-0.900969</td>\n      <td>-0.500000</td>\n      <td>0.866025</td>\n      <td>-0.610655</td>\n      <td>0.791896</td>\n      <td>2011</td>\n      <td>1.224647e-16</td>\n      <td>-1.000000e+00</td>\n      <td>49.85</td>\n    </tr>\n    <tr>\n      <th>2</th>\n      <td>2011-11-25</td>\n      <td>9.499781</td>\n      <td>3.0</td>\n      <td>5.0</td>\n      <td>52.0</td>\n      <td>14.0</td>\n      <td>11.0</td>\n      <td>9.5</td>\n      <td>0.0</td>\n      <td>102450.0</td>\n      <td>...</td>\n      <td>-0.433884</td>\n      <td>-0.900969</td>\n      <td>-0.500000</td>\n      <td>0.866025</td>\n      <td>-0.596943</td>\n      <td>0.802284</td>\n      <td>2011</td>\n      <td>1.224647e-16</td>\n      <td>-1.000000e+00</td>\n      <td>44.97</td>\n    </tr>\n    <tr>\n      <th>3</th>\n      <td>2011-11-26</td>\n      <td>10.267707</td>\n      <td>4.0</td>\n      <td>0.7</td>\n      <td>24.0</td>\n      <td>13.9</td>\n      <td>10.2</td>\n      <td>6.3</td>\n      <td>0.0</td>\n      <td>102580.0</td>\n      <td>...</td>\n      <td>-0.974928</td>\n      <td>-0.222521</td>\n      <td>-0.500000</td>\n      <td>0.866025</td>\n      <td>-0.583054</td>\n      <td>0.812434</td>\n      <td>2011</td>\n      <td>1.224647e-16</td>\n      <td>-1.000000e+00</td>\n      <td>42.66</td>\n    </tr>\n    <tr>\n      <th>4</th>\n      <td>2011-11-27</td>\n      <td>10.850805</td>\n      <td>3.0</td>\n      <td>5.9</td>\n      <td>55.0</td>\n      <td>13.2</td>\n      <td>11.8</td>\n      <td>9.7</td>\n      <td>0.0</td>\n      <td>102130.0</td>\n      <td>...</td>\n      <td>-0.781831</td>\n      <td>0.623490</td>\n      <td>-0.500000</td>\n      <td>0.866025</td>\n      <td>-0.568992</td>\n      <td>0.822343</td>\n      <td>2011</td>\n      <td>1.224647e-16</td>\n      <td>-1.000000e+00</td>\n      <td>41.20</td>\n    </tr>\n    <tr>\n      <th>...</th>\n      <td>...</td>\n      <td>...</td>\n      <td>...</td>\n      <td>...</td>\n      <td>...</td>\n      <td>...</td>\n      <td>...</td>\n      <td>...</td>\n      <td>...</td>\n      <td>...</td>\n      <td>...</td>\n      <td>...</td>\n      <td>...</td>\n      <td>...</td>\n      <td>...</td>\n      <td>...</td>\n      <td>...</td>\n      <td>...</td>\n      <td>...</td>\n      <td>...</td>\n      <td>...</td>\n    </tr>\n    <tr>\n      <th>824</th>\n      <td>2014-02-24</td>\n      <td>10.092758</td>\n      <td>4.0</td>\n      <td>4.4</td>\n      <td>82.0</td>\n      <td>10.7</td>\n      <td>10.9</td>\n      <td>6.8</td>\n      <td>3.2</td>\n      <td>100500.0</td>\n      <td>...</td>\n      <td>0.000000</td>\n      <td>1.000000</td>\n      <td>0.866025</td>\n      <td>0.500000</td>\n      <td>0.804377</td>\n      <td>0.594119</td>\n      <td>2014</td>\n      <td>-1.000000e+00</td>\n      <td>-1.836970e-16</td>\n      <td>38.19</td>\n    </tr>\n    <tr>\n      <th>825</th>\n      <td>2014-02-25</td>\n      <td>10.042841</td>\n      <td>5.0</td>\n      <td>2.0</td>\n      <td>60.0</td>\n      <td>11.8</td>\n      <td>9.4</td>\n      <td>8.1</td>\n      <td>2.6</td>\n      <td>100050.0</td>\n      <td>...</td>\n      <td>0.781831</td>\n      <td>0.623490</td>\n      <td>0.866025</td>\n      <td>0.500000</td>\n      <td>0.814478</td>\n      <td>0.580194</td>\n      <td>2014</td>\n      <td>-1.000000e+00</td>\n      <td>-1.836970e-16</td>\n      <td>42.81</td>\n    </tr>\n    <tr>\n      <th>826</th>\n      <td>2014-02-26</td>\n      <td>9.992153</td>\n      <td>1.0</td>\n      <td>7.7</td>\n      <td>111.0</td>\n      <td>12.0</td>\n      <td>7.4</td>\n      <td>2.9</td>\n      <td>2.8</td>\n      <td>101270.0</td>\n      <td>...</td>\n      <td>0.974928</td>\n      <td>-0.222521</td>\n      <td>0.866025</td>\n      <td>0.500000</td>\n      <td>0.824338</td>\n      <td>0.566097</td>\n      <td>2014</td>\n      <td>-1.000000e+00</td>\n      <td>-1.836970e-16</td>\n      <td>41.60</td>\n    </tr>\n    <tr>\n      <th>827</th>\n      <td>2014-02-27</td>\n      <td>10.045084</td>\n      <td>4.0</td>\n      <td>4.9</td>\n      <td>90.0</td>\n      <td>8.4</td>\n      <td>8.9</td>\n      <td>5.7</td>\n      <td>4.8</td>\n      <td>100700.0</td>\n      <td>...</td>\n      <td>0.433884</td>\n      <td>-0.900969</td>\n      <td>0.866025</td>\n      <td>0.500000</td>\n      <td>0.833954</td>\n      <td>0.551833</td>\n      <td>2014</td>\n      <td>-1.000000e+00</td>\n      <td>-1.836970e-16</td>\n      <td>47.71</td>\n    </tr>\n    <tr>\n      <th>828</th>\n      <td>2014-02-28</td>\n      <td>0.394141</td>\n      <td>7.0</td>\n      <td>1.0</td>\n      <td>50.0</td>\n      <td>10.1</td>\n      <td>5.1</td>\n      <td>1.8</td>\n      <td>3.4</td>\n      <td>99890.0</td>\n      <td>...</td>\n      <td>-0.433884</td>\n      <td>-0.900969</td>\n      <td>0.866025</td>\n      <td>0.500000</td>\n      <td>0.843324</td>\n      <td>0.537406</td>\n      <td>2014</td>\n      <td>-1.000000e+00</td>\n      <td>-1.836970e-16</td>\n      <td>45.77</td>\n    </tr>\n  </tbody>\n</table>\n<p>829 rows × 24 columns</p>\n</div>"
     },
     "execution_count": 1151,
     "metadata": {},
     "output_type": "execute_result"
    }
   ],
   "source": [
    "# Yesterday's power cost\n",
    "CleanedData_df[\"(-1)volume weighted price\"] = CleanedData_df['volume weighted price'].shift(periods = 1)\n",
    "CleanedData_df.pop('volume weighted price')\n",
    "CleanedData_df"
   ],
   "metadata": {
    "collapsed": false,
    "ExecuteTime": {
     "end_time": "2023-12-06T06:16:27.396489400Z",
     "start_time": "2023-12-06T06:16:26.934008700Z"
    }
   }
  },
  {
   "cell_type": "markdown",
   "source": [
    "By implementing the time offset variables we have created three records with NA values, lets drop those."
   ],
   "metadata": {
    "collapsed": false
   }
  },
  {
   "cell_type": "code",
   "execution_count": 1152,
   "outputs": [
    {
     "data": {
      "text/plain": "          Date     avgKWH  cloud_cover  sunshine  global_radiation  max_temp  \\\n0   2011-11-25   9.499781          3.0       5.0              52.0      14.0   \n1   2011-11-26  10.267707          4.0       0.7              24.0      13.9   \n2   2011-11-27  10.850805          3.0       5.9              55.0      13.2   \n3   2011-11-28   9.103382          5.0       0.0              15.0      13.9   \n4   2011-11-29   9.274873          6.0       0.0              15.0      12.8   \n..         ...        ...          ...       ...               ...       ...   \n822 2014-02-24  10.092758          4.0       4.4              82.0      10.7   \n823 2014-02-25  10.042841          5.0       2.0              60.0      11.8   \n824 2014-02-26   9.992153          1.0       7.7             111.0      12.0   \n825 2014-02-27  10.045084          4.0       4.9              90.0       8.4   \n826 2014-02-28   0.394141          7.0       1.0              50.0      10.1   \n\n     mean_temp  min_temp  precipitation  pressure  ...  weekday sin  \\\n0         11.0       9.5            0.0  102450.0  ...    -0.433884   \n1         10.2       6.3            0.0  102580.0  ...    -0.974928   \n2         11.8       9.7            0.0  102130.0  ...    -0.781831   \n3          6.7       0.2            0.0  102270.0  ...     0.000000   \n4          8.6       3.3            0.4  100960.0  ...     0.781831   \n..         ...       ...            ...       ...  ...          ...   \n822       10.9       6.8            3.2  100500.0  ...     0.000000   \n823        9.4       8.1            2.6  100050.0  ...     0.781831   \n824        7.4       2.9            2.8  101270.0  ...     0.974928   \n825        8.9       5.7            4.8  100700.0  ...     0.433884   \n826        5.1       1.8            3.4   99890.0  ...    -0.433884   \n\n     weekday cos  month sin  month cos  Time of Year sin  Time of Year cos  \\\n0      -0.900969  -0.500000   0.866025         -0.596943          0.802284   \n1      -0.222521  -0.500000   0.866025         -0.583054          0.812434   \n2       0.623490  -0.500000   0.866025         -0.568992          0.822343   \n3       1.000000  -0.500000   0.866025         -0.554762          0.832009   \n4       0.623490  -0.500000   0.866025         -0.540368          0.841429   \n..           ...        ...        ...               ...               ...   \n822     1.000000   0.866025   0.500000          0.804377          0.594119   \n823     0.623490   0.866025   0.500000          0.814478          0.580194   \n824    -0.222521   0.866025   0.500000          0.824338          0.566097   \n825    -0.900969   0.866025   0.500000          0.833954          0.551833   \n826    -0.900969   0.866025   0.500000          0.843324          0.537406   \n\n     year    season sin    season cos  (-1)volume weighted price  \n0    2011  1.224647e-16 -1.000000e+00                      44.97  \n1    2011  1.224647e-16 -1.000000e+00                      42.66  \n2    2011  1.224647e-16 -1.000000e+00                      41.20  \n3    2011  1.224647e-16 -1.000000e+00                      42.83  \n4    2011  1.224647e-16 -1.000000e+00                      46.88  \n..    ...           ...           ...                        ...  \n822  2014 -1.000000e+00 -1.836970e-16                      38.19  \n823  2014 -1.000000e+00 -1.836970e-16                      42.81  \n824  2014 -1.000000e+00 -1.836970e-16                      41.60  \n825  2014 -1.000000e+00 -1.836970e-16                      47.71  \n826  2014 -1.000000e+00 -1.836970e-16                      45.77  \n\n[827 rows x 24 columns]",
      "text/html": "<div>\n<style scoped>\n    .dataframe tbody tr th:only-of-type {\n        vertical-align: middle;\n    }\n\n    .dataframe tbody tr th {\n        vertical-align: top;\n    }\n\n    .dataframe thead th {\n        text-align: right;\n    }\n</style>\n<table border=\"1\" class=\"dataframe\">\n  <thead>\n    <tr style=\"text-align: right;\">\n      <th></th>\n      <th>Date</th>\n      <th>avgKWH</th>\n      <th>cloud_cover</th>\n      <th>sunshine</th>\n      <th>global_radiation</th>\n      <th>max_temp</th>\n      <th>mean_temp</th>\n      <th>min_temp</th>\n      <th>precipitation</th>\n      <th>pressure</th>\n      <th>...</th>\n      <th>weekday sin</th>\n      <th>weekday cos</th>\n      <th>month sin</th>\n      <th>month cos</th>\n      <th>Time of Year sin</th>\n      <th>Time of Year cos</th>\n      <th>year</th>\n      <th>season sin</th>\n      <th>season cos</th>\n      <th>(-1)volume weighted price</th>\n    </tr>\n  </thead>\n  <tbody>\n    <tr>\n      <th>0</th>\n      <td>2011-11-25</td>\n      <td>9.499781</td>\n      <td>3.0</td>\n      <td>5.0</td>\n      <td>52.0</td>\n      <td>14.0</td>\n      <td>11.0</td>\n      <td>9.5</td>\n      <td>0.0</td>\n      <td>102450.0</td>\n      <td>...</td>\n      <td>-0.433884</td>\n      <td>-0.900969</td>\n      <td>-0.500000</td>\n      <td>0.866025</td>\n      <td>-0.596943</td>\n      <td>0.802284</td>\n      <td>2011</td>\n      <td>1.224647e-16</td>\n      <td>-1.000000e+00</td>\n      <td>44.97</td>\n    </tr>\n    <tr>\n      <th>1</th>\n      <td>2011-11-26</td>\n      <td>10.267707</td>\n      <td>4.0</td>\n      <td>0.7</td>\n      <td>24.0</td>\n      <td>13.9</td>\n      <td>10.2</td>\n      <td>6.3</td>\n      <td>0.0</td>\n      <td>102580.0</td>\n      <td>...</td>\n      <td>-0.974928</td>\n      <td>-0.222521</td>\n      <td>-0.500000</td>\n      <td>0.866025</td>\n      <td>-0.583054</td>\n      <td>0.812434</td>\n      <td>2011</td>\n      <td>1.224647e-16</td>\n      <td>-1.000000e+00</td>\n      <td>42.66</td>\n    </tr>\n    <tr>\n      <th>2</th>\n      <td>2011-11-27</td>\n      <td>10.850805</td>\n      <td>3.0</td>\n      <td>5.9</td>\n      <td>55.0</td>\n      <td>13.2</td>\n      <td>11.8</td>\n      <td>9.7</td>\n      <td>0.0</td>\n      <td>102130.0</td>\n      <td>...</td>\n      <td>-0.781831</td>\n      <td>0.623490</td>\n      <td>-0.500000</td>\n      <td>0.866025</td>\n      <td>-0.568992</td>\n      <td>0.822343</td>\n      <td>2011</td>\n      <td>1.224647e-16</td>\n      <td>-1.000000e+00</td>\n      <td>41.20</td>\n    </tr>\n    <tr>\n      <th>3</th>\n      <td>2011-11-28</td>\n      <td>9.103382</td>\n      <td>5.0</td>\n      <td>0.0</td>\n      <td>15.0</td>\n      <td>13.9</td>\n      <td>6.7</td>\n      <td>0.2</td>\n      <td>0.0</td>\n      <td>102270.0</td>\n      <td>...</td>\n      <td>0.000000</td>\n      <td>1.000000</td>\n      <td>-0.500000</td>\n      <td>0.866025</td>\n      <td>-0.554762</td>\n      <td>0.832009</td>\n      <td>2011</td>\n      <td>1.224647e-16</td>\n      <td>-1.000000e+00</td>\n      <td>42.83</td>\n    </tr>\n    <tr>\n      <th>4</th>\n      <td>2011-11-29</td>\n      <td>9.274873</td>\n      <td>6.0</td>\n      <td>0.0</td>\n      <td>15.0</td>\n      <td>12.8</td>\n      <td>8.6</td>\n      <td>3.3</td>\n      <td>0.4</td>\n      <td>100960.0</td>\n      <td>...</td>\n      <td>0.781831</td>\n      <td>0.623490</td>\n      <td>-0.500000</td>\n      <td>0.866025</td>\n      <td>-0.540368</td>\n      <td>0.841429</td>\n      <td>2011</td>\n      <td>1.224647e-16</td>\n      <td>-1.000000e+00</td>\n      <td>46.88</td>\n    </tr>\n    <tr>\n      <th>...</th>\n      <td>...</td>\n      <td>...</td>\n      <td>...</td>\n      <td>...</td>\n      <td>...</td>\n      <td>...</td>\n      <td>...</td>\n      <td>...</td>\n      <td>...</td>\n      <td>...</td>\n      <td>...</td>\n      <td>...</td>\n      <td>...</td>\n      <td>...</td>\n      <td>...</td>\n      <td>...</td>\n      <td>...</td>\n      <td>...</td>\n      <td>...</td>\n      <td>...</td>\n      <td>...</td>\n    </tr>\n    <tr>\n      <th>822</th>\n      <td>2014-02-24</td>\n      <td>10.092758</td>\n      <td>4.0</td>\n      <td>4.4</td>\n      <td>82.0</td>\n      <td>10.7</td>\n      <td>10.9</td>\n      <td>6.8</td>\n      <td>3.2</td>\n      <td>100500.0</td>\n      <td>...</td>\n      <td>0.000000</td>\n      <td>1.000000</td>\n      <td>0.866025</td>\n      <td>0.500000</td>\n      <td>0.804377</td>\n      <td>0.594119</td>\n      <td>2014</td>\n      <td>-1.000000e+00</td>\n      <td>-1.836970e-16</td>\n      <td>38.19</td>\n    </tr>\n    <tr>\n      <th>823</th>\n      <td>2014-02-25</td>\n      <td>10.042841</td>\n      <td>5.0</td>\n      <td>2.0</td>\n      <td>60.0</td>\n      <td>11.8</td>\n      <td>9.4</td>\n      <td>8.1</td>\n      <td>2.6</td>\n      <td>100050.0</td>\n      <td>...</td>\n      <td>0.781831</td>\n      <td>0.623490</td>\n      <td>0.866025</td>\n      <td>0.500000</td>\n      <td>0.814478</td>\n      <td>0.580194</td>\n      <td>2014</td>\n      <td>-1.000000e+00</td>\n      <td>-1.836970e-16</td>\n      <td>42.81</td>\n    </tr>\n    <tr>\n      <th>824</th>\n      <td>2014-02-26</td>\n      <td>9.992153</td>\n      <td>1.0</td>\n      <td>7.7</td>\n      <td>111.0</td>\n      <td>12.0</td>\n      <td>7.4</td>\n      <td>2.9</td>\n      <td>2.8</td>\n      <td>101270.0</td>\n      <td>...</td>\n      <td>0.974928</td>\n      <td>-0.222521</td>\n      <td>0.866025</td>\n      <td>0.500000</td>\n      <td>0.824338</td>\n      <td>0.566097</td>\n      <td>2014</td>\n      <td>-1.000000e+00</td>\n      <td>-1.836970e-16</td>\n      <td>41.60</td>\n    </tr>\n    <tr>\n      <th>825</th>\n      <td>2014-02-27</td>\n      <td>10.045084</td>\n      <td>4.0</td>\n      <td>4.9</td>\n      <td>90.0</td>\n      <td>8.4</td>\n      <td>8.9</td>\n      <td>5.7</td>\n      <td>4.8</td>\n      <td>100700.0</td>\n      <td>...</td>\n      <td>0.433884</td>\n      <td>-0.900969</td>\n      <td>0.866025</td>\n      <td>0.500000</td>\n      <td>0.833954</td>\n      <td>0.551833</td>\n      <td>2014</td>\n      <td>-1.000000e+00</td>\n      <td>-1.836970e-16</td>\n      <td>47.71</td>\n    </tr>\n    <tr>\n      <th>826</th>\n      <td>2014-02-28</td>\n      <td>0.394141</td>\n      <td>7.0</td>\n      <td>1.0</td>\n      <td>50.0</td>\n      <td>10.1</td>\n      <td>5.1</td>\n      <td>1.8</td>\n      <td>3.4</td>\n      <td>99890.0</td>\n      <td>...</td>\n      <td>-0.433884</td>\n      <td>-0.900969</td>\n      <td>0.866025</td>\n      <td>0.500000</td>\n      <td>0.843324</td>\n      <td>0.537406</td>\n      <td>2014</td>\n      <td>-1.000000e+00</td>\n      <td>-1.836970e-16</td>\n      <td>45.77</td>\n    </tr>\n  </tbody>\n</table>\n<p>827 rows × 24 columns</p>\n</div>"
     },
     "execution_count": 1152,
     "metadata": {},
     "output_type": "execute_result"
    }
   ],
   "source": [
    "CleanedData_df = CleanedData_df.dropna()\n",
    "CleanedData_df = CleanedData_df.reset_index(drop=True)\n",
    "CleanedData_df"
   ],
   "metadata": {
    "collapsed": false,
    "ExecuteTime": {
     "end_time": "2023-12-06T06:16:27.442349Z",
     "start_time": "2023-12-06T06:16:26.955831400Z"
    }
   }
  },
  {
   "cell_type": "markdown",
   "source": [
    "Fix days elapsed"
   ],
   "metadata": {
    "collapsed": false
   }
  },
  {
   "cell_type": "code",
   "execution_count": 1153,
   "outputs": [],
   "source": [
    "# Elapsed days\n",
    "MIN_DATE = CleanedData_df['Date'].min()\n",
    "CleanedData_df['days_elapsed'] = CleanedData_df.apply(lambda x: (x[\"Date\"] - MIN_DATE).days, axis=1)"
   ],
   "metadata": {
    "collapsed": false,
    "ExecuteTime": {
     "end_time": "2023-12-06T06:16:27.442349Z",
     "start_time": "2023-12-06T06:16:26.979303900Z"
    }
   }
  },
  {
   "cell_type": "code",
   "execution_count": 1154,
   "outputs": [
    {
     "data": {
      "text/plain": "(array([15340., 15431., 15522., 15614., 15706., 15796., 15887., 15979.,\n        16071., 16161.]),\n [Text(15340.0, 0, '2012-01'),\n  Text(15431.0, 0, '2012-04'),\n  Text(15522.0, 0, '2012-07'),\n  Text(15614.0, 0, '2012-10'),\n  Text(15706.0, 0, '2013-01'),\n  Text(15796.0, 0, '2013-04'),\n  Text(15887.0, 0, '2013-07'),\n  Text(15979.0, 0, '2013-10'),\n  Text(16071.0, 0, '2014-01'),\n  Text(16161.0, 0, '2014-04')])"
     },
     "execution_count": 1154,
     "metadata": {},
     "output_type": "execute_result"
    },
    {
     "data": {
      "text/plain": "<Figure size 640x480 with 1 Axes>",
      "image/png": "[encoded data removed]"
     },
     "metadata": {},
     "output_type": "display_data"
    }
   ],
   "source": [
    "sns.lineplot(y = CleanedData_df['avgKWH'],x=CleanedData_df['Date'])\n",
    "plt.xticks(rotation=90)"
   ],
   "metadata": {
    "collapsed": false,
    "ExecuteTime": {
     "end_time": "2023-12-06T06:16:27.727017100Z",
     "start_time": "2023-12-06T06:16:26.990606Z"
    }
   }
  },
  {
   "cell_type": "markdown",
   "source": [],
   "metadata": {
    "collapsed": false
   }
  },
  {
   "cell_type": "code",
   "execution_count": 1155,
   "outputs": [],
   "source": [
    "# CleanedData_df = CleanedData_df.sort_values(\"Date\")\n",
    "# CleanedData_df = CleanedData_df.reset_index(drop=True)\n",
    "# CleanedData_df"
   ],
   "metadata": {
    "collapsed": false,
    "ExecuteTime": {
     "end_time": "2023-12-06T06:16:27.728018300Z",
     "start_time": "2023-12-06T06:16:27.361456600Z"
    }
   }
  },
  {
   "cell_type": "markdown",
   "source": [
    "There are no nulls and all days are present"
   ],
   "metadata": {
    "collapsed": false
   }
  },
  {
   "cell_type": "code",
   "execution_count": 1156,
   "outputs": [
    {
     "data": {
      "text/plain": "                      Date      avgKWH  cloud_cover    sunshine  \\\ncount                  827  827.000000   827.000000  827.000000   \nmean   2013-01-11 00:00:00   10.028726     4.713422    3.858404   \nmin    2011-11-25 00:00:00    0.394141     0.000000    0.000000   \n25%    2012-06-18 12:00:00    8.361517     3.000000    0.300000   \n50%    2013-01-11 00:00:00   10.052385     5.000000    2.900000   \n75%    2013-08-05 12:00:00   11.320382     7.000000    6.300000   \nmax    2014-02-28 00:00:00   15.514456     8.000000   14.500000   \nstd                    NaN    1.780779     2.350385    3.807653   \n\n       global_radiation    max_temp   mean_temp    min_temp  precipitation  \\\ncount        827.000000  827.000000  827.000000  827.000000     827.000000   \nmean         105.229746   14.525393   10.780895    6.987545       1.915719   \nmin           12.000000   -0.200000   -2.600000   -7.600000       0.000000   \n25%           35.000000   10.000000    6.700000    2.950000       0.000000   \n50%           78.000000   13.300000    9.900000    6.700000       0.200000   \n75%          163.500000   19.150000   15.200000   11.300000       2.200000   \nmax          333.000000   34.100000   25.400000   20.700000      29.800000   \nstd           84.524624    6.596694    5.730702    5.272426       3.764984   \n\n            pressure  ...  weekday sin  weekday cos     month sin  \\\ncount     827.000000  ...   827.000000   827.000000  8.270000e+02   \nmean   101402.297461  ...    -0.000525    -0.001089  4.073341e-02   \nmin     97900.000000  ...    -0.974928    -0.900969 -1.000000e+00   \n25%    100740.000000  ...    -0.781831    -0.900969 -5.000000e-01   \n50%    101440.000000  ...     0.000000    -0.222521  1.224647e-16   \n75%    102165.000000  ...     0.781831     0.623490  6.830127e-01   \nmax    104120.000000  ...     0.974928     1.000000  1.000000e+00   \nstd      1117.869837  ...     0.707268     0.707801  6.898853e-01   \n\n          month cos  Time of Year sin  Time of Year cos         year  \\\ncount  8.270000e+02        827.000000        827.000000   827.000000   \nmean   9.166976e-02          0.018767          0.102044  2012.539299   \nmin   -1.000000e+00         -0.999998         -1.000000  2011.000000   \n25%   -5.000000e-01         -0.629062         -0.627499  2012.000000   \n50%    6.123234e-17          0.035237          0.203002  2013.000000   \n75%    8.660254e-01          0.679793          0.828990  2013.000000   \nmax    1.000000e+00          0.999990          0.999995  2014.000000   \nstd    7.177703e-01          0.683738          0.723142     0.693687   \n\n         season sin    season cos  (-1)volume weighted price  \ncount  8.270000e+02  8.270000e+02                 827.000000  \nmean  -1.051995e-01 -4.836759e-03                  48.704256  \nmin   -1.000000e+00 -1.000000e+00                  31.900000  \n25%   -1.000000e+00 -1.836970e-16                  43.900000  \n50%    0.000000e+00 -1.836970e-16                  47.710000  \n75%    1.224647e-16  6.123234e-17                  51.980000  \nmax    1.000000e+00  1.000000e+00                  83.110000  \nstd    7.346885e-01  6.710736e-01                   6.975088  \n\n[8 rows x 24 columns]",
      "text/html": "<div>\n<style scoped>\n    .dataframe tbody tr th:only-of-type {\n        vertical-align: middle;\n    }\n\n    .dataframe tbody tr th {\n        vertical-align: top;\n    }\n\n    .dataframe thead th {\n        text-align: right;\n    }\n</style>\n<table border=\"1\" class=\"dataframe\">\n  <thead>\n    <tr style=\"text-align: right;\">\n      <th></th>\n      <th>Date</th>\n      <th>avgKWH</th>\n      <th>cloud_cover</th>\n      <th>sunshine</th>\n      <th>global_radiation</th>\n      <th>max_temp</th>\n      <th>mean_temp</th>\n      <th>min_temp</th>\n      <th>precipitation</th>\n      <th>pressure</th>\n      <th>...</th>\n      <th>weekday sin</th>\n      <th>weekday cos</th>\n      <th>month sin</th>\n      <th>month cos</th>\n      <th>Time of Year sin</th>\n      <th>Time of Year cos</th>\n      <th>year</th>\n      <th>season sin</th>\n      <th>season cos</th>\n      <th>(-1)volume weighted price</th>\n    </tr>\n  </thead>\n  <tbody>\n    <tr>\n      <th>count</th>\n      <td>827</td>\n      <td>827.000000</td>\n      <td>827.000000</td>\n      <td>827.000000</td>\n      <td>827.000000</td>\n      <td>827.000000</td>\n      <td>827.000000</td>\n      <td>827.000000</td>\n      <td>827.000000</td>\n      <td>827.000000</td>\n      <td>...</td>\n      <td>827.000000</td>\n      <td>827.000000</td>\n      <td>8.270000e+02</td>\n      <td>8.270000e+02</td>\n      <td>827.000000</td>\n      <td>827.000000</td>\n      <td>827.000000</td>\n      <td>8.270000e+02</td>\n      <td>8.270000e+02</td>\n      <td>827.000000</td>\n    </tr>\n    <tr>\n      <th>mean</th>\n      <td>2013-01-11 00:00:00</td>\n      <td>10.028726</td>\n      <td>4.713422</td>\n      <td>3.858404</td>\n      <td>105.229746</td>\n      <td>14.525393</td>\n      <td>10.780895</td>\n      <td>6.987545</td>\n      <td>1.915719</td>\n      <td>101402.297461</td>\n      <td>...</td>\n      <td>-0.000525</td>\n      <td>-0.001089</td>\n      <td>4.073341e-02</td>\n      <td>9.166976e-02</td>\n      <td>0.018767</td>\n      <td>0.102044</td>\n      <td>2012.539299</td>\n      <td>-1.051995e-01</td>\n      <td>-4.836759e-03</td>\n      <td>48.704256</td>\n    </tr>\n    <tr>\n      <th>min</th>\n      <td>2011-11-25 00:00:00</td>\n      <td>0.394141</td>\n      <td>0.000000</td>\n      <td>0.000000</td>\n      <td>12.000000</td>\n      <td>-0.200000</td>\n      <td>-2.600000</td>\n      <td>-7.600000</td>\n      <td>0.000000</td>\n      <td>97900.000000</td>\n      <td>...</td>\n      <td>-0.974928</td>\n      <td>-0.900969</td>\n      <td>-1.000000e+00</td>\n      <td>-1.000000e+00</td>\n      <td>-0.999998</td>\n      <td>-1.000000</td>\n      <td>2011.000000</td>\n      <td>-1.000000e+00</td>\n      <td>-1.000000e+00</td>\n      <td>31.900000</td>\n    </tr>\n    <tr>\n      <th>25%</th>\n      <td>2012-06-18 12:00:00</td>\n      <td>8.361517</td>\n      <td>3.000000</td>\n      <td>0.300000</td>\n      <td>35.000000</td>\n      <td>10.000000</td>\n      <td>6.700000</td>\n      <td>2.950000</td>\n      <td>0.000000</td>\n      <td>100740.000000</td>\n      <td>...</td>\n      <td>-0.781831</td>\n      <td>-0.900969</td>\n      <td>-5.000000e-01</td>\n      <td>-5.000000e-01</td>\n      <td>-0.629062</td>\n      <td>-0.627499</td>\n      <td>2012.000000</td>\n      <td>-1.000000e+00</td>\n      <td>-1.836970e-16</td>\n      <td>43.900000</td>\n    </tr>\n    <tr>\n      <th>50%</th>\n      <td>2013-01-11 00:00:00</td>\n      <td>10.052385</td>\n      <td>5.000000</td>\n      <td>2.900000</td>\n      <td>78.000000</td>\n      <td>13.300000</td>\n      <td>9.900000</td>\n      <td>6.700000</td>\n      <td>0.200000</td>\n      <td>101440.000000</td>\n      <td>...</td>\n      <td>0.000000</td>\n      <td>-0.222521</td>\n      <td>1.224647e-16</td>\n      <td>6.123234e-17</td>\n      <td>0.035237</td>\n      <td>0.203002</td>\n      <td>2013.000000</td>\n      <td>0.000000e+00</td>\n      <td>-1.836970e-16</td>\n      <td>47.710000</td>\n    </tr>\n    <tr>\n      <th>75%</th>\n      <td>2013-08-05 12:00:00</td>\n      <td>11.320382</td>\n      <td>7.000000</td>\n      <td>6.300000</td>\n      <td>163.500000</td>\n      <td>19.150000</td>\n      <td>15.200000</td>\n      <td>11.300000</td>\n      <td>2.200000</td>\n      <td>102165.000000</td>\n      <td>...</td>\n      <td>0.781831</td>\n      <td>0.623490</td>\n      <td>6.830127e-01</td>\n      <td>8.660254e-01</td>\n      <td>0.679793</td>\n      <td>0.828990</td>\n      <td>2013.000000</td>\n      <td>1.224647e-16</td>\n      <td>6.123234e-17</td>\n      <td>51.980000</td>\n    </tr>\n    <tr>\n      <th>max</th>\n      <td>2014-02-28 00:00:00</td>\n      <td>15.514456</td>\n      <td>8.000000</td>\n      <td>14.500000</td>\n      <td>333.000000</td>\n      <td>34.100000</td>\n      <td>25.400000</td>\n      <td>20.700000</td>\n      <td>29.800000</td>\n      <td>104120.000000</td>\n      <td>...</td>\n      <td>0.974928</td>\n      <td>1.000000</td>\n      <td>1.000000e+00</td>\n      <td>1.000000e+00</td>\n      <td>0.999990</td>\n      <td>0.999995</td>\n      <td>2014.000000</td>\n      <td>1.000000e+00</td>\n      <td>1.000000e+00</td>\n      <td>83.110000</td>\n    </tr>\n    <tr>\n      <th>std</th>\n      <td>NaN</td>\n      <td>1.780779</td>\n      <td>2.350385</td>\n      <td>3.807653</td>\n      <td>84.524624</td>\n      <td>6.596694</td>\n      <td>5.730702</td>\n      <td>5.272426</td>\n      <td>3.764984</td>\n      <td>1117.869837</td>\n      <td>...</td>\n      <td>0.707268</td>\n      <td>0.707801</td>\n      <td>6.898853e-01</td>\n      <td>7.177703e-01</td>\n      <td>0.683738</td>\n      <td>0.723142</td>\n      <td>0.693687</td>\n      <td>7.346885e-01</td>\n      <td>6.710736e-01</td>\n      <td>6.975088</td>\n    </tr>\n  </tbody>\n</table>\n<p>8 rows × 24 columns</p>\n</div>"
     },
     "execution_count": 1156,
     "metadata": {},
     "output_type": "execute_result"
    }
   ],
   "source": [
    "CleanedData_df.describe()"
   ],
   "metadata": {
    "collapsed": false,
    "ExecuteTime": {
     "end_time": "2023-12-06T06:16:27.769055600Z",
     "start_time": "2023-12-06T06:16:27.361456600Z"
    }
   }
  },
  {
   "cell_type": "code",
   "execution_count": 1157,
   "outputs": [
    {
     "name": "stdout",
     "output_type": "stream",
     "text": [
      "<class 'pandas.core.frame.DataFrame'>\n",
      "RangeIndex: 827 entries, 0 to 826\n",
      "Data columns (total 24 columns):\n",
      " #   Column                     Non-Null Count  Dtype         \n",
      "---  ------                     --------------  -----         \n",
      " 0   Date                       827 non-null    datetime64[ns]\n",
      " 1   avgKWH                     827 non-null    float64       \n",
      " 2   cloud_cover                827 non-null    float64       \n",
      " 3   sunshine                   827 non-null    float64       \n",
      " 4   global_radiation           827 non-null    float64       \n",
      " 5   max_temp                   827 non-null    float64       \n",
      " 6   mean_temp                  827 non-null    float64       \n",
      " 7   min_temp                   827 non-null    float64       \n",
      " 8   precipitation              827 non-null    float64       \n",
      " 9   pressure                   827 non-null    float64       \n",
      " 10  snow_depth                 827 non-null    float64       \n",
      " 11  days_elapsed               827 non-null    int64         \n",
      " 12  (-1)avgKWH                 827 non-null    float64       \n",
      " 13  SMA3_avgKWH                827 non-null    float64       \n",
      " 14  weekday sin                827 non-null    float64       \n",
      " 15  weekday cos                827 non-null    float64       \n",
      " 16  month sin                  827 non-null    float64       \n",
      " 17  month cos                  827 non-null    float64       \n",
      " 18  Time of Year sin           827 non-null    float64       \n",
      " 19  Time of Year cos           827 non-null    float64       \n",
      " 20  year                       827 non-null    int64         \n",
      " 21  season sin                 827 non-null    float64       \n",
      " 22  season cos                 827 non-null    float64       \n",
      " 23  (-1)volume weighted price  827 non-null    float64       \n",
      "dtypes: datetime64[ns](1), float64(21), int64(2)\n",
      "memory usage: 155.2 KB\n"
     ]
    }
   ],
   "source": [
    "CleanedData_df.info()"
   ],
   "metadata": {
    "collapsed": false,
    "ExecuteTime": {
     "end_time": "2023-12-06T06:16:27.769055600Z",
     "start_time": "2023-12-06T06:16:27.420328300Z"
    }
   }
  },
  {
   "cell_type": "markdown",
   "source": [
    "# Save Final Data\n",
    "Save the final cleaned dataset as a feather file to the clean data folder for use with other notebooks"
   ],
   "metadata": {
    "collapsed": false
   }
  },
  {
   "cell_type": "code",
   "execution_count": 1158,
   "outputs": [],
   "source": [
    "CleanedData_df.to_feather(\"../data/clean/CleanedData.feather\")"
   ],
   "metadata": {
    "collapsed": false,
    "ExecuteTime": {
     "end_time": "2023-12-06T06:16:27.769055600Z",
     "start_time": "2023-12-06T06:16:27.421329900Z"
    }
   }
  },
  {
   "cell_type": "markdown",
   "source": [
    "# Ensure Save was sucessful"
   ],
   "metadata": {
    "collapsed": false
   }
  },
  {
   "cell_type": "code",
   "execution_count": 1159,
   "outputs": [
    {
     "data": {
      "text/plain": "          Date     avgKWH  cloud_cover  sunshine  global_radiation  max_temp  \\\n0   2011-11-25   9.499781          3.0       5.0              52.0      14.0   \n1   2011-11-26  10.267707          4.0       0.7              24.0      13.9   \n2   2011-11-27  10.850805          3.0       5.9              55.0      13.2   \n3   2011-11-28   9.103382          5.0       0.0              15.0      13.9   \n4   2011-11-29   9.274873          6.0       0.0              15.0      12.8   \n..         ...        ...          ...       ...               ...       ...   \n822 2014-02-24  10.092758          4.0       4.4              82.0      10.7   \n823 2014-02-25  10.042841          5.0       2.0              60.0      11.8   \n824 2014-02-26   9.992153          1.0       7.7             111.0      12.0   \n825 2014-02-27  10.045084          4.0       4.9              90.0       8.4   \n826 2014-02-28   0.394141          7.0       1.0              50.0      10.1   \n\n     mean_temp  min_temp  precipitation  pressure  ...  weekday sin  \\\n0         11.0       9.5            0.0  102450.0  ...    -0.433884   \n1         10.2       6.3            0.0  102580.0  ...    -0.974928   \n2         11.8       9.7            0.0  102130.0  ...    -0.781831   \n3          6.7       0.2            0.0  102270.0  ...     0.000000   \n4          8.6       3.3            0.4  100960.0  ...     0.781831   \n..         ...       ...            ...       ...  ...          ...   \n822       10.9       6.8            3.2  100500.0  ...     0.000000   \n823        9.4       8.1            2.6  100050.0  ...     0.781831   \n824        7.4       2.9            2.8  101270.0  ...     0.974928   \n825        8.9       5.7            4.8  100700.0  ...     0.433884   \n826        5.1       1.8            3.4   99890.0  ...    -0.433884   \n\n     weekday cos  month sin  month cos  Time of Year sin  Time of Year cos  \\\n0      -0.900969  -0.500000   0.866025         -0.596943          0.802284   \n1      -0.222521  -0.500000   0.866025         -0.583054          0.812434   \n2       0.623490  -0.500000   0.866025         -0.568992          0.822343   \n3       1.000000  -0.500000   0.866025         -0.554762          0.832009   \n4       0.623490  -0.500000   0.866025         -0.540368          0.841429   \n..           ...        ...        ...               ...               ...   \n822     1.000000   0.866025   0.500000          0.804377          0.594119   \n823     0.623490   0.866025   0.500000          0.814478          0.580194   \n824    -0.222521   0.866025   0.500000          0.824338          0.566097   \n825    -0.900969   0.866025   0.500000          0.833954          0.551833   \n826    -0.900969   0.866025   0.500000          0.843324          0.537406   \n\n     year    season sin    season cos  (-1)volume weighted price  \n0    2011  1.224647e-16 -1.000000e+00                      44.97  \n1    2011  1.224647e-16 -1.000000e+00                      42.66  \n2    2011  1.224647e-16 -1.000000e+00                      41.20  \n3    2011  1.224647e-16 -1.000000e+00                      42.83  \n4    2011  1.224647e-16 -1.000000e+00                      46.88  \n..    ...           ...           ...                        ...  \n822  2014 -1.000000e+00 -1.836970e-16                      38.19  \n823  2014 -1.000000e+00 -1.836970e-16                      42.81  \n824  2014 -1.000000e+00 -1.836970e-16                      41.60  \n825  2014 -1.000000e+00 -1.836970e-16                      47.71  \n826  2014 -1.000000e+00 -1.836970e-16                      45.77  \n\n[827 rows x 24 columns]",
      "text/html": "<div>\n<style scoped>\n    .dataframe tbody tr th:only-of-type {\n        vertical-align: middle;\n    }\n\n    .dataframe tbody tr th {\n        vertical-align: top;\n    }\n\n    .dataframe thead th {\n        text-align: right;\n    }\n</style>\n<table border=\"1\" class=\"dataframe\">\n  <thead>\n    <tr style=\"text-align: right;\">\n      <th></th>\n      <th>Date</th>\n      <th>avgKWH</th>\n      <th>cloud_cover</th>\n      <th>sunshine</th>\n      <th>global_radiation</th>\n      <th>max_temp</th>\n      <th>mean_temp</th>\n      <th>min_temp</th>\n      <th>precipitation</th>\n      <th>pressure</th>\n      <th>...</th>\n      <th>weekday sin</th>\n      <th>weekday cos</th>\n      <th>month sin</th>\n      <th>month cos</th>\n      <th>Time of Year sin</th>\n      <th>Time of Year cos</th>\n      <th>year</th>\n      <th>season sin</th>\n      <th>season cos</th>\n      <th>(-1)volume weighted price</th>\n    </tr>\n  </thead>\n  <tbody>\n    <tr>\n      <th>0</th>\n      <td>2011-11-25</td>\n      <td>9.499781</td>\n      <td>3.0</td>\n      <td>5.0</td>\n      <td>52.0</td>\n      <td>14.0</td>\n      <td>11.0</td>\n      <td>9.5</td>\n      <td>0.0</td>\n      <td>102450.0</td>\n      <td>...</td>\n      <td>-0.433884</td>\n      <td>-0.900969</td>\n      <td>-0.500000</td>\n      <td>0.866025</td>\n      <td>-0.596943</td>\n      <td>0.802284</td>\n      <td>2011</td>\n      <td>1.224647e-16</td>\n      <td>-1.000000e+00</td>\n      <td>44.97</td>\n    </tr>\n    <tr>\n      <th>1</th>\n      <td>2011-11-26</td>\n      <td>10.267707</td>\n      <td>4.0</td>\n      <td>0.7</td>\n      <td>24.0</td>\n      <td>13.9</td>\n      <td>10.2</td>\n      <td>6.3</td>\n      <td>0.0</td>\n      <td>102580.0</td>\n      <td>...</td>\n      <td>-0.974928</td>\n      <td>-0.222521</td>\n      <td>-0.500000</td>\n      <td>0.866025</td>\n      <td>-0.583054</td>\n      <td>0.812434</td>\n      <td>2011</td>\n      <td>1.224647e-16</td>\n      <td>-1.000000e+00</td>\n      <td>42.66</td>\n    </tr>\n    <tr>\n      <th>2</th>\n      <td>2011-11-27</td>\n      <td>10.850805</td>\n      <td>3.0</td>\n      <td>5.9</td>\n      <td>55.0</td>\n      <td>13.2</td>\n      <td>11.8</td>\n      <td>9.7</td>\n      <td>0.0</td>\n      <td>102130.0</td>\n      <td>...</td>\n      <td>-0.781831</td>\n      <td>0.623490</td>\n      <td>-0.500000</td>\n      <td>0.866025</td>\n      <td>-0.568992</td>\n      <td>0.822343</td>\n      <td>2011</td>\n      <td>1.224647e-16</td>\n      <td>-1.000000e+00</td>\n      <td>41.20</td>\n    </tr>\n    <tr>\n      <th>3</th>\n      <td>2011-11-28</td>\n      <td>9.103382</td>\n      <td>5.0</td>\n      <td>0.0</td>\n      <td>15.0</td>\n      <td>13.9</td>\n      <td>6.7</td>\n      <td>0.2</td>\n      <td>0.0</td>\n      <td>102270.0</td>\n      <td>...</td>\n      <td>0.000000</td>\n      <td>1.000000</td>\n      <td>-0.500000</td>\n      <td>0.866025</td>\n      <td>-0.554762</td>\n      <td>0.832009</td>\n      <td>2011</td>\n      <td>1.224647e-16</td>\n      <td>-1.000000e+00</td>\n      <td>42.83</td>\n    </tr>\n    <tr>\n      <th>4</th>\n      <td>2011-11-29</td>\n      <td>9.274873</td>\n      <td>6.0</td>\n      <td>0.0</td>\n      <td>15.0</td>\n      <td>12.8</td>\n      <td>8.6</td>\n      <td>3.3</td>\n      <td>0.4</td>\n      <td>100960.0</td>\n      <td>...</td>\n      <td>0.781831</td>\n      <td>0.623490</td>\n      <td>-0.500000</td>\n      <td>0.866025</td>\n      <td>-0.540368</td>\n      <td>0.841429</td>\n      <td>2011</td>\n      <td>1.224647e-16</td>\n      <td>-1.000000e+00</td>\n      <td>46.88</td>\n    </tr>\n    <tr>\n      <th>...</th>\n      <td>...</td>\n      <td>...</td>\n      <td>...</td>\n      <td>...</td>\n      <td>...</td>\n      <td>...</td>\n      <td>...</td>\n      <td>...</td>\n      <td>...</td>\n      <td>...</td>\n      <td>...</td>\n      <td>...</td>\n      <td>...</td>\n      <td>...</td>\n      <td>...</td>\n      <td>...</td>\n      <td>...</td>\n      <td>...</td>\n      <td>...</td>\n      <td>...</td>\n      <td>...</td>\n    </tr>\n    <tr>\n      <th>822</th>\n      <td>2014-02-24</td>\n      <td>10.092758</td>\n      <td>4.0</td>\n      <td>4.4</td>\n      <td>82.0</td>\n      <td>10.7</td>\n      <td>10.9</td>\n      <td>6.8</td>\n      <td>3.2</td>\n      <td>100500.0</td>\n      <td>...</td>\n      <td>0.000000</td>\n      <td>1.000000</td>\n      <td>0.866025</td>\n      <td>0.500000</td>\n      <td>0.804377</td>\n      <td>0.594119</td>\n      <td>2014</td>\n      <td>-1.000000e+00</td>\n      <td>-1.836970e-16</td>\n      <td>38.19</td>\n    </tr>\n    <tr>\n      <th>823</th>\n      <td>2014-02-25</td>\n      <td>10.042841</td>\n      <td>5.0</td>\n      <td>2.0</td>\n      <td>60.0</td>\n      <td>11.8</td>\n      <td>9.4</td>\n      <td>8.1</td>\n      <td>2.6</td>\n      <td>100050.0</td>\n      <td>...</td>\n      <td>0.781831</td>\n      <td>0.623490</td>\n      <td>0.866025</td>\n      <td>0.500000</td>\n      <td>0.814478</td>\n      <td>0.580194</td>\n      <td>2014</td>\n      <td>-1.000000e+00</td>\n      <td>-1.836970e-16</td>\n      <td>42.81</td>\n    </tr>\n    <tr>\n      <th>824</th>\n      <td>2014-02-26</td>\n      <td>9.992153</td>\n      <td>1.0</td>\n      <td>7.7</td>\n      <td>111.0</td>\n      <td>12.0</td>\n      <td>7.4</td>\n      <td>2.9</td>\n      <td>2.8</td>\n      <td>101270.0</td>\n      <td>...</td>\n      <td>0.974928</td>\n      <td>-0.222521</td>\n      <td>0.866025</td>\n      <td>0.500000</td>\n      <td>0.824338</td>\n      <td>0.566097</td>\n      <td>2014</td>\n      <td>-1.000000e+00</td>\n      <td>-1.836970e-16</td>\n      <td>41.60</td>\n    </tr>\n    <tr>\n      <th>825</th>\n      <td>2014-02-27</td>\n      <td>10.045084</td>\n      <td>4.0</td>\n      <td>4.9</td>\n      <td>90.0</td>\n      <td>8.4</td>\n      <td>8.9</td>\n      <td>5.7</td>\n      <td>4.8</td>\n      <td>100700.0</td>\n      <td>...</td>\n      <td>0.433884</td>\n      <td>-0.900969</td>\n      <td>0.866025</td>\n      <td>0.500000</td>\n      <td>0.833954</td>\n      <td>0.551833</td>\n      <td>2014</td>\n      <td>-1.000000e+00</td>\n      <td>-1.836970e-16</td>\n      <td>47.71</td>\n    </tr>\n    <tr>\n      <th>826</th>\n      <td>2014-02-28</td>\n      <td>0.394141</td>\n      <td>7.0</td>\n      <td>1.0</td>\n      <td>50.0</td>\n      <td>10.1</td>\n      <td>5.1</td>\n      <td>1.8</td>\n      <td>3.4</td>\n      <td>99890.0</td>\n      <td>...</td>\n      <td>-0.433884</td>\n      <td>-0.900969</td>\n      <td>0.866025</td>\n      <td>0.500000</td>\n      <td>0.843324</td>\n      <td>0.537406</td>\n      <td>2014</td>\n      <td>-1.000000e+00</td>\n      <td>-1.836970e-16</td>\n      <td>45.77</td>\n    </tr>\n  </tbody>\n</table>\n<p>827 rows × 24 columns</p>\n</div>"
     },
     "execution_count": 1159,
     "metadata": {},
     "output_type": "execute_result"
    }
   ],
   "source": [
    "Load_df = pd.read_feather(\"../data/clean/CleanedData.feather\")\n",
    "Load_df"
   ],
   "metadata": {
    "collapsed": false,
    "ExecuteTime": {
     "end_time": "2023-12-06T06:16:27.796080200Z",
     "start_time": "2023-12-06T06:16:27.421329900Z"
    }
   }
  }
 ],
 "metadata": {
  "kernelspec": {
   "display_name": "Python 3 (ipykernel)",
   "language": "python",
   "name": "python3"
  },
  "language_info": {
   "codemirror_mode": {
    "name": "ipython",
    "version": 3
   },
   "file_extension": ".py",
   "mimetype": "text/x-python",
   "name": "python",
   "nbconvert_exporter": "python",
   "pygments_lexer": "ipython3",
   "version": "3.11.6"
  }
 },
 "nbformat": 4,
 "nbformat_minor": 5
}

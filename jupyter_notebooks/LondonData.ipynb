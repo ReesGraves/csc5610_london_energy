{
 "cells": [
  {
   "cell_type": "code",
   "execution_count": 685,
   "id": "1cd9a21a-8709-49b8-b062-cf8a60d3cda8",
   "metadata": {
    "ExecuteTime": {
     "end_time": "2023-12-05T21:53:00.788541200Z",
     "start_time": "2023-12-05T21:53:00.434625100Z"
    }
   },
   "outputs": [],
   "source": [
    "import pandas as pd\n",
    "import numpy as np\n",
    "import scipy.stats as stats\n",
    "import matplotlib.pyplot as plt\n",
    "import datetime as dt\n",
    "import time as time\n",
    "import seaborn as sns\n",
    "import os\n",
    "import warnings\n",
    "import statistics\n",
    "import pyarrow"
   ]
  },
  {
   "cell_type": "code",
   "execution_count": 686,
   "outputs": [],
   "source": [
    "# os.getcwd()"
   ],
   "metadata": {
    "collapsed": false,
    "ExecuteTime": {
     "end_time": "2023-12-05T21:53:00.804555500Z",
     "start_time": "2023-12-05T21:53:00.436629400Z"
    }
   }
  },
  {
   "cell_type": "markdown",
   "id": "f4bd2f30-f9ef-4716-bf10-b7b114747ba8",
   "metadata": {},
   "source": [
    "# Data Preperation\n",
    "\n",
    "(Put some nice description here later)\n",
    "\n",
    "## London Energy Usage Data Preperation\n",
    "\n",
    "The main dataset for this project is the London Energy Usage Dataset. With this data we will try to predict tomorrows energy usage."
   ]
  },
  {
   "cell_type": "code",
   "execution_count": 687,
   "id": "c8adcaab-46d3-4c62-953b-62be5333a4b0",
   "metadata": {
    "ExecuteTime": {
     "end_time": "2023-12-05T21:53:01.336356700Z",
     "start_time": "2023-12-05T21:53:00.445229200Z"
    }
   },
   "outputs": [
    {
     "name": "stdout",
     "output_type": "stream",
     "text": [
      "       LCLid        Date     KWH\n",
      "0  MAC000002  10/12/2012   7.098\n",
      "1  MAC000002  10/13/2012  11.087\n",
      "2  MAC000002  10/14/2012  13.223\n",
      "3  MAC000002  10/15/2012  10.257\n",
      "4  MAC000002  10/16/2012   9.769\n",
      "5  MAC000002  10/17/2012  10.885\n",
      "6  MAC000002  10/18/2012  10.751\n",
      "7  MAC000002  10/19/2012   8.431\n",
      "8  MAC000002  10/20/2012  17.578\n",
      "9  MAC000002  10/21/2012  24.490\n"
     ]
    },
    {
     "data": {
      "text/plain": "0          10/12/2012\n1          10/13/2012\n2          10/14/2012\n3          10/15/2012\n4          10/16/2012\n              ...    \n1048570     11/7/2012\n1048571     11/8/2012\n1048572     11/9/2012\n1048573    11/10/2012\n1048574    11/11/2012\nName: Date, Length: 1048575, dtype: object"
     },
     "execution_count": 687,
     "metadata": {},
     "output_type": "execute_result"
    }
   ],
   "source": [
    "LondonEnergy_df = pd.read_csv(\"../data/clean/LondonEnergy.xls\")\n",
    "print(LondonEnergy_df.head(10))\n",
    "LondonEnergy_df['Date'] = LondonEnergy_df['Date'].map(lambda s: str(s))\n",
    "LondonEnergy_df['Date']"
   ]
  },
  {
   "cell_type": "markdown",
   "id": "09011560-dba3-484f-bd09-8fbdfa2802eb",
   "metadata": {},
   "source": [
    "To prepare the energy usage data set for joining lets convert the data column to the datetime data type."
   ]
  },
  {
   "cell_type": "code",
   "execution_count": 688,
   "id": "b0923649-76d3-4d62-81e3-214ad650f238",
   "metadata": {
    "ExecuteTime": {
     "end_time": "2023-12-05T21:53:07.579033900Z",
     "start_time": "2023-12-05T21:53:00.904964800Z"
    }
   },
   "outputs": [
    {
     "name": "stdout",
     "output_type": "stream",
     "text": [
      "0          10/12/2012\n",
      "1          10/13/2012\n",
      "2          10/14/2012\n",
      "3          10/15/2012\n",
      "4          10/16/2012\n",
      "              ...    \n",
      "1048570     11/7/2012\n",
      "1048571     11/8/2012\n",
      "1048572     11/9/2012\n",
      "1048573    11/10/2012\n",
      "1048574    11/11/2012\n",
      "Name: Date, Length: 1048575, dtype: object\n"
     ]
    },
    {
     "data": {
      "text/plain": "0         2012-10-12\n1         2012-10-13\n2         2012-10-14\n3         2012-10-15\n4         2012-10-16\n             ...    \n1048570   2012-11-07\n1048571   2012-11-08\n1048572   2012-11-09\n1048573   2012-11-10\n1048574   2012-11-11\nName: Date, Length: 1048575, dtype: datetime64[ns]"
     },
     "execution_count": 688,
     "metadata": {},
     "output_type": "execute_result"
    }
   ],
   "source": [
    "format_str = \"%m/%d/%Y\"\n",
    "print(LondonEnergy_df['Date'])\n",
    "LondonEnergy_df['Date'] = LondonEnergy_df['Date'].map(lambda s: dt.datetime.strptime(str(s), format_str))\n",
    "LondonEnergy_df['Date']"
   ]
  },
  {
   "cell_type": "markdown",
   "id": "e25f9a8d-b3b7-490c-951c-211cdc1172b6",
   "metadata": {},
   "source": [
    "Now that we have the date data in the data time format the data set is ready to be joined with other complimentary datasets based on date.  \n",
    "Before we move on to the other data sets however lets check for corrupted or missing data in the energy usage data set.\n",
    "### Is The Data Uncorrupted?\n"
   ]
  },
  {
   "cell_type": "code",
   "execution_count": 689,
   "id": "38f9e5dd-30b1-4635-8402-6f20194ada6f",
   "metadata": {
    "ExecuteTime": {
     "end_time": "2023-12-05T21:53:07.581346700Z",
     "start_time": "2023-12-05T21:53:07.578033400Z"
    }
   },
   "outputs": [
    {
     "name": "stdout",
     "output_type": "stream",
     "text": [
      "Evaluate the energy usage data set here\n"
     ]
    }
   ],
   "source": [
    "print(\"Evaluate the energy usage data set here\")"
   ]
  },
  {
   "cell_type": "markdown",
   "id": "62ccd818-be23-4c7d-8819-e9e4e464e759",
   "metadata": {},
   "source": [
    "## London Weather Data Preperation\n",
    "\n",
    "The second data set we will be joining for our model is a data set detailing the weather in london."
   ]
  },
  {
   "cell_type": "code",
   "execution_count": 690,
   "id": "a6dcc7a0-4402-4e52-8be9-2a5bf84cbe30",
   "metadata": {
    "ExecuteTime": {
     "end_time": "2023-12-05T21:53:07.602850300Z",
     "start_time": "2023-12-05T21:53:07.583348500Z"
    }
   },
   "outputs": [
    {
     "name": "stdout",
     "output_type": "stream",
     "text": [
      "       date  cloud_cover  sunshine  global_radiation  max_temp  mean_temp  \\\n",
      "0  19790101          2.0       7.0              52.0       2.3       -4.1   \n",
      "1  19790102          6.0       1.7              27.0       1.6       -2.6   \n",
      "2  19790103          5.0       0.0              13.0       1.3       -2.8   \n",
      "3  19790104          8.0       0.0              13.0      -0.3       -2.6   \n",
      "4  19790105          6.0       2.0              29.0       5.6       -0.8   \n",
      "\n",
      "   min_temp  precipitation  pressure  snow_depth  \n",
      "0      -7.5            0.4  101900.0         9.0  \n",
      "1      -7.5            0.0  102530.0         8.0  \n",
      "2      -7.2            0.0  102050.0         4.0  \n",
      "3      -6.5            0.0  100840.0         2.0  \n",
      "4      -1.4            0.0  102250.0         1.0  \n",
      "           date  cloud_cover  sunshine  global_radiation  max_temp  mean_temp  \\\n",
      "15336  20201227          1.0       0.9              32.0       7.5        7.5   \n",
      "15337  20201228          7.0       3.7              38.0       3.6        1.1   \n",
      "15338  20201229          7.0       0.0              21.0       4.1        2.6   \n",
      "15339  20201230          6.0       0.4              22.0       5.6        2.7   \n",
      "15340  20201231          7.0       1.3              34.0       1.5       -0.8   \n",
      "\n",
      "       min_temp  precipitation  pressure  snow_depth  \n",
      "15336       7.6            2.0   98000.0         NaN  \n",
      "15337      -1.3            0.2   97370.0         NaN  \n",
      "15338       1.1            0.0   98830.0         NaN  \n",
      "15339      -0.1            0.0  100200.0         NaN  \n",
      "15340      -3.1            0.0  100500.0         NaN  \n"
     ]
    }
   ],
   "source": [
    "LondonWeather = pd.read_csv(\"../data/clean/LondonWeather.xls\")\n",
    "print(LondonWeather.head())\n",
    "print(LondonWeather.tail())"
   ]
  },
  {
   "cell_type": "markdown",
   "id": "96da1d91-eb1a-4c98-b909-a6d0365eae7a",
   "metadata": {},
   "source": [
    "The date in this data set appears to have been read in as an integer, to join this data set with the other two we will want to utilize the datetime data type."
   ]
  },
  {
   "cell_type": "code",
   "execution_count": 691,
   "id": "ddc64cef-667f-4f08-8acc-6e55ed7058c1",
   "metadata": {
    "ExecuteTime": {
     "end_time": "2023-12-05T21:53:07.704573500Z",
     "start_time": "2023-12-05T21:53:07.601849100Z"
    }
   },
   "outputs": [
    {
     "name": "stdout",
     "output_type": "stream",
     "text": [
      "0        19790101\n",
      "1        19790102\n",
      "2        19790103\n",
      "3        19790104\n",
      "4        19790105\n",
      "           ...   \n",
      "15336    20201227\n",
      "15337    20201228\n",
      "15338    20201229\n",
      "15339    20201230\n",
      "15340    20201231\n",
      "Name: date, Length: 15341, dtype: int64\n",
      "0       1979-01-01\n",
      "1       1979-01-02\n",
      "2       1979-01-03\n",
      "3       1979-01-04\n",
      "4       1979-01-05\n",
      "           ...    \n",
      "15336   2020-12-27\n",
      "15337   2020-12-28\n",
      "15338   2020-12-29\n",
      "15339   2020-12-30\n",
      "15340   2020-12-31\n",
      "Name: date, Length: 15341, dtype: datetime64[ns]\n"
     ]
    }
   ],
   "source": [
    "format_str = \"%Y%m%d\"\n",
    "print(LondonWeather['date'])\n",
    "LondonWeather['date'] = LondonWeather['date'].map(lambda s: dt.datetime.strptime(str(s), format_str))\n",
    "print(LondonWeather['date'])"
   ]
  },
  {
   "cell_type": "markdown",
   "id": "7e335f84-79d2-4e10-b3d9-43acffb4dfca",
   "metadata": {},
   "source": [
    "The london Weather data begins in 1979 and concludes in 2020. This timeframe is far beyond the scope of our project so lets limit our data to 2011-2014. Additionally, the date column label does not align to our original data set so lets change that as well."
   ]
  },
  {
   "cell_type": "code",
   "execution_count": 692,
   "id": "f16db16c-b6e3-496c-baab-fbad5d5198d7",
   "metadata": {
    "ExecuteTime": {
     "end_time": "2023-12-05T21:53:07.724268Z",
     "start_time": "2023-12-05T21:53:07.704573500Z"
    }
   },
   "outputs": [
    {
     "data": {
      "text/plain": "      index       Date  cloud_cover  sunshine  global_radiation  max_temp  \\\n0     11688 2011-01-01          8.0       0.0              13.0       4.0   \n1     11689 2011-01-02          8.0       0.1              15.0       2.9   \n2     11690 2011-01-03          7.0       0.1              15.0       6.0   \n3     11691 2011-01-04          7.0       0.0              13.0       7.1   \n4     11692 2011-01-05          6.0       2.3              31.0       5.1   \n...     ...        ...          ...       ...               ...       ...   \n1456  13144 2014-12-27          5.0       2.0              28.0       6.2   \n1457  13145 2014-12-28          0.0       6.0              47.0       5.8   \n1458  13146 2014-12-29          0.0       6.1              47.0       5.7   \n1459  13147 2014-12-30          1.0       3.3              35.0       8.5   \n1460  13148 2014-12-31          3.0       2.3              30.0      12.9   \n\n      mean_temp  min_temp  precipitation  pressure  snow_depth  \n0           5.9       4.6            0.6  102500.0         0.0  \n1           3.0       1.9            0.0  102830.0         0.0  \n2           1.3      -0.3            0.0  102460.0         0.0  \n3           2.9      -0.3            0.0  101360.0         NaN  \n4           4.2       1.3            1.0  100040.0         0.0  \n...         ...       ...            ...       ...         ...  \n1456        3.0       1.2            0.0  100730.0         0.0  \n1457        3.6       0.9            0.0  102950.0         0.0  \n1458        1.2      -3.5            0.2  104060.0         0.0  \n1459        0.8      -4.1            0.2  103940.0         0.0  \n1460        2.2      -4.1            0.2  103410.0         0.0  \n\n[1461 rows x 11 columns]",
      "text/html": "<div>\n<style scoped>\n    .dataframe tbody tr th:only-of-type {\n        vertical-align: middle;\n    }\n\n    .dataframe tbody tr th {\n        vertical-align: top;\n    }\n\n    .dataframe thead th {\n        text-align: right;\n    }\n</style>\n<table border=\"1\" class=\"dataframe\">\n  <thead>\n    <tr style=\"text-align: right;\">\n      <th></th>\n      <th>index</th>\n      <th>Date</th>\n      <th>cloud_cover</th>\n      <th>sunshine</th>\n      <th>global_radiation</th>\n      <th>max_temp</th>\n      <th>mean_temp</th>\n      <th>min_temp</th>\n      <th>precipitation</th>\n      <th>pressure</th>\n      <th>snow_depth</th>\n    </tr>\n  </thead>\n  <tbody>\n    <tr>\n      <th>0</th>\n      <td>11688</td>\n      <td>2011-01-01</td>\n      <td>8.0</td>\n      <td>0.0</td>\n      <td>13.0</td>\n      <td>4.0</td>\n      <td>5.9</td>\n      <td>4.6</td>\n      <td>0.6</td>\n      <td>102500.0</td>\n      <td>0.0</td>\n    </tr>\n    <tr>\n      <th>1</th>\n      <td>11689</td>\n      <td>2011-01-02</td>\n      <td>8.0</td>\n      <td>0.1</td>\n      <td>15.0</td>\n      <td>2.9</td>\n      <td>3.0</td>\n      <td>1.9</td>\n      <td>0.0</td>\n      <td>102830.0</td>\n      <td>0.0</td>\n    </tr>\n    <tr>\n      <th>2</th>\n      <td>11690</td>\n      <td>2011-01-03</td>\n      <td>7.0</td>\n      <td>0.1</td>\n      <td>15.0</td>\n      <td>6.0</td>\n      <td>1.3</td>\n      <td>-0.3</td>\n      <td>0.0</td>\n      <td>102460.0</td>\n      <td>0.0</td>\n    </tr>\n    <tr>\n      <th>3</th>\n      <td>11691</td>\n      <td>2011-01-04</td>\n      <td>7.0</td>\n      <td>0.0</td>\n      <td>13.0</td>\n      <td>7.1</td>\n      <td>2.9</td>\n      <td>-0.3</td>\n      <td>0.0</td>\n      <td>101360.0</td>\n      <td>NaN</td>\n    </tr>\n    <tr>\n      <th>4</th>\n      <td>11692</td>\n      <td>2011-01-05</td>\n      <td>6.0</td>\n      <td>2.3</td>\n      <td>31.0</td>\n      <td>5.1</td>\n      <td>4.2</td>\n      <td>1.3</td>\n      <td>1.0</td>\n      <td>100040.0</td>\n      <td>0.0</td>\n    </tr>\n    <tr>\n      <th>...</th>\n      <td>...</td>\n      <td>...</td>\n      <td>...</td>\n      <td>...</td>\n      <td>...</td>\n      <td>...</td>\n      <td>...</td>\n      <td>...</td>\n      <td>...</td>\n      <td>...</td>\n      <td>...</td>\n    </tr>\n    <tr>\n      <th>1456</th>\n      <td>13144</td>\n      <td>2014-12-27</td>\n      <td>5.0</td>\n      <td>2.0</td>\n      <td>28.0</td>\n      <td>6.2</td>\n      <td>3.0</td>\n      <td>1.2</td>\n      <td>0.0</td>\n      <td>100730.0</td>\n      <td>0.0</td>\n    </tr>\n    <tr>\n      <th>1457</th>\n      <td>13145</td>\n      <td>2014-12-28</td>\n      <td>0.0</td>\n      <td>6.0</td>\n      <td>47.0</td>\n      <td>5.8</td>\n      <td>3.6</td>\n      <td>0.9</td>\n      <td>0.0</td>\n      <td>102950.0</td>\n      <td>0.0</td>\n    </tr>\n    <tr>\n      <th>1458</th>\n      <td>13146</td>\n      <td>2014-12-29</td>\n      <td>0.0</td>\n      <td>6.1</td>\n      <td>47.0</td>\n      <td>5.7</td>\n      <td>1.2</td>\n      <td>-3.5</td>\n      <td>0.2</td>\n      <td>104060.0</td>\n      <td>0.0</td>\n    </tr>\n    <tr>\n      <th>1459</th>\n      <td>13147</td>\n      <td>2014-12-30</td>\n      <td>1.0</td>\n      <td>3.3</td>\n      <td>35.0</td>\n      <td>8.5</td>\n      <td>0.8</td>\n      <td>-4.1</td>\n      <td>0.2</td>\n      <td>103940.0</td>\n      <td>0.0</td>\n    </tr>\n    <tr>\n      <th>1460</th>\n      <td>13148</td>\n      <td>2014-12-31</td>\n      <td>3.0</td>\n      <td>2.3</td>\n      <td>30.0</td>\n      <td>12.9</td>\n      <td>2.2</td>\n      <td>-4.1</td>\n      <td>0.2</td>\n      <td>103410.0</td>\n      <td>0.0</td>\n    </tr>\n  </tbody>\n</table>\n<p>1461 rows × 11 columns</p>\n</div>"
     },
     "execution_count": 692,
     "metadata": {},
     "output_type": "execute_result"
    }
   ],
   "source": [
    "DesiredTime = (LondonWeather['date'].dt.year >= 2011) & \\\n",
    "              (LondonWeather['date'].dt.year <= 2014)\n",
    "LondonWeather_df = LondonWeather[DesiredTime]\n",
    "# Lets reindex so it looks nicer\n",
    "LondonWeather_df = LondonWeather_df.reset_index()\n",
    "# And lets fix the column name\n",
    "LondonWeather_df = LondonWeather_df.rename(columns = {'date':'Date'})\n",
    "LondonWeather_df"
   ]
  },
  {
   "cell_type": "markdown",
   "id": "c8973627-d47b-450d-bdd3-e1da829998e6",
   "metadata": {},
   "source": [
    "Now the London Weather data set is ready to be joined to the original Energy usage data set. \n",
    "\n",
    "### Are All Dates Present?\n",
    "\n",
    "Lets now ensure that all dates are present in this data set."
   ]
  },
  {
   "cell_type": "code",
   "execution_count": 693,
   "id": "b5407539-81b5-4d1d-98ff-0c232096b8fe",
   "metadata": {
    "ExecuteTime": {
     "end_time": "2023-12-05T21:53:07.732414300Z",
     "start_time": "2023-12-05T21:53:07.723267300Z"
    }
   },
   "outputs": [
    {
     "name": "stdout",
     "output_type": "stream",
     "text": [
      "DatetimeIndex([], dtype='datetime64[ns]', freq='D')\n"
     ]
    }
   ],
   "source": [
    "MissingDates = pd.date_range(start = '2011-01-01', end = '2014-12-31' ).difference(LondonWeather_df['Date'])\n",
    "print(MissingDates)"
   ]
  },
  {
   "cell_type": "markdown",
   "id": "3760eb7e-a678-47c6-887f-8d06c7614833",
   "metadata": {},
   "source": [
    "All days from 2011-2014 are present, and there are no additional dates.  \n",
    "### Is The Data Uncorrupted?"
   ]
  },
  {
   "cell_type": "code",
   "execution_count": 694,
   "id": "30684f3a-dbf2-444b-97ff-3defd890dfca",
   "metadata": {
    "ExecuteTime": {
     "end_time": "2023-12-05T21:53:07.781973500Z",
     "start_time": "2023-12-05T21:53:07.732414300Z"
    }
   },
   "outputs": [
    {
     "name": "stdout",
     "output_type": "stream",
     "text": [
      "The 'index' column contains 0 null values.\n",
      "The 'Date' column contains 0 null values.\n",
      "The 'cloud_cover' column contains 2 null values.\n",
      "The 'sunshine' column contains 0 null values.\n",
      "The 'global_radiation' column contains 0 null values.\n",
      "The 'max_temp' column contains 0 null values.\n",
      "The 'mean_temp' column contains 0 null values.\n",
      "The 'min_temp' column contains 0 null values.\n",
      "The 'precipitation' column contains 0 null values.\n",
      "The 'pressure' column contains 0 null values.\n",
      "The 'snow_depth' column contains 180 null values.\n"
     ]
    }
   ],
   "source": [
    "for col in LondonWeather_df:\n",
    "    NanCheck = LondonWeather_df[col].isnull().sum()\n",
    "    print(f'The \\'{col}\\' column contains {NanCheck} null values.')"
   ]
  },
  {
   "cell_type": "markdown",
   "id": "f6065628-fe50-4c81-b6ab-cfef58d5f397",
   "metadata": {},
   "source": [
    "Both cloud_cover and snow_depth contain null values. The cloud_cover column contains only 2 null values, but the snow_depth column contains 180. 180 nulls represent slightly less than a seventh of total observations.  \n",
    "Lets deal with the CloudNulls first."
   ]
  },
  {
   "cell_type": "code",
   "execution_count": 695,
   "id": "755eb31b-a683-48b8-85ee-a540fd4332b9",
   "metadata": {
    "ExecuteTime": {
     "end_time": "2023-12-05T21:53:07.782681800Z",
     "start_time": "2023-12-05T21:53:07.737215Z"
    }
   },
   "outputs": [
    {
     "data": {
      "text/plain": "     index       Date  cloud_cover  sunshine  global_radiation  max_temp  \\\n323  12011 2011-11-20          NaN       0.0              17.0      11.5   \n426  12114 2012-03-02          NaN       3.4              88.0      15.0   \n\n     mean_temp  min_temp  precipitation  pressure  snow_depth  \n323        5.3       2.2            0.2  101890.0         0.0  \n426        7.5       3.2            0.0  102560.0         0.0  ",
      "text/html": "<div>\n<style scoped>\n    .dataframe tbody tr th:only-of-type {\n        vertical-align: middle;\n    }\n\n    .dataframe tbody tr th {\n        vertical-align: top;\n    }\n\n    .dataframe thead th {\n        text-align: right;\n    }\n</style>\n<table border=\"1\" class=\"dataframe\">\n  <thead>\n    <tr style=\"text-align: right;\">\n      <th></th>\n      <th>index</th>\n      <th>Date</th>\n      <th>cloud_cover</th>\n      <th>sunshine</th>\n      <th>global_radiation</th>\n      <th>max_temp</th>\n      <th>mean_temp</th>\n      <th>min_temp</th>\n      <th>precipitation</th>\n      <th>pressure</th>\n      <th>snow_depth</th>\n    </tr>\n  </thead>\n  <tbody>\n    <tr>\n      <th>323</th>\n      <td>12011</td>\n      <td>2011-11-20</td>\n      <td>NaN</td>\n      <td>0.0</td>\n      <td>17.0</td>\n      <td>11.5</td>\n      <td>5.3</td>\n      <td>2.2</td>\n      <td>0.2</td>\n      <td>101890.0</td>\n      <td>0.0</td>\n    </tr>\n    <tr>\n      <th>426</th>\n      <td>12114</td>\n      <td>2012-03-02</td>\n      <td>NaN</td>\n      <td>3.4</td>\n      <td>88.0</td>\n      <td>15.0</td>\n      <td>7.5</td>\n      <td>3.2</td>\n      <td>0.0</td>\n      <td>102560.0</td>\n      <td>0.0</td>\n    </tr>\n  </tbody>\n</table>\n</div>"
     },
     "execution_count": 695,
     "metadata": {},
     "output_type": "execute_result"
    }
   ],
   "source": [
    "CloudNulls = (LondonWeather_df['cloud_cover'].isnull())\n",
    "LondonWeather_df[CloudNulls]"
   ]
  },
  {
   "cell_type": "markdown",
   "id": "183db9ed-def4-4e72-a177-b69b1ad7cef4",
   "metadata": {},
   "source": [
    "Considering how little data is null data I recommend one of the two following approaches:\n",
    "* Zero padding: Since theres so little data missing just placing zeros here is unlikely to meaningfully impact the model\n",
    "* Average the previous and following day: Lived experience tells me that on average cloud coverage usually comes and goes in trends, it would be abnormal to have overcast, clear skies, overcast in three successive days. Based on this observation the most likely value for the cloud coverage between two days is likely found between the prevalence of the surrounding days."
   ]
  },
  {
   "cell_type": "code",
   "execution_count": 696,
   "id": "81eab01c-f17e-4889-af5d-94cfc49436cc",
   "metadata": {
    "ExecuteTime": {
     "end_time": "2023-12-05T21:53:07.843569200Z",
     "start_time": "2023-12-05T21:53:07.748268300Z"
    }
   },
   "outputs": [
    {
     "name": "stdout",
     "output_type": "stream",
     "text": [
      "1.0 7.0\n",
      "5.0 5.0\n"
     ]
    }
   ],
   "source": [
    "CloudNulls = (LondonWeather_df['cloud_cover'].isnull())\n",
    "inds = LondonWeather_df[CloudNulls].index\n",
    "for index in inds:\n",
    "    before = LondonWeather_df['cloud_cover'].iloc[index-1]\n",
    "    after  = LondonWeather_df['cloud_cover'].iloc[index+1]\n",
    "    print(str(before)+' '+str(after))\n",
    "# Averaging approach\n",
    "    LondonWeather_df.loc[index,'cloud_cover'] = (float(before)+float(after))/2\n",
    "##Zero padding approach\n",
    "# LondonWeather_df['cloud_cover'] = LondonWeather_df[\"cloud_cover\"].fillna(0.0)\n",
    "\n"
   ]
  },
  {
   "cell_type": "markdown",
   "id": "8945f9bc-e4bd-43da-a7b7-783904e66bbb",
   "metadata": {},
   "source": [
    "Now lets confirm there is no more nulls."
   ]
  },
  {
   "cell_type": "code",
   "execution_count": 697,
   "id": "0b922089-fff9-4c04-ae84-cc65516bc665",
   "metadata": {
    "ExecuteTime": {
     "end_time": "2023-12-05T21:53:07.855186500Z",
     "start_time": "2023-12-05T21:53:07.753551200Z"
    }
   },
   "outputs": [
    {
     "data": {
      "text/plain": "Empty DataFrame\nColumns: [index, Date, cloud_cover, sunshine, global_radiation, max_temp, mean_temp, min_temp, precipitation, pressure, snow_depth]\nIndex: []",
      "text/html": "<div>\n<style scoped>\n    .dataframe tbody tr th:only-of-type {\n        vertical-align: middle;\n    }\n\n    .dataframe tbody tr th {\n        vertical-align: top;\n    }\n\n    .dataframe thead th {\n        text-align: right;\n    }\n</style>\n<table border=\"1\" class=\"dataframe\">\n  <thead>\n    <tr style=\"text-align: right;\">\n      <th></th>\n      <th>index</th>\n      <th>Date</th>\n      <th>cloud_cover</th>\n      <th>sunshine</th>\n      <th>global_radiation</th>\n      <th>max_temp</th>\n      <th>mean_temp</th>\n      <th>min_temp</th>\n      <th>precipitation</th>\n      <th>pressure</th>\n      <th>snow_depth</th>\n    </tr>\n  </thead>\n  <tbody>\n  </tbody>\n</table>\n</div>"
     },
     "execution_count": 697,
     "metadata": {},
     "output_type": "execute_result"
    }
   ],
   "source": [
    "CloudNulls = (LondonWeather_df['cloud_cover'].isnull())\n",
    "LondonWeather_df[CloudNulls]"
   ]
  },
  {
   "cell_type": "markdown",
   "id": "f48a1273-4895-4e9c-9f22-0b60c506e457",
   "metadata": {},
   "source": [
    "Now that we have confirmed there are no cloud coverage nulls lets move to snow_depth nulls. Lets print the month and year of the snow_depth nulls out to look for insight to why these nulls exist."
   ]
  },
  {
   "cell_type": "code",
   "execution_count": 698,
   "id": "49a86dba-f5fa-4b02-8150-ec1ab1a38e49",
   "metadata": {
    "ExecuteTime": {
     "end_time": "2023-12-05T21:53:07.855186500Z",
     "start_time": "2023-12-05T21:53:07.760786500Z"
    }
   },
   "outputs": [
    {
     "name": "stdout",
     "output_type": "stream",
     "text": [
      "1 2011\n",
      "1 2011\n",
      "4 2011\n",
      "4 2011\n",
      "4 2011\n",
      "4 2011\n",
      "4 2011\n",
      "4 2011\n",
      "4 2011\n",
      "4 2011\n",
      "4 2011\n",
      "4 2011\n",
      "4 2011\n",
      "4 2011\n",
      "4 2011\n",
      "4 2011\n",
      "4 2011\n",
      "4 2011\n",
      "4 2011\n",
      "4 2011\n",
      "5 2011\n",
      "5 2011\n",
      "5 2011\n",
      "5 2011\n",
      "5 2011\n",
      "5 2011\n",
      "5 2011\n",
      "5 2011\n",
      "5 2011\n",
      "5 2011\n",
      "5 2011\n",
      "5 2011\n",
      "5 2011\n",
      "5 2011\n",
      "5 2011\n",
      "5 2011\n",
      "5 2011\n",
      "5 2011\n",
      "5 2011\n",
      "5 2011\n",
      "5 2011\n",
      "5 2011\n",
      "5 2011\n",
      "5 2011\n",
      "5 2011\n",
      "5 2011\n",
      "5 2011\n",
      "5 2011\n",
      "5 2011\n",
      "5 2011\n",
      "5 2011\n",
      "6 2011\n",
      "6 2011\n",
      "6 2011\n",
      "6 2011\n",
      "6 2011\n",
      "6 2011\n",
      "6 2011\n",
      "6 2011\n",
      "6 2011\n",
      "6 2011\n",
      "6 2011\n",
      "6 2011\n",
      "6 2011\n",
      "6 2011\n",
      "6 2011\n",
      "6 2011\n",
      "6 2011\n",
      "6 2011\n",
      "6 2011\n",
      "6 2011\n",
      "6 2011\n",
      "6 2011\n",
      "6 2011\n",
      "6 2011\n",
      "6 2011\n",
      "6 2011\n",
      "6 2011\n",
      "6 2011\n",
      "6 2011\n",
      "6 2011\n",
      "7 2011\n",
      "7 2011\n",
      "7 2011\n",
      "7 2011\n",
      "7 2011\n",
      "7 2011\n",
      "7 2011\n",
      "7 2011\n",
      "7 2011\n",
      "7 2011\n",
      "7 2011\n",
      "7 2011\n",
      "7 2011\n",
      "7 2011\n",
      "7 2011\n",
      "7 2011\n",
      "7 2011\n",
      "7 2011\n",
      "7 2011\n",
      "7 2011\n",
      "7 2011\n",
      "7 2011\n",
      "7 2011\n",
      "7 2011\n",
      "7 2011\n",
      "7 2011\n",
      "7 2011\n",
      "7 2011\n",
      "7 2011\n",
      "7 2011\n",
      "7 2011\n",
      "8 2011\n",
      "8 2011\n",
      "8 2011\n",
      "8 2011\n",
      "8 2011\n",
      "8 2011\n",
      "8 2011\n",
      "8 2011\n",
      "8 2011\n",
      "8 2011\n",
      "8 2011\n",
      "8 2011\n",
      "8 2011\n",
      "8 2011\n",
      "8 2011\n",
      "8 2011\n",
      "8 2011\n",
      "8 2011\n",
      "8 2011\n",
      "8 2011\n",
      "8 2011\n",
      "8 2011\n",
      "8 2011\n",
      "8 2011\n",
      "8 2011\n",
      "8 2011\n",
      "8 2011\n",
      "8 2011\n",
      "8 2011\n",
      "8 2011\n",
      "8 2011\n",
      "9 2011\n",
      "9 2011\n",
      "9 2011\n",
      "9 2011\n",
      "9 2011\n",
      "9 2011\n",
      "9 2011\n",
      "9 2011\n",
      "9 2011\n",
      "9 2011\n",
      "9 2011\n",
      "9 2011\n",
      "9 2011\n",
      "9 2011\n",
      "9 2011\n",
      "9 2011\n",
      "9 2011\n",
      "9 2011\n",
      "9 2011\n",
      "9 2011\n",
      "9 2011\n",
      "9 2011\n",
      "9 2011\n",
      "9 2011\n",
      "9 2011\n",
      "9 2011\n",
      "9 2011\n",
      "9 2011\n",
      "9 2011\n",
      "9 2011\n",
      "10 2011\n",
      "10 2011\n",
      "10 2011\n",
      "10 2011\n",
      "10 2011\n",
      "10 2011\n",
      "10 2011\n"
     ]
    }
   ],
   "source": [
    "SnowNulls = (LondonWeather_df['snow_depth'].isnull())\n",
    "for ind in LondonWeather_df.loc[(SnowNulls==True)].index:\n",
    "    print(str(LondonWeather_df['Date'].iloc[ind].month) + ' '+ str(LondonWeather_df['Date'].iloc[ind].year))"
   ]
  },
  {
   "cell_type": "markdown",
   "id": "e5af9caa-0ea3-45fc-abd9-819cea8ae1c3",
   "metadata": {},
   "source": [
    "Notice that the vast majority of the snow_depth NaN values occur from April to October of 2011. Londons snow season is Dec to Feb, based on this observation it is likely that these NaN values were days where there was no snowfall and would recommend zero padding. But before we take action lets check what the values before and after each NaN were, as this may give us some more insight into the situation."
   ]
  },
  {
   "cell_type": "code",
   "execution_count": 699,
   "id": "bf5294a3-2ee1-4b52-bf7b-a1898e3f9152",
   "metadata": {
    "ExecuteTime": {
     "end_time": "2023-12-05T21:53:07.855186500Z",
     "start_time": "2023-12-05T21:53:07.769962600Z"
    }
   },
   "outputs": [
    {
     "name": "stdout",
     "output_type": "stream",
     "text": [
      "Before:After\n",
      "0.0:0.0\n",
      "0.0:0.0\n",
      "0.0:nan\n",
      "nan:nan\n",
      "nan:nan\n",
      "nan:nan\n",
      "nan:nan\n",
      "nan:nan\n",
      "nan:nan\n",
      "nan:nan\n",
      "nan:nan\n",
      "nan:nan\n",
      "nan:nan\n",
      "nan:nan\n",
      "nan:nan\n",
      "nan:nan\n",
      "nan:nan\n",
      "nan:nan\n",
      "nan:nan\n",
      "nan:nan\n",
      "nan:nan\n",
      "nan:nan\n",
      "nan:nan\n",
      "nan:nan\n",
      "nan:nan\n",
      "nan:nan\n",
      "nan:nan\n",
      "nan:nan\n",
      "nan:nan\n",
      "nan:nan\n",
      "nan:nan\n",
      "nan:nan\n",
      "nan:nan\n",
      "nan:nan\n",
      "nan:nan\n",
      "nan:nan\n",
      "nan:nan\n",
      "nan:nan\n",
      "nan:nan\n",
      "nan:nan\n",
      "nan:nan\n",
      "nan:nan\n",
      "nan:nan\n",
      "nan:nan\n",
      "nan:nan\n",
      "nan:nan\n",
      "nan:nan\n",
      "nan:nan\n",
      "nan:nan\n",
      "nan:nan\n",
      "nan:nan\n",
      "nan:nan\n",
      "nan:nan\n",
      "nan:nan\n",
      "nan:nan\n",
      "nan:nan\n",
      "nan:nan\n",
      "nan:nan\n",
      "nan:nan\n",
      "nan:nan\n",
      "nan:nan\n",
      "nan:nan\n",
      "nan:nan\n",
      "nan:nan\n",
      "nan:nan\n",
      "nan:nan\n",
      "nan:nan\n",
      "nan:nan\n",
      "nan:nan\n",
      "nan:nan\n",
      "nan:nan\n",
      "nan:nan\n",
      "nan:nan\n",
      "nan:nan\n",
      "nan:nan\n",
      "nan:nan\n",
      "nan:nan\n",
      "nan:nan\n",
      "nan:nan\n",
      "nan:nan\n",
      "nan:nan\n",
      "nan:nan\n",
      "nan:nan\n",
      "nan:nan\n",
      "nan:nan\n",
      "nan:nan\n",
      "nan:nan\n",
      "nan:nan\n",
      "nan:nan\n",
      "nan:nan\n",
      "nan:nan\n",
      "nan:nan\n",
      "nan:nan\n",
      "nan:nan\n",
      "nan:nan\n",
      "nan:nan\n",
      "nan:nan\n",
      "nan:nan\n",
      "nan:nan\n",
      "nan:nan\n",
      "nan:nan\n",
      "nan:nan\n",
      "nan:nan\n",
      "nan:nan\n",
      "nan:nan\n",
      "nan:nan\n",
      "nan:nan\n",
      "nan:nan\n",
      "nan:nan\n",
      "nan:nan\n",
      "nan:nan\n",
      "nan:nan\n",
      "nan:nan\n",
      "nan:nan\n",
      "nan:nan\n",
      "nan:nan\n",
      "nan:nan\n",
      "nan:nan\n",
      "nan:nan\n",
      "nan:nan\n",
      "nan:nan\n",
      "nan:nan\n",
      "nan:nan\n",
      "nan:nan\n",
      "nan:nan\n",
      "nan:nan\n",
      "nan:nan\n",
      "nan:nan\n",
      "nan:nan\n",
      "nan:nan\n",
      "nan:nan\n",
      "nan:nan\n",
      "nan:nan\n",
      "nan:nan\n",
      "nan:nan\n",
      "nan:nan\n",
      "nan:nan\n",
      "nan:nan\n",
      "nan:nan\n",
      "nan:nan\n",
      "nan:nan\n",
      "nan:nan\n",
      "nan:nan\n",
      "nan:nan\n",
      "nan:nan\n",
      "nan:nan\n",
      "nan:nan\n",
      "nan:nan\n",
      "nan:nan\n",
      "nan:nan\n",
      "nan:nan\n",
      "nan:nan\n",
      "nan:nan\n",
      "nan:nan\n",
      "nan:nan\n",
      "nan:nan\n",
      "nan:nan\n",
      "nan:nan\n",
      "nan:nan\n",
      "nan:nan\n",
      "nan:nan\n",
      "nan:nan\n",
      "nan:nan\n",
      "nan:nan\n",
      "nan:nan\n",
      "nan:nan\n",
      "nan:nan\n",
      "nan:nan\n",
      "nan:nan\n",
      "nan:nan\n",
      "nan:nan\n",
      "nan:nan\n",
      "nan:nan\n",
      "nan:nan\n",
      "nan:nan\n",
      "nan:nan\n",
      "nan:nan\n",
      "nan:nan\n",
      "nan:nan\n",
      "nan:0.0\n"
     ]
    }
   ],
   "source": [
    "SnowNulls = (LondonWeather_df['snow_depth'].isnull())\n",
    "inds = LondonWeather_df[SnowNulls].index\n",
    "print(\"Before:After\")\n",
    "for index in inds:\n",
    "    before = LondonWeather_df['snow_depth'].iloc[index-1]\n",
    "    after  = LondonWeather_df['snow_depth'].iloc[index+1]\n",
    "    print(str(before)+':'+str(after))"
   ]
  },
  {
   "cell_type": "markdown",
   "id": "4c65d800-5e02-4a31-bd14-b416220248b1",
   "metadata": {},
   "source": [
    "All snow_depth NaN values are prempted and followed by zero inches of snow, or by another NaN. Based on these findings I conclude that the most reasonable explanation is that in 2011 researchers werent recording the snow_depth during times that there was no snow on the ground and or there was no expectation that there might be snow. From this finding I reccomend zero padding these nan values.  \n",
    "After zero padding lets check again to make sure theres no more null values"
   ]
  },
  {
   "cell_type": "code",
   "execution_count": 700,
   "id": "09e69abf-f624-4778-9af6-b1362e06fc91",
   "metadata": {
    "ExecuteTime": {
     "end_time": "2023-12-05T21:53:07.856187400Z",
     "start_time": "2023-12-05T21:53:07.776969Z"
    }
   },
   "outputs": [
    {
     "data": {
      "text/plain": "Empty DataFrame\nColumns: [index, Date, cloud_cover, sunshine, global_radiation, max_temp, mean_temp, min_temp, precipitation, pressure, snow_depth]\nIndex: []",
      "text/html": "<div>\n<style scoped>\n    .dataframe tbody tr th:only-of-type {\n        vertical-align: middle;\n    }\n\n    .dataframe tbody tr th {\n        vertical-align: top;\n    }\n\n    .dataframe thead th {\n        text-align: right;\n    }\n</style>\n<table border=\"1\" class=\"dataframe\">\n  <thead>\n    <tr style=\"text-align: right;\">\n      <th></th>\n      <th>index</th>\n      <th>Date</th>\n      <th>cloud_cover</th>\n      <th>sunshine</th>\n      <th>global_radiation</th>\n      <th>max_temp</th>\n      <th>mean_temp</th>\n      <th>min_temp</th>\n      <th>precipitation</th>\n      <th>pressure</th>\n      <th>snow_depth</th>\n    </tr>\n  </thead>\n  <tbody>\n  </tbody>\n</table>\n</div>"
     },
     "execution_count": 700,
     "metadata": {},
     "output_type": "execute_result"
    }
   ],
   "source": [
    "LondonWeather_df['snow_depth'] = LondonWeather_df[\"snow_depth\"].fillna(0.0)\n",
    "SnowNulls = (LondonWeather_df['snow_depth'].isnull())\n",
    "LondonWeather_df[SnowNulls]"
   ]
  },
  {
   "cell_type": "code",
   "execution_count": 701,
   "outputs": [
    {
     "data": {
      "text/plain": "      index       Date  cloud_cover  sunshine  global_radiation  max_temp  \\\n0     11688 2011-01-01          8.0       0.0              13.0       4.0   \n1     11689 2011-01-02          8.0       0.1              15.0       2.9   \n2     11690 2011-01-03          7.0       0.1              15.0       6.0   \n3     11691 2011-01-04          7.0       0.0              13.0       7.1   \n4     11692 2011-01-05          6.0       2.3              31.0       5.1   \n...     ...        ...          ...       ...               ...       ...   \n1456  13144 2014-12-27          5.0       2.0              28.0       6.2   \n1457  13145 2014-12-28          0.0       6.0              47.0       5.8   \n1458  13146 2014-12-29          0.0       6.1              47.0       5.7   \n1459  13147 2014-12-30          1.0       3.3              35.0       8.5   \n1460  13148 2014-12-31          3.0       2.3              30.0      12.9   \n\n      mean_temp  min_temp  precipitation  pressure  snow_depth  \n0           5.9       4.6            0.6  102500.0         0.0  \n1           3.0       1.9            0.0  102830.0         0.0  \n2           1.3      -0.3            0.0  102460.0         0.0  \n3           2.9      -0.3            0.0  101360.0         0.0  \n4           4.2       1.3            1.0  100040.0         0.0  \n...         ...       ...            ...       ...         ...  \n1456        3.0       1.2            0.0  100730.0         0.0  \n1457        3.6       0.9            0.0  102950.0         0.0  \n1458        1.2      -3.5            0.2  104060.0         0.0  \n1459        0.8      -4.1            0.2  103940.0         0.0  \n1460        2.2      -4.1            0.2  103410.0         0.0  \n\n[1461 rows x 11 columns]",
      "text/html": "<div>\n<style scoped>\n    .dataframe tbody tr th:only-of-type {\n        vertical-align: middle;\n    }\n\n    .dataframe tbody tr th {\n        vertical-align: top;\n    }\n\n    .dataframe thead th {\n        text-align: right;\n    }\n</style>\n<table border=\"1\" class=\"dataframe\">\n  <thead>\n    <tr style=\"text-align: right;\">\n      <th></th>\n      <th>index</th>\n      <th>Date</th>\n      <th>cloud_cover</th>\n      <th>sunshine</th>\n      <th>global_radiation</th>\n      <th>max_temp</th>\n      <th>mean_temp</th>\n      <th>min_temp</th>\n      <th>precipitation</th>\n      <th>pressure</th>\n      <th>snow_depth</th>\n    </tr>\n  </thead>\n  <tbody>\n    <tr>\n      <th>0</th>\n      <td>11688</td>\n      <td>2011-01-01</td>\n      <td>8.0</td>\n      <td>0.0</td>\n      <td>13.0</td>\n      <td>4.0</td>\n      <td>5.9</td>\n      <td>4.6</td>\n      <td>0.6</td>\n      <td>102500.0</td>\n      <td>0.0</td>\n    </tr>\n    <tr>\n      <th>1</th>\n      <td>11689</td>\n      <td>2011-01-02</td>\n      <td>8.0</td>\n      <td>0.1</td>\n      <td>15.0</td>\n      <td>2.9</td>\n      <td>3.0</td>\n      <td>1.9</td>\n      <td>0.0</td>\n      <td>102830.0</td>\n      <td>0.0</td>\n    </tr>\n    <tr>\n      <th>2</th>\n      <td>11690</td>\n      <td>2011-01-03</td>\n      <td>7.0</td>\n      <td>0.1</td>\n      <td>15.0</td>\n      <td>6.0</td>\n      <td>1.3</td>\n      <td>-0.3</td>\n      <td>0.0</td>\n      <td>102460.0</td>\n      <td>0.0</td>\n    </tr>\n    <tr>\n      <th>3</th>\n      <td>11691</td>\n      <td>2011-01-04</td>\n      <td>7.0</td>\n      <td>0.0</td>\n      <td>13.0</td>\n      <td>7.1</td>\n      <td>2.9</td>\n      <td>-0.3</td>\n      <td>0.0</td>\n      <td>101360.0</td>\n      <td>0.0</td>\n    </tr>\n    <tr>\n      <th>4</th>\n      <td>11692</td>\n      <td>2011-01-05</td>\n      <td>6.0</td>\n      <td>2.3</td>\n      <td>31.0</td>\n      <td>5.1</td>\n      <td>4.2</td>\n      <td>1.3</td>\n      <td>1.0</td>\n      <td>100040.0</td>\n      <td>0.0</td>\n    </tr>\n    <tr>\n      <th>...</th>\n      <td>...</td>\n      <td>...</td>\n      <td>...</td>\n      <td>...</td>\n      <td>...</td>\n      <td>...</td>\n      <td>...</td>\n      <td>...</td>\n      <td>...</td>\n      <td>...</td>\n      <td>...</td>\n    </tr>\n    <tr>\n      <th>1456</th>\n      <td>13144</td>\n      <td>2014-12-27</td>\n      <td>5.0</td>\n      <td>2.0</td>\n      <td>28.0</td>\n      <td>6.2</td>\n      <td>3.0</td>\n      <td>1.2</td>\n      <td>0.0</td>\n      <td>100730.0</td>\n      <td>0.0</td>\n    </tr>\n    <tr>\n      <th>1457</th>\n      <td>13145</td>\n      <td>2014-12-28</td>\n      <td>0.0</td>\n      <td>6.0</td>\n      <td>47.0</td>\n      <td>5.8</td>\n      <td>3.6</td>\n      <td>0.9</td>\n      <td>0.0</td>\n      <td>102950.0</td>\n      <td>0.0</td>\n    </tr>\n    <tr>\n      <th>1458</th>\n      <td>13146</td>\n      <td>2014-12-29</td>\n      <td>0.0</td>\n      <td>6.1</td>\n      <td>47.0</td>\n      <td>5.7</td>\n      <td>1.2</td>\n      <td>-3.5</td>\n      <td>0.2</td>\n      <td>104060.0</td>\n      <td>0.0</td>\n    </tr>\n    <tr>\n      <th>1459</th>\n      <td>13147</td>\n      <td>2014-12-30</td>\n      <td>1.0</td>\n      <td>3.3</td>\n      <td>35.0</td>\n      <td>8.5</td>\n      <td>0.8</td>\n      <td>-4.1</td>\n      <td>0.2</td>\n      <td>103940.0</td>\n      <td>0.0</td>\n    </tr>\n    <tr>\n      <th>1460</th>\n      <td>13148</td>\n      <td>2014-12-31</td>\n      <td>3.0</td>\n      <td>2.3</td>\n      <td>30.0</td>\n      <td>12.9</td>\n      <td>2.2</td>\n      <td>-4.1</td>\n      <td>0.2</td>\n      <td>103410.0</td>\n      <td>0.0</td>\n    </tr>\n  </tbody>\n</table>\n<p>1461 rows × 11 columns</p>\n</div>"
     },
     "execution_count": 701,
     "metadata": {},
     "output_type": "execute_result"
    }
   ],
   "source": [
    "LondonWeather_df"
   ],
   "metadata": {
    "collapsed": false,
    "ExecuteTime": {
     "end_time": "2023-12-05T21:53:07.872696Z",
     "start_time": "2023-12-05T21:53:07.785190900Z"
    }
   }
  },
  {
   "cell_type": "markdown",
   "id": "555ec1cc-0d4e-4c71-ae7a-7d45efa1bcbe",
   "metadata": {},
   "source": [
    "## Energy Cost Data Preperation\n",
    "\n",
    "The third data set we will be joining for our model is a data set detailing the average cost of energy in the UK. This was as local of energy pricing data as could be found. All pricing is in Euro/MWh."
   ]
  },
  {
   "cell_type": "code",
   "execution_count": 702,
   "id": "63194ba3-47e3-45c0-b7b2-4d8286c907ba",
   "metadata": {
    "ExecuteTime": {
     "end_time": "2023-12-05T21:53:07.872696Z",
     "start_time": "2023-12-05T21:53:07.800498200Z"
    }
   },
   "outputs": [
    {
     "data": {
      "text/plain": "    Datetime  Settlement Period Market Index Data Provider Id  \\\n0   1-Jan-11                 48                       APXMIDP   \n1   2-Jan-11                 48                       APXMIDP   \n2   3-Jan-11                 48                       APXMIDP   \n3   4-Jan-11                 48                       APXMIDP   \n4   5-Jan-11                 48                       APXMIDP   \n5   6-Jan-11                 48                       APXMIDP   \n6   7-Jan-11                 48                       APXMIDP   \n7   8-Jan-11                 48                       APXMIDP   \n8   9-Jan-11                 48                       APXMIDP   \n9  10-Jan-11                 48                       APXMIDP   \n\n   Market Index Volume(MWh)  Market Index Price(£/MWh)  \\\n0                     415.0                      46.46   \n1                     326.0                      45.50   \n2                     221.0                      42.72   \n3                     115.5                      41.18   \n4                     250.5                      38.04   \n5                     444.5                      42.65   \n6                     196.0                      44.27   \n7                     661.5                      43.73   \n8                     466.0                      42.92   \n9                     200.0                      40.10   \n\n   Volume * Price Product  start daily row  end daily row  \\\n0               19280.900                2             49   \n1               14833.000               50             97   \n2                9441.120               98            145   \n3                4756.290              146            193   \n4                9529.020              194            241   \n5               18957.925              242            289   \n6                8676.920              290            337   \n7               28927.395              338            385   \n8               20000.720              386            433   \n9                8020.000              434            481   \n\n   daily volume * Price Product  Daily volume  volume weighted price  \n0                       1613523       33795.0                 47.744  \n1                       1926510       34913.0                 55.180  \n2                       1631767       32858.5                 49.660  \n3                       1887767       35356.5                 53.390  \n4                       1219950       25136.0                 48.530  \n5                       1926271       36778.0                 52.380  \n6                       1299543       26035.5                 49.910  \n7                       1411038       28783.0                 49.020  \n8                       1823653       35624.5                 51.190  \n9                       1936495       37316.5                 51.890  ",
      "text/html": "<div>\n<style scoped>\n    .dataframe tbody tr th:only-of-type {\n        vertical-align: middle;\n    }\n\n    .dataframe tbody tr th {\n        vertical-align: top;\n    }\n\n    .dataframe thead th {\n        text-align: right;\n    }\n</style>\n<table border=\"1\" class=\"dataframe\">\n  <thead>\n    <tr style=\"text-align: right;\">\n      <th></th>\n      <th>Datetime</th>\n      <th>Settlement Period</th>\n      <th>Market Index Data Provider Id</th>\n      <th>Market Index Volume(MWh)</th>\n      <th>Market Index Price(£/MWh)</th>\n      <th>Volume * Price Product</th>\n      <th>start daily row</th>\n      <th>end daily row</th>\n      <th>daily volume * Price Product</th>\n      <th>Daily volume</th>\n      <th>volume weighted price</th>\n    </tr>\n  </thead>\n  <tbody>\n    <tr>\n      <th>0</th>\n      <td>1-Jan-11</td>\n      <td>48</td>\n      <td>APXMIDP</td>\n      <td>415.0</td>\n      <td>46.46</td>\n      <td>19280.900</td>\n      <td>2</td>\n      <td>49</td>\n      <td>1613523</td>\n      <td>33795.0</td>\n      <td>47.744</td>\n    </tr>\n    <tr>\n      <th>1</th>\n      <td>2-Jan-11</td>\n      <td>48</td>\n      <td>APXMIDP</td>\n      <td>326.0</td>\n      <td>45.50</td>\n      <td>14833.000</td>\n      <td>50</td>\n      <td>97</td>\n      <td>1926510</td>\n      <td>34913.0</td>\n      <td>55.180</td>\n    </tr>\n    <tr>\n      <th>2</th>\n      <td>3-Jan-11</td>\n      <td>48</td>\n      <td>APXMIDP</td>\n      <td>221.0</td>\n      <td>42.72</td>\n      <td>9441.120</td>\n      <td>98</td>\n      <td>145</td>\n      <td>1631767</td>\n      <td>32858.5</td>\n      <td>49.660</td>\n    </tr>\n    <tr>\n      <th>3</th>\n      <td>4-Jan-11</td>\n      <td>48</td>\n      <td>APXMIDP</td>\n      <td>115.5</td>\n      <td>41.18</td>\n      <td>4756.290</td>\n      <td>146</td>\n      <td>193</td>\n      <td>1887767</td>\n      <td>35356.5</td>\n      <td>53.390</td>\n    </tr>\n    <tr>\n      <th>4</th>\n      <td>5-Jan-11</td>\n      <td>48</td>\n      <td>APXMIDP</td>\n      <td>250.5</td>\n      <td>38.04</td>\n      <td>9529.020</td>\n      <td>194</td>\n      <td>241</td>\n      <td>1219950</td>\n      <td>25136.0</td>\n      <td>48.530</td>\n    </tr>\n    <tr>\n      <th>5</th>\n      <td>6-Jan-11</td>\n      <td>48</td>\n      <td>APXMIDP</td>\n      <td>444.5</td>\n      <td>42.65</td>\n      <td>18957.925</td>\n      <td>242</td>\n      <td>289</td>\n      <td>1926271</td>\n      <td>36778.0</td>\n      <td>52.380</td>\n    </tr>\n    <tr>\n      <th>6</th>\n      <td>7-Jan-11</td>\n      <td>48</td>\n      <td>APXMIDP</td>\n      <td>196.0</td>\n      <td>44.27</td>\n      <td>8676.920</td>\n      <td>290</td>\n      <td>337</td>\n      <td>1299543</td>\n      <td>26035.5</td>\n      <td>49.910</td>\n    </tr>\n    <tr>\n      <th>7</th>\n      <td>8-Jan-11</td>\n      <td>48</td>\n      <td>APXMIDP</td>\n      <td>661.5</td>\n      <td>43.73</td>\n      <td>28927.395</td>\n      <td>338</td>\n      <td>385</td>\n      <td>1411038</td>\n      <td>28783.0</td>\n      <td>49.020</td>\n    </tr>\n    <tr>\n      <th>8</th>\n      <td>9-Jan-11</td>\n      <td>48</td>\n      <td>APXMIDP</td>\n      <td>466.0</td>\n      <td>42.92</td>\n      <td>20000.720</td>\n      <td>386</td>\n      <td>433</td>\n      <td>1823653</td>\n      <td>35624.5</td>\n      <td>51.190</td>\n    </tr>\n    <tr>\n      <th>9</th>\n      <td>10-Jan-11</td>\n      <td>48</td>\n      <td>APXMIDP</td>\n      <td>200.0</td>\n      <td>40.10</td>\n      <td>8020.000</td>\n      <td>434</td>\n      <td>481</td>\n      <td>1936495</td>\n      <td>37316.5</td>\n      <td>51.890</td>\n    </tr>\n  </tbody>\n</table>\n</div>"
     },
     "execution_count": 702,
     "metadata": {},
     "output_type": "execute_result"
    }
   ],
   "source": [
    "UKEnergyCost2011 = pd.read_csv(\"../data/clean/2011ElectricityCostData_UTF8.xls\")\n",
    "UKEnergyCost2011.head(10)"
   ]
  },
  {
   "cell_type": "code",
   "execution_count": 703,
   "id": "a6a00ec1-7b52-4875-852a-302b3d7b9277",
   "metadata": {
    "ExecuteTime": {
     "end_time": "2023-12-05T21:53:07.946763300Z",
     "start_time": "2023-12-05T21:53:07.812647500Z"
    }
   },
   "outputs": [
    {
     "name": "stdout",
     "output_type": "stream",
     "text": [
      "1461\n",
      "1457\n",
      "1457\n",
      "1457\n",
      "1457\n",
      "1457\n",
      "1457\n",
      "1457\n",
      "1457\n",
      "1457\n",
      "1461\n",
      "Index(['Datetime', 'Settlement Period', 'Market Index Data Provider Id',\n",
      "       'Market Index Volume(MWh)', 'Market Index Price(£/MWh)',\n",
      "       'Volume * Price Product', 'start daily row', 'end daily row',\n",
      "       'daily volume * Price Product', 'Daily volume',\n",
      "       'volume weighted price'],\n",
      "      dtype='object')\n"
     ]
    }
   ],
   "source": [
    "UKEnergyCost2012 = pd.read_csv(\"../data/clean/2012ElectricityCostData_UTF8.xls\")\n",
    "UKEnergyCost2013 = pd.read_csv(\"../data/clean/2013ElectricityCostData_UTF8.xls\")\n",
    "UKEnergyCost2014 = pd.read_csv(\"../data/clean/2014ElectricityCostData_UTF8.xls\")\n",
    "UKEnergyCost = pd.concat([UKEnergyCost2011,UKEnergyCost2012,UKEnergyCost2013,UKEnergyCost2014], ignore_index=True, axis=0)\n",
    "for col in UKEnergyCost:\n",
    "    print(UKEnergyCost[col].count())\n",
    "print(UKEnergyCost.columns)"
   ]
  },
  {
   "cell_type": "markdown",
   "id": "b8635ffb-88c5-4489-9f08-835902f27eea",
   "metadata": {},
   "source": [
    "Based on the count results for the columns in the dataframe and verification done on the csv's in excel it's seen that only the volume weighted price, and Datetime columns are complete. This is not an issue as those are the only columns we need for our purposes so lets drop those incomplete columns.  <br>Additionally, to join this data set to the others we need to get the Datetime column into the Datetime data type."
   ]
  },
  {
   "cell_type": "code",
   "execution_count": 704,
   "id": "1dcab573-82a0-41b2-9b9f-884b22e25f16",
   "metadata": {
    "ExecuteTime": {
     "end_time": "2023-12-05T21:53:07.947764Z",
     "start_time": "2023-12-05T21:53:07.821836400Z"
    }
   },
   "outputs": [
    {
     "name": "stdout",
     "output_type": "stream",
     "text": [
      "0        1-Jan-11\n",
      "1        2-Jan-11\n",
      "2        3-Jan-11\n",
      "3        4-Jan-11\n",
      "4        5-Jan-11\n",
      "          ...    \n",
      "1456    27-Dec-14\n",
      "1457    28-Dec-14\n",
      "1458    29-Dec-14\n",
      "1459    30-Dec-14\n",
      "1460    31-Dec-14\n",
      "Name: Datetime, Length: 1461, dtype: object\n",
      "0      2011-01-01\n",
      "1      2011-01-02\n",
      "2      2011-01-03\n",
      "3      2011-01-04\n",
      "4      2011-01-05\n",
      "          ...    \n",
      "1456   2014-12-27\n",
      "1457   2014-12-28\n",
      "1458   2014-12-29\n",
      "1459   2014-12-30\n",
      "1460   2014-12-31\n",
      "Name: Datetime, Length: 1461, dtype: datetime64[ns]\n"
     ]
    }
   ],
   "source": [
    "format_str = \"%d_%b_%y\"\n",
    "EnergyCost_df = UKEnergyCost[['Datetime','volume weighted price']].copy()\n",
    "print(EnergyCost_df['Datetime'])\n",
    "# Replace the hyphens with underscores due to special character limitations of strptime.\n",
    "EnergyCost_df['Datetime'] = EnergyCost_df['Datetime'].apply(lambda s: s.replace('-', '_'))\n",
    "EnergyCost_df['Datetime'] = EnergyCost_df[\"Datetime\"].map(lambda s: dt.datetime.strptime(s, format_str))\n",
    "print(EnergyCost_df['Datetime'])"
   ]
  },
  {
   "cell_type": "markdown",
   "id": "225b9d3a-97b4-40ea-9f33-41bbbd58f9c6",
   "metadata": {},
   "source": [
    "Now that we have joined and reformated the energy cost data lets correct the Datetime column's label to match our other two datasets."
   ]
  },
  {
   "cell_type": "code",
   "execution_count": 705,
   "id": "027ba606-61eb-4ce7-b370-4862a4973488",
   "metadata": {
    "ExecuteTime": {
     "end_time": "2023-12-05T21:53:07.947764Z",
     "start_time": "2023-12-05T21:53:07.843569200Z"
    }
   },
   "outputs": [
    {
     "data": {
      "text/plain": "           Date  volume weighted price\n0    2011-01-01                 47.744\n1    2011-01-02                 55.180\n2    2011-01-03                 49.660\n3    2011-01-04                 53.390\n4    2011-01-05                 48.530\n...         ...                    ...\n1456 2014-12-27                 49.930\n1457 2014-12-28                 46.780\n1458 2014-12-29                 49.000\n1459 2014-12-30                 46.050\n1460 2014-12-31                 37.230\n\n[1461 rows x 2 columns]",
      "text/html": "<div>\n<style scoped>\n    .dataframe tbody tr th:only-of-type {\n        vertical-align: middle;\n    }\n\n    .dataframe tbody tr th {\n        vertical-align: top;\n    }\n\n    .dataframe thead th {\n        text-align: right;\n    }\n</style>\n<table border=\"1\" class=\"dataframe\">\n  <thead>\n    <tr style=\"text-align: right;\">\n      <th></th>\n      <th>Date</th>\n      <th>volume weighted price</th>\n    </tr>\n  </thead>\n  <tbody>\n    <tr>\n      <th>0</th>\n      <td>2011-01-01</td>\n      <td>47.744</td>\n    </tr>\n    <tr>\n      <th>1</th>\n      <td>2011-01-02</td>\n      <td>55.180</td>\n    </tr>\n    <tr>\n      <th>2</th>\n      <td>2011-01-03</td>\n      <td>49.660</td>\n    </tr>\n    <tr>\n      <th>3</th>\n      <td>2011-01-04</td>\n      <td>53.390</td>\n    </tr>\n    <tr>\n      <th>4</th>\n      <td>2011-01-05</td>\n      <td>48.530</td>\n    </tr>\n    <tr>\n      <th>...</th>\n      <td>...</td>\n      <td>...</td>\n    </tr>\n    <tr>\n      <th>1456</th>\n      <td>2014-12-27</td>\n      <td>49.930</td>\n    </tr>\n    <tr>\n      <th>1457</th>\n      <td>2014-12-28</td>\n      <td>46.780</td>\n    </tr>\n    <tr>\n      <th>1458</th>\n      <td>2014-12-29</td>\n      <td>49.000</td>\n    </tr>\n    <tr>\n      <th>1459</th>\n      <td>2014-12-30</td>\n      <td>46.050</td>\n    </tr>\n    <tr>\n      <th>1460</th>\n      <td>2014-12-31</td>\n      <td>37.230</td>\n    </tr>\n  </tbody>\n</table>\n<p>1461 rows × 2 columns</p>\n</div>"
     },
     "execution_count": 705,
     "metadata": {},
     "output_type": "execute_result"
    }
   ],
   "source": [
    "EnergyCost_df = EnergyCost_df.rename(columns = {'Datetime':'Date'})\n",
    "EnergyCost_df"
   ]
  },
  {
   "cell_type": "markdown",
   "id": "e260a627-454f-4c26-99d2-41d21ccbda25",
   "metadata": {},
   "source": [
    "The energy cost data set is now ready to be joined to the weather and energy usage data.  \n",
    "\n",
    "### Are All Dates Present?\n",
    "\n",
    "Lets now ensure that all dates are present in this data set."
   ]
  },
  {
   "cell_type": "code",
   "execution_count": 706,
   "id": "5a0bd7bf-6a84-4881-9689-41daa5fa8d0f",
   "metadata": {
    "ExecuteTime": {
     "end_time": "2023-12-05T21:53:07.947764Z",
     "start_time": "2023-12-05T21:53:07.846781900Z"
    }
   },
   "outputs": [
    {
     "name": "stdout",
     "output_type": "stream",
     "text": [
      "DatetimeIndex([], dtype='datetime64[ns]', freq='D')\n"
     ]
    }
   ],
   "source": [
    "MissingDates = pd.date_range(start = '2011-01-01', end = '2014-12-31' ).difference(EnergyCost_df['Date'])\n",
    "print(MissingDates)"
   ]
  },
  {
   "cell_type": "markdown",
   "id": "6837464e-60a6-4aab-ace2-90f8e8e08c2a",
   "metadata": {},
   "source": [
    "All dates from 2011-2014 are present, and there are no additional dates. Now lets ensure that the volume weighted price data is uncorrupted as well.\n",
    "### Is The Data Uncorrupted?"
   ]
  },
  {
   "cell_type": "code",
   "execution_count": 707,
   "id": "71c921bd-75e1-426e-8a51-9cb481c3844f",
   "metadata": {
    "ExecuteTime": {
     "end_time": "2023-12-05T21:53:07.947764Z",
     "start_time": "2023-12-05T21:53:07.851183Z"
    }
   },
   "outputs": [
    {
     "name": "stdout",
     "output_type": "stream",
     "text": [
      "False\n"
     ]
    },
    {
     "data": {
      "text/plain": "count    1461.000000\nmean       47.457867\nstd         6.813896\nmin        30.450000\n25%        43.310000\n50%        47.060000\n75%        51.010000\nmax        84.270000\nName: volume weighted price, dtype: float64"
     },
     "execution_count": 707,
     "metadata": {},
     "output_type": "execute_result"
    }
   ],
   "source": [
    "print(EnergyCost_df.isnull().values.any())\n",
    "EnergyCost_df['volume weighted price'].describe()"
   ]
  },
  {
   "cell_type": "markdown",
   "id": "2f4c85f1-7b6a-420d-b718-c916809d1f51",
   "metadata": {},
   "source": [
    "isnull = false therefore there are no null values in the dataframe. The min, max, and general distribution of the energy price appear reasonable but lets plot them as well to be thourough."
   ]
  },
  {
   "cell_type": "code",
   "execution_count": 708,
   "id": "156efd87-5f68-48fe-b52e-7b6733938255",
   "metadata": {
    "ExecuteTime": {
     "end_time": "2023-12-05T21:53:08.335603700Z",
     "start_time": "2023-12-05T21:53:07.862686700Z"
    }
   },
   "outputs": [
    {
     "data": {
      "text/plain": "[Text(0.5, 1.0, 'volume weighted price distribution')]"
     },
     "execution_count": 708,
     "metadata": {},
     "output_type": "execute_result"
    },
    {
     "data": {
      "text/plain": "<Figure size 640x480 with 1 Axes>",
      "image/png": "[encoded data removed]"
     },
     "metadata": {},
     "output_type": "display_data"
    }
   ],
   "source": [
    "plt.xticks(rotation=45,fontsize=8)\n",
    "plt.Axes.minorticks_on\n",
    "sns.histplot(data = EnergyCost_df, x=\"volume weighted price\").set(title='volume weighted price distribution')\n",
    "# plt.savefig(\"RESSqft.svg\", format='svg')"
   ]
  },
  {
   "cell_type": "markdown",
   "id": "93da2c4a-eb83-4ec7-a557-f4b718bf1a93",
   "metadata": {},
   "source": [
    "Nothing in the volume weighted price visualization appears unreasonable, at this time there is no reason to suspect corrupted energy cost data."
   ]
  },
  {
   "cell_type": "markdown",
   "source": [
    "# Merge Data"
   ],
   "metadata": {
    "collapsed": false
   }
  },
  {
   "cell_type": "code",
   "execution_count": 709,
   "outputs": [
    {
     "data": {
      "text/plain": "       LCLid       Date     KWH\n0  MAC000002 2012-10-12   7.098\n1  MAC000002 2012-10-13  11.087\n2  MAC000002 2012-10-14  13.223\n3  MAC000002 2012-10-15  10.257\n4  MAC000002 2012-10-16   9.769",
      "text/html": "<div>\n<style scoped>\n    .dataframe tbody tr th:only-of-type {\n        vertical-align: middle;\n    }\n\n    .dataframe tbody tr th {\n        vertical-align: top;\n    }\n\n    .dataframe thead th {\n        text-align: right;\n    }\n</style>\n<table border=\"1\" class=\"dataframe\">\n  <thead>\n    <tr style=\"text-align: right;\">\n      <th></th>\n      <th>LCLid</th>\n      <th>Date</th>\n      <th>KWH</th>\n    </tr>\n  </thead>\n  <tbody>\n    <tr>\n      <th>0</th>\n      <td>MAC000002</td>\n      <td>2012-10-12</td>\n      <td>7.098</td>\n    </tr>\n    <tr>\n      <th>1</th>\n      <td>MAC000002</td>\n      <td>2012-10-13</td>\n      <td>11.087</td>\n    </tr>\n    <tr>\n      <th>2</th>\n      <td>MAC000002</td>\n      <td>2012-10-14</td>\n      <td>13.223</td>\n    </tr>\n    <tr>\n      <th>3</th>\n      <td>MAC000002</td>\n      <td>2012-10-15</td>\n      <td>10.257</td>\n    </tr>\n    <tr>\n      <th>4</th>\n      <td>MAC000002</td>\n      <td>2012-10-16</td>\n      <td>9.769</td>\n    </tr>\n  </tbody>\n</table>\n</div>"
     },
     "execution_count": 709,
     "metadata": {},
     "output_type": "execute_result"
    }
   ],
   "source": [
    "LondonEnergy_df.head()"
   ],
   "metadata": {
    "collapsed": false,
    "ExecuteTime": {
     "end_time": "2023-12-05T21:53:08.335603700Z",
     "start_time": "2023-12-05T21:53:08.084781300Z"
    }
   }
  },
  {
   "cell_type": "code",
   "execution_count": 710,
   "outputs": [
    {
     "data": {
      "text/plain": "   index       Date  cloud_cover  sunshine  global_radiation  max_temp  \\\n0  11688 2011-01-01          8.0       0.0              13.0       4.0   \n1  11689 2011-01-02          8.0       0.1              15.0       2.9   \n2  11690 2011-01-03          7.0       0.1              15.0       6.0   \n3  11691 2011-01-04          7.0       0.0              13.0       7.1   \n4  11692 2011-01-05          6.0       2.3              31.0       5.1   \n\n   mean_temp  min_temp  precipitation  pressure  snow_depth  \n0        5.9       4.6            0.6  102500.0         0.0  \n1        3.0       1.9            0.0  102830.0         0.0  \n2        1.3      -0.3            0.0  102460.0         0.0  \n3        2.9      -0.3            0.0  101360.0         0.0  \n4        4.2       1.3            1.0  100040.0         0.0  ",
      "text/html": "<div>\n<style scoped>\n    .dataframe tbody tr th:only-of-type {\n        vertical-align: middle;\n    }\n\n    .dataframe tbody tr th {\n        vertical-align: top;\n    }\n\n    .dataframe thead th {\n        text-align: right;\n    }\n</style>\n<table border=\"1\" class=\"dataframe\">\n  <thead>\n    <tr style=\"text-align: right;\">\n      <th></th>\n      <th>index</th>\n      <th>Date</th>\n      <th>cloud_cover</th>\n      <th>sunshine</th>\n      <th>global_radiation</th>\n      <th>max_temp</th>\n      <th>mean_temp</th>\n      <th>min_temp</th>\n      <th>precipitation</th>\n      <th>pressure</th>\n      <th>snow_depth</th>\n    </tr>\n  </thead>\n  <tbody>\n    <tr>\n      <th>0</th>\n      <td>11688</td>\n      <td>2011-01-01</td>\n      <td>8.0</td>\n      <td>0.0</td>\n      <td>13.0</td>\n      <td>4.0</td>\n      <td>5.9</td>\n      <td>4.6</td>\n      <td>0.6</td>\n      <td>102500.0</td>\n      <td>0.0</td>\n    </tr>\n    <tr>\n      <th>1</th>\n      <td>11689</td>\n      <td>2011-01-02</td>\n      <td>8.0</td>\n      <td>0.1</td>\n      <td>15.0</td>\n      <td>2.9</td>\n      <td>3.0</td>\n      <td>1.9</td>\n      <td>0.0</td>\n      <td>102830.0</td>\n      <td>0.0</td>\n    </tr>\n    <tr>\n      <th>2</th>\n      <td>11690</td>\n      <td>2011-01-03</td>\n      <td>7.0</td>\n      <td>0.1</td>\n      <td>15.0</td>\n      <td>6.0</td>\n      <td>1.3</td>\n      <td>-0.3</td>\n      <td>0.0</td>\n      <td>102460.0</td>\n      <td>0.0</td>\n    </tr>\n    <tr>\n      <th>3</th>\n      <td>11691</td>\n      <td>2011-01-04</td>\n      <td>7.0</td>\n      <td>0.0</td>\n      <td>13.0</td>\n      <td>7.1</td>\n      <td>2.9</td>\n      <td>-0.3</td>\n      <td>0.0</td>\n      <td>101360.0</td>\n      <td>0.0</td>\n    </tr>\n    <tr>\n      <th>4</th>\n      <td>11692</td>\n      <td>2011-01-05</td>\n      <td>6.0</td>\n      <td>2.3</td>\n      <td>31.0</td>\n      <td>5.1</td>\n      <td>4.2</td>\n      <td>1.3</td>\n      <td>1.0</td>\n      <td>100040.0</td>\n      <td>0.0</td>\n    </tr>\n  </tbody>\n</table>\n</div>"
     },
     "execution_count": 710,
     "metadata": {},
     "output_type": "execute_result"
    }
   ],
   "source": [
    "LondonWeather_df.head()"
   ],
   "metadata": {
    "collapsed": false,
    "ExecuteTime": {
     "end_time": "2023-12-05T21:53:08.358624100Z",
     "start_time": "2023-12-05T21:53:08.098097300Z"
    }
   }
  },
  {
   "cell_type": "code",
   "execution_count": 711,
   "outputs": [
    {
     "data": {
      "text/plain": "        Date  volume weighted price\n0 2011-01-01                 47.744\n1 2011-01-02                 55.180\n2 2011-01-03                 49.660\n3 2011-01-04                 53.390\n4 2011-01-05                 48.530",
      "text/html": "<div>\n<style scoped>\n    .dataframe tbody tr th:only-of-type {\n        vertical-align: middle;\n    }\n\n    .dataframe tbody tr th {\n        vertical-align: top;\n    }\n\n    .dataframe thead th {\n        text-align: right;\n    }\n</style>\n<table border=\"1\" class=\"dataframe\">\n  <thead>\n    <tr style=\"text-align: right;\">\n      <th></th>\n      <th>Date</th>\n      <th>volume weighted price</th>\n    </tr>\n  </thead>\n  <tbody>\n    <tr>\n      <th>0</th>\n      <td>2011-01-01</td>\n      <td>47.744</td>\n    </tr>\n    <tr>\n      <th>1</th>\n      <td>2011-01-02</td>\n      <td>55.180</td>\n    </tr>\n    <tr>\n      <th>2</th>\n      <td>2011-01-03</td>\n      <td>49.660</td>\n    </tr>\n    <tr>\n      <th>3</th>\n      <td>2011-01-04</td>\n      <td>53.390</td>\n    </tr>\n    <tr>\n      <th>4</th>\n      <td>2011-01-05</td>\n      <td>48.530</td>\n    </tr>\n  </tbody>\n</table>\n</div>"
     },
     "execution_count": 711,
     "metadata": {},
     "output_type": "execute_result"
    }
   ],
   "source": [
    "EnergyCost_df.head()"
   ],
   "metadata": {
    "collapsed": false,
    "ExecuteTime": {
     "end_time": "2023-12-05T21:53:08.359625500Z",
     "start_time": "2023-12-05T21:53:08.103951900Z"
    }
   }
  },
  {
   "cell_type": "code",
   "execution_count": 712,
   "outputs": [
    {
     "name": "stdout",
     "output_type": "stream",
     "text": [
      "Index(['LCLid', 'Date', 'KWH', 'volume weighted price', 'index', 'cloud_cover',\n",
      "       'sunshine', 'global_radiation', 'max_temp', 'mean_temp', 'min_temp',\n",
      "       'precipitation', 'pressure', 'snow_depth'],\n",
      "      dtype='object')\n"
     ]
    },
    {
     "data": {
      "text/plain": "             LCLid       Date     KWH  volume weighted price  index  \\\n0        MAC000002 2012-10-12   7.098                  42.99  12338   \n1        MAC000003 2012-10-12  13.434                  42.99  12338   \n2        MAC000004 2012-10-12   1.522                  42.99  12338   \n3        MAC000005 2012-10-12   4.448                  42.99  12338   \n4        MAC000006 2012-10-12   4.074                  42.99  12338   \n...            ...        ...     ...                    ...    ...   \n1048570  MAC000267 2011-12-05  12.654                  43.18  12026   \n1048571  MAC000268 2011-12-05   3.099                  43.18  12026   \n1048572  MAC000269 2011-12-05   1.116                  43.18  12026   \n1048573  MAC000270 2011-12-05  12.937                  43.18  12026   \n1048574  MAC000271 2011-12-05   6.863                  43.18  12026   \n\n         cloud_cover  sunshine  global_radiation  max_temp  mean_temp  \\\n0                5.0       6.4             106.0      13.5       12.3   \n1                5.0       6.4             106.0      13.5       12.3   \n2                5.0       6.4             106.0      13.5       12.3   \n3                5.0       6.4             106.0      13.5       12.3   \n4                5.0       6.4             106.0      13.5       12.3   \n...              ...       ...               ...       ...        ...   \n1048570          1.0       3.1              35.0       9.0        4.8   \n1048571          1.0       3.1              35.0       9.0        4.8   \n1048572          1.0       3.1              35.0       9.0        4.8   \n1048573          1.0       3.1              35.0       9.0        4.8   \n1048574          1.0       3.1              35.0       9.0        4.8   \n\n         min_temp  precipitation  pressure  snow_depth  \n0             9.7            0.0  100580.0         0.0  \n1             9.7            0.0  100580.0         0.0  \n2             9.7            0.0  100580.0         0.0  \n3             9.7            0.0  100580.0         0.0  \n4             9.7            0.0  100580.0         0.0  \n...           ...            ...       ...         ...  \n1048570       1.9            0.0  100610.0         0.0  \n1048571       1.9            0.0  100610.0         0.0  \n1048572       1.9            0.0  100610.0         0.0  \n1048573       1.9            0.0  100610.0         0.0  \n1048574       1.9            0.0  100610.0         0.0  \n\n[1048575 rows x 14 columns]",
      "text/html": "<div>\n<style scoped>\n    .dataframe tbody tr th:only-of-type {\n        vertical-align: middle;\n    }\n\n    .dataframe tbody tr th {\n        vertical-align: top;\n    }\n\n    .dataframe thead th {\n        text-align: right;\n    }\n</style>\n<table border=\"1\" class=\"dataframe\">\n  <thead>\n    <tr style=\"text-align: right;\">\n      <th></th>\n      <th>LCLid</th>\n      <th>Date</th>\n      <th>KWH</th>\n      <th>volume weighted price</th>\n      <th>index</th>\n      <th>cloud_cover</th>\n      <th>sunshine</th>\n      <th>global_radiation</th>\n      <th>max_temp</th>\n      <th>mean_temp</th>\n      <th>min_temp</th>\n      <th>precipitation</th>\n      <th>pressure</th>\n      <th>snow_depth</th>\n    </tr>\n  </thead>\n  <tbody>\n    <tr>\n      <th>0</th>\n      <td>MAC000002</td>\n      <td>2012-10-12</td>\n      <td>7.098</td>\n      <td>42.99</td>\n      <td>12338</td>\n      <td>5.0</td>\n      <td>6.4</td>\n      <td>106.0</td>\n      <td>13.5</td>\n      <td>12.3</td>\n      <td>9.7</td>\n      <td>0.0</td>\n      <td>100580.0</td>\n      <td>0.0</td>\n    </tr>\n    <tr>\n      <th>1</th>\n      <td>MAC000003</td>\n      <td>2012-10-12</td>\n      <td>13.434</td>\n      <td>42.99</td>\n      <td>12338</td>\n      <td>5.0</td>\n      <td>6.4</td>\n      <td>106.0</td>\n      <td>13.5</td>\n      <td>12.3</td>\n      <td>9.7</td>\n      <td>0.0</td>\n      <td>100580.0</td>\n      <td>0.0</td>\n    </tr>\n    <tr>\n      <th>2</th>\n      <td>MAC000004</td>\n      <td>2012-10-12</td>\n      <td>1.522</td>\n      <td>42.99</td>\n      <td>12338</td>\n      <td>5.0</td>\n      <td>6.4</td>\n      <td>106.0</td>\n      <td>13.5</td>\n      <td>12.3</td>\n      <td>9.7</td>\n      <td>0.0</td>\n      <td>100580.0</td>\n      <td>0.0</td>\n    </tr>\n    <tr>\n      <th>3</th>\n      <td>MAC000005</td>\n      <td>2012-10-12</td>\n      <td>4.448</td>\n      <td>42.99</td>\n      <td>12338</td>\n      <td>5.0</td>\n      <td>6.4</td>\n      <td>106.0</td>\n      <td>13.5</td>\n      <td>12.3</td>\n      <td>9.7</td>\n      <td>0.0</td>\n      <td>100580.0</td>\n      <td>0.0</td>\n    </tr>\n    <tr>\n      <th>4</th>\n      <td>MAC000006</td>\n      <td>2012-10-12</td>\n      <td>4.074</td>\n      <td>42.99</td>\n      <td>12338</td>\n      <td>5.0</td>\n      <td>6.4</td>\n      <td>106.0</td>\n      <td>13.5</td>\n      <td>12.3</td>\n      <td>9.7</td>\n      <td>0.0</td>\n      <td>100580.0</td>\n      <td>0.0</td>\n    </tr>\n    <tr>\n      <th>...</th>\n      <td>...</td>\n      <td>...</td>\n      <td>...</td>\n      <td>...</td>\n      <td>...</td>\n      <td>...</td>\n      <td>...</td>\n      <td>...</td>\n      <td>...</td>\n      <td>...</td>\n      <td>...</td>\n      <td>...</td>\n      <td>...</td>\n      <td>...</td>\n    </tr>\n    <tr>\n      <th>1048570</th>\n      <td>MAC000267</td>\n      <td>2011-12-05</td>\n      <td>12.654</td>\n      <td>43.18</td>\n      <td>12026</td>\n      <td>1.0</td>\n      <td>3.1</td>\n      <td>35.0</td>\n      <td>9.0</td>\n      <td>4.8</td>\n      <td>1.9</td>\n      <td>0.0</td>\n      <td>100610.0</td>\n      <td>0.0</td>\n    </tr>\n    <tr>\n      <th>1048571</th>\n      <td>MAC000268</td>\n      <td>2011-12-05</td>\n      <td>3.099</td>\n      <td>43.18</td>\n      <td>12026</td>\n      <td>1.0</td>\n      <td>3.1</td>\n      <td>35.0</td>\n      <td>9.0</td>\n      <td>4.8</td>\n      <td>1.9</td>\n      <td>0.0</td>\n      <td>100610.0</td>\n      <td>0.0</td>\n    </tr>\n    <tr>\n      <th>1048572</th>\n      <td>MAC000269</td>\n      <td>2011-12-05</td>\n      <td>1.116</td>\n      <td>43.18</td>\n      <td>12026</td>\n      <td>1.0</td>\n      <td>3.1</td>\n      <td>35.0</td>\n      <td>9.0</td>\n      <td>4.8</td>\n      <td>1.9</td>\n      <td>0.0</td>\n      <td>100610.0</td>\n      <td>0.0</td>\n    </tr>\n    <tr>\n      <th>1048573</th>\n      <td>MAC000270</td>\n      <td>2011-12-05</td>\n      <td>12.937</td>\n      <td>43.18</td>\n      <td>12026</td>\n      <td>1.0</td>\n      <td>3.1</td>\n      <td>35.0</td>\n      <td>9.0</td>\n      <td>4.8</td>\n      <td>1.9</td>\n      <td>0.0</td>\n      <td>100610.0</td>\n      <td>0.0</td>\n    </tr>\n    <tr>\n      <th>1048574</th>\n      <td>MAC000271</td>\n      <td>2011-12-05</td>\n      <td>6.863</td>\n      <td>43.18</td>\n      <td>12026</td>\n      <td>1.0</td>\n      <td>3.1</td>\n      <td>35.0</td>\n      <td>9.0</td>\n      <td>4.8</td>\n      <td>1.9</td>\n      <td>0.0</td>\n      <td>100610.0</td>\n      <td>0.0</td>\n    </tr>\n  </tbody>\n</table>\n<p>1048575 rows × 14 columns</p>\n</div>"
     },
     "execution_count": 712,
     "metadata": {},
     "output_type": "execute_result"
    }
   ],
   "source": [
    "CleanedData_df = pd.merge(LondonEnergy_df, EnergyCost_df, on=\"Date\")\n",
    "CleanedData_df = pd.merge(CleanedData_df, LondonWeather_df, on=\"Date\")\n",
    "print(CleanedData_df.columns)\n",
    "CleanedData_df"
   ],
   "metadata": {
    "collapsed": false,
    "ExecuteTime": {
     "end_time": "2023-12-05T21:53:08.522555700Z",
     "start_time": "2023-12-05T21:53:08.111400Z"
    }
   }
  },
  {
   "cell_type": "markdown",
   "source": [
    "Add Time series variable days elapsed, month, week of year, and time of year"
   ],
   "metadata": {
    "collapsed": false
   }
  },
  {
   "cell_type": "code",
   "execution_count": 713,
   "outputs": [
    {
     "data": {
      "text/plain": "             LCLid       Date     KWH  volume weighted price  index  \\\n0        MAC000002 2012-10-12   7.098                  42.99  12338   \n1        MAC000003 2012-10-12  13.434                  42.99  12338   \n2        MAC000004 2012-10-12   1.522                  42.99  12338   \n3        MAC000005 2012-10-12   4.448                  42.99  12338   \n4        MAC000006 2012-10-12   4.074                  42.99  12338   \n...            ...        ...     ...                    ...    ...   \n1048570  MAC000267 2011-12-05  12.654                  43.18  12026   \n1048571  MAC000268 2011-12-05   3.099                  43.18  12026   \n1048572  MAC000269 2011-12-05   1.116                  43.18  12026   \n1048573  MAC000270 2011-12-05  12.937                  43.18  12026   \n1048574  MAC000271 2011-12-05   6.863                  43.18  12026   \n\n         cloud_cover  sunshine  global_radiation  max_temp  mean_temp  ...  \\\n0                5.0       6.4             106.0      13.5       12.3  ...   \n1                5.0       6.4             106.0      13.5       12.3  ...   \n2                5.0       6.4             106.0      13.5       12.3  ...   \n3                5.0       6.4             106.0      13.5       12.3  ...   \n4                5.0       6.4             106.0      13.5       12.3  ...   \n...              ...       ...               ...       ...        ...  ...   \n1048570          1.0       3.1              35.0       9.0        4.8  ...   \n1048571          1.0       3.1              35.0       9.0        4.8  ...   \n1048572          1.0       3.1              35.0       9.0        4.8  ...   \n1048573          1.0       3.1              35.0       9.0        4.8  ...   \n1048574          1.0       3.1              35.0       9.0        4.8  ...   \n\n         pressure  snow_depth  days_elapsed  weekday sin  weekday cos  \\\n0        100580.0         0.0           324    -0.433884    -0.900969   \n1        100580.0         0.0           324    -0.433884    -0.900969   \n2        100580.0         0.0           324    -0.433884    -0.900969   \n3        100580.0         0.0           324    -0.433884    -0.900969   \n4        100580.0         0.0           324    -0.433884    -0.900969   \n...           ...         ...           ...          ...          ...   \n1048570  100610.0         0.0            12     0.000000     1.000000   \n1048571  100610.0         0.0            12     0.000000     1.000000   \n1048572  100610.0         0.0            12     0.000000     1.000000   \n1048573  100610.0         0.0            12     0.000000     1.000000   \n1048574  100610.0         0.0            12     0.000000     1.000000   \n\n            month sin  month cos  Time of Year sin  Time of Year cos  year  \n0       -8.660254e-01        0.5         -0.982525          0.186128  2012  \n1       -8.660254e-01        0.5         -0.982525          0.186128  2012  \n2       -8.660254e-01        0.5         -0.982525          0.186128  2012  \n3       -8.660254e-01        0.5         -0.982525          0.186128  2012  \n4       -8.660254e-01        0.5         -0.982525          0.186128  2012  \n...               ...        ...               ...               ...   ...  \n1048570 -2.449294e-16        1.0         -0.450797          0.892627  2011  \n1048571 -2.449294e-16        1.0         -0.450797          0.892627  2011  \n1048572 -2.449294e-16        1.0         -0.450797          0.892627  2011  \n1048573 -2.449294e-16        1.0         -0.450797          0.892627  2011  \n1048574 -2.449294e-16        1.0         -0.450797          0.892627  2011  \n\n[1048575 rows x 22 columns]",
      "text/html": "<div>\n<style scoped>\n    .dataframe tbody tr th:only-of-type {\n        vertical-align: middle;\n    }\n\n    .dataframe tbody tr th {\n        vertical-align: top;\n    }\n\n    .dataframe thead th {\n        text-align: right;\n    }\n</style>\n<table border=\"1\" class=\"dataframe\">\n  <thead>\n    <tr style=\"text-align: right;\">\n      <th></th>\n      <th>LCLid</th>\n      <th>Date</th>\n      <th>KWH</th>\n      <th>volume weighted price</th>\n      <th>index</th>\n      <th>cloud_cover</th>\n      <th>sunshine</th>\n      <th>global_radiation</th>\n      <th>max_temp</th>\n      <th>mean_temp</th>\n      <th>...</th>\n      <th>pressure</th>\n      <th>snow_depth</th>\n      <th>days_elapsed</th>\n      <th>weekday sin</th>\n      <th>weekday cos</th>\n      <th>month sin</th>\n      <th>month cos</th>\n      <th>Time of Year sin</th>\n      <th>Time of Year cos</th>\n      <th>year</th>\n    </tr>\n  </thead>\n  <tbody>\n    <tr>\n      <th>0</th>\n      <td>MAC000002</td>\n      <td>2012-10-12</td>\n      <td>7.098</td>\n      <td>42.99</td>\n      <td>12338</td>\n      <td>5.0</td>\n      <td>6.4</td>\n      <td>106.0</td>\n      <td>13.5</td>\n      <td>12.3</td>\n      <td>...</td>\n      <td>100580.0</td>\n      <td>0.0</td>\n      <td>324</td>\n      <td>-0.433884</td>\n      <td>-0.900969</td>\n      <td>-8.660254e-01</td>\n      <td>0.5</td>\n      <td>-0.982525</td>\n      <td>0.186128</td>\n      <td>2012</td>\n    </tr>\n    <tr>\n      <th>1</th>\n      <td>MAC000003</td>\n      <td>2012-10-12</td>\n      <td>13.434</td>\n      <td>42.99</td>\n      <td>12338</td>\n      <td>5.0</td>\n      <td>6.4</td>\n      <td>106.0</td>\n      <td>13.5</td>\n      <td>12.3</td>\n      <td>...</td>\n      <td>100580.0</td>\n      <td>0.0</td>\n      <td>324</td>\n      <td>-0.433884</td>\n      <td>-0.900969</td>\n      <td>-8.660254e-01</td>\n      <td>0.5</td>\n      <td>-0.982525</td>\n      <td>0.186128</td>\n      <td>2012</td>\n    </tr>\n    <tr>\n      <th>2</th>\n      <td>MAC000004</td>\n      <td>2012-10-12</td>\n      <td>1.522</td>\n      <td>42.99</td>\n      <td>12338</td>\n      <td>5.0</td>\n      <td>6.4</td>\n      <td>106.0</td>\n      <td>13.5</td>\n      <td>12.3</td>\n      <td>...</td>\n      <td>100580.0</td>\n      <td>0.0</td>\n      <td>324</td>\n      <td>-0.433884</td>\n      <td>-0.900969</td>\n      <td>-8.660254e-01</td>\n      <td>0.5</td>\n      <td>-0.982525</td>\n      <td>0.186128</td>\n      <td>2012</td>\n    </tr>\n    <tr>\n      <th>3</th>\n      <td>MAC000005</td>\n      <td>2012-10-12</td>\n      <td>4.448</td>\n      <td>42.99</td>\n      <td>12338</td>\n      <td>5.0</td>\n      <td>6.4</td>\n      <td>106.0</td>\n      <td>13.5</td>\n      <td>12.3</td>\n      <td>...</td>\n      <td>100580.0</td>\n      <td>0.0</td>\n      <td>324</td>\n      <td>-0.433884</td>\n      <td>-0.900969</td>\n      <td>-8.660254e-01</td>\n      <td>0.5</td>\n      <td>-0.982525</td>\n      <td>0.186128</td>\n      <td>2012</td>\n    </tr>\n    <tr>\n      <th>4</th>\n      <td>MAC000006</td>\n      <td>2012-10-12</td>\n      <td>4.074</td>\n      <td>42.99</td>\n      <td>12338</td>\n      <td>5.0</td>\n      <td>6.4</td>\n      <td>106.0</td>\n      <td>13.5</td>\n      <td>12.3</td>\n      <td>...</td>\n      <td>100580.0</td>\n      <td>0.0</td>\n      <td>324</td>\n      <td>-0.433884</td>\n      <td>-0.900969</td>\n      <td>-8.660254e-01</td>\n      <td>0.5</td>\n      <td>-0.982525</td>\n      <td>0.186128</td>\n      <td>2012</td>\n    </tr>\n    <tr>\n      <th>...</th>\n      <td>...</td>\n      <td>...</td>\n      <td>...</td>\n      <td>...</td>\n      <td>...</td>\n      <td>...</td>\n      <td>...</td>\n      <td>...</td>\n      <td>...</td>\n      <td>...</td>\n      <td>...</td>\n      <td>...</td>\n      <td>...</td>\n      <td>...</td>\n      <td>...</td>\n      <td>...</td>\n      <td>...</td>\n      <td>...</td>\n      <td>...</td>\n      <td>...</td>\n      <td>...</td>\n    </tr>\n    <tr>\n      <th>1048570</th>\n      <td>MAC000267</td>\n      <td>2011-12-05</td>\n      <td>12.654</td>\n      <td>43.18</td>\n      <td>12026</td>\n      <td>1.0</td>\n      <td>3.1</td>\n      <td>35.0</td>\n      <td>9.0</td>\n      <td>4.8</td>\n      <td>...</td>\n      <td>100610.0</td>\n      <td>0.0</td>\n      <td>12</td>\n      <td>0.000000</td>\n      <td>1.000000</td>\n      <td>-2.449294e-16</td>\n      <td>1.0</td>\n      <td>-0.450797</td>\n      <td>0.892627</td>\n      <td>2011</td>\n    </tr>\n    <tr>\n      <th>1048571</th>\n      <td>MAC000268</td>\n      <td>2011-12-05</td>\n      <td>3.099</td>\n      <td>43.18</td>\n      <td>12026</td>\n      <td>1.0</td>\n      <td>3.1</td>\n      <td>35.0</td>\n      <td>9.0</td>\n      <td>4.8</td>\n      <td>...</td>\n      <td>100610.0</td>\n      <td>0.0</td>\n      <td>12</td>\n      <td>0.000000</td>\n      <td>1.000000</td>\n      <td>-2.449294e-16</td>\n      <td>1.0</td>\n      <td>-0.450797</td>\n      <td>0.892627</td>\n      <td>2011</td>\n    </tr>\n    <tr>\n      <th>1048572</th>\n      <td>MAC000269</td>\n      <td>2011-12-05</td>\n      <td>1.116</td>\n      <td>43.18</td>\n      <td>12026</td>\n      <td>1.0</td>\n      <td>3.1</td>\n      <td>35.0</td>\n      <td>9.0</td>\n      <td>4.8</td>\n      <td>...</td>\n      <td>100610.0</td>\n      <td>0.0</td>\n      <td>12</td>\n      <td>0.000000</td>\n      <td>1.000000</td>\n      <td>-2.449294e-16</td>\n      <td>1.0</td>\n      <td>-0.450797</td>\n      <td>0.892627</td>\n      <td>2011</td>\n    </tr>\n    <tr>\n      <th>1048573</th>\n      <td>MAC000270</td>\n      <td>2011-12-05</td>\n      <td>12.937</td>\n      <td>43.18</td>\n      <td>12026</td>\n      <td>1.0</td>\n      <td>3.1</td>\n      <td>35.0</td>\n      <td>9.0</td>\n      <td>4.8</td>\n      <td>...</td>\n      <td>100610.0</td>\n      <td>0.0</td>\n      <td>12</td>\n      <td>0.000000</td>\n      <td>1.000000</td>\n      <td>-2.449294e-16</td>\n      <td>1.0</td>\n      <td>-0.450797</td>\n      <td>0.892627</td>\n      <td>2011</td>\n    </tr>\n    <tr>\n      <th>1048574</th>\n      <td>MAC000271</td>\n      <td>2011-12-05</td>\n      <td>6.863</td>\n      <td>43.18</td>\n      <td>12026</td>\n      <td>1.0</td>\n      <td>3.1</td>\n      <td>35.0</td>\n      <td>9.0</td>\n      <td>4.8</td>\n      <td>...</td>\n      <td>100610.0</td>\n      <td>0.0</td>\n      <td>12</td>\n      <td>0.000000</td>\n      <td>1.000000</td>\n      <td>-2.449294e-16</td>\n      <td>1.0</td>\n      <td>-0.450797</td>\n      <td>0.892627</td>\n      <td>2011</td>\n    </tr>\n  </tbody>\n</table>\n<p>1048575 rows × 22 columns</p>\n</div>"
     },
     "execution_count": 713,
     "metadata": {},
     "output_type": "execute_result"
    }
   ],
   "source": [
    "date_time = pd.to_datetime(CleanedData_df['Date'], format='%Y-%m-%d')\n",
    "timestamp_s = date_time.map(pd.Timestamp.timestamp) #Dates in seconds\n",
    "#Elapsed days\n",
    "MIN_DATE = CleanedData_df['Date'].min()\n",
    "CleanedData_df['days_elapsed'] = CleanedData_df.apply(lambda x: (x[\"Date\"] - MIN_DATE).days, axis=1)\n",
    "# Day of week\n",
    "weekday = CleanedData_df[\"Date\"].apply(lambda dt: dt.weekday())\n",
    "CleanedData_df['weekday sin'] = np.sin(weekday*(2*np.pi/7))\n",
    "CleanedData_df['weekday cos'] = np.cos(weekday*(2*np.pi/7))\n",
    "# Month of the year\n",
    "month = CleanedData_df[\"Date\"].apply(lambda dt: dt.month)\n",
    "CleanedData_df['month sin'] = np.sin(month*(2*np.pi/12))\n",
    "CleanedData_df['month cos'] = np.cos(month*(2*np.pi/12))\n",
    "#From tensorflow time_series #Feature-engineering example\n",
    "# Time of year\n",
    "day = 24*60*60\n",
    "year = (365.2425)*day\n",
    "CleanedData_df['Time of Year sin'] = np.sin(timestamp_s * (2 * np.pi / year))\n",
    "CleanedData_df['Time of Year cos'] = np.cos(timestamp_s * (2 * np.pi / year))\n",
    "# Year\n",
    "CleanedData_df['year'] = CleanedData_df[\"Date\"].apply(lambda dt: dt.year)\n",
    "CleanedData_df"
   ],
   "metadata": {
    "collapsed": false,
    "ExecuteTime": {
     "end_time": "2023-12-05T21:53:21.079077600Z",
     "start_time": "2023-12-05T21:53:08.382427800Z"
    }
   }
  },
  {
   "cell_type": "code",
   "execution_count": 713,
   "outputs": [],
   "source": [],
   "metadata": {
    "collapsed": false,
    "ExecuteTime": {
     "end_time": "2023-12-05T21:53:21.080583900Z",
     "start_time": "2023-12-05T21:53:21.079581500Z"
    }
   }
  },
  {
   "cell_type": "markdown",
   "source": [
    "Average the KWH data so that we get a single label for each day,\n",
    "then drop all but the first entry for each day,\n",
    "then delete the LCLid, index, and KWH columns as they dont represent any meaningful data.\n"
   ],
   "metadata": {
    "collapsed": false
   }
  },
  {
   "cell_type": "code",
   "execution_count": 714,
   "outputs": [
    {
     "data": {
      "text/plain": "             LCLid       Date     KWH  volume weighted price  index  \\\n0        MAC000002 2012-10-12   7.098                  42.99  12338   \n1554     MAC000002 2012-10-13  11.087                  50.25  12339   \n3107     MAC000002 2012-10-14  13.223                  63.44  12340   \n4660     MAC000002 2012-10-15  10.257                  56.63  12341   \n6215     MAC000002 2012-10-16   9.769                  46.57  12342   \n...            ...        ...     ...                    ...    ...   \n1048037  MAC000145 2011-12-01  13.572                  47.60  12022   \n1048129  MAC000145 2011-12-02  11.720                  46.43  12023   \n1048229  MAC000145 2011-12-03  13.170                  41.53  12024   \n1048339  MAC000145 2011-12-04  16.575                  44.75  12025   \n1048449  MAC000145 2011-12-05  12.427                  43.18  12026   \n\n         cloud_cover  sunshine  global_radiation  max_temp  mean_temp  ...  \\\n0                5.0       6.4             106.0      13.5       12.3  ...   \n1554             4.0       4.1              85.0      12.9        9.6  ...   \n3107             1.0       7.7             113.0      14.2        7.4  ...   \n4660             6.0       0.6              44.0      15.9        8.6  ...   \n6215             4.0       7.3             107.0      17.5       12.1  ...   \n...              ...       ...               ...       ...        ...  ...   \n1048037          7.0       0.7              22.0      11.4        9.5  ...   \n1048129          3.0       4.1              41.0      11.9        6.8  ...   \n1048229          7.0       1.2              25.0       9.5        7.7  ...   \n1048339          6.0       0.0              13.0       7.6        8.2  ...   \n1048449          1.0       3.1              35.0       9.0        4.8  ...   \n\n         snow_depth  days_elapsed  weekday sin  weekday cos     month sin  \\\n0               0.0           324    -0.433884    -0.900969 -8.660254e-01   \n1554            0.0           325    -0.974928    -0.222521 -8.660254e-01   \n3107            0.0           326    -0.781831     0.623490 -8.660254e-01   \n4660            0.0           327     0.000000     1.000000 -8.660254e-01   \n6215            0.0           328     0.781831     0.623490 -8.660254e-01   \n...             ...           ...          ...          ...           ...   \n1048037         0.0             8     0.433884    -0.900969 -2.449294e-16   \n1048129         0.0             9    -0.433884    -0.900969 -2.449294e-16   \n1048229         0.0            10    -0.974928    -0.222521 -2.449294e-16   \n1048339         0.0            11    -0.781831     0.623490 -2.449294e-16   \n1048449         0.0            12     0.000000     1.000000 -2.449294e-16   \n\n         month cos  Time of Year sin  Time of Year cos  year     avgKWH  \n0              0.5         -0.982525          0.186128  2012   9.255908  \n1554           0.5         -0.979178          0.203002  2012   9.655415  \n3107           0.5         -0.975541          0.219816  2012  10.254760  \n4660           0.5         -0.971616          0.236564  2012   9.820895  \n6215           0.5         -0.967403          0.253243  2012   9.424696  \n...            ...               ...               ...   ...        ...  \n1048037        1.0         -0.511104          0.859519  2011   9.227707  \n1048129        1.0         -0.496243          0.868184  2011  10.145910  \n1048229        1.0         -0.481235          0.876592  2011  10.780273  \n1048339        1.0         -0.466085          0.884740  2011  12.163127  \n1048449        1.0         -0.450797          0.892627  2011  10.609714  \n\n[829 rows x 23 columns]",
      "text/html": "<div>\n<style scoped>\n    .dataframe tbody tr th:only-of-type {\n        vertical-align: middle;\n    }\n\n    .dataframe tbody tr th {\n        vertical-align: top;\n    }\n\n    .dataframe thead th {\n        text-align: right;\n    }\n</style>\n<table border=\"1\" class=\"dataframe\">\n  <thead>\n    <tr style=\"text-align: right;\">\n      <th></th>\n      <th>LCLid</th>\n      <th>Date</th>\n      <th>KWH</th>\n      <th>volume weighted price</th>\n      <th>index</th>\n      <th>cloud_cover</th>\n      <th>sunshine</th>\n      <th>global_radiation</th>\n      <th>max_temp</th>\n      <th>mean_temp</th>\n      <th>...</th>\n      <th>snow_depth</th>\n      <th>days_elapsed</th>\n      <th>weekday sin</th>\n      <th>weekday cos</th>\n      <th>month sin</th>\n      <th>month cos</th>\n      <th>Time of Year sin</th>\n      <th>Time of Year cos</th>\n      <th>year</th>\n      <th>avgKWH</th>\n    </tr>\n  </thead>\n  <tbody>\n    <tr>\n      <th>0</th>\n      <td>MAC000002</td>\n      <td>2012-10-12</td>\n      <td>7.098</td>\n      <td>42.99</td>\n      <td>12338</td>\n      <td>5.0</td>\n      <td>6.4</td>\n      <td>106.0</td>\n      <td>13.5</td>\n      <td>12.3</td>\n      <td>...</td>\n      <td>0.0</td>\n      <td>324</td>\n      <td>-0.433884</td>\n      <td>-0.900969</td>\n      <td>-8.660254e-01</td>\n      <td>0.5</td>\n      <td>-0.982525</td>\n      <td>0.186128</td>\n      <td>2012</td>\n      <td>9.255908</td>\n    </tr>\n    <tr>\n      <th>1554</th>\n      <td>MAC000002</td>\n      <td>2012-10-13</td>\n      <td>11.087</td>\n      <td>50.25</td>\n      <td>12339</td>\n      <td>4.0</td>\n      <td>4.1</td>\n      <td>85.0</td>\n      <td>12.9</td>\n      <td>9.6</td>\n      <td>...</td>\n      <td>0.0</td>\n      <td>325</td>\n      <td>-0.974928</td>\n      <td>-0.222521</td>\n      <td>-8.660254e-01</td>\n      <td>0.5</td>\n      <td>-0.979178</td>\n      <td>0.203002</td>\n      <td>2012</td>\n      <td>9.655415</td>\n    </tr>\n    <tr>\n      <th>3107</th>\n      <td>MAC000002</td>\n      <td>2012-10-14</td>\n      <td>13.223</td>\n      <td>63.44</td>\n      <td>12340</td>\n      <td>1.0</td>\n      <td>7.7</td>\n      <td>113.0</td>\n      <td>14.2</td>\n      <td>7.4</td>\n      <td>...</td>\n      <td>0.0</td>\n      <td>326</td>\n      <td>-0.781831</td>\n      <td>0.623490</td>\n      <td>-8.660254e-01</td>\n      <td>0.5</td>\n      <td>-0.975541</td>\n      <td>0.219816</td>\n      <td>2012</td>\n      <td>10.254760</td>\n    </tr>\n    <tr>\n      <th>4660</th>\n      <td>MAC000002</td>\n      <td>2012-10-15</td>\n      <td>10.257</td>\n      <td>56.63</td>\n      <td>12341</td>\n      <td>6.0</td>\n      <td>0.6</td>\n      <td>44.0</td>\n      <td>15.9</td>\n      <td>8.6</td>\n      <td>...</td>\n      <td>0.0</td>\n      <td>327</td>\n      <td>0.000000</td>\n      <td>1.000000</td>\n      <td>-8.660254e-01</td>\n      <td>0.5</td>\n      <td>-0.971616</td>\n      <td>0.236564</td>\n      <td>2012</td>\n      <td>9.820895</td>\n    </tr>\n    <tr>\n      <th>6215</th>\n      <td>MAC000002</td>\n      <td>2012-10-16</td>\n      <td>9.769</td>\n      <td>46.57</td>\n      <td>12342</td>\n      <td>4.0</td>\n      <td>7.3</td>\n      <td>107.0</td>\n      <td>17.5</td>\n      <td>12.1</td>\n      <td>...</td>\n      <td>0.0</td>\n      <td>328</td>\n      <td>0.781831</td>\n      <td>0.623490</td>\n      <td>-8.660254e-01</td>\n      <td>0.5</td>\n      <td>-0.967403</td>\n      <td>0.253243</td>\n      <td>2012</td>\n      <td>9.424696</td>\n    </tr>\n    <tr>\n      <th>...</th>\n      <td>...</td>\n      <td>...</td>\n      <td>...</td>\n      <td>...</td>\n      <td>...</td>\n      <td>...</td>\n      <td>...</td>\n      <td>...</td>\n      <td>...</td>\n      <td>...</td>\n      <td>...</td>\n      <td>...</td>\n      <td>...</td>\n      <td>...</td>\n      <td>...</td>\n      <td>...</td>\n      <td>...</td>\n      <td>...</td>\n      <td>...</td>\n      <td>...</td>\n      <td>...</td>\n    </tr>\n    <tr>\n      <th>1048037</th>\n      <td>MAC000145</td>\n      <td>2011-12-01</td>\n      <td>13.572</td>\n      <td>47.60</td>\n      <td>12022</td>\n      <td>7.0</td>\n      <td>0.7</td>\n      <td>22.0</td>\n      <td>11.4</td>\n      <td>9.5</td>\n      <td>...</td>\n      <td>0.0</td>\n      <td>8</td>\n      <td>0.433884</td>\n      <td>-0.900969</td>\n      <td>-2.449294e-16</td>\n      <td>1.0</td>\n      <td>-0.511104</td>\n      <td>0.859519</td>\n      <td>2011</td>\n      <td>9.227707</td>\n    </tr>\n    <tr>\n      <th>1048129</th>\n      <td>MAC000145</td>\n      <td>2011-12-02</td>\n      <td>11.720</td>\n      <td>46.43</td>\n      <td>12023</td>\n      <td>3.0</td>\n      <td>4.1</td>\n      <td>41.0</td>\n      <td>11.9</td>\n      <td>6.8</td>\n      <td>...</td>\n      <td>0.0</td>\n      <td>9</td>\n      <td>-0.433884</td>\n      <td>-0.900969</td>\n      <td>-2.449294e-16</td>\n      <td>1.0</td>\n      <td>-0.496243</td>\n      <td>0.868184</td>\n      <td>2011</td>\n      <td>10.145910</td>\n    </tr>\n    <tr>\n      <th>1048229</th>\n      <td>MAC000145</td>\n      <td>2011-12-03</td>\n      <td>13.170</td>\n      <td>41.53</td>\n      <td>12024</td>\n      <td>7.0</td>\n      <td>1.2</td>\n      <td>25.0</td>\n      <td>9.5</td>\n      <td>7.7</td>\n      <td>...</td>\n      <td>0.0</td>\n      <td>10</td>\n      <td>-0.974928</td>\n      <td>-0.222521</td>\n      <td>-2.449294e-16</td>\n      <td>1.0</td>\n      <td>-0.481235</td>\n      <td>0.876592</td>\n      <td>2011</td>\n      <td>10.780273</td>\n    </tr>\n    <tr>\n      <th>1048339</th>\n      <td>MAC000145</td>\n      <td>2011-12-04</td>\n      <td>16.575</td>\n      <td>44.75</td>\n      <td>12025</td>\n      <td>6.0</td>\n      <td>0.0</td>\n      <td>13.0</td>\n      <td>7.6</td>\n      <td>8.2</td>\n      <td>...</td>\n      <td>0.0</td>\n      <td>11</td>\n      <td>-0.781831</td>\n      <td>0.623490</td>\n      <td>-2.449294e-16</td>\n      <td>1.0</td>\n      <td>-0.466085</td>\n      <td>0.884740</td>\n      <td>2011</td>\n      <td>12.163127</td>\n    </tr>\n    <tr>\n      <th>1048449</th>\n      <td>MAC000145</td>\n      <td>2011-12-05</td>\n      <td>12.427</td>\n      <td>43.18</td>\n      <td>12026</td>\n      <td>1.0</td>\n      <td>3.1</td>\n      <td>35.0</td>\n      <td>9.0</td>\n      <td>4.8</td>\n      <td>...</td>\n      <td>0.0</td>\n      <td>12</td>\n      <td>0.000000</td>\n      <td>1.000000</td>\n      <td>-2.449294e-16</td>\n      <td>1.0</td>\n      <td>-0.450797</td>\n      <td>0.892627</td>\n      <td>2011</td>\n      <td>10.609714</td>\n    </tr>\n  </tbody>\n</table>\n<p>829 rows × 23 columns</p>\n</div>"
     },
     "execution_count": 714,
     "metadata": {},
     "output_type": "execute_result"
    }
   ],
   "source": [
    "CleanedData_df['avgKWH'] = CleanedData_df.groupby('Date')['KWH'].transform('mean')\n",
    "CleanedData_df = CleanedData_df.drop_duplicates(subset=['Date'], keep='first')\n",
    "CleanedData_df"
   ],
   "metadata": {
    "collapsed": false,
    "ExecuteTime": {
     "end_time": "2023-12-05T21:53:21.166053100Z",
     "start_time": "2023-12-05T21:53:21.080583900Z"
    }
   }
  },
  {
   "cell_type": "code",
   "execution_count": 715,
   "outputs": [
    {
     "data": {
      "text/plain": "0          12338\n1554       12339\n3107       12340\n4660       12341\n6215       12342\n           ...  \n1048037    12022\n1048129    12023\n1048229    12024\n1048339    12025\n1048449    12026\nName: index, Length: 829, dtype: int64"
     },
     "execution_count": 715,
     "metadata": {},
     "output_type": "execute_result"
    }
   ],
   "source": [
    "CleanedData_df.pop('LCLid')\n",
    "CleanedData_df.pop('KWH')\n",
    "CleanedData_df.pop('index')"
   ],
   "metadata": {
    "collapsed": false,
    "ExecuteTime": {
     "end_time": "2023-12-05T21:53:21.166053100Z",
     "start_time": "2023-12-05T21:53:21.144158100Z"
    }
   }
  },
  {
   "cell_type": "code",
   "execution_count": 716,
   "outputs": [
    {
     "data": {
      "text/plain": "              Date  volume weighted price  cloud_cover  sunshine  \\\n0       2012-10-12                  42.99          5.0       6.4   \n1554    2012-10-13                  50.25          4.0       4.1   \n3107    2012-10-14                  63.44          1.0       7.7   \n4660    2012-10-15                  56.63          6.0       0.6   \n6215    2012-10-16                  46.57          4.0       7.3   \n...            ...                    ...          ...       ...   \n1048037 2011-12-01                  47.60          7.0       0.7   \n1048129 2011-12-02                  46.43          3.0       4.1   \n1048229 2011-12-03                  41.53          7.0       1.2   \n1048339 2011-12-04                  44.75          6.0       0.0   \n1048449 2011-12-05                  43.18          1.0       3.1   \n\n         global_radiation  max_temp  mean_temp  min_temp  precipitation  \\\n0                   106.0      13.5       12.3       9.7            0.0   \n1554                 85.0      12.9        9.6       5.6            0.8   \n3107                113.0      14.2        7.4       1.9            0.0   \n4660                 44.0      15.9        8.6       2.9            1.4   \n6215                107.0      17.5       12.1       8.3           12.0   \n...                   ...       ...        ...       ...            ...   \n1048037              22.0      11.4        9.5       8.0            5.0   \n1048129              41.0      11.9        6.8       2.1            0.8   \n1048229              25.0       9.5        7.7       3.4            0.0   \n1048339              13.0       7.6        8.2       6.9            0.6   \n1048449              35.0       9.0        4.8       1.9            0.0   \n\n         pressure  snow_depth  days_elapsed  weekday sin  weekday cos  \\\n0        100580.0         0.0           324    -0.433884    -0.900969   \n1554     100480.0         0.0           325    -0.974928    -0.222521   \n3107     100270.0         0.0           326    -0.781831     0.623490   \n4660     100240.0         0.0           327     0.000000     1.000000   \n6215     100090.0         0.0           328     0.781831     0.623490   \n...           ...         ...           ...          ...          ...   \n1048037  100710.0         0.0             8     0.433884    -0.900969   \n1048129  101220.0         0.0             9    -0.433884    -0.900969   \n1048229  100360.0         0.0            10    -0.974928    -0.222521   \n1048339  100120.0         0.0            11    -0.781831     0.623490   \n1048449  100610.0         0.0            12     0.000000     1.000000   \n\n            month sin  month cos  Time of Year sin  Time of Year cos  year  \\\n0       -8.660254e-01        0.5         -0.982525          0.186128  2012   \n1554    -8.660254e-01        0.5         -0.979178          0.203002  2012   \n3107    -8.660254e-01        0.5         -0.975541          0.219816  2012   \n4660    -8.660254e-01        0.5         -0.971616          0.236564  2012   \n6215    -8.660254e-01        0.5         -0.967403          0.253243  2012   \n...               ...        ...               ...               ...   ...   \n1048037 -2.449294e-16        1.0         -0.511104          0.859519  2011   \n1048129 -2.449294e-16        1.0         -0.496243          0.868184  2011   \n1048229 -2.449294e-16        1.0         -0.481235          0.876592  2011   \n1048339 -2.449294e-16        1.0         -0.466085          0.884740  2011   \n1048449 -2.449294e-16        1.0         -0.450797          0.892627  2011   \n\n            avgKWH  \n0         9.255908  \n1554      9.655415  \n3107     10.254760  \n4660      9.820895  \n6215      9.424696  \n...            ...  \n1048037   9.227707  \n1048129  10.145910  \n1048229  10.780273  \n1048339  12.163127  \n1048449  10.609714  \n\n[829 rows x 20 columns]",
      "text/html": "<div>\n<style scoped>\n    .dataframe tbody tr th:only-of-type {\n        vertical-align: middle;\n    }\n\n    .dataframe tbody tr th {\n        vertical-align: top;\n    }\n\n    .dataframe thead th {\n        text-align: right;\n    }\n</style>\n<table border=\"1\" class=\"dataframe\">\n  <thead>\n    <tr style=\"text-align: right;\">\n      <th></th>\n      <th>Date</th>\n      <th>volume weighted price</th>\n      <th>cloud_cover</th>\n      <th>sunshine</th>\n      <th>global_radiation</th>\n      <th>max_temp</th>\n      <th>mean_temp</th>\n      <th>min_temp</th>\n      <th>precipitation</th>\n      <th>pressure</th>\n      <th>snow_depth</th>\n      <th>days_elapsed</th>\n      <th>weekday sin</th>\n      <th>weekday cos</th>\n      <th>month sin</th>\n      <th>month cos</th>\n      <th>Time of Year sin</th>\n      <th>Time of Year cos</th>\n      <th>year</th>\n      <th>avgKWH</th>\n    </tr>\n  </thead>\n  <tbody>\n    <tr>\n      <th>0</th>\n      <td>2012-10-12</td>\n      <td>42.99</td>\n      <td>5.0</td>\n      <td>6.4</td>\n      <td>106.0</td>\n      <td>13.5</td>\n      <td>12.3</td>\n      <td>9.7</td>\n      <td>0.0</td>\n      <td>100580.0</td>\n      <td>0.0</td>\n      <td>324</td>\n      <td>-0.433884</td>\n      <td>-0.900969</td>\n      <td>-8.660254e-01</td>\n      <td>0.5</td>\n      <td>-0.982525</td>\n      <td>0.186128</td>\n      <td>2012</td>\n      <td>9.255908</td>\n    </tr>\n    <tr>\n      <th>1554</th>\n      <td>2012-10-13</td>\n      <td>50.25</td>\n      <td>4.0</td>\n      <td>4.1</td>\n      <td>85.0</td>\n      <td>12.9</td>\n      <td>9.6</td>\n      <td>5.6</td>\n      <td>0.8</td>\n      <td>100480.0</td>\n      <td>0.0</td>\n      <td>325</td>\n      <td>-0.974928</td>\n      <td>-0.222521</td>\n      <td>-8.660254e-01</td>\n      <td>0.5</td>\n      <td>-0.979178</td>\n      <td>0.203002</td>\n      <td>2012</td>\n      <td>9.655415</td>\n    </tr>\n    <tr>\n      <th>3107</th>\n      <td>2012-10-14</td>\n      <td>63.44</td>\n      <td>1.0</td>\n      <td>7.7</td>\n      <td>113.0</td>\n      <td>14.2</td>\n      <td>7.4</td>\n      <td>1.9</td>\n      <td>0.0</td>\n      <td>100270.0</td>\n      <td>0.0</td>\n      <td>326</td>\n      <td>-0.781831</td>\n      <td>0.623490</td>\n      <td>-8.660254e-01</td>\n      <td>0.5</td>\n      <td>-0.975541</td>\n      <td>0.219816</td>\n      <td>2012</td>\n      <td>10.254760</td>\n    </tr>\n    <tr>\n      <th>4660</th>\n      <td>2012-10-15</td>\n      <td>56.63</td>\n      <td>6.0</td>\n      <td>0.6</td>\n      <td>44.0</td>\n      <td>15.9</td>\n      <td>8.6</td>\n      <td>2.9</td>\n      <td>1.4</td>\n      <td>100240.0</td>\n      <td>0.0</td>\n      <td>327</td>\n      <td>0.000000</td>\n      <td>1.000000</td>\n      <td>-8.660254e-01</td>\n      <td>0.5</td>\n      <td>-0.971616</td>\n      <td>0.236564</td>\n      <td>2012</td>\n      <td>9.820895</td>\n    </tr>\n    <tr>\n      <th>6215</th>\n      <td>2012-10-16</td>\n      <td>46.57</td>\n      <td>4.0</td>\n      <td>7.3</td>\n      <td>107.0</td>\n      <td>17.5</td>\n      <td>12.1</td>\n      <td>8.3</td>\n      <td>12.0</td>\n      <td>100090.0</td>\n      <td>0.0</td>\n      <td>328</td>\n      <td>0.781831</td>\n      <td>0.623490</td>\n      <td>-8.660254e-01</td>\n      <td>0.5</td>\n      <td>-0.967403</td>\n      <td>0.253243</td>\n      <td>2012</td>\n      <td>9.424696</td>\n    </tr>\n    <tr>\n      <th>...</th>\n      <td>...</td>\n      <td>...</td>\n      <td>...</td>\n      <td>...</td>\n      <td>...</td>\n      <td>...</td>\n      <td>...</td>\n      <td>...</td>\n      <td>...</td>\n      <td>...</td>\n      <td>...</td>\n      <td>...</td>\n      <td>...</td>\n      <td>...</td>\n      <td>...</td>\n      <td>...</td>\n      <td>...</td>\n      <td>...</td>\n      <td>...</td>\n      <td>...</td>\n    </tr>\n    <tr>\n      <th>1048037</th>\n      <td>2011-12-01</td>\n      <td>47.60</td>\n      <td>7.0</td>\n      <td>0.7</td>\n      <td>22.0</td>\n      <td>11.4</td>\n      <td>9.5</td>\n      <td>8.0</td>\n      <td>5.0</td>\n      <td>100710.0</td>\n      <td>0.0</td>\n      <td>8</td>\n      <td>0.433884</td>\n      <td>-0.900969</td>\n      <td>-2.449294e-16</td>\n      <td>1.0</td>\n      <td>-0.511104</td>\n      <td>0.859519</td>\n      <td>2011</td>\n      <td>9.227707</td>\n    </tr>\n    <tr>\n      <th>1048129</th>\n      <td>2011-12-02</td>\n      <td>46.43</td>\n      <td>3.0</td>\n      <td>4.1</td>\n      <td>41.0</td>\n      <td>11.9</td>\n      <td>6.8</td>\n      <td>2.1</td>\n      <td>0.8</td>\n      <td>101220.0</td>\n      <td>0.0</td>\n      <td>9</td>\n      <td>-0.433884</td>\n      <td>-0.900969</td>\n      <td>-2.449294e-16</td>\n      <td>1.0</td>\n      <td>-0.496243</td>\n      <td>0.868184</td>\n      <td>2011</td>\n      <td>10.145910</td>\n    </tr>\n    <tr>\n      <th>1048229</th>\n      <td>2011-12-03</td>\n      <td>41.53</td>\n      <td>7.0</td>\n      <td>1.2</td>\n      <td>25.0</td>\n      <td>9.5</td>\n      <td>7.7</td>\n      <td>3.4</td>\n      <td>0.0</td>\n      <td>100360.0</td>\n      <td>0.0</td>\n      <td>10</td>\n      <td>-0.974928</td>\n      <td>-0.222521</td>\n      <td>-2.449294e-16</td>\n      <td>1.0</td>\n      <td>-0.481235</td>\n      <td>0.876592</td>\n      <td>2011</td>\n      <td>10.780273</td>\n    </tr>\n    <tr>\n      <th>1048339</th>\n      <td>2011-12-04</td>\n      <td>44.75</td>\n      <td>6.0</td>\n      <td>0.0</td>\n      <td>13.0</td>\n      <td>7.6</td>\n      <td>8.2</td>\n      <td>6.9</td>\n      <td>0.6</td>\n      <td>100120.0</td>\n      <td>0.0</td>\n      <td>11</td>\n      <td>-0.781831</td>\n      <td>0.623490</td>\n      <td>-2.449294e-16</td>\n      <td>1.0</td>\n      <td>-0.466085</td>\n      <td>0.884740</td>\n      <td>2011</td>\n      <td>12.163127</td>\n    </tr>\n    <tr>\n      <th>1048449</th>\n      <td>2011-12-05</td>\n      <td>43.18</td>\n      <td>1.0</td>\n      <td>3.1</td>\n      <td>35.0</td>\n      <td>9.0</td>\n      <td>4.8</td>\n      <td>1.9</td>\n      <td>0.0</td>\n      <td>100610.0</td>\n      <td>0.0</td>\n      <td>12</td>\n      <td>0.000000</td>\n      <td>1.000000</td>\n      <td>-2.449294e-16</td>\n      <td>1.0</td>\n      <td>-0.450797</td>\n      <td>0.892627</td>\n      <td>2011</td>\n      <td>10.609714</td>\n    </tr>\n  </tbody>\n</table>\n<p>829 rows × 20 columns</p>\n</div>"
     },
     "execution_count": 716,
     "metadata": {},
     "output_type": "execute_result"
    }
   ],
   "source": [
    "CleanedData_df"
   ],
   "metadata": {
    "collapsed": false,
    "ExecuteTime": {
     "end_time": "2023-12-05T21:53:21.211798100Z",
     "start_time": "2023-12-05T21:53:21.150038400Z"
    }
   }
  },
  {
   "cell_type": "code",
   "execution_count": 717,
   "outputs": [
    {
     "data": {
      "text/plain": "<Axes: xlabel='Date', ylabel='avgKWH'>"
     },
     "execution_count": 717,
     "metadata": {},
     "output_type": "execute_result"
    },
    {
     "data": {
      "text/plain": "<Figure size 640x480 with 1 Axes>",
      "image/png": "[encoded data removed]"
     },
     "metadata": {},
     "output_type": "display_data"
    }
   ],
   "source": [
    "sns.lineplot(y = CleanedData_df['avgKWH'],x=CleanedData_df['Date'])"
   ],
   "metadata": {
    "collapsed": false,
    "ExecuteTime": {
     "end_time": "2023-12-05T21:53:21.504627700Z",
     "start_time": "2023-12-05T21:53:21.169759600Z"
    }
   }
  },
  {
   "cell_type": "markdown",
   "source": [],
   "metadata": {
    "collapsed": false
   }
  },
  {
   "cell_type": "code",
   "execution_count": 718,
   "outputs": [
    {
     "data": {
      "text/plain": "          Date  volume weighted price  cloud_cover  sunshine  \\\n0   2011-11-23                  49.85          7.0       2.0   \n1   2011-11-24                  44.97          3.0       2.0   \n2   2011-11-25                  42.66          3.0       5.0   \n3   2011-11-26                  41.20          4.0       0.7   \n4   2011-11-27                  42.83          3.0       5.9   \n..         ...                    ...          ...       ...   \n824 2014-02-24                  42.81          4.0       4.4   \n825 2014-02-25                  41.60          5.0       2.0   \n826 2014-02-26                  47.71          1.0       7.7   \n827 2014-02-27                  45.77          4.0       4.9   \n828 2014-02-28                  45.33          7.0       1.0   \n\n     global_radiation  max_temp  mean_temp  min_temp  precipitation  pressure  \\\n0                35.0      13.5        6.8       2.6            0.2  102720.0   \n1                35.0      12.5        8.6       3.7            0.2  102710.0   \n2                52.0      14.0       11.0       9.5            0.0  102450.0   \n3                24.0      13.9       10.2       6.3            0.0  102580.0   \n4                55.0      13.2       11.8       9.7            0.0  102130.0   \n..                ...       ...        ...       ...            ...       ...   \n824              82.0      10.7       10.9       6.8            3.2  100500.0   \n825              60.0      11.8        9.4       8.1            2.6  100050.0   \n826             111.0      12.0        7.4       2.9            2.8  101270.0   \n827              90.0       8.4        8.9       5.7            4.8  100700.0   \n828              50.0      10.1        5.1       1.8            3.4   99890.0   \n\n     snow_depth  days_elapsed  weekday sin  weekday cos  month sin  month cos  \\\n0           0.0             0     0.974928    -0.222521  -0.500000   0.866025   \n1           0.0             1     0.433884    -0.900969  -0.500000   0.866025   \n2           0.0             2    -0.433884    -0.900969  -0.500000   0.866025   \n3           0.0             3    -0.974928    -0.222521  -0.500000   0.866025   \n4           0.0             4    -0.781831     0.623490  -0.500000   0.866025   \n..          ...           ...          ...          ...        ...        ...   \n824         0.0           824     0.000000     1.000000   0.866025   0.500000   \n825         0.0           825     0.781831     0.623490   0.866025   0.500000   \n826         0.0           826     0.974928    -0.222521   0.866025   0.500000   \n827         0.0           827     0.433884    -0.900969   0.866025   0.500000   \n828         0.0           828    -0.433884    -0.900969   0.866025   0.500000   \n\n     Time of Year sin  Time of Year cos  year     avgKWH  \n0           -0.624187          0.781275  2011   6.952692  \n1           -0.610655          0.791896  2011   8.536480  \n2           -0.596943          0.802284  2011   9.499781  \n3           -0.583054          0.812434  2011  10.267707  \n4           -0.568992          0.822343  2011  10.850805  \n..                ...               ...   ...        ...  \n824          0.804377          0.594119  2014  10.092758  \n825          0.814478          0.580194  2014  10.042841  \n826          0.824338          0.566097  2014   9.992153  \n827          0.833954          0.551833  2014  10.045084  \n828          0.843324          0.537406  2014   0.394141  \n\n[829 rows x 20 columns]",
      "text/html": "<div>\n<style scoped>\n    .dataframe tbody tr th:only-of-type {\n        vertical-align: middle;\n    }\n\n    .dataframe tbody tr th {\n        vertical-align: top;\n    }\n\n    .dataframe thead th {\n        text-align: right;\n    }\n</style>\n<table border=\"1\" class=\"dataframe\">\n  <thead>\n    <tr style=\"text-align: right;\">\n      <th></th>\n      <th>Date</th>\n      <th>volume weighted price</th>\n      <th>cloud_cover</th>\n      <th>sunshine</th>\n      <th>global_radiation</th>\n      <th>max_temp</th>\n      <th>mean_temp</th>\n      <th>min_temp</th>\n      <th>precipitation</th>\n      <th>pressure</th>\n      <th>snow_depth</th>\n      <th>days_elapsed</th>\n      <th>weekday sin</th>\n      <th>weekday cos</th>\n      <th>month sin</th>\n      <th>month cos</th>\n      <th>Time of Year sin</th>\n      <th>Time of Year cos</th>\n      <th>year</th>\n      <th>avgKWH</th>\n    </tr>\n  </thead>\n  <tbody>\n    <tr>\n      <th>0</th>\n      <td>2011-11-23</td>\n      <td>49.85</td>\n      <td>7.0</td>\n      <td>2.0</td>\n      <td>35.0</td>\n      <td>13.5</td>\n      <td>6.8</td>\n      <td>2.6</td>\n      <td>0.2</td>\n      <td>102720.0</td>\n      <td>0.0</td>\n      <td>0</td>\n      <td>0.974928</td>\n      <td>-0.222521</td>\n      <td>-0.500000</td>\n      <td>0.866025</td>\n      <td>-0.624187</td>\n      <td>0.781275</td>\n      <td>2011</td>\n      <td>6.952692</td>\n    </tr>\n    <tr>\n      <th>1</th>\n      <td>2011-11-24</td>\n      <td>44.97</td>\n      <td>3.0</td>\n      <td>2.0</td>\n      <td>35.0</td>\n      <td>12.5</td>\n      <td>8.6</td>\n      <td>3.7</td>\n      <td>0.2</td>\n      <td>102710.0</td>\n      <td>0.0</td>\n      <td>1</td>\n      <td>0.433884</td>\n      <td>-0.900969</td>\n      <td>-0.500000</td>\n      <td>0.866025</td>\n      <td>-0.610655</td>\n      <td>0.791896</td>\n      <td>2011</td>\n      <td>8.536480</td>\n    </tr>\n    <tr>\n      <th>2</th>\n      <td>2011-11-25</td>\n      <td>42.66</td>\n      <td>3.0</td>\n      <td>5.0</td>\n      <td>52.0</td>\n      <td>14.0</td>\n      <td>11.0</td>\n      <td>9.5</td>\n      <td>0.0</td>\n      <td>102450.0</td>\n      <td>0.0</td>\n      <td>2</td>\n      <td>-0.433884</td>\n      <td>-0.900969</td>\n      <td>-0.500000</td>\n      <td>0.866025</td>\n      <td>-0.596943</td>\n      <td>0.802284</td>\n      <td>2011</td>\n      <td>9.499781</td>\n    </tr>\n    <tr>\n      <th>3</th>\n      <td>2011-11-26</td>\n      <td>41.20</td>\n      <td>4.0</td>\n      <td>0.7</td>\n      <td>24.0</td>\n      <td>13.9</td>\n      <td>10.2</td>\n      <td>6.3</td>\n      <td>0.0</td>\n      <td>102580.0</td>\n      <td>0.0</td>\n      <td>3</td>\n      <td>-0.974928</td>\n      <td>-0.222521</td>\n      <td>-0.500000</td>\n      <td>0.866025</td>\n      <td>-0.583054</td>\n      <td>0.812434</td>\n      <td>2011</td>\n      <td>10.267707</td>\n    </tr>\n    <tr>\n      <th>4</th>\n      <td>2011-11-27</td>\n      <td>42.83</td>\n      <td>3.0</td>\n      <td>5.9</td>\n      <td>55.0</td>\n      <td>13.2</td>\n      <td>11.8</td>\n      <td>9.7</td>\n      <td>0.0</td>\n      <td>102130.0</td>\n      <td>0.0</td>\n      <td>4</td>\n      <td>-0.781831</td>\n      <td>0.623490</td>\n      <td>-0.500000</td>\n      <td>0.866025</td>\n      <td>-0.568992</td>\n      <td>0.822343</td>\n      <td>2011</td>\n      <td>10.850805</td>\n    </tr>\n    <tr>\n      <th>...</th>\n      <td>...</td>\n      <td>...</td>\n      <td>...</td>\n      <td>...</td>\n      <td>...</td>\n      <td>...</td>\n      <td>...</td>\n      <td>...</td>\n      <td>...</td>\n      <td>...</td>\n      <td>...</td>\n      <td>...</td>\n      <td>...</td>\n      <td>...</td>\n      <td>...</td>\n      <td>...</td>\n      <td>...</td>\n      <td>...</td>\n      <td>...</td>\n      <td>...</td>\n    </tr>\n    <tr>\n      <th>824</th>\n      <td>2014-02-24</td>\n      <td>42.81</td>\n      <td>4.0</td>\n      <td>4.4</td>\n      <td>82.0</td>\n      <td>10.7</td>\n      <td>10.9</td>\n      <td>6.8</td>\n      <td>3.2</td>\n      <td>100500.0</td>\n      <td>0.0</td>\n      <td>824</td>\n      <td>0.000000</td>\n      <td>1.000000</td>\n      <td>0.866025</td>\n      <td>0.500000</td>\n      <td>0.804377</td>\n      <td>0.594119</td>\n      <td>2014</td>\n      <td>10.092758</td>\n    </tr>\n    <tr>\n      <th>825</th>\n      <td>2014-02-25</td>\n      <td>41.60</td>\n      <td>5.0</td>\n      <td>2.0</td>\n      <td>60.0</td>\n      <td>11.8</td>\n      <td>9.4</td>\n      <td>8.1</td>\n      <td>2.6</td>\n      <td>100050.0</td>\n      <td>0.0</td>\n      <td>825</td>\n      <td>0.781831</td>\n      <td>0.623490</td>\n      <td>0.866025</td>\n      <td>0.500000</td>\n      <td>0.814478</td>\n      <td>0.580194</td>\n      <td>2014</td>\n      <td>10.042841</td>\n    </tr>\n    <tr>\n      <th>826</th>\n      <td>2014-02-26</td>\n      <td>47.71</td>\n      <td>1.0</td>\n      <td>7.7</td>\n      <td>111.0</td>\n      <td>12.0</td>\n      <td>7.4</td>\n      <td>2.9</td>\n      <td>2.8</td>\n      <td>101270.0</td>\n      <td>0.0</td>\n      <td>826</td>\n      <td>0.974928</td>\n      <td>-0.222521</td>\n      <td>0.866025</td>\n      <td>0.500000</td>\n      <td>0.824338</td>\n      <td>0.566097</td>\n      <td>2014</td>\n      <td>9.992153</td>\n    </tr>\n    <tr>\n      <th>827</th>\n      <td>2014-02-27</td>\n      <td>45.77</td>\n      <td>4.0</td>\n      <td>4.9</td>\n      <td>90.0</td>\n      <td>8.4</td>\n      <td>8.9</td>\n      <td>5.7</td>\n      <td>4.8</td>\n      <td>100700.0</td>\n      <td>0.0</td>\n      <td>827</td>\n      <td>0.433884</td>\n      <td>-0.900969</td>\n      <td>0.866025</td>\n      <td>0.500000</td>\n      <td>0.833954</td>\n      <td>0.551833</td>\n      <td>2014</td>\n      <td>10.045084</td>\n    </tr>\n    <tr>\n      <th>828</th>\n      <td>2014-02-28</td>\n      <td>45.33</td>\n      <td>7.0</td>\n      <td>1.0</td>\n      <td>50.0</td>\n      <td>10.1</td>\n      <td>5.1</td>\n      <td>1.8</td>\n      <td>3.4</td>\n      <td>99890.0</td>\n      <td>0.0</td>\n      <td>828</td>\n      <td>-0.433884</td>\n      <td>-0.900969</td>\n      <td>0.866025</td>\n      <td>0.500000</td>\n      <td>0.843324</td>\n      <td>0.537406</td>\n      <td>2014</td>\n      <td>0.394141</td>\n    </tr>\n  </tbody>\n</table>\n<p>829 rows × 20 columns</p>\n</div>"
     },
     "execution_count": 718,
     "metadata": {},
     "output_type": "execute_result"
    }
   ],
   "source": [
    "CleanedData_df = CleanedData_df.sort_values(\"Date\")\n",
    "CleanedData_df = CleanedData_df.reset_index(drop=True)\n",
    "CleanedData_df"
   ],
   "metadata": {
    "collapsed": false,
    "ExecuteTime": {
     "end_time": "2023-12-05T21:53:21.524152200Z",
     "start_time": "2023-12-05T21:53:21.506629400Z"
    }
   }
  },
  {
   "cell_type": "markdown",
   "source": [
    "There are no nulls and all days are present"
   ],
   "metadata": {
    "collapsed": false
   }
  },
  {
   "cell_type": "code",
   "execution_count": 719,
   "outputs": [
    {
     "data": {
      "text/plain": "                      Date  volume weighted price  cloud_cover    sunshine  \\\ncount                  829             829.000000   829.000000  829.000000   \nmean   2013-01-10 00:00:00              48.701568     4.714113    3.853920   \nmin    2011-11-23 00:00:00              31.900000     0.000000    0.000000   \n25%    2012-06-17 00:00:00              43.900000     3.000000    0.300000   \n50%    2013-01-10 00:00:00              47.710000     5.000000    2.900000   \n75%    2013-08-05 00:00:00              51.960000     7.000000    6.300000   \nmax    2014-02-28 00:00:00              83.110000     8.000000   14.500000   \nstd                    NaN               6.967759     2.349644    3.804145   \n\n       global_radiation    max_temp   mean_temp    min_temp  precipitation  \\\ncount        829.000000  829.000000  829.000000  829.000000     829.000000   \nmean         105.060314   14.521713   10.773462    6.978287       1.911580   \nmin           12.000000   -0.200000   -2.600000   -7.600000       0.000000   \n25%           35.000000   10.000000    6.700000    2.900000       0.000000   \n50%           78.000000   13.300000    9.800000    6.700000       0.200000   \n75%          163.000000   19.100000   15.200000   11.300000       2.200000   \nmax          333.000000   34.100000   25.400000   20.700000      29.800000   \nstd           84.492839    6.589194    5.725945    5.269492       3.761377   \n\n            pressure  snow_depth  days_elapsed  weekday sin  weekday cos  \\\ncount     829.000000  829.000000    829.000000   829.000000   829.000000   \nmean   101405.464415    0.039807    414.000000     0.001176    -0.002442   \nmin     97900.000000    0.000000      0.000000    -0.974928    -0.900969   \n25%    100740.000000    0.000000    207.000000    -0.781831    -0.900969   \n50%    101440.000000    0.000000    414.000000     0.000000    -0.222521   \n75%    102180.000000    0.000000    621.000000     0.781831     0.623490   \nmax    104120.000000    7.000000    828.000000     0.974928     1.000000   \nstd      1118.376879    0.398800    239.455981     0.707385     0.707677   \n\n          month sin     month cos  Time of Year sin  Time of Year cos  \\\ncount  8.290000e+02  8.290000e+02        829.000000        829.000000   \nmean   3.942887e-02  9.353793e-02          0.017232          0.103696   \nmin   -1.000000e+00 -1.000000e+00         -0.999998         -1.000000   \n25%   -5.000000e-01 -5.000000e-01         -0.627441         -0.626528   \n50%    1.224647e-16  6.123234e-17          0.031218          0.213308   \n75%    5.000000e-01  8.660254e-01          0.678263          0.828293   \nmax    1.000000e+00  1.000000e+00          0.999990          0.999995   \nstd    6.895626e-01  7.179099e-01          0.683625          0.723050   \n\n              year      avgKWH  \ncount   829.000000  829.000000  \nmean   2012.535585   10.023215  \nmin    2011.000000    0.394141  \n25%    2012.000000    8.359892  \n50%    2013.000000   10.045084  \n75%    2013.000000   11.318921  \nmax    2014.000000   15.514456  \nstd       0.696957    1.782582  ",
      "text/html": "<div>\n<style scoped>\n    .dataframe tbody tr th:only-of-type {\n        vertical-align: middle;\n    }\n\n    .dataframe tbody tr th {\n        vertical-align: top;\n    }\n\n    .dataframe thead th {\n        text-align: right;\n    }\n</style>\n<table border=\"1\" class=\"dataframe\">\n  <thead>\n    <tr style=\"text-align: right;\">\n      <th></th>\n      <th>Date</th>\n      <th>volume weighted price</th>\n      <th>cloud_cover</th>\n      <th>sunshine</th>\n      <th>global_radiation</th>\n      <th>max_temp</th>\n      <th>mean_temp</th>\n      <th>min_temp</th>\n      <th>precipitation</th>\n      <th>pressure</th>\n      <th>snow_depth</th>\n      <th>days_elapsed</th>\n      <th>weekday sin</th>\n      <th>weekday cos</th>\n      <th>month sin</th>\n      <th>month cos</th>\n      <th>Time of Year sin</th>\n      <th>Time of Year cos</th>\n      <th>year</th>\n      <th>avgKWH</th>\n    </tr>\n  </thead>\n  <tbody>\n    <tr>\n      <th>count</th>\n      <td>829</td>\n      <td>829.000000</td>\n      <td>829.000000</td>\n      <td>829.000000</td>\n      <td>829.000000</td>\n      <td>829.000000</td>\n      <td>829.000000</td>\n      <td>829.000000</td>\n      <td>829.000000</td>\n      <td>829.000000</td>\n      <td>829.000000</td>\n      <td>829.000000</td>\n      <td>829.000000</td>\n      <td>829.000000</td>\n      <td>8.290000e+02</td>\n      <td>8.290000e+02</td>\n      <td>829.000000</td>\n      <td>829.000000</td>\n      <td>829.000000</td>\n      <td>829.000000</td>\n    </tr>\n    <tr>\n      <th>mean</th>\n      <td>2013-01-10 00:00:00</td>\n      <td>48.701568</td>\n      <td>4.714113</td>\n      <td>3.853920</td>\n      <td>105.060314</td>\n      <td>14.521713</td>\n      <td>10.773462</td>\n      <td>6.978287</td>\n      <td>1.911580</td>\n      <td>101405.464415</td>\n      <td>0.039807</td>\n      <td>414.000000</td>\n      <td>0.001176</td>\n      <td>-0.002442</td>\n      <td>3.942887e-02</td>\n      <td>9.353793e-02</td>\n      <td>0.017232</td>\n      <td>0.103696</td>\n      <td>2012.535585</td>\n      <td>10.023215</td>\n    </tr>\n    <tr>\n      <th>min</th>\n      <td>2011-11-23 00:00:00</td>\n      <td>31.900000</td>\n      <td>0.000000</td>\n      <td>0.000000</td>\n      <td>12.000000</td>\n      <td>-0.200000</td>\n      <td>-2.600000</td>\n      <td>-7.600000</td>\n      <td>0.000000</td>\n      <td>97900.000000</td>\n      <td>0.000000</td>\n      <td>0.000000</td>\n      <td>-0.974928</td>\n      <td>-0.900969</td>\n      <td>-1.000000e+00</td>\n      <td>-1.000000e+00</td>\n      <td>-0.999998</td>\n      <td>-1.000000</td>\n      <td>2011.000000</td>\n      <td>0.394141</td>\n    </tr>\n    <tr>\n      <th>25%</th>\n      <td>2012-06-17 00:00:00</td>\n      <td>43.900000</td>\n      <td>3.000000</td>\n      <td>0.300000</td>\n      <td>35.000000</td>\n      <td>10.000000</td>\n      <td>6.700000</td>\n      <td>2.900000</td>\n      <td>0.000000</td>\n      <td>100740.000000</td>\n      <td>0.000000</td>\n      <td>207.000000</td>\n      <td>-0.781831</td>\n      <td>-0.900969</td>\n      <td>-5.000000e-01</td>\n      <td>-5.000000e-01</td>\n      <td>-0.627441</td>\n      <td>-0.626528</td>\n      <td>2012.000000</td>\n      <td>8.359892</td>\n    </tr>\n    <tr>\n      <th>50%</th>\n      <td>2013-01-10 00:00:00</td>\n      <td>47.710000</td>\n      <td>5.000000</td>\n      <td>2.900000</td>\n      <td>78.000000</td>\n      <td>13.300000</td>\n      <td>9.800000</td>\n      <td>6.700000</td>\n      <td>0.200000</td>\n      <td>101440.000000</td>\n      <td>0.000000</td>\n      <td>414.000000</td>\n      <td>0.000000</td>\n      <td>-0.222521</td>\n      <td>1.224647e-16</td>\n      <td>6.123234e-17</td>\n      <td>0.031218</td>\n      <td>0.213308</td>\n      <td>2013.000000</td>\n      <td>10.045084</td>\n    </tr>\n    <tr>\n      <th>75%</th>\n      <td>2013-08-05 00:00:00</td>\n      <td>51.960000</td>\n      <td>7.000000</td>\n      <td>6.300000</td>\n      <td>163.000000</td>\n      <td>19.100000</td>\n      <td>15.200000</td>\n      <td>11.300000</td>\n      <td>2.200000</td>\n      <td>102180.000000</td>\n      <td>0.000000</td>\n      <td>621.000000</td>\n      <td>0.781831</td>\n      <td>0.623490</td>\n      <td>5.000000e-01</td>\n      <td>8.660254e-01</td>\n      <td>0.678263</td>\n      <td>0.828293</td>\n      <td>2013.000000</td>\n      <td>11.318921</td>\n    </tr>\n    <tr>\n      <th>max</th>\n      <td>2014-02-28 00:00:00</td>\n      <td>83.110000</td>\n      <td>8.000000</td>\n      <td>14.500000</td>\n      <td>333.000000</td>\n      <td>34.100000</td>\n      <td>25.400000</td>\n      <td>20.700000</td>\n      <td>29.800000</td>\n      <td>104120.000000</td>\n      <td>7.000000</td>\n      <td>828.000000</td>\n      <td>0.974928</td>\n      <td>1.000000</td>\n      <td>1.000000e+00</td>\n      <td>1.000000e+00</td>\n      <td>0.999990</td>\n      <td>0.999995</td>\n      <td>2014.000000</td>\n      <td>15.514456</td>\n    </tr>\n    <tr>\n      <th>std</th>\n      <td>NaN</td>\n      <td>6.967759</td>\n      <td>2.349644</td>\n      <td>3.804145</td>\n      <td>84.492839</td>\n      <td>6.589194</td>\n      <td>5.725945</td>\n      <td>5.269492</td>\n      <td>3.761377</td>\n      <td>1118.376879</td>\n      <td>0.398800</td>\n      <td>239.455981</td>\n      <td>0.707385</td>\n      <td>0.707677</td>\n      <td>6.895626e-01</td>\n      <td>7.179099e-01</td>\n      <td>0.683625</td>\n      <td>0.723050</td>\n      <td>0.696957</td>\n      <td>1.782582</td>\n    </tr>\n  </tbody>\n</table>\n</div>"
     },
     "execution_count": 719,
     "metadata": {},
     "output_type": "execute_result"
    }
   ],
   "source": [
    "CleanedData_df.describe()"
   ],
   "metadata": {
    "collapsed": false,
    "ExecuteTime": {
     "end_time": "2023-12-05T21:53:21.607420500Z",
     "start_time": "2023-12-05T21:53:21.525153400Z"
    }
   }
  },
  {
   "cell_type": "code",
   "execution_count": 720,
   "outputs": [
    {
     "name": "stdout",
     "output_type": "stream",
     "text": [
      "<class 'pandas.core.frame.DataFrame'>\n",
      "RangeIndex: 829 entries, 0 to 828\n",
      "Data columns (total 20 columns):\n",
      " #   Column                 Non-Null Count  Dtype         \n",
      "---  ------                 --------------  -----         \n",
      " 0   Date                   829 non-null    datetime64[ns]\n",
      " 1   volume weighted price  829 non-null    float64       \n",
      " 2   cloud_cover            829 non-null    float64       \n",
      " 3   sunshine               829 non-null    float64       \n",
      " 4   global_radiation       829 non-null    float64       \n",
      " 5   max_temp               829 non-null    float64       \n",
      " 6   mean_temp              829 non-null    float64       \n",
      " 7   min_temp               829 non-null    float64       \n",
      " 8   precipitation          829 non-null    float64       \n",
      " 9   pressure               829 non-null    float64       \n",
      " 10  snow_depth             829 non-null    float64       \n",
      " 11  days_elapsed           829 non-null    int64         \n",
      " 12  weekday sin            829 non-null    float64       \n",
      " 13  weekday cos            829 non-null    float64       \n",
      " 14  month sin              829 non-null    float64       \n",
      " 15  month cos              829 non-null    float64       \n",
      " 16  Time of Year sin       829 non-null    float64       \n",
      " 17  Time of Year cos       829 non-null    float64       \n",
      " 18  year                   829 non-null    int64         \n",
      " 19  avgKWH                 829 non-null    float64       \n",
      "dtypes: datetime64[ns](1), float64(17), int64(2)\n",
      "memory usage: 129.7 KB\n"
     ]
    }
   ],
   "source": [
    "CleanedData_df.info()"
   ],
   "metadata": {
    "collapsed": false,
    "ExecuteTime": {
     "end_time": "2023-12-05T21:53:21.607420500Z",
     "start_time": "2023-12-05T21:53:21.562870100Z"
    }
   }
  },
  {
   "cell_type": "markdown",
   "source": [
    "# Save Final Data\n",
    "Save the final cleaned dataset as a feather file to the clean data folder for use with other notebooks"
   ],
   "metadata": {
    "collapsed": false
   }
  },
  {
   "cell_type": "code",
   "execution_count": 721,
   "outputs": [],
   "source": [
    "CleanedData_df.to_feather(\"../data/clean/CleanedData.feather\")"
   ],
   "metadata": {
    "collapsed": false,
    "ExecuteTime": {
     "end_time": "2023-12-05T21:53:21.607420500Z",
     "start_time": "2023-12-05T21:53:21.570610700Z"
    }
   }
  },
  {
   "cell_type": "markdown",
   "source": [
    "# Ensure Save was sucessful"
   ],
   "metadata": {
    "collapsed": false
   }
  },
  {
   "cell_type": "code",
   "execution_count": 721,
   "outputs": [],
   "source": [],
   "metadata": {
    "collapsed": false,
    "ExecuteTime": {
     "end_time": "2023-12-05T21:53:21.608421300Z",
     "start_time": "2023-12-05T21:53:21.582395700Z"
    }
   }
  },
  {
   "cell_type": "code",
   "execution_count": 722,
   "outputs": [
    {
     "data": {
      "text/plain": "          Date  volume weighted price  cloud_cover  sunshine  \\\n0   2011-11-23                  49.85          7.0       2.0   \n1   2011-11-24                  44.97          3.0       2.0   \n2   2011-11-25                  42.66          3.0       5.0   \n3   2011-11-26                  41.20          4.0       0.7   \n4   2011-11-27                  42.83          3.0       5.9   \n..         ...                    ...          ...       ...   \n824 2014-02-24                  42.81          4.0       4.4   \n825 2014-02-25                  41.60          5.0       2.0   \n826 2014-02-26                  47.71          1.0       7.7   \n827 2014-02-27                  45.77          4.0       4.9   \n828 2014-02-28                  45.33          7.0       1.0   \n\n     global_radiation  max_temp  mean_temp  min_temp  precipitation  pressure  \\\n0                35.0      13.5        6.8       2.6            0.2  102720.0   \n1                35.0      12.5        8.6       3.7            0.2  102710.0   \n2                52.0      14.0       11.0       9.5            0.0  102450.0   \n3                24.0      13.9       10.2       6.3            0.0  102580.0   \n4                55.0      13.2       11.8       9.7            0.0  102130.0   \n..                ...       ...        ...       ...            ...       ...   \n824              82.0      10.7       10.9       6.8            3.2  100500.0   \n825              60.0      11.8        9.4       8.1            2.6  100050.0   \n826             111.0      12.0        7.4       2.9            2.8  101270.0   \n827              90.0       8.4        8.9       5.7            4.8  100700.0   \n828              50.0      10.1        5.1       1.8            3.4   99890.0   \n\n     snow_depth  days_elapsed  weekday sin  weekday cos  month sin  month cos  \\\n0           0.0             0     0.974928    -0.222521  -0.500000   0.866025   \n1           0.0             1     0.433884    -0.900969  -0.500000   0.866025   \n2           0.0             2    -0.433884    -0.900969  -0.500000   0.866025   \n3           0.0             3    -0.974928    -0.222521  -0.500000   0.866025   \n4           0.0             4    -0.781831     0.623490  -0.500000   0.866025   \n..          ...           ...          ...          ...        ...        ...   \n824         0.0           824     0.000000     1.000000   0.866025   0.500000   \n825         0.0           825     0.781831     0.623490   0.866025   0.500000   \n826         0.0           826     0.974928    -0.222521   0.866025   0.500000   \n827         0.0           827     0.433884    -0.900969   0.866025   0.500000   \n828         0.0           828    -0.433884    -0.900969   0.866025   0.500000   \n\n     Time of Year sin  Time of Year cos  year     avgKWH  \n0           -0.624187          0.781275  2011   6.952692  \n1           -0.610655          0.791896  2011   8.536480  \n2           -0.596943          0.802284  2011   9.499781  \n3           -0.583054          0.812434  2011  10.267707  \n4           -0.568992          0.822343  2011  10.850805  \n..                ...               ...   ...        ...  \n824          0.804377          0.594119  2014  10.092758  \n825          0.814478          0.580194  2014  10.042841  \n826          0.824338          0.566097  2014   9.992153  \n827          0.833954          0.551833  2014  10.045084  \n828          0.843324          0.537406  2014   0.394141  \n\n[829 rows x 20 columns]",
      "text/html": "<div>\n<style scoped>\n    .dataframe tbody tr th:only-of-type {\n        vertical-align: middle;\n    }\n\n    .dataframe tbody tr th {\n        vertical-align: top;\n    }\n\n    .dataframe thead th {\n        text-align: right;\n    }\n</style>\n<table border=\"1\" class=\"dataframe\">\n  <thead>\n    <tr style=\"text-align: right;\">\n      <th></th>\n      <th>Date</th>\n      <th>volume weighted price</th>\n      <th>cloud_cover</th>\n      <th>sunshine</th>\n      <th>global_radiation</th>\n      <th>max_temp</th>\n      <th>mean_temp</th>\n      <th>min_temp</th>\n      <th>precipitation</th>\n      <th>pressure</th>\n      <th>snow_depth</th>\n      <th>days_elapsed</th>\n      <th>weekday sin</th>\n      <th>weekday cos</th>\n      <th>month sin</th>\n      <th>month cos</th>\n      <th>Time of Year sin</th>\n      <th>Time of Year cos</th>\n      <th>year</th>\n      <th>avgKWH</th>\n    </tr>\n  </thead>\n  <tbody>\n    <tr>\n      <th>0</th>\n      <td>2011-11-23</td>\n      <td>49.85</td>\n      <td>7.0</td>\n      <td>2.0</td>\n      <td>35.0</td>\n      <td>13.5</td>\n      <td>6.8</td>\n      <td>2.6</td>\n      <td>0.2</td>\n      <td>102720.0</td>\n      <td>0.0</td>\n      <td>0</td>\n      <td>0.974928</td>\n      <td>-0.222521</td>\n      <td>-0.500000</td>\n      <td>0.866025</td>\n      <td>-0.624187</td>\n      <td>0.781275</td>\n      <td>2011</td>\n      <td>6.952692</td>\n    </tr>\n    <tr>\n      <th>1</th>\n      <td>2011-11-24</td>\n      <td>44.97</td>\n      <td>3.0</td>\n      <td>2.0</td>\n      <td>35.0</td>\n      <td>12.5</td>\n      <td>8.6</td>\n      <td>3.7</td>\n      <td>0.2</td>\n      <td>102710.0</td>\n      <td>0.0</td>\n      <td>1</td>\n      <td>0.433884</td>\n      <td>-0.900969</td>\n      <td>-0.500000</td>\n      <td>0.866025</td>\n      <td>-0.610655</td>\n      <td>0.791896</td>\n      <td>2011</td>\n      <td>8.536480</td>\n    </tr>\n    <tr>\n      <th>2</th>\n      <td>2011-11-25</td>\n      <td>42.66</td>\n      <td>3.0</td>\n      <td>5.0</td>\n      <td>52.0</td>\n      <td>14.0</td>\n      <td>11.0</td>\n      <td>9.5</td>\n      <td>0.0</td>\n      <td>102450.0</td>\n      <td>0.0</td>\n      <td>2</td>\n      <td>-0.433884</td>\n      <td>-0.900969</td>\n      <td>-0.500000</td>\n      <td>0.866025</td>\n      <td>-0.596943</td>\n      <td>0.802284</td>\n      <td>2011</td>\n      <td>9.499781</td>\n    </tr>\n    <tr>\n      <th>3</th>\n      <td>2011-11-26</td>\n      <td>41.20</td>\n      <td>4.0</td>\n      <td>0.7</td>\n      <td>24.0</td>\n      <td>13.9</td>\n      <td>10.2</td>\n      <td>6.3</td>\n      <td>0.0</td>\n      <td>102580.0</td>\n      <td>0.0</td>\n      <td>3</td>\n      <td>-0.974928</td>\n      <td>-0.222521</td>\n      <td>-0.500000</td>\n      <td>0.866025</td>\n      <td>-0.583054</td>\n      <td>0.812434</td>\n      <td>2011</td>\n      <td>10.267707</td>\n    </tr>\n    <tr>\n      <th>4</th>\n      <td>2011-11-27</td>\n      <td>42.83</td>\n      <td>3.0</td>\n      <td>5.9</td>\n      <td>55.0</td>\n      <td>13.2</td>\n      <td>11.8</td>\n      <td>9.7</td>\n      <td>0.0</td>\n      <td>102130.0</td>\n      <td>0.0</td>\n      <td>4</td>\n      <td>-0.781831</td>\n      <td>0.623490</td>\n      <td>-0.500000</td>\n      <td>0.866025</td>\n      <td>-0.568992</td>\n      <td>0.822343</td>\n      <td>2011</td>\n      <td>10.850805</td>\n    </tr>\n    <tr>\n      <th>...</th>\n      <td>...</td>\n      <td>...</td>\n      <td>...</td>\n      <td>...</td>\n      <td>...</td>\n      <td>...</td>\n      <td>...</td>\n      <td>...</td>\n      <td>...</td>\n      <td>...</td>\n      <td>...</td>\n      <td>...</td>\n      <td>...</td>\n      <td>...</td>\n      <td>...</td>\n      <td>...</td>\n      <td>...</td>\n      <td>...</td>\n      <td>...</td>\n      <td>...</td>\n    </tr>\n    <tr>\n      <th>824</th>\n      <td>2014-02-24</td>\n      <td>42.81</td>\n      <td>4.0</td>\n      <td>4.4</td>\n      <td>82.0</td>\n      <td>10.7</td>\n      <td>10.9</td>\n      <td>6.8</td>\n      <td>3.2</td>\n      <td>100500.0</td>\n      <td>0.0</td>\n      <td>824</td>\n      <td>0.000000</td>\n      <td>1.000000</td>\n      <td>0.866025</td>\n      <td>0.500000</td>\n      <td>0.804377</td>\n      <td>0.594119</td>\n      <td>2014</td>\n      <td>10.092758</td>\n    </tr>\n    <tr>\n      <th>825</th>\n      <td>2014-02-25</td>\n      <td>41.60</td>\n      <td>5.0</td>\n      <td>2.0</td>\n      <td>60.0</td>\n      <td>11.8</td>\n      <td>9.4</td>\n      <td>8.1</td>\n      <td>2.6</td>\n      <td>100050.0</td>\n      <td>0.0</td>\n      <td>825</td>\n      <td>0.781831</td>\n      <td>0.623490</td>\n      <td>0.866025</td>\n      <td>0.500000</td>\n      <td>0.814478</td>\n      <td>0.580194</td>\n      <td>2014</td>\n      <td>10.042841</td>\n    </tr>\n    <tr>\n      <th>826</th>\n      <td>2014-02-26</td>\n      <td>47.71</td>\n      <td>1.0</td>\n      <td>7.7</td>\n      <td>111.0</td>\n      <td>12.0</td>\n      <td>7.4</td>\n      <td>2.9</td>\n      <td>2.8</td>\n      <td>101270.0</td>\n      <td>0.0</td>\n      <td>826</td>\n      <td>0.974928</td>\n      <td>-0.222521</td>\n      <td>0.866025</td>\n      <td>0.500000</td>\n      <td>0.824338</td>\n      <td>0.566097</td>\n      <td>2014</td>\n      <td>9.992153</td>\n    </tr>\n    <tr>\n      <th>827</th>\n      <td>2014-02-27</td>\n      <td>45.77</td>\n      <td>4.0</td>\n      <td>4.9</td>\n      <td>90.0</td>\n      <td>8.4</td>\n      <td>8.9</td>\n      <td>5.7</td>\n      <td>4.8</td>\n      <td>100700.0</td>\n      <td>0.0</td>\n      <td>827</td>\n      <td>0.433884</td>\n      <td>-0.900969</td>\n      <td>0.866025</td>\n      <td>0.500000</td>\n      <td>0.833954</td>\n      <td>0.551833</td>\n      <td>2014</td>\n      <td>10.045084</td>\n    </tr>\n    <tr>\n      <th>828</th>\n      <td>2014-02-28</td>\n      <td>45.33</td>\n      <td>7.0</td>\n      <td>1.0</td>\n      <td>50.0</td>\n      <td>10.1</td>\n      <td>5.1</td>\n      <td>1.8</td>\n      <td>3.4</td>\n      <td>99890.0</td>\n      <td>0.0</td>\n      <td>828</td>\n      <td>-0.433884</td>\n      <td>-0.900969</td>\n      <td>0.866025</td>\n      <td>0.500000</td>\n      <td>0.843324</td>\n      <td>0.537406</td>\n      <td>2014</td>\n      <td>0.394141</td>\n    </tr>\n  </tbody>\n</table>\n<p>829 rows × 20 columns</p>\n</div>"
     },
     "execution_count": 722,
     "metadata": {},
     "output_type": "execute_result"
    }
   ],
   "source": [
    "Load_df = pd.read_feather(\"../data/clean/CleanedData.feather\")\n",
    "Load_df"
   ],
   "metadata": {
    "collapsed": false,
    "ExecuteTime": {
     "end_time": "2023-12-05T21:53:21.687501200Z",
     "start_time": "2023-12-05T21:53:21.584399300Z"
    }
   }
  },
  {
   "cell_type": "code",
   "execution_count": 722,
   "outputs": [],
   "source": [],
   "metadata": {
    "collapsed": false,
    "ExecuteTime": {
     "end_time": "2023-12-05T21:53:21.692506100Z",
     "start_time": "2023-12-05T21:53:21.618127400Z"
    }
   }
  },
  {
   "cell_type": "code",
   "execution_count": 722,
   "outputs": [],
   "source": [],
   "metadata": {
    "collapsed": false,
    "ExecuteTime": {
     "end_time": "2023-12-05T21:53:21.692506100Z",
     "start_time": "2023-12-05T21:53:21.622440400Z"
    }
   }
  }
 ],
 "metadata": {
  "kernelspec": {
   "display_name": "Python 3 (ipykernel)",
   "language": "python",
   "name": "python3"
  },
  "language_info": {
   "codemirror_mode": {
    "name": "ipython",
    "version": 3
   },
   "file_extension": ".py",
   "mimetype": "text/x-python",
   "name": "python",
   "nbconvert_exporter": "python",
   "pygments_lexer": "ipython3",
   "version": "3.11.6"
  }
 },
 "nbformat": 4,
 "nbformat_minor": 5
}

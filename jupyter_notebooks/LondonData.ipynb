{
 "cells": [
  {
   "cell_type": "code",
   "execution_count": 157,
   "id": "1cd9a21a-8709-49b8-b062-cf8a60d3cda8",
   "metadata": {
    "ExecuteTime": {
     "end_time": "2023-12-04T21:24:15.165044600Z",
     "start_time": "2023-12-04T21:24:14.848343400Z"
    }
   },
   "outputs": [],
   "source": [
    "import pandas as pd\n",
    "import numpy as np\n",
    "import scipy.stats as stats\n",
    "import matplotlib.pyplot as plt\n",
    "import datetime as dt\n",
    "import time as time\n",
    "import seaborn as sns\n",
    "import os\n",
    "import warnings\n",
    "import statistics\n",
    "import pyarrow"
   ]
  },
  {
   "cell_type": "code",
   "execution_count": 158,
   "outputs": [],
   "source": [
    "# os.getcwd()"
   ],
   "metadata": {
    "collapsed": false,
    "ExecuteTime": {
     "end_time": "2023-12-04T21:24:15.165044600Z",
     "start_time": "2023-12-04T21:24:14.853760Z"
    }
   }
  },
  {
   "cell_type": "markdown",
   "id": "f4bd2f30-f9ef-4716-bf10-b7b114747ba8",
   "metadata": {},
   "source": [
    "# Data Preperation\n",
    "\n",
    "(Put some nice description here later)\n",
    "\n",
    "## London Energy Usage Data Preperation\n",
    "\n",
    "The main dataset for this project is the London Energy Usage Dataset. With this data we will try to predict tomorrows energy usage."
   ]
  },
  {
   "cell_type": "code",
   "execution_count": 159,
   "id": "c8adcaab-46d3-4c62-953b-62be5333a4b0",
   "metadata": {
    "ExecuteTime": {
     "end_time": "2023-12-04T21:24:15.414444800Z",
     "start_time": "2023-12-04T21:24:14.879785300Z"
    }
   },
   "outputs": [
    {
     "name": "stdout",
     "output_type": "stream",
     "text": [
      "       LCLid        Date     KWH\n",
      "0  MAC000002  10/12/2012   7.098\n",
      "1  MAC000002  10/13/2012  11.087\n",
      "2  MAC000002  10/14/2012  13.223\n",
      "3  MAC000002  10/15/2012  10.257\n",
      "4  MAC000002  10/16/2012   9.769\n",
      "5  MAC000002  10/17/2012  10.885\n",
      "6  MAC000002  10/18/2012  10.751\n",
      "7  MAC000002  10/19/2012   8.431\n",
      "8  MAC000002  10/20/2012  17.578\n",
      "9  MAC000002  10/21/2012  24.490\n"
     ]
    },
    {
     "data": {
      "text/plain": "0          10/12/2012\n1          10/13/2012\n2          10/14/2012\n3          10/15/2012\n4          10/16/2012\n              ...    \n1048570     11/7/2012\n1048571     11/8/2012\n1048572     11/9/2012\n1048573    11/10/2012\n1048574    11/11/2012\nName: Date, Length: 1048575, dtype: object"
     },
     "execution_count": 159,
     "metadata": {},
     "output_type": "execute_result"
    }
   ],
   "source": [
    "LondonEnergy_df = pd.read_csv(\"../data/clean/LondonEnergy.xls\")\n",
    "print(LondonEnergy_df.head(10))\n",
    "LondonEnergy_df['Date'] = LondonEnergy_df['Date'].map(lambda s: str(s))\n",
    "LondonEnergy_df['Date']"
   ]
  },
  {
   "cell_type": "markdown",
   "id": "09011560-dba3-484f-bd09-8fbdfa2802eb",
   "metadata": {},
   "source": [
    "To prepare the energy usage data set for joining lets convert the data column to the datetime data type."
   ]
  },
  {
   "cell_type": "code",
   "execution_count": 160,
   "id": "b0923649-76d3-4d62-81e3-214ad650f238",
   "metadata": {
    "ExecuteTime": {
     "end_time": "2023-12-04T21:24:21.817100800Z",
     "start_time": "2023-12-04T21:24:15.346383100Z"
    }
   },
   "outputs": [
    {
     "name": "stdout",
     "output_type": "stream",
     "text": [
      "0          10/12/2012\n",
      "1          10/13/2012\n",
      "2          10/14/2012\n",
      "3          10/15/2012\n",
      "4          10/16/2012\n",
      "              ...    \n",
      "1048570     11/7/2012\n",
      "1048571     11/8/2012\n",
      "1048572     11/9/2012\n",
      "1048573    11/10/2012\n",
      "1048574    11/11/2012\n",
      "Name: Date, Length: 1048575, dtype: object\n"
     ]
    },
    {
     "data": {
      "text/plain": "0         2012-10-12\n1         2012-10-13\n2         2012-10-14\n3         2012-10-15\n4         2012-10-16\n             ...    \n1048570   2012-11-07\n1048571   2012-11-08\n1048572   2012-11-09\n1048573   2012-11-10\n1048574   2012-11-11\nName: Date, Length: 1048575, dtype: datetime64[ns]"
     },
     "execution_count": 160,
     "metadata": {},
     "output_type": "execute_result"
    }
   ],
   "source": [
    "format_str = \"%m/%d/%Y\"\n",
    "print(LondonEnergy_df['Date'])\n",
    "LondonEnergy_df['Date'] = LondonEnergy_df['Date'].map(lambda s: dt.datetime.strptime(str(s), format_str))\n",
    "LondonEnergy_df['Date']"
   ]
  },
  {
   "cell_type": "markdown",
   "id": "e25f9a8d-b3b7-490c-951c-211cdc1172b6",
   "metadata": {},
   "source": [
    "Now that we have the date data in the data time format the data set is ready to be joined with other complimentary datasets based on date.  \n",
    "Before we move on to the other data sets however lets check for corrupted or missing data in the energy usage data set.\n",
    "### Is The Data Uncorrupted?\n"
   ]
  },
  {
   "cell_type": "code",
   "execution_count": 161,
   "id": "38f9e5dd-30b1-4635-8402-6f20194ada6f",
   "metadata": {
    "ExecuteTime": {
     "end_time": "2023-12-04T21:24:21.820557400Z",
     "start_time": "2023-12-04T21:24:21.818049200Z"
    }
   },
   "outputs": [
    {
     "name": "stdout",
     "output_type": "stream",
     "text": [
      "Evaluate the energy usage data set here\n"
     ]
    }
   ],
   "source": [
    "print(\"Evaluate the energy usage data set here\")"
   ]
  },
  {
   "cell_type": "markdown",
   "id": "62ccd818-be23-4c7d-8819-e9e4e464e759",
   "metadata": {},
   "source": [
    "## London Weather Data Preperation\n",
    "\n",
    "The second data set we will be joining for our model is a data set detailing the weather in london."
   ]
  },
  {
   "cell_type": "code",
   "execution_count": 162,
   "id": "a6dcc7a0-4402-4e52-8be9-2a5bf84cbe30",
   "metadata": {
    "ExecuteTime": {
     "end_time": "2023-12-04T21:24:21.841747900Z",
     "start_time": "2023-12-04T21:24:21.821558100Z"
    }
   },
   "outputs": [
    {
     "name": "stdout",
     "output_type": "stream",
     "text": [
      "       date  cloud_cover  sunshine  global_radiation  max_temp  mean_temp  \\\n",
      "0  19790101          2.0       7.0              52.0       2.3       -4.1   \n",
      "1  19790102          6.0       1.7              27.0       1.6       -2.6   \n",
      "2  19790103          5.0       0.0              13.0       1.3       -2.8   \n",
      "3  19790104          8.0       0.0              13.0      -0.3       -2.6   \n",
      "4  19790105          6.0       2.0              29.0       5.6       -0.8   \n",
      "\n",
      "   min_temp  precipitation  pressure  snow_depth  \n",
      "0      -7.5            0.4  101900.0         9.0  \n",
      "1      -7.5            0.0  102530.0         8.0  \n",
      "2      -7.2            0.0  102050.0         4.0  \n",
      "3      -6.5            0.0  100840.0         2.0  \n",
      "4      -1.4            0.0  102250.0         1.0  \n",
      "           date  cloud_cover  sunshine  global_radiation  max_temp  mean_temp  \\\n",
      "15336  20201227          1.0       0.9              32.0       7.5        7.5   \n",
      "15337  20201228          7.0       3.7              38.0       3.6        1.1   \n",
      "15338  20201229          7.0       0.0              21.0       4.1        2.6   \n",
      "15339  20201230          6.0       0.4              22.0       5.6        2.7   \n",
      "15340  20201231          7.0       1.3              34.0       1.5       -0.8   \n",
      "\n",
      "       min_temp  precipitation  pressure  snow_depth  \n",
      "15336       7.6            2.0   98000.0         NaN  \n",
      "15337      -1.3            0.2   97370.0         NaN  \n",
      "15338       1.1            0.0   98830.0         NaN  \n",
      "15339      -0.1            0.0  100200.0         NaN  \n",
      "15340      -3.1            0.0  100500.0         NaN  \n"
     ]
    }
   ],
   "source": [
    "LondonWeather = pd.read_csv(\"../data/clean/LondonWeather.xls\")\n",
    "print(LondonWeather.head())\n",
    "print(LondonWeather.tail())"
   ]
  },
  {
   "cell_type": "markdown",
   "id": "96da1d91-eb1a-4c98-b909-a6d0365eae7a",
   "metadata": {},
   "source": [
    "The date in this data set appears to have been read in as an integer, to join this data set with the other two we will want to utilize the datetime data type."
   ]
  },
  {
   "cell_type": "code",
   "execution_count": 163,
   "id": "ddc64cef-667f-4f08-8acc-6e55ed7058c1",
   "metadata": {
    "ExecuteTime": {
     "end_time": "2023-12-04T21:24:21.942584600Z",
     "start_time": "2023-12-04T21:24:21.841747900Z"
    }
   },
   "outputs": [
    {
     "name": "stdout",
     "output_type": "stream",
     "text": [
      "0        19790101\n",
      "1        19790102\n",
      "2        19790103\n",
      "3        19790104\n",
      "4        19790105\n",
      "           ...   \n",
      "15336    20201227\n",
      "15337    20201228\n",
      "15338    20201229\n",
      "15339    20201230\n",
      "15340    20201231\n",
      "Name: date, Length: 15341, dtype: int64\n",
      "0       1979-01-01\n",
      "1       1979-01-02\n",
      "2       1979-01-03\n",
      "3       1979-01-04\n",
      "4       1979-01-05\n",
      "           ...    \n",
      "15336   2020-12-27\n",
      "15337   2020-12-28\n",
      "15338   2020-12-29\n",
      "15339   2020-12-30\n",
      "15340   2020-12-31\n",
      "Name: date, Length: 15341, dtype: datetime64[ns]\n"
     ]
    }
   ],
   "source": [
    "format_str = \"%Y%m%d\"\n",
    "print(LondonWeather['date'])\n",
    "LondonWeather['date'] = LondonWeather['date'].map(lambda s: dt.datetime.strptime(str(s), format_str))\n",
    "print(LondonWeather['date'])"
   ]
  },
  {
   "cell_type": "markdown",
   "id": "7e335f84-79d2-4e10-b3d9-43acffb4dfca",
   "metadata": {},
   "source": [
    "The london Weather data begins in 1979 and concludes in 2020. This timeframe is far beyond the scope of our project so lets limit our data to 2011-2014. Additionally, the date column label does not align to our original data set so lets change that as well."
   ]
  },
  {
   "cell_type": "code",
   "execution_count": 164,
   "id": "f16db16c-b6e3-496c-baab-fbad5d5198d7",
   "metadata": {
    "ExecuteTime": {
     "end_time": "2023-12-04T21:24:21.965583700Z",
     "start_time": "2023-12-04T21:24:21.942584600Z"
    }
   },
   "outputs": [
    {
     "data": {
      "text/plain": "      index       Date  cloud_cover  sunshine  global_radiation  max_temp  \\\n0     11688 2011-01-01          8.0       0.0              13.0       4.0   \n1     11689 2011-01-02          8.0       0.1              15.0       2.9   \n2     11690 2011-01-03          7.0       0.1              15.0       6.0   \n3     11691 2011-01-04          7.0       0.0              13.0       7.1   \n4     11692 2011-01-05          6.0       2.3              31.0       5.1   \n...     ...        ...          ...       ...               ...       ...   \n1456  13144 2014-12-27          5.0       2.0              28.0       6.2   \n1457  13145 2014-12-28          0.0       6.0              47.0       5.8   \n1458  13146 2014-12-29          0.0       6.1              47.0       5.7   \n1459  13147 2014-12-30          1.0       3.3              35.0       8.5   \n1460  13148 2014-12-31          3.0       2.3              30.0      12.9   \n\n      mean_temp  min_temp  precipitation  pressure  snow_depth  \n0           5.9       4.6            0.6  102500.0         0.0  \n1           3.0       1.9            0.0  102830.0         0.0  \n2           1.3      -0.3            0.0  102460.0         0.0  \n3           2.9      -0.3            0.0  101360.0         NaN  \n4           4.2       1.3            1.0  100040.0         0.0  \n...         ...       ...            ...       ...         ...  \n1456        3.0       1.2            0.0  100730.0         0.0  \n1457        3.6       0.9            0.0  102950.0         0.0  \n1458        1.2      -3.5            0.2  104060.0         0.0  \n1459        0.8      -4.1            0.2  103940.0         0.0  \n1460        2.2      -4.1            0.2  103410.0         0.0  \n\n[1461 rows x 11 columns]",
      "text/html": "<div>\n<style scoped>\n    .dataframe tbody tr th:only-of-type {\n        vertical-align: middle;\n    }\n\n    .dataframe tbody tr th {\n        vertical-align: top;\n    }\n\n    .dataframe thead th {\n        text-align: right;\n    }\n</style>\n<table border=\"1\" class=\"dataframe\">\n  <thead>\n    <tr style=\"text-align: right;\">\n      <th></th>\n      <th>index</th>\n      <th>Date</th>\n      <th>cloud_cover</th>\n      <th>sunshine</th>\n      <th>global_radiation</th>\n      <th>max_temp</th>\n      <th>mean_temp</th>\n      <th>min_temp</th>\n      <th>precipitation</th>\n      <th>pressure</th>\n      <th>snow_depth</th>\n    </tr>\n  </thead>\n  <tbody>\n    <tr>\n      <th>0</th>\n      <td>11688</td>\n      <td>2011-01-01</td>\n      <td>8.0</td>\n      <td>0.0</td>\n      <td>13.0</td>\n      <td>4.0</td>\n      <td>5.9</td>\n      <td>4.6</td>\n      <td>0.6</td>\n      <td>102500.0</td>\n      <td>0.0</td>\n    </tr>\n    <tr>\n      <th>1</th>\n      <td>11689</td>\n      <td>2011-01-02</td>\n      <td>8.0</td>\n      <td>0.1</td>\n      <td>15.0</td>\n      <td>2.9</td>\n      <td>3.0</td>\n      <td>1.9</td>\n      <td>0.0</td>\n      <td>102830.0</td>\n      <td>0.0</td>\n    </tr>\n    <tr>\n      <th>2</th>\n      <td>11690</td>\n      <td>2011-01-03</td>\n      <td>7.0</td>\n      <td>0.1</td>\n      <td>15.0</td>\n      <td>6.0</td>\n      <td>1.3</td>\n      <td>-0.3</td>\n      <td>0.0</td>\n      <td>102460.0</td>\n      <td>0.0</td>\n    </tr>\n    <tr>\n      <th>3</th>\n      <td>11691</td>\n      <td>2011-01-04</td>\n      <td>7.0</td>\n      <td>0.0</td>\n      <td>13.0</td>\n      <td>7.1</td>\n      <td>2.9</td>\n      <td>-0.3</td>\n      <td>0.0</td>\n      <td>101360.0</td>\n      <td>NaN</td>\n    </tr>\n    <tr>\n      <th>4</th>\n      <td>11692</td>\n      <td>2011-01-05</td>\n      <td>6.0</td>\n      <td>2.3</td>\n      <td>31.0</td>\n      <td>5.1</td>\n      <td>4.2</td>\n      <td>1.3</td>\n      <td>1.0</td>\n      <td>100040.0</td>\n      <td>0.0</td>\n    </tr>\n    <tr>\n      <th>...</th>\n      <td>...</td>\n      <td>...</td>\n      <td>...</td>\n      <td>...</td>\n      <td>...</td>\n      <td>...</td>\n      <td>...</td>\n      <td>...</td>\n      <td>...</td>\n      <td>...</td>\n      <td>...</td>\n    </tr>\n    <tr>\n      <th>1456</th>\n      <td>13144</td>\n      <td>2014-12-27</td>\n      <td>5.0</td>\n      <td>2.0</td>\n      <td>28.0</td>\n      <td>6.2</td>\n      <td>3.0</td>\n      <td>1.2</td>\n      <td>0.0</td>\n      <td>100730.0</td>\n      <td>0.0</td>\n    </tr>\n    <tr>\n      <th>1457</th>\n      <td>13145</td>\n      <td>2014-12-28</td>\n      <td>0.0</td>\n      <td>6.0</td>\n      <td>47.0</td>\n      <td>5.8</td>\n      <td>3.6</td>\n      <td>0.9</td>\n      <td>0.0</td>\n      <td>102950.0</td>\n      <td>0.0</td>\n    </tr>\n    <tr>\n      <th>1458</th>\n      <td>13146</td>\n      <td>2014-12-29</td>\n      <td>0.0</td>\n      <td>6.1</td>\n      <td>47.0</td>\n      <td>5.7</td>\n      <td>1.2</td>\n      <td>-3.5</td>\n      <td>0.2</td>\n      <td>104060.0</td>\n      <td>0.0</td>\n    </tr>\n    <tr>\n      <th>1459</th>\n      <td>13147</td>\n      <td>2014-12-30</td>\n      <td>1.0</td>\n      <td>3.3</td>\n      <td>35.0</td>\n      <td>8.5</td>\n      <td>0.8</td>\n      <td>-4.1</td>\n      <td>0.2</td>\n      <td>103940.0</td>\n      <td>0.0</td>\n    </tr>\n    <tr>\n      <th>1460</th>\n      <td>13148</td>\n      <td>2014-12-31</td>\n      <td>3.0</td>\n      <td>2.3</td>\n      <td>30.0</td>\n      <td>12.9</td>\n      <td>2.2</td>\n      <td>-4.1</td>\n      <td>0.2</td>\n      <td>103410.0</td>\n      <td>0.0</td>\n    </tr>\n  </tbody>\n</table>\n<p>1461 rows × 11 columns</p>\n</div>"
     },
     "execution_count": 164,
     "metadata": {},
     "output_type": "execute_result"
    }
   ],
   "source": [
    "DesiredTime = (LondonWeather['date'].dt.year >= 2011) & \\\n",
    "              (LondonWeather['date'].dt.year <= 2014)\n",
    "LondonWeather_df = LondonWeather[DesiredTime]\n",
    "# Lets reindex so it looks nicer\n",
    "LondonWeather_df = LondonWeather_df.reset_index()\n",
    "# And lets fix the column name\n",
    "LondonWeather_df = LondonWeather_df.rename(columns = {'date':'Date'})\n",
    "LondonWeather_df"
   ]
  },
  {
   "cell_type": "markdown",
   "id": "c8973627-d47b-450d-bdd3-e1da829998e6",
   "metadata": {},
   "source": [
    "Now the London Weather data set is ready to be joined to the original Energy usage data set. \n",
    "\n",
    "### Are All Dates Present?\n",
    "\n",
    "Lets now ensure that all dates are present in this data set."
   ]
  },
  {
   "cell_type": "code",
   "execution_count": 165,
   "id": "b5407539-81b5-4d1d-98ff-0c232096b8fe",
   "metadata": {
    "ExecuteTime": {
     "end_time": "2023-12-04T21:24:21.965803500Z",
     "start_time": "2023-12-04T21:24:21.959209Z"
    }
   },
   "outputs": [
    {
     "name": "stdout",
     "output_type": "stream",
     "text": [
      "DatetimeIndex([], dtype='datetime64[ns]', freq='D')\n"
     ]
    }
   ],
   "source": [
    "MissingDates = pd.date_range(start = '2011-01-01', end = '2014-12-31' ).difference(LondonWeather_df['Date'])\n",
    "print(MissingDates)"
   ]
  },
  {
   "cell_type": "markdown",
   "id": "3760eb7e-a678-47c6-887f-8d06c7614833",
   "metadata": {},
   "source": [
    "All days from 2011-2014 are present, and there are no additional dates.  \n",
    "### Is The Data Uncorrupted?"
   ]
  },
  {
   "cell_type": "code",
   "execution_count": 166,
   "id": "30684f3a-dbf2-444b-97ff-3defd890dfca",
   "metadata": {
    "ExecuteTime": {
     "end_time": "2023-12-04T21:24:21.967310400Z",
     "start_time": "2023-12-04T21:24:21.963582300Z"
    }
   },
   "outputs": [
    {
     "name": "stdout",
     "output_type": "stream",
     "text": [
      "The 'index' column contains 0 null values.\n",
      "The 'Date' column contains 0 null values.\n",
      "The 'cloud_cover' column contains 2 null values.\n",
      "The 'sunshine' column contains 0 null values.\n",
      "The 'global_radiation' column contains 0 null values.\n",
      "The 'max_temp' column contains 0 null values.\n",
      "The 'mean_temp' column contains 0 null values.\n",
      "The 'min_temp' column contains 0 null values.\n",
      "The 'precipitation' column contains 0 null values.\n",
      "The 'pressure' column contains 0 null values.\n",
      "The 'snow_depth' column contains 180 null values.\n"
     ]
    }
   ],
   "source": [
    "for col in LondonWeather_df:\n",
    "    NanCheck = LondonWeather_df[col].isnull().sum()\n",
    "    print(f'The \\'{col}\\' column contains {NanCheck} null values.')"
   ]
  },
  {
   "cell_type": "markdown",
   "id": "f6065628-fe50-4c81-b6ab-cfef58d5f397",
   "metadata": {},
   "source": [
    "Both cloud_cover and snow_depth contain null values. The cloud_cover column contains only 2 null values, but the snow_depth column contains 180. 180 nulls represent slightly less than a seventh of total observations.  \n",
    "Lets deal with the CloudNulls first."
   ]
  },
  {
   "cell_type": "code",
   "execution_count": 167,
   "id": "755eb31b-a683-48b8-85ee-a540fd4332b9",
   "metadata": {
    "ExecuteTime": {
     "end_time": "2023-12-04T21:24:22.042946100Z",
     "start_time": "2023-12-04T21:24:21.969311800Z"
    }
   },
   "outputs": [
    {
     "data": {
      "text/plain": "     index       Date  cloud_cover  sunshine  global_radiation  max_temp  \\\n323  12011 2011-11-20          NaN       0.0              17.0      11.5   \n426  12114 2012-03-02          NaN       3.4              88.0      15.0   \n\n     mean_temp  min_temp  precipitation  pressure  snow_depth  \n323        5.3       2.2            0.2  101890.0         0.0  \n426        7.5       3.2            0.0  102560.0         0.0  ",
      "text/html": "<div>\n<style scoped>\n    .dataframe tbody tr th:only-of-type {\n        vertical-align: middle;\n    }\n\n    .dataframe tbody tr th {\n        vertical-align: top;\n    }\n\n    .dataframe thead th {\n        text-align: right;\n    }\n</style>\n<table border=\"1\" class=\"dataframe\">\n  <thead>\n    <tr style=\"text-align: right;\">\n      <th></th>\n      <th>index</th>\n      <th>Date</th>\n      <th>cloud_cover</th>\n      <th>sunshine</th>\n      <th>global_radiation</th>\n      <th>max_temp</th>\n      <th>mean_temp</th>\n      <th>min_temp</th>\n      <th>precipitation</th>\n      <th>pressure</th>\n      <th>snow_depth</th>\n    </tr>\n  </thead>\n  <tbody>\n    <tr>\n      <th>323</th>\n      <td>12011</td>\n      <td>2011-11-20</td>\n      <td>NaN</td>\n      <td>0.0</td>\n      <td>17.0</td>\n      <td>11.5</td>\n      <td>5.3</td>\n      <td>2.2</td>\n      <td>0.2</td>\n      <td>101890.0</td>\n      <td>0.0</td>\n    </tr>\n    <tr>\n      <th>426</th>\n      <td>12114</td>\n      <td>2012-03-02</td>\n      <td>NaN</td>\n      <td>3.4</td>\n      <td>88.0</td>\n      <td>15.0</td>\n      <td>7.5</td>\n      <td>3.2</td>\n      <td>0.0</td>\n      <td>102560.0</td>\n      <td>0.0</td>\n    </tr>\n  </tbody>\n</table>\n</div>"
     },
     "execution_count": 167,
     "metadata": {},
     "output_type": "execute_result"
    }
   ],
   "source": [
    "CloudNulls = (LondonWeather_df['cloud_cover'].isnull())\n",
    "LondonWeather_df[CloudNulls]"
   ]
  },
  {
   "cell_type": "markdown",
   "id": "183db9ed-def4-4e72-a177-b69b1ad7cef4",
   "metadata": {},
   "source": [
    "Considering how little data is null data I recommend one of the two following approaches:\n",
    "* Zero padding: Since theres so little data missing just placing zeros here is unlikely to meaningfully impact the model\n",
    "* Average the previous and following day: Lived experience tells me that on average cloud coverage usually comes and goes in trends, it would be abnormal to have overcast, clear skies, overcast in three successive days. Based on this observation the most likely value for the cloud coverage between two days is likely found between the prevalence of the surrounding days."
   ]
  },
  {
   "cell_type": "code",
   "execution_count": 168,
   "id": "81eab01c-f17e-4889-af5d-94cfc49436cc",
   "metadata": {
    "ExecuteTime": {
     "end_time": "2023-12-04T21:24:22.043947500Z",
     "start_time": "2023-12-04T21:24:21.981363100Z"
    }
   },
   "outputs": [
    {
     "name": "stdout",
     "output_type": "stream",
     "text": [
      "1.0 7.0\n",
      "5.0 5.0\n"
     ]
    }
   ],
   "source": [
    "CloudNulls = (LondonWeather_df['cloud_cover'].isnull())\n",
    "inds = LondonWeather_df[CloudNulls].index\n",
    "for index in inds:\n",
    "    before = LondonWeather_df['cloud_cover'].iloc[index-1]\n",
    "    after  = LondonWeather_df['cloud_cover'].iloc[index+1]\n",
    "    print(str(before)+' '+str(after))\n",
    "# Averaging approach\n",
    "    LondonWeather_df.loc[index,'cloud_cover'] = (float(before)+float(after))/2\n",
    "##Zero padding approach\n",
    "# LondonWeather_df['cloud_cover'] = LondonWeather_df[\"cloud_cover\"].fillna(0.0)\n",
    "\n"
   ]
  },
  {
   "cell_type": "markdown",
   "id": "8945f9bc-e4bd-43da-a7b7-783904e66bbb",
   "metadata": {},
   "source": [
    "Now lets confirm there is no more nulls."
   ]
  },
  {
   "cell_type": "code",
   "execution_count": 169,
   "id": "0b922089-fff9-4c04-ae84-cc65516bc665",
   "metadata": {
    "ExecuteTime": {
     "end_time": "2023-12-04T21:24:22.066982500Z",
     "start_time": "2023-12-04T21:24:21.985141400Z"
    }
   },
   "outputs": [
    {
     "data": {
      "text/plain": "Empty DataFrame\nColumns: [index, Date, cloud_cover, sunshine, global_radiation, max_temp, mean_temp, min_temp, precipitation, pressure, snow_depth]\nIndex: []",
      "text/html": "<div>\n<style scoped>\n    .dataframe tbody tr th:only-of-type {\n        vertical-align: middle;\n    }\n\n    .dataframe tbody tr th {\n        vertical-align: top;\n    }\n\n    .dataframe thead th {\n        text-align: right;\n    }\n</style>\n<table border=\"1\" class=\"dataframe\">\n  <thead>\n    <tr style=\"text-align: right;\">\n      <th></th>\n      <th>index</th>\n      <th>Date</th>\n      <th>cloud_cover</th>\n      <th>sunshine</th>\n      <th>global_radiation</th>\n      <th>max_temp</th>\n      <th>mean_temp</th>\n      <th>min_temp</th>\n      <th>precipitation</th>\n      <th>pressure</th>\n      <th>snow_depth</th>\n    </tr>\n  </thead>\n  <tbody>\n  </tbody>\n</table>\n</div>"
     },
     "execution_count": 169,
     "metadata": {},
     "output_type": "execute_result"
    }
   ],
   "source": [
    "CloudNulls = (LondonWeather_df['cloud_cover'].isnull())\n",
    "LondonWeather_df[CloudNulls]"
   ]
  },
  {
   "cell_type": "markdown",
   "id": "f48a1273-4895-4e9c-9f22-0b60c506e457",
   "metadata": {},
   "source": [
    "Now that we have confirmed there are no cloud coverage nulls lets move to snow_depth nulls. Lets print the month and year of the snow_depth nulls out to look for insight to why these nulls exist."
   ]
  },
  {
   "cell_type": "code",
   "execution_count": 170,
   "id": "49a86dba-f5fa-4b02-8150-ec1ab1a38e49",
   "metadata": {
    "ExecuteTime": {
     "end_time": "2023-12-04T21:24:22.083070700Z",
     "start_time": "2023-12-04T21:24:21.992330300Z"
    }
   },
   "outputs": [
    {
     "name": "stdout",
     "output_type": "stream",
     "text": [
      "1 2011\n",
      "1 2011\n",
      "4 2011\n",
      "4 2011\n",
      "4 2011\n",
      "4 2011\n",
      "4 2011\n",
      "4 2011\n",
      "4 2011\n",
      "4 2011\n",
      "4 2011\n",
      "4 2011\n",
      "4 2011\n",
      "4 2011\n",
      "4 2011\n",
      "4 2011\n",
      "4 2011\n",
      "4 2011\n",
      "4 2011\n",
      "4 2011\n",
      "5 2011\n",
      "5 2011\n",
      "5 2011\n",
      "5 2011\n",
      "5 2011\n",
      "5 2011\n",
      "5 2011\n",
      "5 2011\n",
      "5 2011\n",
      "5 2011\n",
      "5 2011\n",
      "5 2011\n",
      "5 2011\n",
      "5 2011\n",
      "5 2011\n",
      "5 2011\n",
      "5 2011\n",
      "5 2011\n",
      "5 2011\n",
      "5 2011\n",
      "5 2011\n",
      "5 2011\n",
      "5 2011\n",
      "5 2011\n",
      "5 2011\n",
      "5 2011\n",
      "5 2011\n",
      "5 2011\n",
      "5 2011\n",
      "5 2011\n",
      "5 2011\n",
      "6 2011\n",
      "6 2011\n",
      "6 2011\n",
      "6 2011\n",
      "6 2011\n",
      "6 2011\n",
      "6 2011\n",
      "6 2011\n",
      "6 2011\n",
      "6 2011\n",
      "6 2011\n",
      "6 2011\n",
      "6 2011\n",
      "6 2011\n",
      "6 2011\n",
      "6 2011\n",
      "6 2011\n",
      "6 2011\n",
      "6 2011\n",
      "6 2011\n",
      "6 2011\n",
      "6 2011\n",
      "6 2011\n",
      "6 2011\n",
      "6 2011\n",
      "6 2011\n",
      "6 2011\n",
      "6 2011\n",
      "6 2011\n",
      "6 2011\n",
      "7 2011\n",
      "7 2011\n",
      "7 2011\n",
      "7 2011\n",
      "7 2011\n",
      "7 2011\n",
      "7 2011\n",
      "7 2011\n",
      "7 2011\n",
      "7 2011\n",
      "7 2011\n",
      "7 2011\n",
      "7 2011\n",
      "7 2011\n",
      "7 2011\n",
      "7 2011\n",
      "7 2011\n",
      "7 2011\n",
      "7 2011\n",
      "7 2011\n",
      "7 2011\n",
      "7 2011\n",
      "7 2011\n",
      "7 2011\n",
      "7 2011\n",
      "7 2011\n",
      "7 2011\n",
      "7 2011\n",
      "7 2011\n",
      "7 2011\n",
      "7 2011\n",
      "8 2011\n",
      "8 2011\n",
      "8 2011\n",
      "8 2011\n",
      "8 2011\n",
      "8 2011\n",
      "8 2011\n",
      "8 2011\n",
      "8 2011\n",
      "8 2011\n",
      "8 2011\n",
      "8 2011\n",
      "8 2011\n",
      "8 2011\n",
      "8 2011\n",
      "8 2011\n",
      "8 2011\n",
      "8 2011\n",
      "8 2011\n",
      "8 2011\n",
      "8 2011\n",
      "8 2011\n",
      "8 2011\n",
      "8 2011\n",
      "8 2011\n",
      "8 2011\n",
      "8 2011\n",
      "8 2011\n",
      "8 2011\n",
      "8 2011\n",
      "8 2011\n",
      "9 2011\n",
      "9 2011\n",
      "9 2011\n",
      "9 2011\n",
      "9 2011\n",
      "9 2011\n",
      "9 2011\n",
      "9 2011\n",
      "9 2011\n",
      "9 2011\n",
      "9 2011\n",
      "9 2011\n",
      "9 2011\n",
      "9 2011\n",
      "9 2011\n",
      "9 2011\n",
      "9 2011\n",
      "9 2011\n",
      "9 2011\n",
      "9 2011\n",
      "9 2011\n",
      "9 2011\n",
      "9 2011\n",
      "9 2011\n",
      "9 2011\n",
      "9 2011\n",
      "9 2011\n",
      "9 2011\n",
      "9 2011\n",
      "9 2011\n",
      "10 2011\n",
      "10 2011\n",
      "10 2011\n",
      "10 2011\n",
      "10 2011\n",
      "10 2011\n",
      "10 2011\n"
     ]
    }
   ],
   "source": [
    "SnowNulls = (LondonWeather_df['snow_depth'].isnull())\n",
    "for ind in LondonWeather_df.loc[(SnowNulls==True)].index:\n",
    "    print(str(LondonWeather_df['Date'].iloc[ind].month) + ' '+ str(LondonWeather_df['Date'].iloc[ind].year))"
   ]
  },
  {
   "cell_type": "markdown",
   "id": "e5af9caa-0ea3-45fc-abd9-819cea8ae1c3",
   "metadata": {},
   "source": [
    "Notice that the vast majority of the snow_depth NaN values occur from April to October of 2011. Londons snow season is Dec to Feb, based on this observation it is likely that these NaN values were days where there was no snowfall and would recommend zero padding. But before we take action lets check what the values before and after each NaN were, as this may give us some more insight into the situation."
   ]
  },
  {
   "cell_type": "code",
   "execution_count": 171,
   "id": "bf5294a3-2ee1-4b52-bf7b-a1898e3f9152",
   "metadata": {
    "ExecuteTime": {
     "end_time": "2023-12-04T21:24:22.083070700Z",
     "start_time": "2023-12-04T21:24:22.001390700Z"
    }
   },
   "outputs": [
    {
     "name": "stdout",
     "output_type": "stream",
     "text": [
      "Before:After\n",
      "0.0:0.0\n",
      "0.0:0.0\n",
      "0.0:nan\n",
      "nan:nan\n",
      "nan:nan\n",
      "nan:nan\n",
      "nan:nan\n",
      "nan:nan\n",
      "nan:nan\n",
      "nan:nan\n",
      "nan:nan\n",
      "nan:nan\n",
      "nan:nan\n",
      "nan:nan\n",
      "nan:nan\n",
      "nan:nan\n",
      "nan:nan\n",
      "nan:nan\n",
      "nan:nan\n",
      "nan:nan\n",
      "nan:nan\n",
      "nan:nan\n",
      "nan:nan\n",
      "nan:nan\n",
      "nan:nan\n",
      "nan:nan\n",
      "nan:nan\n",
      "nan:nan\n",
      "nan:nan\n",
      "nan:nan\n",
      "nan:nan\n",
      "nan:nan\n",
      "nan:nan\n",
      "nan:nan\n",
      "nan:nan\n",
      "nan:nan\n",
      "nan:nan\n",
      "nan:nan\n",
      "nan:nan\n",
      "nan:nan\n",
      "nan:nan\n",
      "nan:nan\n",
      "nan:nan\n",
      "nan:nan\n",
      "nan:nan\n",
      "nan:nan\n",
      "nan:nan\n",
      "nan:nan\n",
      "nan:nan\n",
      "nan:nan\n",
      "nan:nan\n",
      "nan:nan\n",
      "nan:nan\n",
      "nan:nan\n",
      "nan:nan\n",
      "nan:nan\n",
      "nan:nan\n",
      "nan:nan\n",
      "nan:nan\n",
      "nan:nan\n",
      "nan:nan\n",
      "nan:nan\n",
      "nan:nan\n",
      "nan:nan\n",
      "nan:nan\n",
      "nan:nan\n",
      "nan:nan\n",
      "nan:nan\n",
      "nan:nan\n",
      "nan:nan\n",
      "nan:nan\n",
      "nan:nan\n",
      "nan:nan\n",
      "nan:nan\n",
      "nan:nan\n",
      "nan:nan\n",
      "nan:nan\n",
      "nan:nan\n",
      "nan:nan\n",
      "nan:nan\n",
      "nan:nan\n",
      "nan:nan\n",
      "nan:nan\n",
      "nan:nan\n",
      "nan:nan\n",
      "nan:nan\n",
      "nan:nan\n",
      "nan:nan\n",
      "nan:nan\n",
      "nan:nan\n",
      "nan:nan\n",
      "nan:nan\n",
      "nan:nan\n",
      "nan:nan\n",
      "nan:nan\n",
      "nan:nan\n",
      "nan:nan\n",
      "nan:nan\n",
      "nan:nan\n",
      "nan:nan\n",
      "nan:nan\n",
      "nan:nan\n",
      "nan:nan\n",
      "nan:nan\n",
      "nan:nan\n",
      "nan:nan\n",
      "nan:nan\n",
      "nan:nan\n",
      "nan:nan\n",
      "nan:nan\n",
      "nan:nan\n",
      "nan:nan\n",
      "nan:nan\n",
      "nan:nan\n",
      "nan:nan\n",
      "nan:nan\n",
      "nan:nan\n",
      "nan:nan\n",
      "nan:nan\n",
      "nan:nan\n",
      "nan:nan\n",
      "nan:nan\n",
      "nan:nan\n",
      "nan:nan\n",
      "nan:nan\n",
      "nan:nan\n",
      "nan:nan\n",
      "nan:nan\n",
      "nan:nan\n",
      "nan:nan\n",
      "nan:nan\n",
      "nan:nan\n",
      "nan:nan\n",
      "nan:nan\n",
      "nan:nan\n",
      "nan:nan\n",
      "nan:nan\n",
      "nan:nan\n",
      "nan:nan\n",
      "nan:nan\n",
      "nan:nan\n",
      "nan:nan\n",
      "nan:nan\n",
      "nan:nan\n",
      "nan:nan\n",
      "nan:nan\n",
      "nan:nan\n",
      "nan:nan\n",
      "nan:nan\n",
      "nan:nan\n",
      "nan:nan\n",
      "nan:nan\n",
      "nan:nan\n",
      "nan:nan\n",
      "nan:nan\n",
      "nan:nan\n",
      "nan:nan\n",
      "nan:nan\n",
      "nan:nan\n",
      "nan:nan\n",
      "nan:nan\n",
      "nan:nan\n",
      "nan:nan\n",
      "nan:nan\n",
      "nan:nan\n",
      "nan:nan\n",
      "nan:nan\n",
      "nan:nan\n",
      "nan:nan\n",
      "nan:nan\n",
      "nan:nan\n",
      "nan:nan\n",
      "nan:nan\n",
      "nan:nan\n",
      "nan:nan\n",
      "nan:nan\n",
      "nan:nan\n",
      "nan:nan\n",
      "nan:nan\n",
      "nan:0.0\n"
     ]
    }
   ],
   "source": [
    "SnowNulls = (LondonWeather_df['snow_depth'].isnull())\n",
    "inds = LondonWeather_df[SnowNulls].index\n",
    "print(\"Before:After\")\n",
    "for index in inds:\n",
    "    before = LondonWeather_df['snow_depth'].iloc[index-1]\n",
    "    after  = LondonWeather_df['snow_depth'].iloc[index+1]\n",
    "    print(str(before)+':'+str(after))"
   ]
  },
  {
   "cell_type": "markdown",
   "id": "4c65d800-5e02-4a31-bd14-b416220248b1",
   "metadata": {},
   "source": [
    "All snow_depth NaN values are prempted and followed by zero inches of snow, or by another NaN. Based on these findings I conclude that the most reasonable explanation is that in 2011 researchers werent recording the snow_depth during times that there was no snow on the ground and or there was no expectation that there might be snow. From this finding I reccomend zero padding these nan values.  \n",
    "After zero padding lets check again to make sure theres no more null values"
   ]
  },
  {
   "cell_type": "code",
   "execution_count": 172,
   "id": "09e69abf-f624-4778-9af6-b1362e06fc91",
   "metadata": {
    "ExecuteTime": {
     "end_time": "2023-12-04T21:24:22.083070700Z",
     "start_time": "2023-12-04T21:24:22.008624700Z"
    }
   },
   "outputs": [
    {
     "data": {
      "text/plain": "Empty DataFrame\nColumns: [index, Date, cloud_cover, sunshine, global_radiation, max_temp, mean_temp, min_temp, precipitation, pressure, snow_depth]\nIndex: []",
      "text/html": "<div>\n<style scoped>\n    .dataframe tbody tr th:only-of-type {\n        vertical-align: middle;\n    }\n\n    .dataframe tbody tr th {\n        vertical-align: top;\n    }\n\n    .dataframe thead th {\n        text-align: right;\n    }\n</style>\n<table border=\"1\" class=\"dataframe\">\n  <thead>\n    <tr style=\"text-align: right;\">\n      <th></th>\n      <th>index</th>\n      <th>Date</th>\n      <th>cloud_cover</th>\n      <th>sunshine</th>\n      <th>global_radiation</th>\n      <th>max_temp</th>\n      <th>mean_temp</th>\n      <th>min_temp</th>\n      <th>precipitation</th>\n      <th>pressure</th>\n      <th>snow_depth</th>\n    </tr>\n  </thead>\n  <tbody>\n  </tbody>\n</table>\n</div>"
     },
     "execution_count": 172,
     "metadata": {},
     "output_type": "execute_result"
    }
   ],
   "source": [
    "LondonWeather_df['snow_depth'] = LondonWeather_df[\"snow_depth\"].fillna(0.0)\n",
    "SnowNulls = (LondonWeather_df['snow_depth'].isnull())\n",
    "LondonWeather_df[SnowNulls]"
   ]
  },
  {
   "cell_type": "code",
   "execution_count": 173,
   "outputs": [
    {
     "data": {
      "text/plain": "      index       Date  cloud_cover  sunshine  global_radiation  max_temp  \\\n0     11688 2011-01-01          8.0       0.0              13.0       4.0   \n1     11689 2011-01-02          8.0       0.1              15.0       2.9   \n2     11690 2011-01-03          7.0       0.1              15.0       6.0   \n3     11691 2011-01-04          7.0       0.0              13.0       7.1   \n4     11692 2011-01-05          6.0       2.3              31.0       5.1   \n...     ...        ...          ...       ...               ...       ...   \n1456  13144 2014-12-27          5.0       2.0              28.0       6.2   \n1457  13145 2014-12-28          0.0       6.0              47.0       5.8   \n1458  13146 2014-12-29          0.0       6.1              47.0       5.7   \n1459  13147 2014-12-30          1.0       3.3              35.0       8.5   \n1460  13148 2014-12-31          3.0       2.3              30.0      12.9   \n\n      mean_temp  min_temp  precipitation  pressure  snow_depth  \n0           5.9       4.6            0.6  102500.0         0.0  \n1           3.0       1.9            0.0  102830.0         0.0  \n2           1.3      -0.3            0.0  102460.0         0.0  \n3           2.9      -0.3            0.0  101360.0         0.0  \n4           4.2       1.3            1.0  100040.0         0.0  \n...         ...       ...            ...       ...         ...  \n1456        3.0       1.2            0.0  100730.0         0.0  \n1457        3.6       0.9            0.0  102950.0         0.0  \n1458        1.2      -3.5            0.2  104060.0         0.0  \n1459        0.8      -4.1            0.2  103940.0         0.0  \n1460        2.2      -4.1            0.2  103410.0         0.0  \n\n[1461 rows x 11 columns]",
      "text/html": "<div>\n<style scoped>\n    .dataframe tbody tr th:only-of-type {\n        vertical-align: middle;\n    }\n\n    .dataframe tbody tr th {\n        vertical-align: top;\n    }\n\n    .dataframe thead th {\n        text-align: right;\n    }\n</style>\n<table border=\"1\" class=\"dataframe\">\n  <thead>\n    <tr style=\"text-align: right;\">\n      <th></th>\n      <th>index</th>\n      <th>Date</th>\n      <th>cloud_cover</th>\n      <th>sunshine</th>\n      <th>global_radiation</th>\n      <th>max_temp</th>\n      <th>mean_temp</th>\n      <th>min_temp</th>\n      <th>precipitation</th>\n      <th>pressure</th>\n      <th>snow_depth</th>\n    </tr>\n  </thead>\n  <tbody>\n    <tr>\n      <th>0</th>\n      <td>11688</td>\n      <td>2011-01-01</td>\n      <td>8.0</td>\n      <td>0.0</td>\n      <td>13.0</td>\n      <td>4.0</td>\n      <td>5.9</td>\n      <td>4.6</td>\n      <td>0.6</td>\n      <td>102500.0</td>\n      <td>0.0</td>\n    </tr>\n    <tr>\n      <th>1</th>\n      <td>11689</td>\n      <td>2011-01-02</td>\n      <td>8.0</td>\n      <td>0.1</td>\n      <td>15.0</td>\n      <td>2.9</td>\n      <td>3.0</td>\n      <td>1.9</td>\n      <td>0.0</td>\n      <td>102830.0</td>\n      <td>0.0</td>\n    </tr>\n    <tr>\n      <th>2</th>\n      <td>11690</td>\n      <td>2011-01-03</td>\n      <td>7.0</td>\n      <td>0.1</td>\n      <td>15.0</td>\n      <td>6.0</td>\n      <td>1.3</td>\n      <td>-0.3</td>\n      <td>0.0</td>\n      <td>102460.0</td>\n      <td>0.0</td>\n    </tr>\n    <tr>\n      <th>3</th>\n      <td>11691</td>\n      <td>2011-01-04</td>\n      <td>7.0</td>\n      <td>0.0</td>\n      <td>13.0</td>\n      <td>7.1</td>\n      <td>2.9</td>\n      <td>-0.3</td>\n      <td>0.0</td>\n      <td>101360.0</td>\n      <td>0.0</td>\n    </tr>\n    <tr>\n      <th>4</th>\n      <td>11692</td>\n      <td>2011-01-05</td>\n      <td>6.0</td>\n      <td>2.3</td>\n      <td>31.0</td>\n      <td>5.1</td>\n      <td>4.2</td>\n      <td>1.3</td>\n      <td>1.0</td>\n      <td>100040.0</td>\n      <td>0.0</td>\n    </tr>\n    <tr>\n      <th>...</th>\n      <td>...</td>\n      <td>...</td>\n      <td>...</td>\n      <td>...</td>\n      <td>...</td>\n      <td>...</td>\n      <td>...</td>\n      <td>...</td>\n      <td>...</td>\n      <td>...</td>\n      <td>...</td>\n    </tr>\n    <tr>\n      <th>1456</th>\n      <td>13144</td>\n      <td>2014-12-27</td>\n      <td>5.0</td>\n      <td>2.0</td>\n      <td>28.0</td>\n      <td>6.2</td>\n      <td>3.0</td>\n      <td>1.2</td>\n      <td>0.0</td>\n      <td>100730.0</td>\n      <td>0.0</td>\n    </tr>\n    <tr>\n      <th>1457</th>\n      <td>13145</td>\n      <td>2014-12-28</td>\n      <td>0.0</td>\n      <td>6.0</td>\n      <td>47.0</td>\n      <td>5.8</td>\n      <td>3.6</td>\n      <td>0.9</td>\n      <td>0.0</td>\n      <td>102950.0</td>\n      <td>0.0</td>\n    </tr>\n    <tr>\n      <th>1458</th>\n      <td>13146</td>\n      <td>2014-12-29</td>\n      <td>0.0</td>\n      <td>6.1</td>\n      <td>47.0</td>\n      <td>5.7</td>\n      <td>1.2</td>\n      <td>-3.5</td>\n      <td>0.2</td>\n      <td>104060.0</td>\n      <td>0.0</td>\n    </tr>\n    <tr>\n      <th>1459</th>\n      <td>13147</td>\n      <td>2014-12-30</td>\n      <td>1.0</td>\n      <td>3.3</td>\n      <td>35.0</td>\n      <td>8.5</td>\n      <td>0.8</td>\n      <td>-4.1</td>\n      <td>0.2</td>\n      <td>103940.0</td>\n      <td>0.0</td>\n    </tr>\n    <tr>\n      <th>1460</th>\n      <td>13148</td>\n      <td>2014-12-31</td>\n      <td>3.0</td>\n      <td>2.3</td>\n      <td>30.0</td>\n      <td>12.9</td>\n      <td>2.2</td>\n      <td>-4.1</td>\n      <td>0.2</td>\n      <td>103410.0</td>\n      <td>0.0</td>\n    </tr>\n  </tbody>\n</table>\n<p>1461 rows × 11 columns</p>\n</div>"
     },
     "execution_count": 173,
     "metadata": {},
     "output_type": "execute_result"
    }
   ],
   "source": [
    "LondonWeather_df"
   ],
   "metadata": {
    "collapsed": false,
    "ExecuteTime": {
     "end_time": "2023-12-04T21:24:22.083070700Z",
     "start_time": "2023-12-04T21:24:22.017523900Z"
    }
   }
  },
  {
   "cell_type": "markdown",
   "id": "555ec1cc-0d4e-4c71-ae7a-7d45efa1bcbe",
   "metadata": {},
   "source": [
    "## Energy Cost Data Preperation\n",
    "\n",
    "The third data set we will be joining for our model is a data set detailing the average cost of energy in the UK. This was as local of energy pricing data as could be found. All pricing is in Euro/MWh."
   ]
  },
  {
   "cell_type": "code",
   "execution_count": 174,
   "id": "63194ba3-47e3-45c0-b7b2-4d8286c907ba",
   "metadata": {
    "ExecuteTime": {
     "end_time": "2023-12-04T21:24:22.084071800Z",
     "start_time": "2023-12-04T21:24:22.035185100Z"
    }
   },
   "outputs": [
    {
     "data": {
      "text/plain": "    Datetime  Settlement Period Market Index Data Provider Id  \\\n0   1-Jan-11                 48                       APXMIDP   \n1   2-Jan-11                 48                       APXMIDP   \n2   3-Jan-11                 48                       APXMIDP   \n3   4-Jan-11                 48                       APXMIDP   \n4   5-Jan-11                 48                       APXMIDP   \n5   6-Jan-11                 48                       APXMIDP   \n6   7-Jan-11                 48                       APXMIDP   \n7   8-Jan-11                 48                       APXMIDP   \n8   9-Jan-11                 48                       APXMIDP   \n9  10-Jan-11                 48                       APXMIDP   \n\n   Market Index Volume(MWh)  Market Index Price(£/MWh)  \\\n0                     415.0                      46.46   \n1                     326.0                      45.50   \n2                     221.0                      42.72   \n3                     115.5                      41.18   \n4                     250.5                      38.04   \n5                     444.5                      42.65   \n6                     196.0                      44.27   \n7                     661.5                      43.73   \n8                     466.0                      42.92   \n9                     200.0                      40.10   \n\n   Volume * Price Product  start daily row  end daily row  \\\n0               19280.900                2             49   \n1               14833.000               50             97   \n2                9441.120               98            145   \n3                4756.290              146            193   \n4                9529.020              194            241   \n5               18957.925              242            289   \n6                8676.920              290            337   \n7               28927.395              338            385   \n8               20000.720              386            433   \n9                8020.000              434            481   \n\n   daily volume * Price Product  Daily volume  volume weighted price  \n0                       1613523       33795.0                 47.744  \n1                       1926510       34913.0                 55.180  \n2                       1631767       32858.5                 49.660  \n3                       1887767       35356.5                 53.390  \n4                       1219950       25136.0                 48.530  \n5                       1926271       36778.0                 52.380  \n6                       1299543       26035.5                 49.910  \n7                       1411038       28783.0                 49.020  \n8                       1823653       35624.5                 51.190  \n9                       1936495       37316.5                 51.890  ",
      "text/html": "<div>\n<style scoped>\n    .dataframe tbody tr th:only-of-type {\n        vertical-align: middle;\n    }\n\n    .dataframe tbody tr th {\n        vertical-align: top;\n    }\n\n    .dataframe thead th {\n        text-align: right;\n    }\n</style>\n<table border=\"1\" class=\"dataframe\">\n  <thead>\n    <tr style=\"text-align: right;\">\n      <th></th>\n      <th>Datetime</th>\n      <th>Settlement Period</th>\n      <th>Market Index Data Provider Id</th>\n      <th>Market Index Volume(MWh)</th>\n      <th>Market Index Price(£/MWh)</th>\n      <th>Volume * Price Product</th>\n      <th>start daily row</th>\n      <th>end daily row</th>\n      <th>daily volume * Price Product</th>\n      <th>Daily volume</th>\n      <th>volume weighted price</th>\n    </tr>\n  </thead>\n  <tbody>\n    <tr>\n      <th>0</th>\n      <td>1-Jan-11</td>\n      <td>48</td>\n      <td>APXMIDP</td>\n      <td>415.0</td>\n      <td>46.46</td>\n      <td>19280.900</td>\n      <td>2</td>\n      <td>49</td>\n      <td>1613523</td>\n      <td>33795.0</td>\n      <td>47.744</td>\n    </tr>\n    <tr>\n      <th>1</th>\n      <td>2-Jan-11</td>\n      <td>48</td>\n      <td>APXMIDP</td>\n      <td>326.0</td>\n      <td>45.50</td>\n      <td>14833.000</td>\n      <td>50</td>\n      <td>97</td>\n      <td>1926510</td>\n      <td>34913.0</td>\n      <td>55.180</td>\n    </tr>\n    <tr>\n      <th>2</th>\n      <td>3-Jan-11</td>\n      <td>48</td>\n      <td>APXMIDP</td>\n      <td>221.0</td>\n      <td>42.72</td>\n      <td>9441.120</td>\n      <td>98</td>\n      <td>145</td>\n      <td>1631767</td>\n      <td>32858.5</td>\n      <td>49.660</td>\n    </tr>\n    <tr>\n      <th>3</th>\n      <td>4-Jan-11</td>\n      <td>48</td>\n      <td>APXMIDP</td>\n      <td>115.5</td>\n      <td>41.18</td>\n      <td>4756.290</td>\n      <td>146</td>\n      <td>193</td>\n      <td>1887767</td>\n      <td>35356.5</td>\n      <td>53.390</td>\n    </tr>\n    <tr>\n      <th>4</th>\n      <td>5-Jan-11</td>\n      <td>48</td>\n      <td>APXMIDP</td>\n      <td>250.5</td>\n      <td>38.04</td>\n      <td>9529.020</td>\n      <td>194</td>\n      <td>241</td>\n      <td>1219950</td>\n      <td>25136.0</td>\n      <td>48.530</td>\n    </tr>\n    <tr>\n      <th>5</th>\n      <td>6-Jan-11</td>\n      <td>48</td>\n      <td>APXMIDP</td>\n      <td>444.5</td>\n      <td>42.65</td>\n      <td>18957.925</td>\n      <td>242</td>\n      <td>289</td>\n      <td>1926271</td>\n      <td>36778.0</td>\n      <td>52.380</td>\n    </tr>\n    <tr>\n      <th>6</th>\n      <td>7-Jan-11</td>\n      <td>48</td>\n      <td>APXMIDP</td>\n      <td>196.0</td>\n      <td>44.27</td>\n      <td>8676.920</td>\n      <td>290</td>\n      <td>337</td>\n      <td>1299543</td>\n      <td>26035.5</td>\n      <td>49.910</td>\n    </tr>\n    <tr>\n      <th>7</th>\n      <td>8-Jan-11</td>\n      <td>48</td>\n      <td>APXMIDP</td>\n      <td>661.5</td>\n      <td>43.73</td>\n      <td>28927.395</td>\n      <td>338</td>\n      <td>385</td>\n      <td>1411038</td>\n      <td>28783.0</td>\n      <td>49.020</td>\n    </tr>\n    <tr>\n      <th>8</th>\n      <td>9-Jan-11</td>\n      <td>48</td>\n      <td>APXMIDP</td>\n      <td>466.0</td>\n      <td>42.92</td>\n      <td>20000.720</td>\n      <td>386</td>\n      <td>433</td>\n      <td>1823653</td>\n      <td>35624.5</td>\n      <td>51.190</td>\n    </tr>\n    <tr>\n      <th>9</th>\n      <td>10-Jan-11</td>\n      <td>48</td>\n      <td>APXMIDP</td>\n      <td>200.0</td>\n      <td>40.10</td>\n      <td>8020.000</td>\n      <td>434</td>\n      <td>481</td>\n      <td>1936495</td>\n      <td>37316.5</td>\n      <td>51.890</td>\n    </tr>\n  </tbody>\n</table>\n</div>"
     },
     "execution_count": 174,
     "metadata": {},
     "output_type": "execute_result"
    }
   ],
   "source": [
    "UKEnergyCost2011 = pd.read_csv(\"../data/clean/2011ElectricityCostData_UTF8.xls\")\n",
    "UKEnergyCost2011.head(10)"
   ]
  },
  {
   "cell_type": "code",
   "execution_count": 175,
   "id": "a6a00ec1-7b52-4875-852a-302b3d7b9277",
   "metadata": {
    "ExecuteTime": {
     "end_time": "2023-12-04T21:24:22.101111300Z",
     "start_time": "2023-12-04T21:24:22.040944600Z"
    }
   },
   "outputs": [
    {
     "name": "stdout",
     "output_type": "stream",
     "text": [
      "1461\n",
      "1457\n",
      "1457\n",
      "1457\n",
      "1457\n",
      "1457\n",
      "1457\n",
      "1457\n",
      "1457\n",
      "1457\n",
      "1461\n",
      "Index(['Datetime', 'Settlement Period', 'Market Index Data Provider Id',\n",
      "       'Market Index Volume(MWh)', 'Market Index Price(£/MWh)',\n",
      "       'Volume * Price Product', 'start daily row', 'end daily row',\n",
      "       'daily volume * Price Product', 'Daily volume',\n",
      "       'volume weighted price'],\n",
      "      dtype='object')\n"
     ]
    }
   ],
   "source": [
    "UKEnergyCost2012 = pd.read_csv(\"../data/clean/2012ElectricityCostData_UTF8.xls\")\n",
    "UKEnergyCost2013 = pd.read_csv(\"../data/clean/2013ElectricityCostData_UTF8.xls\")\n",
    "UKEnergyCost2014 = pd.read_csv(\"../data/clean/2014ElectricityCostData_UTF8.xls\")\n",
    "UKEnergyCost = pd.concat([UKEnergyCost2011,UKEnergyCost2012,UKEnergyCost2013,UKEnergyCost2014], ignore_index=True, axis=0)\n",
    "for col in UKEnergyCost:\n",
    "    print(UKEnergyCost[col].count())\n",
    "print(UKEnergyCost.columns)"
   ]
  },
  {
   "cell_type": "markdown",
   "id": "b8635ffb-88c5-4489-9f08-835902f27eea",
   "metadata": {},
   "source": [
    "Based on the count results for the columns in the dataframe and verification done on the csv's in excel it's seen that only the volume weighted price, and Datetime columns are complete. This is not an issue as those are the only columns we need for our purposes so lets drop those incomplete columns.  <br>Additionally, to join this data set to the others we need to get the Datetime column into the Datetime data type."
   ]
  },
  {
   "cell_type": "code",
   "execution_count": 176,
   "id": "1dcab573-82a0-41b2-9b9f-884b22e25f16",
   "metadata": {
    "ExecuteTime": {
     "end_time": "2023-12-04T21:24:22.285278500Z",
     "start_time": "2023-12-04T21:24:22.052118300Z"
    }
   },
   "outputs": [
    {
     "name": "stdout",
     "output_type": "stream",
     "text": [
      "0        1-Jan-11\n",
      "1        2-Jan-11\n",
      "2        3-Jan-11\n",
      "3        4-Jan-11\n",
      "4        5-Jan-11\n",
      "          ...    \n",
      "1456    27-Dec-14\n",
      "1457    28-Dec-14\n",
      "1458    29-Dec-14\n",
      "1459    30-Dec-14\n",
      "1460    31-Dec-14\n",
      "Name: Datetime, Length: 1461, dtype: object\n",
      "0      2011-01-01\n",
      "1      2011-01-02\n",
      "2      2011-01-03\n",
      "3      2011-01-04\n",
      "4      2011-01-05\n",
      "          ...    \n",
      "1456   2014-12-27\n",
      "1457   2014-12-28\n",
      "1458   2014-12-29\n",
      "1459   2014-12-30\n",
      "1460   2014-12-31\n",
      "Name: Datetime, Length: 1461, dtype: datetime64[ns]\n"
     ]
    }
   ],
   "source": [
    "format_str = \"%d_%b_%y\"\n",
    "EnergyCost_df = UKEnergyCost[['Datetime','volume weighted price']].copy()\n",
    "print(EnergyCost_df['Datetime'])\n",
    "# Replace the hyphens with underscores due to special character limitations of strptime.\n",
    "EnergyCost_df['Datetime'] = EnergyCost_df['Datetime'].apply(lambda s: s.replace('-', '_'))\n",
    "EnergyCost_df['Datetime'] = EnergyCost_df[\"Datetime\"].map(lambda s: dt.datetime.strptime(s, format_str))\n",
    "print(EnergyCost_df['Datetime'])"
   ]
  },
  {
   "cell_type": "markdown",
   "id": "225b9d3a-97b4-40ea-9f33-41bbbd58f9c6",
   "metadata": {},
   "source": [
    "Now that we have joined and reformated the energy cost data lets correct the Datetime column's label to match our other two datasets."
   ]
  },
  {
   "cell_type": "code",
   "execution_count": 177,
   "id": "027ba606-61eb-4ce7-b370-4862a4973488",
   "metadata": {
    "ExecuteTime": {
     "end_time": "2023-12-04T21:24:22.285278500Z",
     "start_time": "2023-12-04T21:24:22.069488900Z"
    }
   },
   "outputs": [
    {
     "data": {
      "text/plain": "           Date  volume weighted price\n0    2011-01-01                 47.744\n1    2011-01-02                 55.180\n2    2011-01-03                 49.660\n3    2011-01-04                 53.390\n4    2011-01-05                 48.530\n...         ...                    ...\n1456 2014-12-27                 49.930\n1457 2014-12-28                 46.780\n1458 2014-12-29                 49.000\n1459 2014-12-30                 46.050\n1460 2014-12-31                 37.230\n\n[1461 rows x 2 columns]",
      "text/html": "<div>\n<style scoped>\n    .dataframe tbody tr th:only-of-type {\n        vertical-align: middle;\n    }\n\n    .dataframe tbody tr th {\n        vertical-align: top;\n    }\n\n    .dataframe thead th {\n        text-align: right;\n    }\n</style>\n<table border=\"1\" class=\"dataframe\">\n  <thead>\n    <tr style=\"text-align: right;\">\n      <th></th>\n      <th>Date</th>\n      <th>volume weighted price</th>\n    </tr>\n  </thead>\n  <tbody>\n    <tr>\n      <th>0</th>\n      <td>2011-01-01</td>\n      <td>47.744</td>\n    </tr>\n    <tr>\n      <th>1</th>\n      <td>2011-01-02</td>\n      <td>55.180</td>\n    </tr>\n    <tr>\n      <th>2</th>\n      <td>2011-01-03</td>\n      <td>49.660</td>\n    </tr>\n    <tr>\n      <th>3</th>\n      <td>2011-01-04</td>\n      <td>53.390</td>\n    </tr>\n    <tr>\n      <th>4</th>\n      <td>2011-01-05</td>\n      <td>48.530</td>\n    </tr>\n    <tr>\n      <th>...</th>\n      <td>...</td>\n      <td>...</td>\n    </tr>\n    <tr>\n      <th>1456</th>\n      <td>2014-12-27</td>\n      <td>49.930</td>\n    </tr>\n    <tr>\n      <th>1457</th>\n      <td>2014-12-28</td>\n      <td>46.780</td>\n    </tr>\n    <tr>\n      <th>1458</th>\n      <td>2014-12-29</td>\n      <td>49.000</td>\n    </tr>\n    <tr>\n      <th>1459</th>\n      <td>2014-12-30</td>\n      <td>46.050</td>\n    </tr>\n    <tr>\n      <th>1460</th>\n      <td>2014-12-31</td>\n      <td>37.230</td>\n    </tr>\n  </tbody>\n</table>\n<p>1461 rows × 2 columns</p>\n</div>"
     },
     "execution_count": 177,
     "metadata": {},
     "output_type": "execute_result"
    }
   ],
   "source": [
    "EnergyCost_df = EnergyCost_df.rename(columns = {'Datetime':'Date'})\n",
    "EnergyCost_df"
   ]
  },
  {
   "cell_type": "markdown",
   "id": "e260a627-454f-4c26-99d2-41d21ccbda25",
   "metadata": {},
   "source": [
    "The energy cost data set is now ready to be joined to the weather and energy usage data.  \n",
    "\n",
    "### Are All Dates Present?\n",
    "\n",
    "Lets now ensure that all dates are present in this data set."
   ]
  },
  {
   "cell_type": "code",
   "execution_count": 178,
   "id": "5a0bd7bf-6a84-4881-9689-41daa5fa8d0f",
   "metadata": {
    "ExecuteTime": {
     "end_time": "2023-12-04T21:24:22.285278500Z",
     "start_time": "2023-12-04T21:24:22.078585300Z"
    }
   },
   "outputs": [
    {
     "name": "stdout",
     "output_type": "stream",
     "text": [
      "DatetimeIndex([], dtype='datetime64[ns]', freq='D')\n"
     ]
    }
   ],
   "source": [
    "MissingDates = pd.date_range(start = '2011-01-01', end = '2014-12-31' ).difference(EnergyCost_df['Date'])\n",
    "print(MissingDates)"
   ]
  },
  {
   "cell_type": "markdown",
   "id": "6837464e-60a6-4aab-ace2-90f8e8e08c2a",
   "metadata": {},
   "source": [
    "All dates from 2011-2014 are present, and there are no additional dates. Now lets ensure that the volume weighted price data is uncorrupted as well.\n",
    "### Is The Data Uncorrupted?"
   ]
  },
  {
   "cell_type": "code",
   "execution_count": 179,
   "id": "71c921bd-75e1-426e-8a51-9cb481c3844f",
   "metadata": {
    "ExecuteTime": {
     "end_time": "2023-12-04T21:24:22.286279500Z",
     "start_time": "2023-12-04T21:24:22.092103200Z"
    }
   },
   "outputs": [
    {
     "name": "stdout",
     "output_type": "stream",
     "text": [
      "False\n"
     ]
    },
    {
     "data": {
      "text/plain": "count    1461.000000\nmean       47.457867\nstd         6.813896\nmin        30.450000\n25%        43.310000\n50%        47.060000\n75%        51.010000\nmax        84.270000\nName: volume weighted price, dtype: float64"
     },
     "execution_count": 179,
     "metadata": {},
     "output_type": "execute_result"
    }
   ],
   "source": [
    "print(EnergyCost_df.isnull().values.any())\n",
    "EnergyCost_df['volume weighted price'].describe()"
   ]
  },
  {
   "cell_type": "markdown",
   "id": "2f4c85f1-7b6a-420d-b718-c916809d1f51",
   "metadata": {},
   "source": [
    "isnull = false therefore there are no null values in the dataframe. The min, max, and general distribution of the energy price appear reasonable but lets plot them as well to be thourough."
   ]
  },
  {
   "cell_type": "code",
   "execution_count": 180,
   "id": "156efd87-5f68-48fe-b52e-7b6733938255",
   "metadata": {
    "ExecuteTime": {
     "end_time": "2023-12-04T21:24:22.543546Z",
     "start_time": "2023-12-04T21:24:22.092103200Z"
    }
   },
   "outputs": [
    {
     "data": {
      "text/plain": "[Text(0.5, 1.0, 'volume weighted price distribution')]"
     },
     "execution_count": 180,
     "metadata": {},
     "output_type": "execute_result"
    },
    {
     "data": {
      "text/plain": "<Figure size 640x480 with 1 Axes>",
      "image/png": "[encoded data removed]"
     },
     "metadata": {},
     "output_type": "display_data"
    }
   ],
   "source": [
    "plt.xticks(rotation=45,fontsize=8)\n",
    "plt.Axes.minorticks_on\n",
    "sns.histplot(data = EnergyCost_df, x=\"volume weighted price\").set(title='volume weighted price distribution')\n",
    "# plt.savefig(\"RESSqft.svg\", format='svg')"
   ]
  },
  {
   "cell_type": "markdown",
   "id": "93da2c4a-eb83-4ec7-a557-f4b718bf1a93",
   "metadata": {},
   "source": [
    "Nothing in the volume weighted price visualization appears unreasonable, at this time there is no reason to suspect corrupted energy cost data."
   ]
  },
  {
   "cell_type": "markdown",
   "source": [
    "# Merge Data"
   ],
   "metadata": {
    "collapsed": false
   }
  },
  {
   "cell_type": "code",
   "execution_count": 181,
   "outputs": [
    {
     "data": {
      "text/plain": "       LCLid       Date     KWH\n0  MAC000002 2012-10-12   7.098\n1  MAC000002 2012-10-13  11.087\n2  MAC000002 2012-10-14  13.223\n3  MAC000002 2012-10-15  10.257\n4  MAC000002 2012-10-16   9.769",
      "text/html": "<div>\n<style scoped>\n    .dataframe tbody tr th:only-of-type {\n        vertical-align: middle;\n    }\n\n    .dataframe tbody tr th {\n        vertical-align: top;\n    }\n\n    .dataframe thead th {\n        text-align: right;\n    }\n</style>\n<table border=\"1\" class=\"dataframe\">\n  <thead>\n    <tr style=\"text-align: right;\">\n      <th></th>\n      <th>LCLid</th>\n      <th>Date</th>\n      <th>KWH</th>\n    </tr>\n  </thead>\n  <tbody>\n    <tr>\n      <th>0</th>\n      <td>MAC000002</td>\n      <td>2012-10-12</td>\n      <td>7.098</td>\n    </tr>\n    <tr>\n      <th>1</th>\n      <td>MAC000002</td>\n      <td>2012-10-13</td>\n      <td>11.087</td>\n    </tr>\n    <tr>\n      <th>2</th>\n      <td>MAC000002</td>\n      <td>2012-10-14</td>\n      <td>13.223</td>\n    </tr>\n    <tr>\n      <th>3</th>\n      <td>MAC000002</td>\n      <td>2012-10-15</td>\n      <td>10.257</td>\n    </tr>\n    <tr>\n      <th>4</th>\n      <td>MAC000002</td>\n      <td>2012-10-16</td>\n      <td>9.769</td>\n    </tr>\n  </tbody>\n</table>\n</div>"
     },
     "execution_count": 181,
     "metadata": {},
     "output_type": "execute_result"
    }
   ],
   "source": [
    "LondonEnergy_df.head()"
   ],
   "metadata": {
    "collapsed": false,
    "ExecuteTime": {
     "end_time": "2023-12-04T21:24:22.543546Z",
     "start_time": "2023-12-04T21:24:22.352756500Z"
    }
   }
  },
  {
   "cell_type": "code",
   "execution_count": 182,
   "outputs": [
    {
     "data": {
      "text/plain": "   index       Date  cloud_cover  sunshine  global_radiation  max_temp  \\\n0  11688 2011-01-01          8.0       0.0              13.0       4.0   \n1  11689 2011-01-02          8.0       0.1              15.0       2.9   \n2  11690 2011-01-03          7.0       0.1              15.0       6.0   \n3  11691 2011-01-04          7.0       0.0              13.0       7.1   \n4  11692 2011-01-05          6.0       2.3              31.0       5.1   \n\n   mean_temp  min_temp  precipitation  pressure  snow_depth  \n0        5.9       4.6            0.6  102500.0         0.0  \n1        3.0       1.9            0.0  102830.0         0.0  \n2        1.3      -0.3            0.0  102460.0         0.0  \n3        2.9      -0.3            0.0  101360.0         0.0  \n4        4.2       1.3            1.0  100040.0         0.0  ",
      "text/html": "<div>\n<style scoped>\n    .dataframe tbody tr th:only-of-type {\n        vertical-align: middle;\n    }\n\n    .dataframe tbody tr th {\n        vertical-align: top;\n    }\n\n    .dataframe thead th {\n        text-align: right;\n    }\n</style>\n<table border=\"1\" class=\"dataframe\">\n  <thead>\n    <tr style=\"text-align: right;\">\n      <th></th>\n      <th>index</th>\n      <th>Date</th>\n      <th>cloud_cover</th>\n      <th>sunshine</th>\n      <th>global_radiation</th>\n      <th>max_temp</th>\n      <th>mean_temp</th>\n      <th>min_temp</th>\n      <th>precipitation</th>\n      <th>pressure</th>\n      <th>snow_depth</th>\n    </tr>\n  </thead>\n  <tbody>\n    <tr>\n      <th>0</th>\n      <td>11688</td>\n      <td>2011-01-01</td>\n      <td>8.0</td>\n      <td>0.0</td>\n      <td>13.0</td>\n      <td>4.0</td>\n      <td>5.9</td>\n      <td>4.6</td>\n      <td>0.6</td>\n      <td>102500.0</td>\n      <td>0.0</td>\n    </tr>\n    <tr>\n      <th>1</th>\n      <td>11689</td>\n      <td>2011-01-02</td>\n      <td>8.0</td>\n      <td>0.1</td>\n      <td>15.0</td>\n      <td>2.9</td>\n      <td>3.0</td>\n      <td>1.9</td>\n      <td>0.0</td>\n      <td>102830.0</td>\n      <td>0.0</td>\n    </tr>\n    <tr>\n      <th>2</th>\n      <td>11690</td>\n      <td>2011-01-03</td>\n      <td>7.0</td>\n      <td>0.1</td>\n      <td>15.0</td>\n      <td>6.0</td>\n      <td>1.3</td>\n      <td>-0.3</td>\n      <td>0.0</td>\n      <td>102460.0</td>\n      <td>0.0</td>\n    </tr>\n    <tr>\n      <th>3</th>\n      <td>11691</td>\n      <td>2011-01-04</td>\n      <td>7.0</td>\n      <td>0.0</td>\n      <td>13.0</td>\n      <td>7.1</td>\n      <td>2.9</td>\n      <td>-0.3</td>\n      <td>0.0</td>\n      <td>101360.0</td>\n      <td>0.0</td>\n    </tr>\n    <tr>\n      <th>4</th>\n      <td>11692</td>\n      <td>2011-01-05</td>\n      <td>6.0</td>\n      <td>2.3</td>\n      <td>31.0</td>\n      <td>5.1</td>\n      <td>4.2</td>\n      <td>1.3</td>\n      <td>1.0</td>\n      <td>100040.0</td>\n      <td>0.0</td>\n    </tr>\n  </tbody>\n</table>\n</div>"
     },
     "execution_count": 182,
     "metadata": {},
     "output_type": "execute_result"
    }
   ],
   "source": [
    "LondonWeather_df.head()"
   ],
   "metadata": {
    "collapsed": false,
    "ExecuteTime": {
     "end_time": "2023-12-04T21:24:22.543546Z",
     "start_time": "2023-12-04T21:24:22.353757500Z"
    }
   }
  },
  {
   "cell_type": "code",
   "execution_count": 183,
   "outputs": [
    {
     "data": {
      "text/plain": "        Date  volume weighted price\n0 2011-01-01                 47.744\n1 2011-01-02                 55.180\n2 2011-01-03                 49.660\n3 2011-01-04                 53.390\n4 2011-01-05                 48.530",
      "text/html": "<div>\n<style scoped>\n    .dataframe tbody tr th:only-of-type {\n        vertical-align: middle;\n    }\n\n    .dataframe tbody tr th {\n        vertical-align: top;\n    }\n\n    .dataframe thead th {\n        text-align: right;\n    }\n</style>\n<table border=\"1\" class=\"dataframe\">\n  <thead>\n    <tr style=\"text-align: right;\">\n      <th></th>\n      <th>Date</th>\n      <th>volume weighted price</th>\n    </tr>\n  </thead>\n  <tbody>\n    <tr>\n      <th>0</th>\n      <td>2011-01-01</td>\n      <td>47.744</td>\n    </tr>\n    <tr>\n      <th>1</th>\n      <td>2011-01-02</td>\n      <td>55.180</td>\n    </tr>\n    <tr>\n      <th>2</th>\n      <td>2011-01-03</td>\n      <td>49.660</td>\n    </tr>\n    <tr>\n      <th>3</th>\n      <td>2011-01-04</td>\n      <td>53.390</td>\n    </tr>\n    <tr>\n      <th>4</th>\n      <td>2011-01-05</td>\n      <td>48.530</td>\n    </tr>\n  </tbody>\n</table>\n</div>"
     },
     "execution_count": 183,
     "metadata": {},
     "output_type": "execute_result"
    }
   ],
   "source": [
    "EnergyCost_df.head()"
   ],
   "metadata": {
    "collapsed": false,
    "ExecuteTime": {
     "end_time": "2023-12-04T21:24:22.544548Z",
     "start_time": "2023-12-04T21:24:22.360007500Z"
    }
   }
  },
  {
   "cell_type": "code",
   "execution_count": 184,
   "outputs": [
    {
     "name": "stdout",
     "output_type": "stream",
     "text": [
      "Index(['LCLid', 'Date', 'KWH', 'volume weighted price', 'index', 'cloud_cover',\n",
      "       'sunshine', 'global_radiation', 'max_temp', 'mean_temp', 'min_temp',\n",
      "       'precipitation', 'pressure', 'snow_depth'],\n",
      "      dtype='object')\n"
     ]
    },
    {
     "data": {
      "text/plain": "             LCLid       Date     KWH  volume weighted price  index  \\\n0        MAC000002 2012-10-12   7.098                  42.99  12338   \n1        MAC000003 2012-10-12  13.434                  42.99  12338   \n2        MAC000004 2012-10-12   1.522                  42.99  12338   \n3        MAC000005 2012-10-12   4.448                  42.99  12338   \n4        MAC000006 2012-10-12   4.074                  42.99  12338   \n...            ...        ...     ...                    ...    ...   \n1048570  MAC000267 2011-12-05  12.654                  43.18  12026   \n1048571  MAC000268 2011-12-05   3.099                  43.18  12026   \n1048572  MAC000269 2011-12-05   1.116                  43.18  12026   \n1048573  MAC000270 2011-12-05  12.937                  43.18  12026   \n1048574  MAC000271 2011-12-05   6.863                  43.18  12026   \n\n         cloud_cover  sunshine  global_radiation  max_temp  mean_temp  \\\n0                5.0       6.4             106.0      13.5       12.3   \n1                5.0       6.4             106.0      13.5       12.3   \n2                5.0       6.4             106.0      13.5       12.3   \n3                5.0       6.4             106.0      13.5       12.3   \n4                5.0       6.4             106.0      13.5       12.3   \n...              ...       ...               ...       ...        ...   \n1048570          1.0       3.1              35.0       9.0        4.8   \n1048571          1.0       3.1              35.0       9.0        4.8   \n1048572          1.0       3.1              35.0       9.0        4.8   \n1048573          1.0       3.1              35.0       9.0        4.8   \n1048574          1.0       3.1              35.0       9.0        4.8   \n\n         min_temp  precipitation  pressure  snow_depth  \n0             9.7            0.0  100580.0         0.0  \n1             9.7            0.0  100580.0         0.0  \n2             9.7            0.0  100580.0         0.0  \n3             9.7            0.0  100580.0         0.0  \n4             9.7            0.0  100580.0         0.0  \n...           ...            ...       ...         ...  \n1048570       1.9            0.0  100610.0         0.0  \n1048571       1.9            0.0  100610.0         0.0  \n1048572       1.9            0.0  100610.0         0.0  \n1048573       1.9            0.0  100610.0         0.0  \n1048574       1.9            0.0  100610.0         0.0  \n\n[1048575 rows x 14 columns]",
      "text/html": "<div>\n<style scoped>\n    .dataframe tbody tr th:only-of-type {\n        vertical-align: middle;\n    }\n\n    .dataframe tbody tr th {\n        vertical-align: top;\n    }\n\n    .dataframe thead th {\n        text-align: right;\n    }\n</style>\n<table border=\"1\" class=\"dataframe\">\n  <thead>\n    <tr style=\"text-align: right;\">\n      <th></th>\n      <th>LCLid</th>\n      <th>Date</th>\n      <th>KWH</th>\n      <th>volume weighted price</th>\n      <th>index</th>\n      <th>cloud_cover</th>\n      <th>sunshine</th>\n      <th>global_radiation</th>\n      <th>max_temp</th>\n      <th>mean_temp</th>\n      <th>min_temp</th>\n      <th>precipitation</th>\n      <th>pressure</th>\n      <th>snow_depth</th>\n    </tr>\n  </thead>\n  <tbody>\n    <tr>\n      <th>0</th>\n      <td>MAC000002</td>\n      <td>2012-10-12</td>\n      <td>7.098</td>\n      <td>42.99</td>\n      <td>12338</td>\n      <td>5.0</td>\n      <td>6.4</td>\n      <td>106.0</td>\n      <td>13.5</td>\n      <td>12.3</td>\n      <td>9.7</td>\n      <td>0.0</td>\n      <td>100580.0</td>\n      <td>0.0</td>\n    </tr>\n    <tr>\n      <th>1</th>\n      <td>MAC000003</td>\n      <td>2012-10-12</td>\n      <td>13.434</td>\n      <td>42.99</td>\n      <td>12338</td>\n      <td>5.0</td>\n      <td>6.4</td>\n      <td>106.0</td>\n      <td>13.5</td>\n      <td>12.3</td>\n      <td>9.7</td>\n      <td>0.0</td>\n      <td>100580.0</td>\n      <td>0.0</td>\n    </tr>\n    <tr>\n      <th>2</th>\n      <td>MAC000004</td>\n      <td>2012-10-12</td>\n      <td>1.522</td>\n      <td>42.99</td>\n      <td>12338</td>\n      <td>5.0</td>\n      <td>6.4</td>\n      <td>106.0</td>\n      <td>13.5</td>\n      <td>12.3</td>\n      <td>9.7</td>\n      <td>0.0</td>\n      <td>100580.0</td>\n      <td>0.0</td>\n    </tr>\n    <tr>\n      <th>3</th>\n      <td>MAC000005</td>\n      <td>2012-10-12</td>\n      <td>4.448</td>\n      <td>42.99</td>\n      <td>12338</td>\n      <td>5.0</td>\n      <td>6.4</td>\n      <td>106.0</td>\n      <td>13.5</td>\n      <td>12.3</td>\n      <td>9.7</td>\n      <td>0.0</td>\n      <td>100580.0</td>\n      <td>0.0</td>\n    </tr>\n    <tr>\n      <th>4</th>\n      <td>MAC000006</td>\n      <td>2012-10-12</td>\n      <td>4.074</td>\n      <td>42.99</td>\n      <td>12338</td>\n      <td>5.0</td>\n      <td>6.4</td>\n      <td>106.0</td>\n      <td>13.5</td>\n      <td>12.3</td>\n      <td>9.7</td>\n      <td>0.0</td>\n      <td>100580.0</td>\n      <td>0.0</td>\n    </tr>\n    <tr>\n      <th>...</th>\n      <td>...</td>\n      <td>...</td>\n      <td>...</td>\n      <td>...</td>\n      <td>...</td>\n      <td>...</td>\n      <td>...</td>\n      <td>...</td>\n      <td>...</td>\n      <td>...</td>\n      <td>...</td>\n      <td>...</td>\n      <td>...</td>\n      <td>...</td>\n    </tr>\n    <tr>\n      <th>1048570</th>\n      <td>MAC000267</td>\n      <td>2011-12-05</td>\n      <td>12.654</td>\n      <td>43.18</td>\n      <td>12026</td>\n      <td>1.0</td>\n      <td>3.1</td>\n      <td>35.0</td>\n      <td>9.0</td>\n      <td>4.8</td>\n      <td>1.9</td>\n      <td>0.0</td>\n      <td>100610.0</td>\n      <td>0.0</td>\n    </tr>\n    <tr>\n      <th>1048571</th>\n      <td>MAC000268</td>\n      <td>2011-12-05</td>\n      <td>3.099</td>\n      <td>43.18</td>\n      <td>12026</td>\n      <td>1.0</td>\n      <td>3.1</td>\n      <td>35.0</td>\n      <td>9.0</td>\n      <td>4.8</td>\n      <td>1.9</td>\n      <td>0.0</td>\n      <td>100610.0</td>\n      <td>0.0</td>\n    </tr>\n    <tr>\n      <th>1048572</th>\n      <td>MAC000269</td>\n      <td>2011-12-05</td>\n      <td>1.116</td>\n      <td>43.18</td>\n      <td>12026</td>\n      <td>1.0</td>\n      <td>3.1</td>\n      <td>35.0</td>\n      <td>9.0</td>\n      <td>4.8</td>\n      <td>1.9</td>\n      <td>0.0</td>\n      <td>100610.0</td>\n      <td>0.0</td>\n    </tr>\n    <tr>\n      <th>1048573</th>\n      <td>MAC000270</td>\n      <td>2011-12-05</td>\n      <td>12.937</td>\n      <td>43.18</td>\n      <td>12026</td>\n      <td>1.0</td>\n      <td>3.1</td>\n      <td>35.0</td>\n      <td>9.0</td>\n      <td>4.8</td>\n      <td>1.9</td>\n      <td>0.0</td>\n      <td>100610.0</td>\n      <td>0.0</td>\n    </tr>\n    <tr>\n      <th>1048574</th>\n      <td>MAC000271</td>\n      <td>2011-12-05</td>\n      <td>6.863</td>\n      <td>43.18</td>\n      <td>12026</td>\n      <td>1.0</td>\n      <td>3.1</td>\n      <td>35.0</td>\n      <td>9.0</td>\n      <td>4.8</td>\n      <td>1.9</td>\n      <td>0.0</td>\n      <td>100610.0</td>\n      <td>0.0</td>\n    </tr>\n  </tbody>\n</table>\n<p>1048575 rows × 14 columns</p>\n</div>"
     },
     "execution_count": 184,
     "metadata": {},
     "output_type": "execute_result"
    }
   ],
   "source": [
    "CleanedData_df = pd.merge(LondonEnergy_df, EnergyCost_df, on=\"Date\")\n",
    "CleanedData_df = pd.merge(CleanedData_df, LondonWeather_df, on=\"Date\")\n",
    "print(CleanedData_df.columns)\n",
    "CleanedData_df"
   ],
   "metadata": {
    "collapsed": false,
    "ExecuteTime": {
     "end_time": "2023-12-04T21:24:23.784705600Z",
     "start_time": "2023-12-04T21:24:22.368387100Z"
    }
   }
  },
  {
   "cell_type": "markdown",
   "source": [
    "# Save Final Data\n",
    "Save the final cleaned dataset as a feather file to the clean data folder for use with other notebooks"
   ],
   "metadata": {
    "collapsed": false
   }
  },
  {
   "cell_type": "code",
   "execution_count": 185,
   "outputs": [],
   "source": [
    "CleanedData_df.to_feather(\"../data/clean/CleanedData.feather\")"
   ],
   "metadata": {
    "collapsed": false,
    "ExecuteTime": {
     "end_time": "2023-12-04T21:24:24.091983Z",
     "start_time": "2023-12-04T21:24:24.090476200Z"
    }
   }
  },
  {
   "cell_type": "markdown",
   "source": [
    "# Ensure Save was sucessful"
   ],
   "metadata": {
    "collapsed": false
   }
  },
  {
   "cell_type": "code",
   "execution_count": 186,
   "outputs": [
    {
     "data": {
      "text/plain": "             LCLid       Date     KWH  volume weighted price  index  \\\n0        MAC000002 2012-10-12   7.098                  42.99  12338   \n1        MAC000003 2012-10-12  13.434                  42.99  12338   \n2        MAC000004 2012-10-12   1.522                  42.99  12338   \n3        MAC000005 2012-10-12   4.448                  42.99  12338   \n4        MAC000006 2012-10-12   4.074                  42.99  12338   \n...            ...        ...     ...                    ...    ...   \n1048570  MAC000267 2011-12-05  12.654                  43.18  12026   \n1048571  MAC000268 2011-12-05   3.099                  43.18  12026   \n1048572  MAC000269 2011-12-05   1.116                  43.18  12026   \n1048573  MAC000270 2011-12-05  12.937                  43.18  12026   \n1048574  MAC000271 2011-12-05   6.863                  43.18  12026   \n\n         cloud_cover  sunshine  global_radiation  max_temp  mean_temp  \\\n0                5.0       6.4             106.0      13.5       12.3   \n1                5.0       6.4             106.0      13.5       12.3   \n2                5.0       6.4             106.0      13.5       12.3   \n3                5.0       6.4             106.0      13.5       12.3   \n4                5.0       6.4             106.0      13.5       12.3   \n...              ...       ...               ...       ...        ...   \n1048570          1.0       3.1              35.0       9.0        4.8   \n1048571          1.0       3.1              35.0       9.0        4.8   \n1048572          1.0       3.1              35.0       9.0        4.8   \n1048573          1.0       3.1              35.0       9.0        4.8   \n1048574          1.0       3.1              35.0       9.0        4.8   \n\n         min_temp  precipitation  pressure  snow_depth  \n0             9.7            0.0  100580.0         0.0  \n1             9.7            0.0  100580.0         0.0  \n2             9.7            0.0  100580.0         0.0  \n3             9.7            0.0  100580.0         0.0  \n4             9.7            0.0  100580.0         0.0  \n...           ...            ...       ...         ...  \n1048570       1.9            0.0  100610.0         0.0  \n1048571       1.9            0.0  100610.0         0.0  \n1048572       1.9            0.0  100610.0         0.0  \n1048573       1.9            0.0  100610.0         0.0  \n1048574       1.9            0.0  100610.0         0.0  \n\n[1048575 rows x 14 columns]",
      "text/html": "<div>\n<style scoped>\n    .dataframe tbody tr th:only-of-type {\n        vertical-align: middle;\n    }\n\n    .dataframe tbody tr th {\n        vertical-align: top;\n    }\n\n    .dataframe thead th {\n        text-align: right;\n    }\n</style>\n<table border=\"1\" class=\"dataframe\">\n  <thead>\n    <tr style=\"text-align: right;\">\n      <th></th>\n      <th>LCLid</th>\n      <th>Date</th>\n      <th>KWH</th>\n      <th>volume weighted price</th>\n      <th>index</th>\n      <th>cloud_cover</th>\n      <th>sunshine</th>\n      <th>global_radiation</th>\n      <th>max_temp</th>\n      <th>mean_temp</th>\n      <th>min_temp</th>\n      <th>precipitation</th>\n      <th>pressure</th>\n      <th>snow_depth</th>\n    </tr>\n  </thead>\n  <tbody>\n    <tr>\n      <th>0</th>\n      <td>MAC000002</td>\n      <td>2012-10-12</td>\n      <td>7.098</td>\n      <td>42.99</td>\n      <td>12338</td>\n      <td>5.0</td>\n      <td>6.4</td>\n      <td>106.0</td>\n      <td>13.5</td>\n      <td>12.3</td>\n      <td>9.7</td>\n      <td>0.0</td>\n      <td>100580.0</td>\n      <td>0.0</td>\n    </tr>\n    <tr>\n      <th>1</th>\n      <td>MAC000003</td>\n      <td>2012-10-12</td>\n      <td>13.434</td>\n      <td>42.99</td>\n      <td>12338</td>\n      <td>5.0</td>\n      <td>6.4</td>\n      <td>106.0</td>\n      <td>13.5</td>\n      <td>12.3</td>\n      <td>9.7</td>\n      <td>0.0</td>\n      <td>100580.0</td>\n      <td>0.0</td>\n    </tr>\n    <tr>\n      <th>2</th>\n      <td>MAC000004</td>\n      <td>2012-10-12</td>\n      <td>1.522</td>\n      <td>42.99</td>\n      <td>12338</td>\n      <td>5.0</td>\n      <td>6.4</td>\n      <td>106.0</td>\n      <td>13.5</td>\n      <td>12.3</td>\n      <td>9.7</td>\n      <td>0.0</td>\n      <td>100580.0</td>\n      <td>0.0</td>\n    </tr>\n    <tr>\n      <th>3</th>\n      <td>MAC000005</td>\n      <td>2012-10-12</td>\n      <td>4.448</td>\n      <td>42.99</td>\n      <td>12338</td>\n      <td>5.0</td>\n      <td>6.4</td>\n      <td>106.0</td>\n      <td>13.5</td>\n      <td>12.3</td>\n      <td>9.7</td>\n      <td>0.0</td>\n      <td>100580.0</td>\n      <td>0.0</td>\n    </tr>\n    <tr>\n      <th>4</th>\n      <td>MAC000006</td>\n      <td>2012-10-12</td>\n      <td>4.074</td>\n      <td>42.99</td>\n      <td>12338</td>\n      <td>5.0</td>\n      <td>6.4</td>\n      <td>106.0</td>\n      <td>13.5</td>\n      <td>12.3</td>\n      <td>9.7</td>\n      <td>0.0</td>\n      <td>100580.0</td>\n      <td>0.0</td>\n    </tr>\n    <tr>\n      <th>...</th>\n      <td>...</td>\n      <td>...</td>\n      <td>...</td>\n      <td>...</td>\n      <td>...</td>\n      <td>...</td>\n      <td>...</td>\n      <td>...</td>\n      <td>...</td>\n      <td>...</td>\n      <td>...</td>\n      <td>...</td>\n      <td>...</td>\n      <td>...</td>\n    </tr>\n    <tr>\n      <th>1048570</th>\n      <td>MAC000267</td>\n      <td>2011-12-05</td>\n      <td>12.654</td>\n      <td>43.18</td>\n      <td>12026</td>\n      <td>1.0</td>\n      <td>3.1</td>\n      <td>35.0</td>\n      <td>9.0</td>\n      <td>4.8</td>\n      <td>1.9</td>\n      <td>0.0</td>\n      <td>100610.0</td>\n      <td>0.0</td>\n    </tr>\n    <tr>\n      <th>1048571</th>\n      <td>MAC000268</td>\n      <td>2011-12-05</td>\n      <td>3.099</td>\n      <td>43.18</td>\n      <td>12026</td>\n      <td>1.0</td>\n      <td>3.1</td>\n      <td>35.0</td>\n      <td>9.0</td>\n      <td>4.8</td>\n      <td>1.9</td>\n      <td>0.0</td>\n      <td>100610.0</td>\n      <td>0.0</td>\n    </tr>\n    <tr>\n      <th>1048572</th>\n      <td>MAC000269</td>\n      <td>2011-12-05</td>\n      <td>1.116</td>\n      <td>43.18</td>\n      <td>12026</td>\n      <td>1.0</td>\n      <td>3.1</td>\n      <td>35.0</td>\n      <td>9.0</td>\n      <td>4.8</td>\n      <td>1.9</td>\n      <td>0.0</td>\n      <td>100610.0</td>\n      <td>0.0</td>\n    </tr>\n    <tr>\n      <th>1048573</th>\n      <td>MAC000270</td>\n      <td>2011-12-05</td>\n      <td>12.937</td>\n      <td>43.18</td>\n      <td>12026</td>\n      <td>1.0</td>\n      <td>3.1</td>\n      <td>35.0</td>\n      <td>9.0</td>\n      <td>4.8</td>\n      <td>1.9</td>\n      <td>0.0</td>\n      <td>100610.0</td>\n      <td>0.0</td>\n    </tr>\n    <tr>\n      <th>1048574</th>\n      <td>MAC000271</td>\n      <td>2011-12-05</td>\n      <td>6.863</td>\n      <td>43.18</td>\n      <td>12026</td>\n      <td>1.0</td>\n      <td>3.1</td>\n      <td>35.0</td>\n      <td>9.0</td>\n      <td>4.8</td>\n      <td>1.9</td>\n      <td>0.0</td>\n      <td>100610.0</td>\n      <td>0.0</td>\n    </tr>\n  </tbody>\n</table>\n<p>1048575 rows × 14 columns</p>\n</div>"
     },
     "execution_count": 186,
     "metadata": {},
     "output_type": "execute_result"
    }
   ],
   "source": [
    "Load_df = pd.read_feather(\"../data/clean/CleanedData.feather\")\n",
    "Load_df"
   ],
   "metadata": {
    "collapsed": false,
    "ExecuteTime": {
     "end_time": "2023-12-04T21:26:57.515054800Z",
     "start_time": "2023-12-04T21:26:57.411673300Z"
    }
   }
  },
  {
   "cell_type": "code",
   "execution_count": null,
   "outputs": [],
   "source": [],
   "metadata": {
    "collapsed": false
   }
  }
 ],
 "metadata": {
  "kernelspec": {
   "display_name": "Python 3 (ipykernel)",
   "language": "python",
   "name": "python3"
  },
  "language_info": {
   "codemirror_mode": {
    "name": "ipython",
    "version": 3
   },
   "file_extension": ".py",
   "mimetype": "text/x-python",
   "name": "python",
   "nbconvert_exporter": "python",
   "pygments_lexer": "ipython3",
   "version": "3.11.6"
  }
 },
 "nbformat": 4,
 "nbformat_minor": 5
}

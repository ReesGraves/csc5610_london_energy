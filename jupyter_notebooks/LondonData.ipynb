{
 "cells": [
  {
   "cell_type": "code",
   "execution_count": 358,
   "id": "1cd9a21a-8709-49b8-b062-cf8a60d3cda8",
   "metadata": {
    "ExecuteTime": {
     "end_time": "2023-12-07T01:05:26.278673600Z",
     "start_time": "2023-12-07T01:05:24.903366400Z"
    }
   },
   "outputs": [],
   "source": [
    "import pandas as pd\n",
    "import numpy as np\n",
    "import scipy.stats as stats\n",
    "import matplotlib.pyplot as plt\n",
    "import datetime as dt\n",
    "import time as time\n",
    "import seaborn as sns\n",
    "import os\n",
    "import warnings\n",
    "import statistics\n",
    "import pyarrow"
   ]
  },
  {
   "cell_type": "code",
   "execution_count": 359,
   "outputs": [],
   "source": [
    "# os.getcwd()"
   ],
   "metadata": {
    "collapsed": false,
    "ExecuteTime": {
     "end_time": "2023-12-07T01:05:26.278673600Z",
     "start_time": "2023-12-07T01:05:24.906086400Z"
    }
   }
  },
  {
   "cell_type": "markdown",
   "id": "f4bd2f30-f9ef-4716-bf10-b7b114747ba8",
   "metadata": {},
   "source": [
    "# Data Preperation\n",
    "\n",
    "(Put some nice description here later)\n",
    "\n",
    "## London Energy Usage Data Preperation\n",
    "\n",
    "The main dataset for this project is the London Energy Usage Dataset. With this data we will try to predict tomorrows energy usage."
   ]
  },
  {
   "cell_type": "code",
   "execution_count": 360,
   "id": "c8adcaab-46d3-4c62-953b-62be5333a4b0",
   "metadata": {
    "ExecuteTime": {
     "end_time": "2023-12-07T01:05:26.901239100Z",
     "start_time": "2023-12-07T01:05:24.936619600Z"
    }
   },
   "outputs": [
    {
     "name": "stdout",
     "output_type": "stream",
     "text": [
      "       LCLid        Date     KWH\n",
      "0  MAC000002  10/12/2012   7.098\n",
      "1  MAC000002  10/13/2012  11.087\n",
      "2  MAC000002  10/14/2012  13.223\n",
      "3  MAC000002  10/15/2012  10.257\n",
      "4  MAC000002  10/16/2012   9.769\n",
      "5  MAC000002  10/17/2012  10.885\n",
      "6  MAC000002  10/18/2012  10.751\n",
      "7  MAC000002  10/19/2012   8.431\n",
      "8  MAC000002  10/20/2012  17.578\n",
      "9  MAC000002  10/21/2012  24.490\n"
     ]
    },
    {
     "data": {
      "text/plain": "             LCLid        Date     KWH\n0        MAC000002  10/12/2012   7.098\n1        MAC000002  10/13/2012  11.087\n2        MAC000002  10/14/2012  13.223\n3        MAC000002  10/15/2012  10.257\n4        MAC000002  10/16/2012   9.769\n...            ...         ...     ...\n1048570  MAC001564   11/7/2012  25.492\n1048571  MAC001564   11/8/2012  14.075\n1048572  MAC001564   11/9/2012  20.408\n1048573  MAC001564  11/10/2012  14.889\n1048574  MAC001564  11/11/2012   9.448\n\n[1048575 rows x 3 columns]",
      "text/html": "<div>\n<style scoped>\n    .dataframe tbody tr th:only-of-type {\n        vertical-align: middle;\n    }\n\n    .dataframe tbody tr th {\n        vertical-align: top;\n    }\n\n    .dataframe thead th {\n        text-align: right;\n    }\n</style>\n<table border=\"1\" class=\"dataframe\">\n  <thead>\n    <tr style=\"text-align: right;\">\n      <th></th>\n      <th>LCLid</th>\n      <th>Date</th>\n      <th>KWH</th>\n    </tr>\n  </thead>\n  <tbody>\n    <tr>\n      <th>0</th>\n      <td>MAC000002</td>\n      <td>10/12/2012</td>\n      <td>7.098</td>\n    </tr>\n    <tr>\n      <th>1</th>\n      <td>MAC000002</td>\n      <td>10/13/2012</td>\n      <td>11.087</td>\n    </tr>\n    <tr>\n      <th>2</th>\n      <td>MAC000002</td>\n      <td>10/14/2012</td>\n      <td>13.223</td>\n    </tr>\n    <tr>\n      <th>3</th>\n      <td>MAC000002</td>\n      <td>10/15/2012</td>\n      <td>10.257</td>\n    </tr>\n    <tr>\n      <th>4</th>\n      <td>MAC000002</td>\n      <td>10/16/2012</td>\n      <td>9.769</td>\n    </tr>\n    <tr>\n      <th>...</th>\n      <td>...</td>\n      <td>...</td>\n      <td>...</td>\n    </tr>\n    <tr>\n      <th>1048570</th>\n      <td>MAC001564</td>\n      <td>11/7/2012</td>\n      <td>25.492</td>\n    </tr>\n    <tr>\n      <th>1048571</th>\n      <td>MAC001564</td>\n      <td>11/8/2012</td>\n      <td>14.075</td>\n    </tr>\n    <tr>\n      <th>1048572</th>\n      <td>MAC001564</td>\n      <td>11/9/2012</td>\n      <td>20.408</td>\n    </tr>\n    <tr>\n      <th>1048573</th>\n      <td>MAC001564</td>\n      <td>11/10/2012</td>\n      <td>14.889</td>\n    </tr>\n    <tr>\n      <th>1048574</th>\n      <td>MAC001564</td>\n      <td>11/11/2012</td>\n      <td>9.448</td>\n    </tr>\n  </tbody>\n</table>\n<p>1048575 rows × 3 columns</p>\n</div>"
     },
     "execution_count": 360,
     "metadata": {},
     "output_type": "execute_result"
    }
   ],
   "source": [
    "LondonEnergy_df = pd.read_csv(\"../data/clean/LondonEnergy.xls\")\n",
    "print(LondonEnergy_df.head(10))\n",
    "LondonEnergy_df['Date'] = LondonEnergy_df['Date'].map(lambda s: str(s))\n",
    "LondonEnergy_df"
   ]
  },
  {
   "cell_type": "markdown",
   "source": [
    "Null check"
   ],
   "metadata": {
    "collapsed": false
   }
  },
  {
   "cell_type": "code",
   "execution_count": 361,
   "outputs": [
    {
     "name": "stdout",
     "output_type": "stream",
     "text": [
      "<class 'pandas.core.frame.DataFrame'>\n",
      "RangeIndex: 1048575 entries, 0 to 1048574\n",
      "Data columns (total 3 columns):\n",
      " #   Column  Non-Null Count    Dtype  \n",
      "---  ------  --------------    -----  \n",
      " 0   LCLid   1048575 non-null  object \n",
      " 1   Date    1048575 non-null  object \n",
      " 2   KWH     1048575 non-null  float64\n",
      "dtypes: float64(1), object(2)\n",
      "memory usage: 24.0+ MB\n"
     ]
    }
   ],
   "source": [
    "LondonEnergy_df.info()"
   ],
   "metadata": {
    "collapsed": false,
    "ExecuteTime": {
     "end_time": "2023-12-07T01:05:26.920256600Z",
     "start_time": "2023-12-07T01:05:25.396543Z"
    }
   }
  },
  {
   "cell_type": "markdown",
   "id": "09011560-dba3-484f-bd09-8fbdfa2802eb",
   "metadata": {},
   "source": [
    "There are no nulls.\n",
    "To prepare the energy usage data set for joining lets convert the data column to the datetime data type."
   ]
  },
  {
   "cell_type": "code",
   "execution_count": 362,
   "id": "b0923649-76d3-4d62-81e3-214ad650f238",
   "metadata": {
    "ExecuteTime": {
     "end_time": "2023-12-07T01:05:32.252520800Z",
     "start_time": "2023-12-07T01:05:25.461931Z"
    }
   },
   "outputs": [
    {
     "name": "stdout",
     "output_type": "stream",
     "text": [
      "0          10/12/2012\n",
      "1          10/13/2012\n",
      "2          10/14/2012\n",
      "3          10/15/2012\n",
      "4          10/16/2012\n",
      "              ...    \n",
      "1048570     11/7/2012\n",
      "1048571     11/8/2012\n",
      "1048572     11/9/2012\n",
      "1048573    11/10/2012\n",
      "1048574    11/11/2012\n",
      "Name: Date, Length: 1048575, dtype: object\n"
     ]
    },
    {
     "data": {
      "text/plain": "0         2012-10-12\n1         2012-10-13\n2         2012-10-14\n3         2012-10-15\n4         2012-10-16\n             ...    \n1048570   2012-11-07\n1048571   2012-11-08\n1048572   2012-11-09\n1048573   2012-11-10\n1048574   2012-11-11\nName: Date, Length: 1048575, dtype: datetime64[ns]"
     },
     "execution_count": 362,
     "metadata": {},
     "output_type": "execute_result"
    }
   ],
   "source": [
    "format_str = \"%m/%d/%Y\"\n",
    "print(LondonEnergy_df['Date'])\n",
    "LondonEnergy_df['Date'] = LondonEnergy_df['Date'].map(lambda s: dt.datetime.strptime(str(s), format_str))\n",
    "LondonEnergy_df['Date']"
   ]
  },
  {
   "cell_type": "code",
   "execution_count": 363,
   "outputs": [
    {
     "data": {
      "text/plain": "                                Date           KWH\ncount                        1048575  1.048575e+06\nmean   2013-03-06 05:03:32.657749504  9.721054e+00\nmin              2011-11-23 00:00:00  0.000000e+00\n25%              2012-09-16 00:00:00  4.587000e+00\n50%              2013-03-04 00:00:00  7.556000e+00\n75%              2013-08-28 00:00:00  1.196300e+01\nmax              2014-02-28 00:00:00  2.148960e+02\nstd                              NaN  8.767885e+00",
      "text/html": "<div>\n<style scoped>\n    .dataframe tbody tr th:only-of-type {\n        vertical-align: middle;\n    }\n\n    .dataframe tbody tr th {\n        vertical-align: top;\n    }\n\n    .dataframe thead th {\n        text-align: right;\n    }\n</style>\n<table border=\"1\" class=\"dataframe\">\n  <thead>\n    <tr style=\"text-align: right;\">\n      <th></th>\n      <th>Date</th>\n      <th>KWH</th>\n    </tr>\n  </thead>\n  <tbody>\n    <tr>\n      <th>count</th>\n      <td>1048575</td>\n      <td>1.048575e+06</td>\n    </tr>\n    <tr>\n      <th>mean</th>\n      <td>2013-03-06 05:03:32.657749504</td>\n      <td>9.721054e+00</td>\n    </tr>\n    <tr>\n      <th>min</th>\n      <td>2011-11-23 00:00:00</td>\n      <td>0.000000e+00</td>\n    </tr>\n    <tr>\n      <th>25%</th>\n      <td>2012-09-16 00:00:00</td>\n      <td>4.587000e+00</td>\n    </tr>\n    <tr>\n      <th>50%</th>\n      <td>2013-03-04 00:00:00</td>\n      <td>7.556000e+00</td>\n    </tr>\n    <tr>\n      <th>75%</th>\n      <td>2013-08-28 00:00:00</td>\n      <td>1.196300e+01</td>\n    </tr>\n    <tr>\n      <th>max</th>\n      <td>2014-02-28 00:00:00</td>\n      <td>2.148960e+02</td>\n    </tr>\n    <tr>\n      <th>std</th>\n      <td>NaN</td>\n      <td>8.767885e+00</td>\n    </tr>\n  </tbody>\n</table>\n</div>"
     },
     "execution_count": 363,
     "metadata": {},
     "output_type": "execute_result"
    }
   ],
   "source": [
    "LondonEnergy_df.describe()"
   ],
   "metadata": {
    "collapsed": false,
    "ExecuteTime": {
     "end_time": "2023-12-07T01:05:32.320790900Z",
     "start_time": "2023-12-07T01:05:32.252520800Z"
    }
   }
  },
  {
   "cell_type": "markdown",
   "source": [
    "I notice that there are some homes with zero power usage (<1 watt hour at least), to my knowledge this is not possible and definitely not feasible to my knowledge as these homes would at the very least had to have turned off all the lights, unplugged all electronics including fridge and freezer, turned off any HVAC/climate-control, and have no essential systems like security systems active so lets take a look at these records."
   ],
   "metadata": {
    "collapsed": false
   }
  },
  {
   "cell_type": "code",
   "execution_count": 364,
   "outputs": [
    {
     "data": {
      "text/plain": "             LCLid       Date  KWH\n1283     MAC000004 2012-06-15  0.0\n6432     MAC000012 2014-02-28  0.0\n24937    MAC000037 2011-12-10  0.0\n24938    MAC000037 2011-12-11  0.0\n24939    MAC000037 2011-12-12  0.0\n...            ...        ...  ...\n1040262  MAC001551 2013-03-02  0.0\n1040263  MAC001551 2013-03-03  0.0\n1040264  MAC001551 2013-03-04  0.0\n1040265  MAC001551 2013-03-05  0.0\n1044538  MAC001558 2012-06-16  0.0\n\n[4768 rows x 3 columns]",
      "text/html": "<div>\n<style scoped>\n    .dataframe tbody tr th:only-of-type {\n        vertical-align: middle;\n    }\n\n    .dataframe tbody tr th {\n        vertical-align: top;\n    }\n\n    .dataframe thead th {\n        text-align: right;\n    }\n</style>\n<table border=\"1\" class=\"dataframe\">\n  <thead>\n    <tr style=\"text-align: right;\">\n      <th></th>\n      <th>LCLid</th>\n      <th>Date</th>\n      <th>KWH</th>\n    </tr>\n  </thead>\n  <tbody>\n    <tr>\n      <th>1283</th>\n      <td>MAC000004</td>\n      <td>2012-06-15</td>\n      <td>0.0</td>\n    </tr>\n    <tr>\n      <th>6432</th>\n      <td>MAC000012</td>\n      <td>2014-02-28</td>\n      <td>0.0</td>\n    </tr>\n    <tr>\n      <th>24937</th>\n      <td>MAC000037</td>\n      <td>2011-12-10</td>\n      <td>0.0</td>\n    </tr>\n    <tr>\n      <th>24938</th>\n      <td>MAC000037</td>\n      <td>2011-12-11</td>\n      <td>0.0</td>\n    </tr>\n    <tr>\n      <th>24939</th>\n      <td>MAC000037</td>\n      <td>2011-12-12</td>\n      <td>0.0</td>\n    </tr>\n    <tr>\n      <th>...</th>\n      <td>...</td>\n      <td>...</td>\n      <td>...</td>\n    </tr>\n    <tr>\n      <th>1040262</th>\n      <td>MAC001551</td>\n      <td>2013-03-02</td>\n      <td>0.0</td>\n    </tr>\n    <tr>\n      <th>1040263</th>\n      <td>MAC001551</td>\n      <td>2013-03-03</td>\n      <td>0.0</td>\n    </tr>\n    <tr>\n      <th>1040264</th>\n      <td>MAC001551</td>\n      <td>2013-03-04</td>\n      <td>0.0</td>\n    </tr>\n    <tr>\n      <th>1040265</th>\n      <td>MAC001551</td>\n      <td>2013-03-05</td>\n      <td>0.0</td>\n    </tr>\n    <tr>\n      <th>1044538</th>\n      <td>MAC001558</td>\n      <td>2012-06-16</td>\n      <td>0.0</td>\n    </tr>\n  </tbody>\n</table>\n<p>4768 rows × 3 columns</p>\n</div>"
     },
     "execution_count": 364,
     "metadata": {},
     "output_type": "execute_result"
    }
   ],
   "source": [
    "LondonEnergy_df[LondonEnergy_df['KWH']==0]"
   ],
   "metadata": {
    "collapsed": false,
    "ExecuteTime": {
     "end_time": "2023-12-07T01:05:32.330460800Z",
     "start_time": "2023-12-07T01:05:32.321791300Z"
    }
   }
  },
  {
   "cell_type": "markdown",
   "source": [
    "Of 1 million records of homes less than 5000 of them used truly zero power, these records will be removed as we feel that this value is not possible if monitoring was sucessful."
   ],
   "metadata": {
    "collapsed": false
   }
  },
  {
   "cell_type": "code",
   "execution_count": 365,
   "outputs": [
    {
     "data": {
      "text/plain": "                                Date           KWH\ncount                        1043807  1.043807e+06\nmean   2013-03-06 03:49:44.755228160  9.765459e+00\nmin              2011-11-23 00:00:00  1.000000e-03\n25%              2012-09-16 00:00:00  4.626000e+00\n50%              2013-03-04 00:00:00  7.587000e+00\n75%              2013-08-28 00:00:00  1.199200e+01\nmax              2014-02-28 00:00:00  2.148960e+02\nstd                              NaN  8.763180e+00",
      "text/html": "<div>\n<style scoped>\n    .dataframe tbody tr th:only-of-type {\n        vertical-align: middle;\n    }\n\n    .dataframe tbody tr th {\n        vertical-align: top;\n    }\n\n    .dataframe thead th {\n        text-align: right;\n    }\n</style>\n<table border=\"1\" class=\"dataframe\">\n  <thead>\n    <tr style=\"text-align: right;\">\n      <th></th>\n      <th>Date</th>\n      <th>KWH</th>\n    </tr>\n  </thead>\n  <tbody>\n    <tr>\n      <th>count</th>\n      <td>1043807</td>\n      <td>1.043807e+06</td>\n    </tr>\n    <tr>\n      <th>mean</th>\n      <td>2013-03-06 03:49:44.755228160</td>\n      <td>9.765459e+00</td>\n    </tr>\n    <tr>\n      <th>min</th>\n      <td>2011-11-23 00:00:00</td>\n      <td>1.000000e-03</td>\n    </tr>\n    <tr>\n      <th>25%</th>\n      <td>2012-09-16 00:00:00</td>\n      <td>4.626000e+00</td>\n    </tr>\n    <tr>\n      <th>50%</th>\n      <td>2013-03-04 00:00:00</td>\n      <td>7.587000e+00</td>\n    </tr>\n    <tr>\n      <th>75%</th>\n      <td>2013-08-28 00:00:00</td>\n      <td>1.199200e+01</td>\n    </tr>\n    <tr>\n      <th>max</th>\n      <td>2014-02-28 00:00:00</td>\n      <td>2.148960e+02</td>\n    </tr>\n    <tr>\n      <th>std</th>\n      <td>NaN</td>\n      <td>8.763180e+00</td>\n    </tr>\n  </tbody>\n</table>\n</div>"
     },
     "execution_count": 365,
     "metadata": {},
     "output_type": "execute_result"
    }
   ],
   "source": [
    "LondonEnergy_df = LondonEnergy_df[LondonEnergy_df.KWH != 0]\n",
    "LondonEnergy_df.describe()"
   ],
   "metadata": {
    "collapsed": false,
    "ExecuteTime": {
     "end_time": "2023-12-07T01:05:32.485646400Z",
     "start_time": "2023-12-07T01:05:32.331461600Z"
    }
   }
  },
  {
   "cell_type": "markdown",
   "source": [
    "Now some of these small values could theoretically be invalid as well but without the same confidence that its not possible to get your usage that low we will maintain as much data as possible."
   ],
   "metadata": {
    "collapsed": false
   }
  },
  {
   "cell_type": "markdown",
   "source": [
    "Now that we have the date data in the data time format the data set is ready to be joined with other complimentary datasets based on date.\n",
    "Before we move on to the other data sets however lets:\n",
    "- Collapse the home power usage into an average so we have one label per day\n",
    "- Ensure dates range from 2012-2014\n",
    "- check for corrupted or missing data in the energy usage data set.\n",
    "\n",
    "# Collapse power usage to average\n",
    "Average the KWH data so that we get a single label for each day,\n",
    "then drop all but the first entry for each day,\n",
    "then delete the LCLid, and KWH columns as they dont represent any meaningful data.\n"
   ],
   "metadata": {
    "collapsed": false
   }
  },
  {
   "cell_type": "code",
   "execution_count": 366,
   "outputs": [
    {
     "name": "stderr",
     "output_type": "stream",
     "text": [
      "C:\\Users\\Rees\\AppData\\Local\\Temp\\ipykernel_41164\\3343026438.py:2: SettingWithCopyWarning: \n",
      "A value is trying to be set on a copy of a slice from a DataFrame.\n",
      "Try using .loc[row_indexer,col_indexer] = value instead\n",
      "\n",
      "See the caveats in the documentation: https://pandas.pydata.org/pandas-docs/stable/user_guide/indexing.html#returning-a-view-versus-a-copy\n",
      "  LondonEnergy_df['avgKWH'] = LondonEnergy_df.groupby('Date')['KWH'].transform('mean')\n"
     ]
    },
    {
     "data": {
      "text/plain": "            LCLid       Date     KWH     avgKWH\n0       MAC000002 2012-10-12   7.098   9.273811\n1       MAC000002 2012-10-13  11.087   9.692864\n2       MAC000002 2012-10-14  13.223  10.294533\n3       MAC000002 2012-10-15  10.257   9.846223\n4       MAC000002 2012-10-16   9.769   9.449003\n...           ...        ...     ...        ...\n108385  MAC000145 2011-12-01  13.572   9.329110\n108386  MAC000145 2011-12-02  11.720  10.248394\n108387  MAC000145 2011-12-03  13.170  10.780273\n108388  MAC000145 2011-12-04  16.575  12.274716\n108389  MAC000145 2011-12-05  12.427  10.694592\n\n[829 rows x 4 columns]",
      "text/html": "<div>\n<style scoped>\n    .dataframe tbody tr th:only-of-type {\n        vertical-align: middle;\n    }\n\n    .dataframe tbody tr th {\n        vertical-align: top;\n    }\n\n    .dataframe thead th {\n        text-align: right;\n    }\n</style>\n<table border=\"1\" class=\"dataframe\">\n  <thead>\n    <tr style=\"text-align: right;\">\n      <th></th>\n      <th>LCLid</th>\n      <th>Date</th>\n      <th>KWH</th>\n      <th>avgKWH</th>\n    </tr>\n  </thead>\n  <tbody>\n    <tr>\n      <th>0</th>\n      <td>MAC000002</td>\n      <td>2012-10-12</td>\n      <td>7.098</td>\n      <td>9.273811</td>\n    </tr>\n    <tr>\n      <th>1</th>\n      <td>MAC000002</td>\n      <td>2012-10-13</td>\n      <td>11.087</td>\n      <td>9.692864</td>\n    </tr>\n    <tr>\n      <th>2</th>\n      <td>MAC000002</td>\n      <td>2012-10-14</td>\n      <td>13.223</td>\n      <td>10.294533</td>\n    </tr>\n    <tr>\n      <th>3</th>\n      <td>MAC000002</td>\n      <td>2012-10-15</td>\n      <td>10.257</td>\n      <td>9.846223</td>\n    </tr>\n    <tr>\n      <th>4</th>\n      <td>MAC000002</td>\n      <td>2012-10-16</td>\n      <td>9.769</td>\n      <td>9.449003</td>\n    </tr>\n    <tr>\n      <th>...</th>\n      <td>...</td>\n      <td>...</td>\n      <td>...</td>\n      <td>...</td>\n    </tr>\n    <tr>\n      <th>108385</th>\n      <td>MAC000145</td>\n      <td>2011-12-01</td>\n      <td>13.572</td>\n      <td>9.329110</td>\n    </tr>\n    <tr>\n      <th>108386</th>\n      <td>MAC000145</td>\n      <td>2011-12-02</td>\n      <td>11.720</td>\n      <td>10.248394</td>\n    </tr>\n    <tr>\n      <th>108387</th>\n      <td>MAC000145</td>\n      <td>2011-12-03</td>\n      <td>13.170</td>\n      <td>10.780273</td>\n    </tr>\n    <tr>\n      <th>108388</th>\n      <td>MAC000145</td>\n      <td>2011-12-04</td>\n      <td>16.575</td>\n      <td>12.274716</td>\n    </tr>\n    <tr>\n      <th>108389</th>\n      <td>MAC000145</td>\n      <td>2011-12-05</td>\n      <td>12.427</td>\n      <td>10.694592</td>\n    </tr>\n  </tbody>\n</table>\n<p>829 rows × 4 columns</p>\n</div>"
     },
     "execution_count": 366,
     "metadata": {},
     "output_type": "execute_result"
    }
   ],
   "source": [
    "LondonEnergy_df_backup = LondonEnergy_df.copy(deep = True)\n",
    "LondonEnergy_df['avgKWH'] = LondonEnergy_df.groupby('Date')['KWH'].transform('mean')\n",
    "LondonEnergy_df = LondonEnergy_df.drop_duplicates(subset=['Date'], keep='first')\n",
    "LondonEnergy_df"
   ],
   "metadata": {
    "collapsed": false,
    "ExecuteTime": {
     "end_time": "2023-12-07T01:05:32.499546Z",
     "start_time": "2023-12-07T01:05:32.441607300Z"
    }
   }
  },
  {
   "cell_type": "code",
   "execution_count": 367,
   "outputs": [
    {
     "data": {
      "text/plain": "             Date     avgKWH\n0      2012-10-12   9.273811\n1      2012-10-13   9.692864\n2      2012-10-14  10.294533\n3      2012-10-15   9.846223\n4      2012-10-16   9.449003\n...           ...        ...\n108385 2011-12-01   9.329110\n108386 2011-12-02  10.248394\n108387 2011-12-03  10.780273\n108388 2011-12-04  12.274716\n108389 2011-12-05  10.694592\n\n[829 rows x 2 columns]",
      "text/html": "<div>\n<style scoped>\n    .dataframe tbody tr th:only-of-type {\n        vertical-align: middle;\n    }\n\n    .dataframe tbody tr th {\n        vertical-align: top;\n    }\n\n    .dataframe thead th {\n        text-align: right;\n    }\n</style>\n<table border=\"1\" class=\"dataframe\">\n  <thead>\n    <tr style=\"text-align: right;\">\n      <th></th>\n      <th>Date</th>\n      <th>avgKWH</th>\n    </tr>\n  </thead>\n  <tbody>\n    <tr>\n      <th>0</th>\n      <td>2012-10-12</td>\n      <td>9.273811</td>\n    </tr>\n    <tr>\n      <th>1</th>\n      <td>2012-10-13</td>\n      <td>9.692864</td>\n    </tr>\n    <tr>\n      <th>2</th>\n      <td>2012-10-14</td>\n      <td>10.294533</td>\n    </tr>\n    <tr>\n      <th>3</th>\n      <td>2012-10-15</td>\n      <td>9.846223</td>\n    </tr>\n    <tr>\n      <th>4</th>\n      <td>2012-10-16</td>\n      <td>9.449003</td>\n    </tr>\n    <tr>\n      <th>...</th>\n      <td>...</td>\n      <td>...</td>\n    </tr>\n    <tr>\n      <th>108385</th>\n      <td>2011-12-01</td>\n      <td>9.329110</td>\n    </tr>\n    <tr>\n      <th>108386</th>\n      <td>2011-12-02</td>\n      <td>10.248394</td>\n    </tr>\n    <tr>\n      <th>108387</th>\n      <td>2011-12-03</td>\n      <td>10.780273</td>\n    </tr>\n    <tr>\n      <th>108388</th>\n      <td>2011-12-04</td>\n      <td>12.274716</td>\n    </tr>\n    <tr>\n      <th>108389</th>\n      <td>2011-12-05</td>\n      <td>10.694592</td>\n    </tr>\n  </tbody>\n</table>\n<p>829 rows × 2 columns</p>\n</div>"
     },
     "execution_count": 367,
     "metadata": {},
     "output_type": "execute_result"
    }
   ],
   "source": [
    "LondonEnergy_df.pop('LCLid')\n",
    "LondonEnergy_df.pop('KWH')\n",
    "LondonEnergy_df"
   ],
   "metadata": {
    "collapsed": false,
    "ExecuteTime": {
     "end_time": "2023-12-07T01:05:32.500546900Z",
     "start_time": "2023-12-07T01:05:32.491027600Z"
    }
   }
  },
  {
   "cell_type": "markdown",
   "source": [
    "Lets look at the average ranges"
   ],
   "metadata": {
    "collapsed": false
   }
  },
  {
   "cell_type": "code",
   "execution_count": 368,
   "outputs": [
    {
     "data": {
      "text/plain": "                      Date      avgKWH\ncount                  829  829.000000\nmean   2013-01-10 00:00:00   10.072550\nmin    2011-11-23 00:00:00    0.399668\n25%    2012-06-17 00:00:00    8.395704\n50%    2013-01-10 00:00:00   10.084859\n75%    2013-08-05 00:00:00   11.391016\nmax    2014-02-28 00:00:00   15.574589\nstd                    NaN    1.797734",
      "text/html": "<div>\n<style scoped>\n    .dataframe tbody tr th:only-of-type {\n        vertical-align: middle;\n    }\n\n    .dataframe tbody tr th {\n        vertical-align: top;\n    }\n\n    .dataframe thead th {\n        text-align: right;\n    }\n</style>\n<table border=\"1\" class=\"dataframe\">\n  <thead>\n    <tr style=\"text-align: right;\">\n      <th></th>\n      <th>Date</th>\n      <th>avgKWH</th>\n    </tr>\n  </thead>\n  <tbody>\n    <tr>\n      <th>count</th>\n      <td>829</td>\n      <td>829.000000</td>\n    </tr>\n    <tr>\n      <th>mean</th>\n      <td>2013-01-10 00:00:00</td>\n      <td>10.072550</td>\n    </tr>\n    <tr>\n      <th>min</th>\n      <td>2011-11-23 00:00:00</td>\n      <td>0.399668</td>\n    </tr>\n    <tr>\n      <th>25%</th>\n      <td>2012-06-17 00:00:00</td>\n      <td>8.395704</td>\n    </tr>\n    <tr>\n      <th>50%</th>\n      <td>2013-01-10 00:00:00</td>\n      <td>10.084859</td>\n    </tr>\n    <tr>\n      <th>75%</th>\n      <td>2013-08-05 00:00:00</td>\n      <td>11.391016</td>\n    </tr>\n    <tr>\n      <th>max</th>\n      <td>2014-02-28 00:00:00</td>\n      <td>15.574589</td>\n    </tr>\n    <tr>\n      <th>std</th>\n      <td>NaN</td>\n      <td>1.797734</td>\n    </tr>\n  </tbody>\n</table>\n</div>"
     },
     "execution_count": 368,
     "metadata": {},
     "output_type": "execute_result"
    }
   ],
   "source": [
    "LondonEnergy_df.describe()"
   ],
   "metadata": {
    "collapsed": false,
    "ExecuteTime": {
     "end_time": "2023-12-07T01:05:32.518125200Z",
     "start_time": "2023-12-07T01:05:32.499546Z"
    }
   }
  },
  {
   "cell_type": "markdown",
   "source": [
    "All feasible values"
   ],
   "metadata": {
    "collapsed": false
   }
  },
  {
   "cell_type": "markdown",
   "source": [
    "\n"
   ],
   "metadata": {
    "collapsed": false
   }
  },
  {
   "cell_type": "markdown",
   "source": [
    "### Ensure dates range from 2012-2014\n",
    "Lets get the number of days between the minimum and maximum days"
   ],
   "metadata": {
    "collapsed": false
   }
  },
  {
   "cell_type": "code",
   "execution_count": 369,
   "outputs": [
    {
     "name": "stdout",
     "output_type": "stream",
     "text": [
      "828\n"
     ]
    }
   ],
   "source": [
    "LondonEnergy_df = LondonEnergy_df.sort_values(\"Date\")\n",
    "LondonEnergy_df = LondonEnergy_df.reset_index(drop=True)\n",
    "print((LondonEnergy_df[\"Date\"].max()-LondonEnergy_df['Date'].min()).days)"
   ],
   "metadata": {
    "collapsed": false,
    "ExecuteTime": {
     "end_time": "2023-12-07T01:05:32.518125200Z",
     "start_time": "2023-12-07T01:05:32.509156100Z"
    }
   }
  },
  {
   "cell_type": "markdown",
   "source": [
    "Next lets see how many days there are"
   ],
   "metadata": {
    "collapsed": false
   }
  },
  {
   "cell_type": "code",
   "execution_count": 370,
   "outputs": [
    {
     "name": "stdout",
     "output_type": "stream",
     "text": [
      "<class 'pandas.core.frame.DataFrame'>\n",
      "RangeIndex: 829 entries, 0 to 828\n",
      "Data columns (total 2 columns):\n",
      " #   Column  Non-Null Count  Dtype         \n",
      "---  ------  --------------  -----         \n",
      " 0   Date    829 non-null    datetime64[ns]\n",
      " 1   avgKWH  829 non-null    float64       \n",
      "dtypes: datetime64[ns](1), float64(1)\n",
      "memory usage: 13.1 KB\n"
     ]
    }
   ],
   "source": [
    "LondonEnergy_df.info()"
   ],
   "metadata": {
    "collapsed": false,
    "ExecuteTime": {
     "end_time": "2023-12-07T01:05:32.579520500Z",
     "start_time": "2023-12-07T01:05:32.513154300Z"
    }
   }
  },
  {
   "cell_type": "markdown",
   "source": [
    "There are in fact 828 days, and 828 unique dated records between the first day of the dataset and the last. This also means that none of the data is null/NAN."
   ],
   "metadata": {
    "collapsed": false
   }
  },
  {
   "cell_type": "code",
   "execution_count": 371,
   "outputs": [
    {
     "name": "stdout",
     "output_type": "stream",
     "text": [
      "<class 'pandas.core.frame.DataFrame'>\n",
      "RangeIndex: 829 entries, 0 to 828\n",
      "Data columns (total 2 columns):\n",
      " #   Column  Non-Null Count  Dtype         \n",
      "---  ------  --------------  -----         \n",
      " 0   Date    829 non-null    datetime64[ns]\n",
      " 1   avgKWH  829 non-null    float64       \n",
      "dtypes: datetime64[ns](1), float64(1)\n",
      "memory usage: 13.1 KB\n"
     ]
    }
   ],
   "source": [
    "LondonEnergy_df.info()"
   ],
   "metadata": {
    "collapsed": false,
    "ExecuteTime": {
     "end_time": "2023-12-07T01:05:32.610548700Z",
     "start_time": "2023-12-07T01:05:32.520128300Z"
    }
   }
  },
  {
   "cell_type": "markdown",
   "source": [
    "## London Weather Data Preparation\n",
    "\n",
    "The second data set we will be joining for our model is a data set detailing the weather in london."
   ],
   "metadata": {
    "collapsed": false
   }
  },
  {
   "cell_type": "code",
   "execution_count": 372,
   "outputs": [
    {
     "name": "stdout",
     "output_type": "stream",
     "text": [
      "       date  cloud_cover  sunshine  global_radiation  max_temp  mean_temp  \\\n",
      "0  19790101          2.0       7.0              52.0       2.3       -4.1   \n",
      "1  19790102          6.0       1.7              27.0       1.6       -2.6   \n",
      "2  19790103          5.0       0.0              13.0       1.3       -2.8   \n",
      "3  19790104          8.0       0.0              13.0      -0.3       -2.6   \n",
      "4  19790105          6.0       2.0              29.0       5.6       -0.8   \n",
      "\n",
      "   min_temp  precipitation  pressure  snow_depth  \n",
      "0      -7.5            0.4  101900.0         9.0  \n",
      "1      -7.5            0.0  102530.0         8.0  \n",
      "2      -7.2            0.0  102050.0         4.0  \n",
      "3      -6.5            0.0  100840.0         2.0  \n",
      "4      -1.4            0.0  102250.0         1.0  \n",
      "           date  cloud_cover  sunshine  global_radiation  max_temp  mean_temp  \\\n",
      "15336  20201227          1.0       0.9              32.0       7.5        7.5   \n",
      "15337  20201228          7.0       3.7              38.0       3.6        1.1   \n",
      "15338  20201229          7.0       0.0              21.0       4.1        2.6   \n",
      "15339  20201230          6.0       0.4              22.0       5.6        2.7   \n",
      "15340  20201231          7.0       1.3              34.0       1.5       -0.8   \n",
      "\n",
      "       min_temp  precipitation  pressure  snow_depth  \n",
      "15336       7.6            2.0   98000.0         NaN  \n",
      "15337      -1.3            0.2   97370.0         NaN  \n",
      "15338       1.1            0.0   98830.0         NaN  \n",
      "15339      -0.1            0.0  100200.0         NaN  \n",
      "15340      -3.1            0.0  100500.0         NaN  \n"
     ]
    }
   ],
   "source": [
    "LondonWeather = pd.read_csv(\"../data/clean/LondonWeather.xls\")\n",
    "print(LondonWeather.head())\n",
    "print(LondonWeather.tail())"
   ],
   "metadata": {
    "collapsed": false,
    "ExecuteTime": {
     "end_time": "2023-12-07T01:05:32.657972500Z",
     "start_time": "2023-12-07T01:05:32.526124Z"
    }
   }
  },
  {
   "cell_type": "markdown",
   "source": [
    "The date in this data set appears to have been read in as an integer, to join this data set with the other two we will want to utilize the datetime data type."
   ],
   "metadata": {
    "collapsed": false
   }
  },
  {
   "cell_type": "code",
   "execution_count": 373,
   "outputs": [
    {
     "name": "stdout",
     "output_type": "stream",
     "text": [
      "0        19790101\n",
      "1        19790102\n",
      "2        19790103\n",
      "3        19790104\n",
      "4        19790105\n",
      "           ...   \n",
      "15336    20201227\n",
      "15337    20201228\n",
      "15338    20201229\n",
      "15339    20201230\n",
      "15340    20201231\n",
      "Name: date, Length: 15341, dtype: int64\n",
      "0       1979-01-01\n",
      "1       1979-01-02\n",
      "2       1979-01-03\n",
      "3       1979-01-04\n",
      "4       1979-01-05\n",
      "           ...    \n",
      "15336   2020-12-27\n",
      "15337   2020-12-28\n",
      "15338   2020-12-29\n",
      "15339   2020-12-30\n",
      "15340   2020-12-31\n",
      "Name: date, Length: 15341, dtype: datetime64[ns]\n"
     ]
    }
   ],
   "source": [
    "format_str = \"%Y%m%d\"\n",
    "print(LondonWeather['date'])\n",
    "LondonWeather['date'] = LondonWeather['date'].map(lambda s: dt.datetime.strptime(str(s), format_str))\n",
    "print(LondonWeather['date'])"
   ],
   "metadata": {
    "collapsed": false,
    "ExecuteTime": {
     "end_time": "2023-12-07T01:05:32.815756800Z",
     "start_time": "2023-12-07T01:05:32.546490400Z"
    }
   }
  },
  {
   "cell_type": "markdown",
   "source": [
    "The london Weather data begins in 1979 and concludes in 2020. This timeframe is far beyond the scope of our project so lets limit our data to 2011-2014. Additionally, the date column label does not align to our original data set so lets change that as well."
   ],
   "metadata": {
    "collapsed": false
   }
  },
  {
   "cell_type": "code",
   "execution_count": 374,
   "outputs": [
    {
     "data": {
      "text/plain": "           Date  cloud_cover  sunshine  global_radiation  max_temp  mean_temp  \\\n0    2011-01-01          8.0       0.0              13.0       4.0        5.9   \n1    2011-01-02          8.0       0.1              15.0       2.9        3.0   \n2    2011-01-03          7.0       0.1              15.0       6.0        1.3   \n3    2011-01-04          7.0       0.0              13.0       7.1        2.9   \n4    2011-01-05          6.0       2.3              31.0       5.1        4.2   \n...         ...          ...       ...               ...       ...        ...   \n1456 2014-12-27          5.0       2.0              28.0       6.2        3.0   \n1457 2014-12-28          0.0       6.0              47.0       5.8        3.6   \n1458 2014-12-29          0.0       6.1              47.0       5.7        1.2   \n1459 2014-12-30          1.0       3.3              35.0       8.5        0.8   \n1460 2014-12-31          3.0       2.3              30.0      12.9        2.2   \n\n      min_temp  precipitation  pressure  snow_depth  \n0          4.6            0.6  102500.0         0.0  \n1          1.9            0.0  102830.0         0.0  \n2         -0.3            0.0  102460.0         0.0  \n3         -0.3            0.0  101360.0         NaN  \n4          1.3            1.0  100040.0         0.0  \n...        ...            ...       ...         ...  \n1456       1.2            0.0  100730.0         0.0  \n1457       0.9            0.0  102950.0         0.0  \n1458      -3.5            0.2  104060.0         0.0  \n1459      -4.1            0.2  103940.0         0.0  \n1460      -4.1            0.2  103410.0         0.0  \n\n[1461 rows x 10 columns]",
      "text/html": "<div>\n<style scoped>\n    .dataframe tbody tr th:only-of-type {\n        vertical-align: middle;\n    }\n\n    .dataframe tbody tr th {\n        vertical-align: top;\n    }\n\n    .dataframe thead th {\n        text-align: right;\n    }\n</style>\n<table border=\"1\" class=\"dataframe\">\n  <thead>\n    <tr style=\"text-align: right;\">\n      <th></th>\n      <th>Date</th>\n      <th>cloud_cover</th>\n      <th>sunshine</th>\n      <th>global_radiation</th>\n      <th>max_temp</th>\n      <th>mean_temp</th>\n      <th>min_temp</th>\n      <th>precipitation</th>\n      <th>pressure</th>\n      <th>snow_depth</th>\n    </tr>\n  </thead>\n  <tbody>\n    <tr>\n      <th>0</th>\n      <td>2011-01-01</td>\n      <td>8.0</td>\n      <td>0.0</td>\n      <td>13.0</td>\n      <td>4.0</td>\n      <td>5.9</td>\n      <td>4.6</td>\n      <td>0.6</td>\n      <td>102500.0</td>\n      <td>0.0</td>\n    </tr>\n    <tr>\n      <th>1</th>\n      <td>2011-01-02</td>\n      <td>8.0</td>\n      <td>0.1</td>\n      <td>15.0</td>\n      <td>2.9</td>\n      <td>3.0</td>\n      <td>1.9</td>\n      <td>0.0</td>\n      <td>102830.0</td>\n      <td>0.0</td>\n    </tr>\n    <tr>\n      <th>2</th>\n      <td>2011-01-03</td>\n      <td>7.0</td>\n      <td>0.1</td>\n      <td>15.0</td>\n      <td>6.0</td>\n      <td>1.3</td>\n      <td>-0.3</td>\n      <td>0.0</td>\n      <td>102460.0</td>\n      <td>0.0</td>\n    </tr>\n    <tr>\n      <th>3</th>\n      <td>2011-01-04</td>\n      <td>7.0</td>\n      <td>0.0</td>\n      <td>13.0</td>\n      <td>7.1</td>\n      <td>2.9</td>\n      <td>-0.3</td>\n      <td>0.0</td>\n      <td>101360.0</td>\n      <td>NaN</td>\n    </tr>\n    <tr>\n      <th>4</th>\n      <td>2011-01-05</td>\n      <td>6.0</td>\n      <td>2.3</td>\n      <td>31.0</td>\n      <td>5.1</td>\n      <td>4.2</td>\n      <td>1.3</td>\n      <td>1.0</td>\n      <td>100040.0</td>\n      <td>0.0</td>\n    </tr>\n    <tr>\n      <th>...</th>\n      <td>...</td>\n      <td>...</td>\n      <td>...</td>\n      <td>...</td>\n      <td>...</td>\n      <td>...</td>\n      <td>...</td>\n      <td>...</td>\n      <td>...</td>\n      <td>...</td>\n    </tr>\n    <tr>\n      <th>1456</th>\n      <td>2014-12-27</td>\n      <td>5.0</td>\n      <td>2.0</td>\n      <td>28.0</td>\n      <td>6.2</td>\n      <td>3.0</td>\n      <td>1.2</td>\n      <td>0.0</td>\n      <td>100730.0</td>\n      <td>0.0</td>\n    </tr>\n    <tr>\n      <th>1457</th>\n      <td>2014-12-28</td>\n      <td>0.0</td>\n      <td>6.0</td>\n      <td>47.0</td>\n      <td>5.8</td>\n      <td>3.6</td>\n      <td>0.9</td>\n      <td>0.0</td>\n      <td>102950.0</td>\n      <td>0.0</td>\n    </tr>\n    <tr>\n      <th>1458</th>\n      <td>2014-12-29</td>\n      <td>0.0</td>\n      <td>6.1</td>\n      <td>47.0</td>\n      <td>5.7</td>\n      <td>1.2</td>\n      <td>-3.5</td>\n      <td>0.2</td>\n      <td>104060.0</td>\n      <td>0.0</td>\n    </tr>\n    <tr>\n      <th>1459</th>\n      <td>2014-12-30</td>\n      <td>1.0</td>\n      <td>3.3</td>\n      <td>35.0</td>\n      <td>8.5</td>\n      <td>0.8</td>\n      <td>-4.1</td>\n      <td>0.2</td>\n      <td>103940.0</td>\n      <td>0.0</td>\n    </tr>\n    <tr>\n      <th>1460</th>\n      <td>2014-12-31</td>\n      <td>3.0</td>\n      <td>2.3</td>\n      <td>30.0</td>\n      <td>12.9</td>\n      <td>2.2</td>\n      <td>-4.1</td>\n      <td>0.2</td>\n      <td>103410.0</td>\n      <td>0.0</td>\n    </tr>\n  </tbody>\n</table>\n<p>1461 rows × 10 columns</p>\n</div>"
     },
     "execution_count": 374,
     "metadata": {},
     "output_type": "execute_result"
    }
   ],
   "source": [
    "DesiredTime = (LondonWeather['date'].dt.year >= 2011) & \\\n",
    "              (LondonWeather['date'].dt.year <= 2014)\n",
    "LondonWeather_df = LondonWeather[DesiredTime]\n",
    "# Lets reindex so it looks nicer\n",
    "LondonWeather_df = LondonWeather_df.reset_index()\n",
    "# Get rid of the old index\n",
    "LondonWeather_df.pop('index')\n",
    "# And lets fix the column name\n",
    "LondonWeather_df = LondonWeather_df.rename(columns = {'date':'Date'})\n",
    "\n",
    "LondonWeather_df"
   ],
   "metadata": {
    "collapsed": false,
    "ExecuteTime": {
     "end_time": "2023-12-07T01:05:32.831771600Z",
     "start_time": "2023-12-07T01:05:32.648964300Z"
    }
   }
  },
  {
   "cell_type": "markdown",
   "source": [
    "Now the London Weather data set is ready to be joined to the original Energy usage data set.\n",
    "\n",
    "### Are All Dates Present?\n",
    "\n",
    "Lets now ensure that all dates are present in this data set."
   ],
   "metadata": {
    "collapsed": false
   }
  },
  {
   "cell_type": "code",
   "execution_count": 375,
   "outputs": [
    {
     "name": "stdout",
     "output_type": "stream",
     "text": [
      "DatetimeIndex([], dtype='datetime64[ns]', freq='D')\n"
     ]
    }
   ],
   "source": [
    "MissingDates = pd.date_range(start = '2011-01-01', end = '2014-12-31' ).difference(LondonWeather_df['Date'])\n",
    "print(MissingDates)"
   ],
   "metadata": {
    "collapsed": false,
    "ExecuteTime": {
     "end_time": "2023-12-07T01:05:32.834774100Z",
     "start_time": "2023-12-07T01:05:32.667766400Z"
    }
   }
  },
  {
   "cell_type": "markdown",
   "source": [
    "All days from 2011-2014 are present, and there are no additional dates.\n",
    "### Is The Data Uncorrupted?"
   ],
   "metadata": {
    "collapsed": false
   }
  },
  {
   "cell_type": "code",
   "execution_count": 376,
   "outputs": [
    {
     "name": "stdout",
     "output_type": "stream",
     "text": [
      "The 'Date' column contains 0 null values.\n",
      "The 'cloud_cover' column contains 2 null values.\n",
      "The 'sunshine' column contains 0 null values.\n",
      "The 'global_radiation' column contains 0 null values.\n",
      "The 'max_temp' column contains 0 null values.\n",
      "The 'mean_temp' column contains 0 null values.\n",
      "The 'min_temp' column contains 0 null values.\n",
      "The 'precipitation' column contains 0 null values.\n",
      "The 'pressure' column contains 0 null values.\n",
      "The 'snow_depth' column contains 180 null values.\n"
     ]
    }
   ],
   "source": [
    "for col in LondonWeather_df:\n",
    "    NanCheck = LondonWeather_df[col].isnull().sum()\n",
    "    print(f'The \\'{col}\\' column contains {NanCheck} null values.')"
   ],
   "metadata": {
    "collapsed": false,
    "ExecuteTime": {
     "end_time": "2023-12-07T01:05:32.834774100Z",
     "start_time": "2023-12-07T01:05:32.672559200Z"
    }
   }
  },
  {
   "cell_type": "markdown",
   "source": [
    "Both cloud_cover and snow_depth contain null values. The cloud_cover column contains only 2 null values, but the snow_depth column contains 180. 180 nulls represent slightly less than a seventh of total observations.\n",
    "Lets deal with the CloudNulls first."
   ],
   "metadata": {
    "collapsed": false
   }
  },
  {
   "cell_type": "code",
   "execution_count": 377,
   "outputs": [
    {
     "data": {
      "text/plain": "          Date  cloud_cover  sunshine  global_radiation  max_temp  mean_temp  \\\n323 2011-11-20          NaN       0.0              17.0      11.5        5.3   \n426 2012-03-02          NaN       3.4              88.0      15.0        7.5   \n\n     min_temp  precipitation  pressure  snow_depth  \n323       2.2            0.2  101890.0         0.0  \n426       3.2            0.0  102560.0         0.0  ",
      "text/html": "<div>\n<style scoped>\n    .dataframe tbody tr th:only-of-type {\n        vertical-align: middle;\n    }\n\n    .dataframe tbody tr th {\n        vertical-align: top;\n    }\n\n    .dataframe thead th {\n        text-align: right;\n    }\n</style>\n<table border=\"1\" class=\"dataframe\">\n  <thead>\n    <tr style=\"text-align: right;\">\n      <th></th>\n      <th>Date</th>\n      <th>cloud_cover</th>\n      <th>sunshine</th>\n      <th>global_radiation</th>\n      <th>max_temp</th>\n      <th>mean_temp</th>\n      <th>min_temp</th>\n      <th>precipitation</th>\n      <th>pressure</th>\n      <th>snow_depth</th>\n    </tr>\n  </thead>\n  <tbody>\n    <tr>\n      <th>323</th>\n      <td>2011-11-20</td>\n      <td>NaN</td>\n      <td>0.0</td>\n      <td>17.0</td>\n      <td>11.5</td>\n      <td>5.3</td>\n      <td>2.2</td>\n      <td>0.2</td>\n      <td>101890.0</td>\n      <td>0.0</td>\n    </tr>\n    <tr>\n      <th>426</th>\n      <td>2012-03-02</td>\n      <td>NaN</td>\n      <td>3.4</td>\n      <td>88.0</td>\n      <td>15.0</td>\n      <td>7.5</td>\n      <td>3.2</td>\n      <td>0.0</td>\n      <td>102560.0</td>\n      <td>0.0</td>\n    </tr>\n  </tbody>\n</table>\n</div>"
     },
     "execution_count": 377,
     "metadata": {},
     "output_type": "execute_result"
    }
   ],
   "source": [
    "CloudNulls = (LondonWeather_df['cloud_cover'].isnull())\n",
    "LondonWeather_df[CloudNulls]"
   ],
   "metadata": {
    "collapsed": false,
    "ExecuteTime": {
     "end_time": "2023-12-07T01:05:32.834774100Z",
     "start_time": "2023-12-07T01:05:32.677432900Z"
    }
   }
  },
  {
   "cell_type": "markdown",
   "source": [
    "Considering how little data is null data I recommend one of the two following approaches:\n",
    "* Zero padding: Since theres so little data missing just placing zeros here is unlikely to meaningfully impact the model\n",
    "* Average the previous and following day: Lived experience tells me that on average cloud coverage usually comes and goes in trends, it would be abnormal to have overcast, clear skies, overcast in three successive days. Based on this observation the most likely value for the cloud coverage between two days is likely found between the prevalence of the surrounding days."
   ],
   "metadata": {
    "collapsed": false
   }
  },
  {
   "cell_type": "code",
   "execution_count": 378,
   "outputs": [
    {
     "name": "stdout",
     "output_type": "stream",
     "text": [
      "1.0 7.0\n",
      "5.0 5.0\n"
     ]
    }
   ],
   "source": [
    "CloudNulls = (LondonWeather_df['cloud_cover'].isnull())\n",
    "inds = LondonWeather_df[CloudNulls].index\n",
    "for index in inds:\n",
    "    before = LondonWeather_df['cloud_cover'].iloc[index-1]\n",
    "    after  = LondonWeather_df['cloud_cover'].iloc[index+1]\n",
    "    print(str(before)+' '+str(after))\n",
    "# Averaging approach\n",
    "    LondonWeather_df.loc[index,'cloud_cover'] = (float(before)+float(after))/2\n",
    "##Zero padding approach\n",
    "# LondonWeather_df['cloud_cover'] = LondonWeather_df[\"cloud_cover\"].fillna(0.0)\n",
    "\n"
   ],
   "metadata": {
    "collapsed": false,
    "ExecuteTime": {
     "end_time": "2023-12-07T01:05:32.834774100Z",
     "start_time": "2023-12-07T01:05:32.689684400Z"
    }
   }
  },
  {
   "cell_type": "markdown",
   "source": [
    "Now lets confirm there is no more nulls."
   ],
   "metadata": {
    "collapsed": false
   }
  },
  {
   "cell_type": "code",
   "execution_count": 379,
   "outputs": [
    {
     "data": {
      "text/plain": "Empty DataFrame\nColumns: [Date, cloud_cover, sunshine, global_radiation, max_temp, mean_temp, min_temp, precipitation, pressure, snow_depth]\nIndex: []",
      "text/html": "<div>\n<style scoped>\n    .dataframe tbody tr th:only-of-type {\n        vertical-align: middle;\n    }\n\n    .dataframe tbody tr th {\n        vertical-align: top;\n    }\n\n    .dataframe thead th {\n        text-align: right;\n    }\n</style>\n<table border=\"1\" class=\"dataframe\">\n  <thead>\n    <tr style=\"text-align: right;\">\n      <th></th>\n      <th>Date</th>\n      <th>cloud_cover</th>\n      <th>sunshine</th>\n      <th>global_radiation</th>\n      <th>max_temp</th>\n      <th>mean_temp</th>\n      <th>min_temp</th>\n      <th>precipitation</th>\n      <th>pressure</th>\n      <th>snow_depth</th>\n    </tr>\n  </thead>\n  <tbody>\n  </tbody>\n</table>\n</div>"
     },
     "execution_count": 379,
     "metadata": {},
     "output_type": "execute_result"
    }
   ],
   "source": [
    "CloudNulls = (LondonWeather_df['cloud_cover'].isnull())\n",
    "LondonWeather_df[CloudNulls]"
   ],
   "metadata": {
    "collapsed": false,
    "ExecuteTime": {
     "end_time": "2023-12-07T01:05:32.834774100Z",
     "start_time": "2023-12-07T01:05:32.695584800Z"
    }
   }
  },
  {
   "cell_type": "markdown",
   "source": [
    "Now that we have confirmed there are no cloud coverage nulls lets move to snow_depth nulls. Lets print the month and year of the snow_depth nulls out to look for insight to why these nulls exist."
   ],
   "metadata": {
    "collapsed": false
   }
  },
  {
   "cell_type": "code",
   "execution_count": 380,
   "outputs": [
    {
     "name": "stdout",
     "output_type": "stream",
     "text": [
      "1 2011\n",
      "1 2011\n",
      "4 2011\n",
      "4 2011\n",
      "4 2011\n",
      "4 2011\n",
      "4 2011\n",
      "4 2011\n",
      "4 2011\n",
      "4 2011\n",
      "4 2011\n",
      "4 2011\n",
      "4 2011\n",
      "4 2011\n",
      "4 2011\n",
      "4 2011\n",
      "4 2011\n",
      "4 2011\n",
      "4 2011\n",
      "4 2011\n",
      "5 2011\n",
      "5 2011\n",
      "5 2011\n",
      "5 2011\n",
      "5 2011\n",
      "5 2011\n",
      "5 2011\n",
      "5 2011\n",
      "5 2011\n",
      "5 2011\n",
      "5 2011\n",
      "5 2011\n",
      "5 2011\n",
      "5 2011\n",
      "5 2011\n",
      "5 2011\n",
      "5 2011\n",
      "5 2011\n",
      "5 2011\n",
      "5 2011\n",
      "5 2011\n",
      "5 2011\n",
      "5 2011\n",
      "5 2011\n",
      "5 2011\n",
      "5 2011\n",
      "5 2011\n",
      "5 2011\n",
      "5 2011\n",
      "5 2011\n",
      "5 2011\n",
      "6 2011\n",
      "6 2011\n",
      "6 2011\n",
      "6 2011\n",
      "6 2011\n",
      "6 2011\n",
      "6 2011\n",
      "6 2011\n",
      "6 2011\n",
      "6 2011\n",
      "6 2011\n",
      "6 2011\n",
      "6 2011\n",
      "6 2011\n",
      "6 2011\n",
      "6 2011\n",
      "6 2011\n",
      "6 2011\n",
      "6 2011\n",
      "6 2011\n",
      "6 2011\n",
      "6 2011\n",
      "6 2011\n",
      "6 2011\n",
      "6 2011\n",
      "6 2011\n",
      "6 2011\n",
      "6 2011\n",
      "6 2011\n",
      "6 2011\n",
      "7 2011\n",
      "7 2011\n",
      "7 2011\n",
      "7 2011\n",
      "7 2011\n",
      "7 2011\n",
      "7 2011\n",
      "7 2011\n",
      "7 2011\n",
      "7 2011\n",
      "7 2011\n",
      "7 2011\n",
      "7 2011\n",
      "7 2011\n",
      "7 2011\n",
      "7 2011\n",
      "7 2011\n",
      "7 2011\n",
      "7 2011\n",
      "7 2011\n",
      "7 2011\n",
      "7 2011\n",
      "7 2011\n",
      "7 2011\n",
      "7 2011\n",
      "7 2011\n",
      "7 2011\n",
      "7 2011\n",
      "7 2011\n",
      "7 2011\n",
      "7 2011\n",
      "8 2011\n",
      "8 2011\n",
      "8 2011\n",
      "8 2011\n",
      "8 2011\n",
      "8 2011\n",
      "8 2011\n",
      "8 2011\n",
      "8 2011\n",
      "8 2011\n",
      "8 2011\n",
      "8 2011\n",
      "8 2011\n",
      "8 2011\n",
      "8 2011\n",
      "8 2011\n",
      "8 2011\n",
      "8 2011\n",
      "8 2011\n",
      "8 2011\n",
      "8 2011\n",
      "8 2011\n",
      "8 2011\n",
      "8 2011\n",
      "8 2011\n",
      "8 2011\n",
      "8 2011\n",
      "8 2011\n",
      "8 2011\n",
      "8 2011\n",
      "8 2011\n",
      "9 2011\n",
      "9 2011\n",
      "9 2011\n",
      "9 2011\n",
      "9 2011\n",
      "9 2011\n",
      "9 2011\n",
      "9 2011\n",
      "9 2011\n",
      "9 2011\n",
      "9 2011\n",
      "9 2011\n",
      "9 2011\n",
      "9 2011\n",
      "9 2011\n",
      "9 2011\n",
      "9 2011\n",
      "9 2011\n",
      "9 2011\n",
      "9 2011\n",
      "9 2011\n",
      "9 2011\n",
      "9 2011\n",
      "9 2011\n",
      "9 2011\n",
      "9 2011\n",
      "9 2011\n",
      "9 2011\n",
      "9 2011\n",
      "9 2011\n",
      "10 2011\n",
      "10 2011\n",
      "10 2011\n",
      "10 2011\n",
      "10 2011\n",
      "10 2011\n",
      "10 2011\n"
     ]
    }
   ],
   "source": [
    "SnowNulls = (LondonWeather_df['snow_depth'].isnull())\n",
    "for ind in LondonWeather_df.loc[(SnowNulls==True)].index:\n",
    "    print(str(LondonWeather_df['Date'].iloc[ind].month) + ' '+ str(LondonWeather_df['Date'].iloc[ind].year))"
   ],
   "metadata": {
    "collapsed": false,
    "ExecuteTime": {
     "end_time": "2023-12-07T01:05:32.834774100Z",
     "start_time": "2023-12-07T01:05:32.700210400Z"
    }
   }
  },
  {
   "cell_type": "markdown",
   "source": [
    "Notice that the vast majority of the snow_depth NaN values occur from April to October of 2011. Londons snow season is Dec to Feb, based on this observation it is likely that these NaN values were days where there was no snowfall and would recommend zero padding. But before we take action lets check what the values before and after each NaN were, as this may give us some more insight into the situation."
   ],
   "metadata": {
    "collapsed": false
   }
  },
  {
   "cell_type": "code",
   "execution_count": 381,
   "outputs": [
    {
     "name": "stdout",
     "output_type": "stream",
     "text": [
      "Before:After\n",
      "0.0:0.0\n",
      "0.0:0.0\n",
      "0.0:nan\n",
      "nan:nan\n",
      "nan:nan\n",
      "nan:nan\n",
      "nan:nan\n",
      "nan:nan\n",
      "nan:nan\n",
      "nan:nan\n",
      "nan:nan\n",
      "nan:nan\n",
      "nan:nan\n",
      "nan:nan\n",
      "nan:nan\n",
      "nan:nan\n",
      "nan:nan\n",
      "nan:nan\n",
      "nan:nan\n",
      "nan:nan\n",
      "nan:nan\n",
      "nan:nan\n",
      "nan:nan\n",
      "nan:nan\n",
      "nan:nan\n",
      "nan:nan\n",
      "nan:nan\n",
      "nan:nan\n",
      "nan:nan\n",
      "nan:nan\n",
      "nan:nan\n",
      "nan:nan\n",
      "nan:nan\n",
      "nan:nan\n",
      "nan:nan\n",
      "nan:nan\n",
      "nan:nan\n",
      "nan:nan\n",
      "nan:nan\n",
      "nan:nan\n",
      "nan:nan\n",
      "nan:nan\n",
      "nan:nan\n",
      "nan:nan\n",
      "nan:nan\n",
      "nan:nan\n",
      "nan:nan\n",
      "nan:nan\n",
      "nan:nan\n",
      "nan:nan\n",
      "nan:nan\n",
      "nan:nan\n",
      "nan:nan\n",
      "nan:nan\n",
      "nan:nan\n",
      "nan:nan\n",
      "nan:nan\n",
      "nan:nan\n",
      "nan:nan\n",
      "nan:nan\n",
      "nan:nan\n",
      "nan:nan\n",
      "nan:nan\n",
      "nan:nan\n",
      "nan:nan\n",
      "nan:nan\n",
      "nan:nan\n",
      "nan:nan\n",
      "nan:nan\n",
      "nan:nan\n",
      "nan:nan\n",
      "nan:nan\n",
      "nan:nan\n",
      "nan:nan\n",
      "nan:nan\n",
      "nan:nan\n",
      "nan:nan\n",
      "nan:nan\n",
      "nan:nan\n",
      "nan:nan\n",
      "nan:nan\n",
      "nan:nan\n",
      "nan:nan\n",
      "nan:nan\n",
      "nan:nan\n",
      "nan:nan\n",
      "nan:nan\n",
      "nan:nan\n",
      "nan:nan\n",
      "nan:nan\n",
      "nan:nan\n",
      "nan:nan\n",
      "nan:nan\n",
      "nan:nan\n",
      "nan:nan\n",
      "nan:nan\n",
      "nan:nan\n",
      "nan:nan\n",
      "nan:nan\n",
      "nan:nan\n",
      "nan:nan\n",
      "nan:nan\n",
      "nan:nan\n",
      "nan:nan\n",
      "nan:nan\n",
      "nan:nan\n",
      "nan:nan\n",
      "nan:nan\n",
      "nan:nan\n",
      "nan:nan\n",
      "nan:nan\n",
      "nan:nan\n",
      "nan:nan\n",
      "nan:nan\n",
      "nan:nan\n",
      "nan:nan\n",
      "nan:nan\n",
      "nan:nan\n",
      "nan:nan\n",
      "nan:nan\n",
      "nan:nan\n",
      "nan:nan\n",
      "nan:nan\n",
      "nan:nan\n",
      "nan:nan\n",
      "nan:nan\n",
      "nan:nan\n",
      "nan:nan\n",
      "nan:nan\n",
      "nan:nan\n",
      "nan:nan\n",
      "nan:nan\n",
      "nan:nan\n",
      "nan:nan\n",
      "nan:nan\n",
      "nan:nan\n",
      "nan:nan\n",
      "nan:nan\n",
      "nan:nan\n",
      "nan:nan\n",
      "nan:nan\n",
      "nan:nan\n",
      "nan:nan\n",
      "nan:nan\n",
      "nan:nan\n",
      "nan:nan\n",
      "nan:nan\n",
      "nan:nan\n",
      "nan:nan\n",
      "nan:nan\n",
      "nan:nan\n",
      "nan:nan\n",
      "nan:nan\n",
      "nan:nan\n",
      "nan:nan\n",
      "nan:nan\n",
      "nan:nan\n",
      "nan:nan\n",
      "nan:nan\n",
      "nan:nan\n",
      "nan:nan\n",
      "nan:nan\n",
      "nan:nan\n",
      "nan:nan\n",
      "nan:nan\n",
      "nan:nan\n",
      "nan:nan\n",
      "nan:nan\n",
      "nan:nan\n",
      "nan:nan\n",
      "nan:nan\n",
      "nan:nan\n",
      "nan:nan\n",
      "nan:nan\n",
      "nan:nan\n",
      "nan:nan\n",
      "nan:nan\n",
      "nan:nan\n",
      "nan:nan\n",
      "nan:0.0\n"
     ]
    }
   ],
   "source": [
    "SnowNulls = (LondonWeather_df['snow_depth'].isnull())\n",
    "inds = LondonWeather_df[SnowNulls].index\n",
    "print(\"Before:After\")\n",
    "for index in inds:\n",
    "    before = LondonWeather_df['snow_depth'].iloc[index-1]\n",
    "    after  = LondonWeather_df['snow_depth'].iloc[index+1]\n",
    "    print(str(before)+':'+str(after))"
   ],
   "metadata": {
    "collapsed": false,
    "ExecuteTime": {
     "end_time": "2023-12-07T01:05:32.834774100Z",
     "start_time": "2023-12-07T01:05:32.710649700Z"
    }
   }
  },
  {
   "cell_type": "markdown",
   "source": [
    "All snow_depth NaN values are prempted and followed by zero inches of snow, or by another NaN. Based on these findings I conclude that the most reasonable explanation is that in 2011 researchers werent recording the snow_depth during times that there was no snow on the ground and or there was no expectation that there might be snow. From this finding I reccomend zero padding these nan values.\n",
    "After zero padding lets check again to make sure theres no more null values"
   ],
   "metadata": {
    "collapsed": false
   }
  },
  {
   "cell_type": "code",
   "execution_count": 382,
   "outputs": [
    {
     "data": {
      "text/plain": "Empty DataFrame\nColumns: [Date, cloud_cover, sunshine, global_radiation, max_temp, mean_temp, min_temp, precipitation, pressure, snow_depth]\nIndex: []",
      "text/html": "<div>\n<style scoped>\n    .dataframe tbody tr th:only-of-type {\n        vertical-align: middle;\n    }\n\n    .dataframe tbody tr th {\n        vertical-align: top;\n    }\n\n    .dataframe thead th {\n        text-align: right;\n    }\n</style>\n<table border=\"1\" class=\"dataframe\">\n  <thead>\n    <tr style=\"text-align: right;\">\n      <th></th>\n      <th>Date</th>\n      <th>cloud_cover</th>\n      <th>sunshine</th>\n      <th>global_radiation</th>\n      <th>max_temp</th>\n      <th>mean_temp</th>\n      <th>min_temp</th>\n      <th>precipitation</th>\n      <th>pressure</th>\n      <th>snow_depth</th>\n    </tr>\n  </thead>\n  <tbody>\n  </tbody>\n</table>\n</div>"
     },
     "execution_count": 382,
     "metadata": {},
     "output_type": "execute_result"
    }
   ],
   "source": [
    "LondonWeather_df['snow_depth'] = LondonWeather_df[\"snow_depth\"].fillna(0.0)\n",
    "SnowNulls = (LondonWeather_df['snow_depth'].isnull())\n",
    "LondonWeather_df[SnowNulls]"
   ],
   "metadata": {
    "collapsed": false,
    "ExecuteTime": {
     "end_time": "2023-12-07T01:05:32.835775Z",
     "start_time": "2023-12-07T01:05:32.719658300Z"
    }
   }
  },
  {
   "cell_type": "code",
   "execution_count": 383,
   "outputs": [
    {
     "data": {
      "text/plain": "           Date  cloud_cover  sunshine  global_radiation  max_temp  mean_temp  \\\n0    2011-01-01          8.0       0.0              13.0       4.0        5.9   \n1    2011-01-02          8.0       0.1              15.0       2.9        3.0   \n2    2011-01-03          7.0       0.1              15.0       6.0        1.3   \n3    2011-01-04          7.0       0.0              13.0       7.1        2.9   \n4    2011-01-05          6.0       2.3              31.0       5.1        4.2   \n...         ...          ...       ...               ...       ...        ...   \n1456 2014-12-27          5.0       2.0              28.0       6.2        3.0   \n1457 2014-12-28          0.0       6.0              47.0       5.8        3.6   \n1458 2014-12-29          0.0       6.1              47.0       5.7        1.2   \n1459 2014-12-30          1.0       3.3              35.0       8.5        0.8   \n1460 2014-12-31          3.0       2.3              30.0      12.9        2.2   \n\n      min_temp  precipitation  pressure  snow_depth  \n0          4.6            0.6  102500.0         0.0  \n1          1.9            0.0  102830.0         0.0  \n2         -0.3            0.0  102460.0         0.0  \n3         -0.3            0.0  101360.0         0.0  \n4          1.3            1.0  100040.0         0.0  \n...        ...            ...       ...         ...  \n1456       1.2            0.0  100730.0         0.0  \n1457       0.9            0.0  102950.0         0.0  \n1458      -3.5            0.2  104060.0         0.0  \n1459      -4.1            0.2  103940.0         0.0  \n1460      -4.1            0.2  103410.0         0.0  \n\n[1461 rows x 10 columns]",
      "text/html": "<div>\n<style scoped>\n    .dataframe tbody tr th:only-of-type {\n        vertical-align: middle;\n    }\n\n    .dataframe tbody tr th {\n        vertical-align: top;\n    }\n\n    .dataframe thead th {\n        text-align: right;\n    }\n</style>\n<table border=\"1\" class=\"dataframe\">\n  <thead>\n    <tr style=\"text-align: right;\">\n      <th></th>\n      <th>Date</th>\n      <th>cloud_cover</th>\n      <th>sunshine</th>\n      <th>global_radiation</th>\n      <th>max_temp</th>\n      <th>mean_temp</th>\n      <th>min_temp</th>\n      <th>precipitation</th>\n      <th>pressure</th>\n      <th>snow_depth</th>\n    </tr>\n  </thead>\n  <tbody>\n    <tr>\n      <th>0</th>\n      <td>2011-01-01</td>\n      <td>8.0</td>\n      <td>0.0</td>\n      <td>13.0</td>\n      <td>4.0</td>\n      <td>5.9</td>\n      <td>4.6</td>\n      <td>0.6</td>\n      <td>102500.0</td>\n      <td>0.0</td>\n    </tr>\n    <tr>\n      <th>1</th>\n      <td>2011-01-02</td>\n      <td>8.0</td>\n      <td>0.1</td>\n      <td>15.0</td>\n      <td>2.9</td>\n      <td>3.0</td>\n      <td>1.9</td>\n      <td>0.0</td>\n      <td>102830.0</td>\n      <td>0.0</td>\n    </tr>\n    <tr>\n      <th>2</th>\n      <td>2011-01-03</td>\n      <td>7.0</td>\n      <td>0.1</td>\n      <td>15.0</td>\n      <td>6.0</td>\n      <td>1.3</td>\n      <td>-0.3</td>\n      <td>0.0</td>\n      <td>102460.0</td>\n      <td>0.0</td>\n    </tr>\n    <tr>\n      <th>3</th>\n      <td>2011-01-04</td>\n      <td>7.0</td>\n      <td>0.0</td>\n      <td>13.0</td>\n      <td>7.1</td>\n      <td>2.9</td>\n      <td>-0.3</td>\n      <td>0.0</td>\n      <td>101360.0</td>\n      <td>0.0</td>\n    </tr>\n    <tr>\n      <th>4</th>\n      <td>2011-01-05</td>\n      <td>6.0</td>\n      <td>2.3</td>\n      <td>31.0</td>\n      <td>5.1</td>\n      <td>4.2</td>\n      <td>1.3</td>\n      <td>1.0</td>\n      <td>100040.0</td>\n      <td>0.0</td>\n    </tr>\n    <tr>\n      <th>...</th>\n      <td>...</td>\n      <td>...</td>\n      <td>...</td>\n      <td>...</td>\n      <td>...</td>\n      <td>...</td>\n      <td>...</td>\n      <td>...</td>\n      <td>...</td>\n      <td>...</td>\n    </tr>\n    <tr>\n      <th>1456</th>\n      <td>2014-12-27</td>\n      <td>5.0</td>\n      <td>2.0</td>\n      <td>28.0</td>\n      <td>6.2</td>\n      <td>3.0</td>\n      <td>1.2</td>\n      <td>0.0</td>\n      <td>100730.0</td>\n      <td>0.0</td>\n    </tr>\n    <tr>\n      <th>1457</th>\n      <td>2014-12-28</td>\n      <td>0.0</td>\n      <td>6.0</td>\n      <td>47.0</td>\n      <td>5.8</td>\n      <td>3.6</td>\n      <td>0.9</td>\n      <td>0.0</td>\n      <td>102950.0</td>\n      <td>0.0</td>\n    </tr>\n    <tr>\n      <th>1458</th>\n      <td>2014-12-29</td>\n      <td>0.0</td>\n      <td>6.1</td>\n      <td>47.0</td>\n      <td>5.7</td>\n      <td>1.2</td>\n      <td>-3.5</td>\n      <td>0.2</td>\n      <td>104060.0</td>\n      <td>0.0</td>\n    </tr>\n    <tr>\n      <th>1459</th>\n      <td>2014-12-30</td>\n      <td>1.0</td>\n      <td>3.3</td>\n      <td>35.0</td>\n      <td>8.5</td>\n      <td>0.8</td>\n      <td>-4.1</td>\n      <td>0.2</td>\n      <td>103940.0</td>\n      <td>0.0</td>\n    </tr>\n    <tr>\n      <th>1460</th>\n      <td>2014-12-31</td>\n      <td>3.0</td>\n      <td>2.3</td>\n      <td>30.0</td>\n      <td>12.9</td>\n      <td>2.2</td>\n      <td>-4.1</td>\n      <td>0.2</td>\n      <td>103410.0</td>\n      <td>0.0</td>\n    </tr>\n  </tbody>\n</table>\n<p>1461 rows × 10 columns</p>\n</div>"
     },
     "execution_count": 383,
     "metadata": {},
     "output_type": "execute_result"
    }
   ],
   "source": [
    "LondonWeather_df"
   ],
   "metadata": {
    "collapsed": false,
    "ExecuteTime": {
     "end_time": "2023-12-07T01:05:32.835775Z",
     "start_time": "2023-12-07T01:05:32.727148200Z"
    }
   }
  },
  {
   "cell_type": "markdown",
   "source": [
    "## Energy Cost Data Preperation\n",
    "\n",
    "The third data set we will be joining for our model is a data set detailing the average cost of energy in the UK. This was as local of energy pricing data as could be found. All pricing is in Euro/MWh."
   ],
   "metadata": {
    "collapsed": false
   }
  },
  {
   "cell_type": "code",
   "execution_count": 384,
   "outputs": [
    {
     "data": {
      "text/plain": "    Datetime  Settlement Period Market Index Data Provider Id  \\\n0   1-Jan-11                 48                       APXMIDP   \n1   2-Jan-11                 48                       APXMIDP   \n2   3-Jan-11                 48                       APXMIDP   \n3   4-Jan-11                 48                       APXMIDP   \n4   5-Jan-11                 48                       APXMIDP   \n5   6-Jan-11                 48                       APXMIDP   \n6   7-Jan-11                 48                       APXMIDP   \n7   8-Jan-11                 48                       APXMIDP   \n8   9-Jan-11                 48                       APXMIDP   \n9  10-Jan-11                 48                       APXMIDP   \n\n   Market Index Volume(MWh)  Market Index Price(£/MWh)  \\\n0                     415.0                      46.46   \n1                     326.0                      45.50   \n2                     221.0                      42.72   \n3                     115.5                      41.18   \n4                     250.5                      38.04   \n5                     444.5                      42.65   \n6                     196.0                      44.27   \n7                     661.5                      43.73   \n8                     466.0                      42.92   \n9                     200.0                      40.10   \n\n   Volume * Price Product  start daily row  end daily row  \\\n0               19280.900                2             49   \n1               14833.000               50             97   \n2                9441.120               98            145   \n3                4756.290              146            193   \n4                9529.020              194            241   \n5               18957.925              242            289   \n6                8676.920              290            337   \n7               28927.395              338            385   \n8               20000.720              386            433   \n9                8020.000              434            481   \n\n   daily volume * Price Product  Daily volume  volume weighted price  \n0                       1613523       33795.0                 47.744  \n1                       1926510       34913.0                 55.180  \n2                       1631767       32858.5                 49.660  \n3                       1887767       35356.5                 53.390  \n4                       1219950       25136.0                 48.530  \n5                       1926271       36778.0                 52.380  \n6                       1299543       26035.5                 49.910  \n7                       1411038       28783.0                 49.020  \n8                       1823653       35624.5                 51.190  \n9                       1936495       37316.5                 51.890  ",
      "text/html": "<div>\n<style scoped>\n    .dataframe tbody tr th:only-of-type {\n        vertical-align: middle;\n    }\n\n    .dataframe tbody tr th {\n        vertical-align: top;\n    }\n\n    .dataframe thead th {\n        text-align: right;\n    }\n</style>\n<table border=\"1\" class=\"dataframe\">\n  <thead>\n    <tr style=\"text-align: right;\">\n      <th></th>\n      <th>Datetime</th>\n      <th>Settlement Period</th>\n      <th>Market Index Data Provider Id</th>\n      <th>Market Index Volume(MWh)</th>\n      <th>Market Index Price(£/MWh)</th>\n      <th>Volume * Price Product</th>\n      <th>start daily row</th>\n      <th>end daily row</th>\n      <th>daily volume * Price Product</th>\n      <th>Daily volume</th>\n      <th>volume weighted price</th>\n    </tr>\n  </thead>\n  <tbody>\n    <tr>\n      <th>0</th>\n      <td>1-Jan-11</td>\n      <td>48</td>\n      <td>APXMIDP</td>\n      <td>415.0</td>\n      <td>46.46</td>\n      <td>19280.900</td>\n      <td>2</td>\n      <td>49</td>\n      <td>1613523</td>\n      <td>33795.0</td>\n      <td>47.744</td>\n    </tr>\n    <tr>\n      <th>1</th>\n      <td>2-Jan-11</td>\n      <td>48</td>\n      <td>APXMIDP</td>\n      <td>326.0</td>\n      <td>45.50</td>\n      <td>14833.000</td>\n      <td>50</td>\n      <td>97</td>\n      <td>1926510</td>\n      <td>34913.0</td>\n      <td>55.180</td>\n    </tr>\n    <tr>\n      <th>2</th>\n      <td>3-Jan-11</td>\n      <td>48</td>\n      <td>APXMIDP</td>\n      <td>221.0</td>\n      <td>42.72</td>\n      <td>9441.120</td>\n      <td>98</td>\n      <td>145</td>\n      <td>1631767</td>\n      <td>32858.5</td>\n      <td>49.660</td>\n    </tr>\n    <tr>\n      <th>3</th>\n      <td>4-Jan-11</td>\n      <td>48</td>\n      <td>APXMIDP</td>\n      <td>115.5</td>\n      <td>41.18</td>\n      <td>4756.290</td>\n      <td>146</td>\n      <td>193</td>\n      <td>1887767</td>\n      <td>35356.5</td>\n      <td>53.390</td>\n    </tr>\n    <tr>\n      <th>4</th>\n      <td>5-Jan-11</td>\n      <td>48</td>\n      <td>APXMIDP</td>\n      <td>250.5</td>\n      <td>38.04</td>\n      <td>9529.020</td>\n      <td>194</td>\n      <td>241</td>\n      <td>1219950</td>\n      <td>25136.0</td>\n      <td>48.530</td>\n    </tr>\n    <tr>\n      <th>5</th>\n      <td>6-Jan-11</td>\n      <td>48</td>\n      <td>APXMIDP</td>\n      <td>444.5</td>\n      <td>42.65</td>\n      <td>18957.925</td>\n      <td>242</td>\n      <td>289</td>\n      <td>1926271</td>\n      <td>36778.0</td>\n      <td>52.380</td>\n    </tr>\n    <tr>\n      <th>6</th>\n      <td>7-Jan-11</td>\n      <td>48</td>\n      <td>APXMIDP</td>\n      <td>196.0</td>\n      <td>44.27</td>\n      <td>8676.920</td>\n      <td>290</td>\n      <td>337</td>\n      <td>1299543</td>\n      <td>26035.5</td>\n      <td>49.910</td>\n    </tr>\n    <tr>\n      <th>7</th>\n      <td>8-Jan-11</td>\n      <td>48</td>\n      <td>APXMIDP</td>\n      <td>661.5</td>\n      <td>43.73</td>\n      <td>28927.395</td>\n      <td>338</td>\n      <td>385</td>\n      <td>1411038</td>\n      <td>28783.0</td>\n      <td>49.020</td>\n    </tr>\n    <tr>\n      <th>8</th>\n      <td>9-Jan-11</td>\n      <td>48</td>\n      <td>APXMIDP</td>\n      <td>466.0</td>\n      <td>42.92</td>\n      <td>20000.720</td>\n      <td>386</td>\n      <td>433</td>\n      <td>1823653</td>\n      <td>35624.5</td>\n      <td>51.190</td>\n    </tr>\n    <tr>\n      <th>9</th>\n      <td>10-Jan-11</td>\n      <td>48</td>\n      <td>APXMIDP</td>\n      <td>200.0</td>\n      <td>40.10</td>\n      <td>8020.000</td>\n      <td>434</td>\n      <td>481</td>\n      <td>1936495</td>\n      <td>37316.5</td>\n      <td>51.890</td>\n    </tr>\n  </tbody>\n</table>\n</div>"
     },
     "execution_count": 384,
     "metadata": {},
     "output_type": "execute_result"
    }
   ],
   "source": [
    "UKEnergyCost2011 = pd.read_csv(\"../data/clean/2011ElectricityCostData_UTF8.xls\")\n",
    "UKEnergyCost2011.head(10)"
   ],
   "metadata": {
    "collapsed": false,
    "ExecuteTime": {
     "end_time": "2023-12-07T01:05:32.835775Z",
     "start_time": "2023-12-07T01:05:32.741389400Z"
    }
   }
  },
  {
   "cell_type": "code",
   "execution_count": 385,
   "outputs": [
    {
     "name": "stdout",
     "output_type": "stream",
     "text": [
      "1461\n",
      "1457\n",
      "1457\n",
      "1457\n",
      "1457\n",
      "1457\n",
      "1457\n",
      "1457\n",
      "1457\n",
      "1457\n",
      "1461\n",
      "Index(['Datetime', 'Settlement Period', 'Market Index Data Provider Id',\n",
      "       'Market Index Volume(MWh)', 'Market Index Price(£/MWh)',\n",
      "       'Volume * Price Product', 'start daily row', 'end daily row',\n",
      "       'daily volume * Price Product', 'Daily volume',\n",
      "       'volume weighted price'],\n",
      "      dtype='object')\n"
     ]
    }
   ],
   "source": [
    "UKEnergyCost2012 = pd.read_csv(\"../data/clean/2012ElectricityCostData_UTF8.xls\")\n",
    "UKEnergyCost2013 = pd.read_csv(\"../data/clean/2013ElectricityCostData_UTF8.xls\")\n",
    "UKEnergyCost2014 = pd.read_csv(\"../data/clean/2014ElectricityCostData_UTF8.xls\")\n",
    "UKEnergyCost = pd.concat([UKEnergyCost2011,UKEnergyCost2012,UKEnergyCost2013,UKEnergyCost2014], ignore_index=True, axis=0)\n",
    "for col in UKEnergyCost:\n",
    "    print(UKEnergyCost[col].count())\n",
    "print(UKEnergyCost.columns)"
   ],
   "metadata": {
    "collapsed": false,
    "ExecuteTime": {
     "end_time": "2023-12-07T01:05:32.835775Z",
     "start_time": "2023-12-07T01:05:32.753394200Z"
    }
   }
  },
  {
   "cell_type": "markdown",
   "source": [
    "Based on the count results for the columns in the dataframe and verification done on the csv's in excel it's seen that only the volume weighted price, and Datetime columns are complete. This is not an issue as those are the only columns we need for our purposes so lets drop those incomplete columns.  <br>Additionally, to join this data set to the others we need to get the Datetime column into the Datetime data type."
   ],
   "metadata": {
    "collapsed": false
   }
  },
  {
   "cell_type": "code",
   "execution_count": 386,
   "outputs": [
    {
     "name": "stdout",
     "output_type": "stream",
     "text": [
      "0        1-Jan-11\n",
      "1        2-Jan-11\n",
      "2        3-Jan-11\n",
      "3        4-Jan-11\n",
      "4        5-Jan-11\n",
      "          ...    \n",
      "1456    27-Dec-14\n",
      "1457    28-Dec-14\n",
      "1458    29-Dec-14\n",
      "1459    30-Dec-14\n",
      "1460    31-Dec-14\n",
      "Name: Datetime, Length: 1461, dtype: object\n",
      "0      2011-01-01\n",
      "1      2011-01-02\n",
      "2      2011-01-03\n",
      "3      2011-01-04\n",
      "4      2011-01-05\n",
      "          ...    \n",
      "1456   2014-12-27\n",
      "1457   2014-12-28\n",
      "1458   2014-12-29\n",
      "1459   2014-12-30\n",
      "1460   2014-12-31\n",
      "Name: Datetime, Length: 1461, dtype: datetime64[ns]\n"
     ]
    }
   ],
   "source": [
    "format_str = \"%d_%b_%y\"\n",
    "EnergyCost_df = UKEnergyCost[['Datetime','volume weighted price']].copy()\n",
    "print(EnergyCost_df['Datetime'])\n",
    "# Replace the hyphens with underscores due to special character limitations of strptime.\n",
    "EnergyCost_df['Datetime'] = EnergyCost_df['Datetime'].apply(lambda s: s.replace('-', '_'))\n",
    "EnergyCost_df['Datetime'] = EnergyCost_df[\"Datetime\"].map(lambda s: dt.datetime.strptime(s, format_str))\n",
    "print(EnergyCost_df['Datetime'])"
   ],
   "metadata": {
    "collapsed": false,
    "ExecuteTime": {
     "end_time": "2023-12-07T01:05:32.835775Z",
     "start_time": "2023-12-07T01:05:32.763331300Z"
    }
   }
  },
  {
   "cell_type": "markdown",
   "source": [
    "Now that we have joined and reformated the energy cost data lets correct the Datetime column's label to match our other two datasets."
   ],
   "metadata": {
    "collapsed": false
   }
  },
  {
   "cell_type": "code",
   "execution_count": 387,
   "outputs": [
    {
     "data": {
      "text/plain": "           Date  volume weighted price\n0    2011-01-01                 47.744\n1    2011-01-02                 55.180\n2    2011-01-03                 49.660\n3    2011-01-04                 53.390\n4    2011-01-05                 48.530\n...         ...                    ...\n1456 2014-12-27                 49.930\n1457 2014-12-28                 46.780\n1458 2014-12-29                 49.000\n1459 2014-12-30                 46.050\n1460 2014-12-31                 37.230\n\n[1461 rows x 2 columns]",
      "text/html": "<div>\n<style scoped>\n    .dataframe tbody tr th:only-of-type {\n        vertical-align: middle;\n    }\n\n    .dataframe tbody tr th {\n        vertical-align: top;\n    }\n\n    .dataframe thead th {\n        text-align: right;\n    }\n</style>\n<table border=\"1\" class=\"dataframe\">\n  <thead>\n    <tr style=\"text-align: right;\">\n      <th></th>\n      <th>Date</th>\n      <th>volume weighted price</th>\n    </tr>\n  </thead>\n  <tbody>\n    <tr>\n      <th>0</th>\n      <td>2011-01-01</td>\n      <td>47.744</td>\n    </tr>\n    <tr>\n      <th>1</th>\n      <td>2011-01-02</td>\n      <td>55.180</td>\n    </tr>\n    <tr>\n      <th>2</th>\n      <td>2011-01-03</td>\n      <td>49.660</td>\n    </tr>\n    <tr>\n      <th>3</th>\n      <td>2011-01-04</td>\n      <td>53.390</td>\n    </tr>\n    <tr>\n      <th>4</th>\n      <td>2011-01-05</td>\n      <td>48.530</td>\n    </tr>\n    <tr>\n      <th>...</th>\n      <td>...</td>\n      <td>...</td>\n    </tr>\n    <tr>\n      <th>1456</th>\n      <td>2014-12-27</td>\n      <td>49.930</td>\n    </tr>\n    <tr>\n      <th>1457</th>\n      <td>2014-12-28</td>\n      <td>46.780</td>\n    </tr>\n    <tr>\n      <th>1458</th>\n      <td>2014-12-29</td>\n      <td>49.000</td>\n    </tr>\n    <tr>\n      <th>1459</th>\n      <td>2014-12-30</td>\n      <td>46.050</td>\n    </tr>\n    <tr>\n      <th>1460</th>\n      <td>2014-12-31</td>\n      <td>37.230</td>\n    </tr>\n  </tbody>\n</table>\n<p>1461 rows × 2 columns</p>\n</div>"
     },
     "execution_count": 387,
     "metadata": {},
     "output_type": "execute_result"
    }
   ],
   "source": [
    "EnergyCost_df = EnergyCost_df.rename(columns = {'Datetime':'Date'})\n",
    "EnergyCost_df"
   ],
   "metadata": {
    "collapsed": false,
    "ExecuteTime": {
     "end_time": "2023-12-07T01:05:32.870807300Z",
     "start_time": "2023-12-07T01:05:32.782708300Z"
    }
   }
  },
  {
   "cell_type": "markdown",
   "source": [
    "The energy cost data set is now ready to be joined to the weather and energy usage data.\n",
    "\n",
    "### Are All Dates Present?\n",
    "\n",
    "Lets now ensure that all dates are present in this data set."
   ],
   "metadata": {
    "collapsed": false
   }
  },
  {
   "cell_type": "code",
   "execution_count": 388,
   "outputs": [
    {
     "name": "stdout",
     "output_type": "stream",
     "text": [
      "DatetimeIndex([], dtype='datetime64[ns]', freq='D')\n"
     ]
    }
   ],
   "source": [
    "MissingDates = pd.date_range(start = '2011-01-01', end = '2014-12-31' ).difference(EnergyCost_df['Date'])\n",
    "print(MissingDates)"
   ],
   "metadata": {
    "collapsed": false,
    "ExecuteTime": {
     "end_time": "2023-12-07T01:05:32.870807300Z",
     "start_time": "2023-12-07T01:05:32.788958400Z"
    }
   }
  },
  {
   "cell_type": "markdown",
   "source": [
    "All dates from 2011-2014 are present, and there are no additional dates. Now lets ensure that the volume weighted price data is uncorrupted as well.\n",
    "### Is The Data Uncorrupted?"
   ],
   "metadata": {
    "collapsed": false
   }
  },
  {
   "cell_type": "code",
   "execution_count": 389,
   "outputs": [
    {
     "name": "stdout",
     "output_type": "stream",
     "text": [
      "False\n"
     ]
    },
    {
     "data": {
      "text/plain": "count    1461.000000\nmean       47.457867\nstd         6.813896\nmin        30.450000\n25%        43.310000\n50%        47.060000\n75%        51.010000\nmax        84.270000\nName: volume weighted price, dtype: float64"
     },
     "execution_count": 389,
     "metadata": {},
     "output_type": "execute_result"
    }
   ],
   "source": [
    "print(EnergyCost_df.isnull().values.any())\n",
    "EnergyCost_df['volume weighted price'].describe()"
   ],
   "metadata": {
    "collapsed": false,
    "ExecuteTime": {
     "end_time": "2023-12-07T01:05:32.870807300Z",
     "start_time": "2023-12-07T01:05:32.793229600Z"
    }
   }
  },
  {
   "cell_type": "markdown",
   "source": [
    "isnull = false therefore there are no null values in the dataframe. The min, max, and general distribution of the energy price appear reasonable but lets plot them as well to be thourough."
   ],
   "metadata": {
    "collapsed": false
   }
  },
  {
   "cell_type": "code",
   "execution_count": 390,
   "outputs": [
    {
     "data": {
      "text/plain": "[Text(0.5, 1.0, 'volume weighted price distribution')]"
     },
     "execution_count": 390,
     "metadata": {},
     "output_type": "execute_result"
    },
    {
     "data": {
      "text/plain": "<Figure size 640x480 with 1 Axes>",
      "image/png": "[encoded data removed]"
     },
     "metadata": {},
     "output_type": "display_data"
    }
   ],
   "source": [
    "plt.xticks(rotation=45,fontsize=8)\n",
    "plt.Axes.minorticks_on\n",
    "sns.histplot(data = EnergyCost_df, x=\"volume weighted price\").set(title='volume weighted price distribution')\n",
    "# plt.savefig(\"RESSqft.svg\", format='svg')"
   ],
   "metadata": {
    "collapsed": false,
    "ExecuteTime": {
     "end_time": "2023-12-07T01:05:33.332248200Z",
     "start_time": "2023-12-07T01:05:32.800743300Z"
    }
   }
  },
  {
   "cell_type": "markdown",
   "source": [
    "Nothing in the volume weighted price visualization appears unreasonable, at this time there is no reason to suspect corrupted energy cost data."
   ],
   "metadata": {
    "collapsed": false
   }
  },
  {
   "cell_type": "markdown",
   "source": [
    "# Merge Data"
   ],
   "metadata": {
    "collapsed": false
   }
  },
  {
   "cell_type": "code",
   "execution_count": 391,
   "outputs": [
    {
     "data": {
      "text/plain": "        Date     avgKWH\n0 2011-11-23   6.952692\n1 2011-11-24   8.536480\n2 2011-11-25   9.499781\n3 2011-11-26  10.267707\n4 2011-11-27  10.850805",
      "text/html": "<div>\n<style scoped>\n    .dataframe tbody tr th:only-of-type {\n        vertical-align: middle;\n    }\n\n    .dataframe tbody tr th {\n        vertical-align: top;\n    }\n\n    .dataframe thead th {\n        text-align: right;\n    }\n</style>\n<table border=\"1\" class=\"dataframe\">\n  <thead>\n    <tr style=\"text-align: right;\">\n      <th></th>\n      <th>Date</th>\n      <th>avgKWH</th>\n    </tr>\n  </thead>\n  <tbody>\n    <tr>\n      <th>0</th>\n      <td>2011-11-23</td>\n      <td>6.952692</td>\n    </tr>\n    <tr>\n      <th>1</th>\n      <td>2011-11-24</td>\n      <td>8.536480</td>\n    </tr>\n    <tr>\n      <th>2</th>\n      <td>2011-11-25</td>\n      <td>9.499781</td>\n    </tr>\n    <tr>\n      <th>3</th>\n      <td>2011-11-26</td>\n      <td>10.267707</td>\n    </tr>\n    <tr>\n      <th>4</th>\n      <td>2011-11-27</td>\n      <td>10.850805</td>\n    </tr>\n  </tbody>\n</table>\n</div>"
     },
     "execution_count": 391,
     "metadata": {},
     "output_type": "execute_result"
    }
   ],
   "source": [
    "LondonEnergy_df.head()"
   ],
   "metadata": {
    "collapsed": false,
    "ExecuteTime": {
     "end_time": "2023-12-07T01:05:33.332248200Z",
     "start_time": "2023-12-07T01:05:33.023438400Z"
    }
   }
  },
  {
   "cell_type": "code",
   "execution_count": 392,
   "outputs": [
    {
     "data": {
      "text/plain": "        Date  cloud_cover  sunshine  global_radiation  max_temp  mean_temp  \\\n0 2011-01-01          8.0       0.0              13.0       4.0        5.9   \n1 2011-01-02          8.0       0.1              15.0       2.9        3.0   \n2 2011-01-03          7.0       0.1              15.0       6.0        1.3   \n3 2011-01-04          7.0       0.0              13.0       7.1        2.9   \n4 2011-01-05          6.0       2.3              31.0       5.1        4.2   \n\n   min_temp  precipitation  pressure  snow_depth  \n0       4.6            0.6  102500.0         0.0  \n1       1.9            0.0  102830.0         0.0  \n2      -0.3            0.0  102460.0         0.0  \n3      -0.3            0.0  101360.0         0.0  \n4       1.3            1.0  100040.0         0.0  ",
      "text/html": "<div>\n<style scoped>\n    .dataframe tbody tr th:only-of-type {\n        vertical-align: middle;\n    }\n\n    .dataframe tbody tr th {\n        vertical-align: top;\n    }\n\n    .dataframe thead th {\n        text-align: right;\n    }\n</style>\n<table border=\"1\" class=\"dataframe\">\n  <thead>\n    <tr style=\"text-align: right;\">\n      <th></th>\n      <th>Date</th>\n      <th>cloud_cover</th>\n      <th>sunshine</th>\n      <th>global_radiation</th>\n      <th>max_temp</th>\n      <th>mean_temp</th>\n      <th>min_temp</th>\n      <th>precipitation</th>\n      <th>pressure</th>\n      <th>snow_depth</th>\n    </tr>\n  </thead>\n  <tbody>\n    <tr>\n      <th>0</th>\n      <td>2011-01-01</td>\n      <td>8.0</td>\n      <td>0.0</td>\n      <td>13.0</td>\n      <td>4.0</td>\n      <td>5.9</td>\n      <td>4.6</td>\n      <td>0.6</td>\n      <td>102500.0</td>\n      <td>0.0</td>\n    </tr>\n    <tr>\n      <th>1</th>\n      <td>2011-01-02</td>\n      <td>8.0</td>\n      <td>0.1</td>\n      <td>15.0</td>\n      <td>2.9</td>\n      <td>3.0</td>\n      <td>1.9</td>\n      <td>0.0</td>\n      <td>102830.0</td>\n      <td>0.0</td>\n    </tr>\n    <tr>\n      <th>2</th>\n      <td>2011-01-03</td>\n      <td>7.0</td>\n      <td>0.1</td>\n      <td>15.0</td>\n      <td>6.0</td>\n      <td>1.3</td>\n      <td>-0.3</td>\n      <td>0.0</td>\n      <td>102460.0</td>\n      <td>0.0</td>\n    </tr>\n    <tr>\n      <th>3</th>\n      <td>2011-01-04</td>\n      <td>7.0</td>\n      <td>0.0</td>\n      <td>13.0</td>\n      <td>7.1</td>\n      <td>2.9</td>\n      <td>-0.3</td>\n      <td>0.0</td>\n      <td>101360.0</td>\n      <td>0.0</td>\n    </tr>\n    <tr>\n      <th>4</th>\n      <td>2011-01-05</td>\n      <td>6.0</td>\n      <td>2.3</td>\n      <td>31.0</td>\n      <td>5.1</td>\n      <td>4.2</td>\n      <td>1.3</td>\n      <td>1.0</td>\n      <td>100040.0</td>\n      <td>0.0</td>\n    </tr>\n  </tbody>\n</table>\n</div>"
     },
     "execution_count": 392,
     "metadata": {},
     "output_type": "execute_result"
    }
   ],
   "source": [
    "LondonWeather_df.head()"
   ],
   "metadata": {
    "collapsed": false,
    "ExecuteTime": {
     "end_time": "2023-12-07T01:05:33.352265800Z",
     "start_time": "2023-12-07T01:05:33.029445300Z"
    }
   }
  },
  {
   "cell_type": "code",
   "execution_count": 393,
   "outputs": [
    {
     "data": {
      "text/plain": "        Date  volume weighted price\n0 2011-01-01                 47.744\n1 2011-01-02                 55.180\n2 2011-01-03                 49.660\n3 2011-01-04                 53.390\n4 2011-01-05                 48.530",
      "text/html": "<div>\n<style scoped>\n    .dataframe tbody tr th:only-of-type {\n        vertical-align: middle;\n    }\n\n    .dataframe tbody tr th {\n        vertical-align: top;\n    }\n\n    .dataframe thead th {\n        text-align: right;\n    }\n</style>\n<table border=\"1\" class=\"dataframe\">\n  <thead>\n    <tr style=\"text-align: right;\">\n      <th></th>\n      <th>Date</th>\n      <th>volume weighted price</th>\n    </tr>\n  </thead>\n  <tbody>\n    <tr>\n      <th>0</th>\n      <td>2011-01-01</td>\n      <td>47.744</td>\n    </tr>\n    <tr>\n      <th>1</th>\n      <td>2011-01-02</td>\n      <td>55.180</td>\n    </tr>\n    <tr>\n      <th>2</th>\n      <td>2011-01-03</td>\n      <td>49.660</td>\n    </tr>\n    <tr>\n      <th>3</th>\n      <td>2011-01-04</td>\n      <td>53.390</td>\n    </tr>\n    <tr>\n      <th>4</th>\n      <td>2011-01-05</td>\n      <td>48.530</td>\n    </tr>\n  </tbody>\n</table>\n</div>"
     },
     "execution_count": 393,
     "metadata": {},
     "output_type": "execute_result"
    }
   ],
   "source": [
    "EnergyCost_df.head()"
   ],
   "metadata": {
    "collapsed": false,
    "ExecuteTime": {
     "end_time": "2023-12-07T01:05:33.352265800Z",
     "start_time": "2023-12-07T01:05:33.038684400Z"
    }
   }
  },
  {
   "cell_type": "code",
   "execution_count": 394,
   "outputs": [
    {
     "name": "stdout",
     "output_type": "stream",
     "text": [
      "Index(['Date', 'avgKWH', 'volume weighted price', 'cloud_cover', 'sunshine',\n",
      "       'global_radiation', 'max_temp', 'mean_temp', 'min_temp',\n",
      "       'precipitation', 'pressure', 'snow_depth'],\n",
      "      dtype='object')\n"
     ]
    },
    {
     "data": {
      "text/plain": "          Date     avgKWH  volume weighted price  cloud_cover  sunshine  \\\n0   2011-11-23   6.952692                  49.85          7.0       2.0   \n1   2011-11-24   8.536480                  44.97          3.0       2.0   \n2   2011-11-25   9.499781                  42.66          3.0       5.0   \n3   2011-11-26  10.267707                  41.20          4.0       0.7   \n4   2011-11-27  10.850805                  42.83          3.0       5.9   \n..         ...        ...                    ...          ...       ...   \n824 2014-02-24  10.114827                  42.81          4.0       4.4   \n825 2014-02-25  10.072142                  41.60          5.0       2.0   \n826 2014-02-26  10.028621                  47.71          1.0       7.7   \n827 2014-02-27  10.081745                  45.77          4.0       4.9   \n828 2014-02-28   0.399668                  45.33          7.0       1.0   \n\n     global_radiation  max_temp  mean_temp  min_temp  precipitation  pressure  \\\n0                35.0      13.5        6.8       2.6            0.2  102720.0   \n1                35.0      12.5        8.6       3.7            0.2  102710.0   \n2                52.0      14.0       11.0       9.5            0.0  102450.0   \n3                24.0      13.9       10.2       6.3            0.0  102580.0   \n4                55.0      13.2       11.8       9.7            0.0  102130.0   \n..                ...       ...        ...       ...            ...       ...   \n824              82.0      10.7       10.9       6.8            3.2  100500.0   \n825              60.0      11.8        9.4       8.1            2.6  100050.0   \n826             111.0      12.0        7.4       2.9            2.8  101270.0   \n827              90.0       8.4        8.9       5.7            4.8  100700.0   \n828              50.0      10.1        5.1       1.8            3.4   99890.0   \n\n     snow_depth  \n0           0.0  \n1           0.0  \n2           0.0  \n3           0.0  \n4           0.0  \n..          ...  \n824         0.0  \n825         0.0  \n826         0.0  \n827         0.0  \n828         0.0  \n\n[829 rows x 12 columns]",
      "text/html": "<div>\n<style scoped>\n    .dataframe tbody tr th:only-of-type {\n        vertical-align: middle;\n    }\n\n    .dataframe tbody tr th {\n        vertical-align: top;\n    }\n\n    .dataframe thead th {\n        text-align: right;\n    }\n</style>\n<table border=\"1\" class=\"dataframe\">\n  <thead>\n    <tr style=\"text-align: right;\">\n      <th></th>\n      <th>Date</th>\n      <th>avgKWH</th>\n      <th>volume weighted price</th>\n      <th>cloud_cover</th>\n      <th>sunshine</th>\n      <th>global_radiation</th>\n      <th>max_temp</th>\n      <th>mean_temp</th>\n      <th>min_temp</th>\n      <th>precipitation</th>\n      <th>pressure</th>\n      <th>snow_depth</th>\n    </tr>\n  </thead>\n  <tbody>\n    <tr>\n      <th>0</th>\n      <td>2011-11-23</td>\n      <td>6.952692</td>\n      <td>49.85</td>\n      <td>7.0</td>\n      <td>2.0</td>\n      <td>35.0</td>\n      <td>13.5</td>\n      <td>6.8</td>\n      <td>2.6</td>\n      <td>0.2</td>\n      <td>102720.0</td>\n      <td>0.0</td>\n    </tr>\n    <tr>\n      <th>1</th>\n      <td>2011-11-24</td>\n      <td>8.536480</td>\n      <td>44.97</td>\n      <td>3.0</td>\n      <td>2.0</td>\n      <td>35.0</td>\n      <td>12.5</td>\n      <td>8.6</td>\n      <td>3.7</td>\n      <td>0.2</td>\n      <td>102710.0</td>\n      <td>0.0</td>\n    </tr>\n    <tr>\n      <th>2</th>\n      <td>2011-11-25</td>\n      <td>9.499781</td>\n      <td>42.66</td>\n      <td>3.0</td>\n      <td>5.0</td>\n      <td>52.0</td>\n      <td>14.0</td>\n      <td>11.0</td>\n      <td>9.5</td>\n      <td>0.0</td>\n      <td>102450.0</td>\n      <td>0.0</td>\n    </tr>\n    <tr>\n      <th>3</th>\n      <td>2011-11-26</td>\n      <td>10.267707</td>\n      <td>41.20</td>\n      <td>4.0</td>\n      <td>0.7</td>\n      <td>24.0</td>\n      <td>13.9</td>\n      <td>10.2</td>\n      <td>6.3</td>\n      <td>0.0</td>\n      <td>102580.0</td>\n      <td>0.0</td>\n    </tr>\n    <tr>\n      <th>4</th>\n      <td>2011-11-27</td>\n      <td>10.850805</td>\n      <td>42.83</td>\n      <td>3.0</td>\n      <td>5.9</td>\n      <td>55.0</td>\n      <td>13.2</td>\n      <td>11.8</td>\n      <td>9.7</td>\n      <td>0.0</td>\n      <td>102130.0</td>\n      <td>0.0</td>\n    </tr>\n    <tr>\n      <th>...</th>\n      <td>...</td>\n      <td>...</td>\n      <td>...</td>\n      <td>...</td>\n      <td>...</td>\n      <td>...</td>\n      <td>...</td>\n      <td>...</td>\n      <td>...</td>\n      <td>...</td>\n      <td>...</td>\n      <td>...</td>\n    </tr>\n    <tr>\n      <th>824</th>\n      <td>2014-02-24</td>\n      <td>10.114827</td>\n      <td>42.81</td>\n      <td>4.0</td>\n      <td>4.4</td>\n      <td>82.0</td>\n      <td>10.7</td>\n      <td>10.9</td>\n      <td>6.8</td>\n      <td>3.2</td>\n      <td>100500.0</td>\n      <td>0.0</td>\n    </tr>\n    <tr>\n      <th>825</th>\n      <td>2014-02-25</td>\n      <td>10.072142</td>\n      <td>41.60</td>\n      <td>5.0</td>\n      <td>2.0</td>\n      <td>60.0</td>\n      <td>11.8</td>\n      <td>9.4</td>\n      <td>8.1</td>\n      <td>2.6</td>\n      <td>100050.0</td>\n      <td>0.0</td>\n    </tr>\n    <tr>\n      <th>826</th>\n      <td>2014-02-26</td>\n      <td>10.028621</td>\n      <td>47.71</td>\n      <td>1.0</td>\n      <td>7.7</td>\n      <td>111.0</td>\n      <td>12.0</td>\n      <td>7.4</td>\n      <td>2.9</td>\n      <td>2.8</td>\n      <td>101270.0</td>\n      <td>0.0</td>\n    </tr>\n    <tr>\n      <th>827</th>\n      <td>2014-02-27</td>\n      <td>10.081745</td>\n      <td>45.77</td>\n      <td>4.0</td>\n      <td>4.9</td>\n      <td>90.0</td>\n      <td>8.4</td>\n      <td>8.9</td>\n      <td>5.7</td>\n      <td>4.8</td>\n      <td>100700.0</td>\n      <td>0.0</td>\n    </tr>\n    <tr>\n      <th>828</th>\n      <td>2014-02-28</td>\n      <td>0.399668</td>\n      <td>45.33</td>\n      <td>7.0</td>\n      <td>1.0</td>\n      <td>50.0</td>\n      <td>10.1</td>\n      <td>5.1</td>\n      <td>1.8</td>\n      <td>3.4</td>\n      <td>99890.0</td>\n      <td>0.0</td>\n    </tr>\n  </tbody>\n</table>\n<p>829 rows × 12 columns</p>\n</div>"
     },
     "execution_count": 394,
     "metadata": {},
     "output_type": "execute_result"
    }
   ],
   "source": [
    "CleanedData_df = pd.merge(LondonEnergy_df, EnergyCost_df, on=\"Date\")\n",
    "CleanedData_df = pd.merge(CleanedData_df, LondonWeather_df, on=\"Date\")\n",
    "print(CleanedData_df.columns)\n",
    "CleanedData_df"
   ],
   "metadata": {
    "collapsed": false,
    "ExecuteTime": {
     "end_time": "2023-12-07T01:05:33.352265800Z",
     "start_time": "2023-12-07T01:05:33.045924300Z"
    }
   }
  },
  {
   "cell_type": "markdown",
   "source": [
    "# Engineer base model features."
   ],
   "metadata": {
    "collapsed": false
   }
  },
  {
   "cell_type": "code",
   "execution_count": 395,
   "outputs": [],
   "source": [
    "# Elapsed days\n",
    "MIN_DATE = CleanedData_df['Date'].min()\n",
    "CleanedData_df['days_elapsed'] = CleanedData_df.apply(lambda x: (x[\"Date\"] - MIN_DATE).days, axis=1)\n",
    "# Yesterdays power usage\n",
    "CleanedData_df[\"(-1)avgKWH\"] = CleanedData_df['avgKWH'].shift(periods = 1)"
   ],
   "metadata": {
    "collapsed": false,
    "ExecuteTime": {
     "end_time": "2023-12-07T01:05:33.353267500Z",
     "start_time": "2023-12-07T01:05:33.064607700Z"
    }
   }
  },
  {
   "cell_type": "markdown",
   "source": [
    "## Engineer Lagged Model Features\n",
    "- We won't have access to the energy cost data beforehand therefore we have to shift the cost data by one so that we are always using yesterday's data\n",
    "- Additionally we want to use a SMA of the avgKWH but we need to use the offset values to avoid using future data."
   ],
   "metadata": {
    "collapsed": false
   }
  },
  {
   "cell_type": "code",
   "execution_count": 396,
   "outputs": [
    {
     "data": {
      "text/plain": "          Date     avgKWH  cloud_cover  sunshine  global_radiation  max_temp  \\\n0   2011-11-23   6.952692          7.0       2.0              35.0      13.5   \n1   2011-11-24   8.536480          3.0       2.0              35.0      12.5   \n2   2011-11-25   9.499781          3.0       5.0              52.0      14.0   \n3   2011-11-26  10.267707          4.0       0.7              24.0      13.9   \n4   2011-11-27  10.850805          3.0       5.9              55.0      13.2   \n..         ...        ...          ...       ...               ...       ...   \n824 2014-02-24  10.114827          4.0       4.4              82.0      10.7   \n825 2014-02-25  10.072142          5.0       2.0              60.0      11.8   \n826 2014-02-26  10.028621          1.0       7.7             111.0      12.0   \n827 2014-02-27  10.081745          4.0       4.9              90.0       8.4   \n828 2014-02-28   0.399668          7.0       1.0              50.0      10.1   \n\n     mean_temp  min_temp  precipitation  pressure  snow_depth  days_elapsed  \\\n0          6.8       2.6            0.2  102720.0         0.0             0   \n1          8.6       3.7            0.2  102710.0         0.0             1   \n2         11.0       9.5            0.0  102450.0         0.0             2   \n3         10.2       6.3            0.0  102580.0         0.0             3   \n4         11.8       9.7            0.0  102130.0         0.0             4   \n..         ...       ...            ...       ...         ...           ...   \n824       10.9       6.8            3.2  100500.0         0.0           824   \n825        9.4       8.1            2.6  100050.0         0.0           825   \n826        7.4       2.9            2.8  101270.0         0.0           826   \n827        8.9       5.7            4.8  100700.0         0.0           827   \n828        5.1       1.8            3.4   99890.0         0.0           828   \n\n     (-1)avgKWH  (-1)volume weighted price  (-1)SMA3_avgKWH  \n0           NaN                        NaN              NaN  \n1      6.952692                      49.85              NaN  \n2      8.536480                      44.97              NaN  \n3      9.499781                      42.66         8.329651  \n4     10.267707                      41.20         9.434656  \n..          ...                        ...              ...  \n824   11.119338                      38.19        10.568265  \n825   10.114827                      42.81        10.543070  \n826   10.072142                      41.60        10.435435  \n827   10.028621                      47.71        10.071863  \n828   10.081745                      45.77        10.060836  \n\n[829 rows x 15 columns]",
      "text/html": "<div>\n<style scoped>\n    .dataframe tbody tr th:only-of-type {\n        vertical-align: middle;\n    }\n\n    .dataframe tbody tr th {\n        vertical-align: top;\n    }\n\n    .dataframe thead th {\n        text-align: right;\n    }\n</style>\n<table border=\"1\" class=\"dataframe\">\n  <thead>\n    <tr style=\"text-align: right;\">\n      <th></th>\n      <th>Date</th>\n      <th>avgKWH</th>\n      <th>cloud_cover</th>\n      <th>sunshine</th>\n      <th>global_radiation</th>\n      <th>max_temp</th>\n      <th>mean_temp</th>\n      <th>min_temp</th>\n      <th>precipitation</th>\n      <th>pressure</th>\n      <th>snow_depth</th>\n      <th>days_elapsed</th>\n      <th>(-1)avgKWH</th>\n      <th>(-1)volume weighted price</th>\n      <th>(-1)SMA3_avgKWH</th>\n    </tr>\n  </thead>\n  <tbody>\n    <tr>\n      <th>0</th>\n      <td>2011-11-23</td>\n      <td>6.952692</td>\n      <td>7.0</td>\n      <td>2.0</td>\n      <td>35.0</td>\n      <td>13.5</td>\n      <td>6.8</td>\n      <td>2.6</td>\n      <td>0.2</td>\n      <td>102720.0</td>\n      <td>0.0</td>\n      <td>0</td>\n      <td>NaN</td>\n      <td>NaN</td>\n      <td>NaN</td>\n    </tr>\n    <tr>\n      <th>1</th>\n      <td>2011-11-24</td>\n      <td>8.536480</td>\n      <td>3.0</td>\n      <td>2.0</td>\n      <td>35.0</td>\n      <td>12.5</td>\n      <td>8.6</td>\n      <td>3.7</td>\n      <td>0.2</td>\n      <td>102710.0</td>\n      <td>0.0</td>\n      <td>1</td>\n      <td>6.952692</td>\n      <td>49.85</td>\n      <td>NaN</td>\n    </tr>\n    <tr>\n      <th>2</th>\n      <td>2011-11-25</td>\n      <td>9.499781</td>\n      <td>3.0</td>\n      <td>5.0</td>\n      <td>52.0</td>\n      <td>14.0</td>\n      <td>11.0</td>\n      <td>9.5</td>\n      <td>0.0</td>\n      <td>102450.0</td>\n      <td>0.0</td>\n      <td>2</td>\n      <td>8.536480</td>\n      <td>44.97</td>\n      <td>NaN</td>\n    </tr>\n    <tr>\n      <th>3</th>\n      <td>2011-11-26</td>\n      <td>10.267707</td>\n      <td>4.0</td>\n      <td>0.7</td>\n      <td>24.0</td>\n      <td>13.9</td>\n      <td>10.2</td>\n      <td>6.3</td>\n      <td>0.0</td>\n      <td>102580.0</td>\n      <td>0.0</td>\n      <td>3</td>\n      <td>9.499781</td>\n      <td>42.66</td>\n      <td>8.329651</td>\n    </tr>\n    <tr>\n      <th>4</th>\n      <td>2011-11-27</td>\n      <td>10.850805</td>\n      <td>3.0</td>\n      <td>5.9</td>\n      <td>55.0</td>\n      <td>13.2</td>\n      <td>11.8</td>\n      <td>9.7</td>\n      <td>0.0</td>\n      <td>102130.0</td>\n      <td>0.0</td>\n      <td>4</td>\n      <td>10.267707</td>\n      <td>41.20</td>\n      <td>9.434656</td>\n    </tr>\n    <tr>\n      <th>...</th>\n      <td>...</td>\n      <td>...</td>\n      <td>...</td>\n      <td>...</td>\n      <td>...</td>\n      <td>...</td>\n      <td>...</td>\n      <td>...</td>\n      <td>...</td>\n      <td>...</td>\n      <td>...</td>\n      <td>...</td>\n      <td>...</td>\n      <td>...</td>\n      <td>...</td>\n    </tr>\n    <tr>\n      <th>824</th>\n      <td>2014-02-24</td>\n      <td>10.114827</td>\n      <td>4.0</td>\n      <td>4.4</td>\n      <td>82.0</td>\n      <td>10.7</td>\n      <td>10.9</td>\n      <td>6.8</td>\n      <td>3.2</td>\n      <td>100500.0</td>\n      <td>0.0</td>\n      <td>824</td>\n      <td>11.119338</td>\n      <td>38.19</td>\n      <td>10.568265</td>\n    </tr>\n    <tr>\n      <th>825</th>\n      <td>2014-02-25</td>\n      <td>10.072142</td>\n      <td>5.0</td>\n      <td>2.0</td>\n      <td>60.0</td>\n      <td>11.8</td>\n      <td>9.4</td>\n      <td>8.1</td>\n      <td>2.6</td>\n      <td>100050.0</td>\n      <td>0.0</td>\n      <td>825</td>\n      <td>10.114827</td>\n      <td>42.81</td>\n      <td>10.543070</td>\n    </tr>\n    <tr>\n      <th>826</th>\n      <td>2014-02-26</td>\n      <td>10.028621</td>\n      <td>1.0</td>\n      <td>7.7</td>\n      <td>111.0</td>\n      <td>12.0</td>\n      <td>7.4</td>\n      <td>2.9</td>\n      <td>2.8</td>\n      <td>101270.0</td>\n      <td>0.0</td>\n      <td>826</td>\n      <td>10.072142</td>\n      <td>41.60</td>\n      <td>10.435435</td>\n    </tr>\n    <tr>\n      <th>827</th>\n      <td>2014-02-27</td>\n      <td>10.081745</td>\n      <td>4.0</td>\n      <td>4.9</td>\n      <td>90.0</td>\n      <td>8.4</td>\n      <td>8.9</td>\n      <td>5.7</td>\n      <td>4.8</td>\n      <td>100700.0</td>\n      <td>0.0</td>\n      <td>827</td>\n      <td>10.028621</td>\n      <td>47.71</td>\n      <td>10.071863</td>\n    </tr>\n    <tr>\n      <th>828</th>\n      <td>2014-02-28</td>\n      <td>0.399668</td>\n      <td>7.0</td>\n      <td>1.0</td>\n      <td>50.0</td>\n      <td>10.1</td>\n      <td>5.1</td>\n      <td>1.8</td>\n      <td>3.4</td>\n      <td>99890.0</td>\n      <td>0.0</td>\n      <td>828</td>\n      <td>10.081745</td>\n      <td>45.77</td>\n      <td>10.060836</td>\n    </tr>\n  </tbody>\n</table>\n<p>829 rows × 15 columns</p>\n</div>"
     },
     "execution_count": 396,
     "metadata": {},
     "output_type": "execute_result"
    }
   ],
   "source": [
    "# Yesterday's power cost\n",
    "CleanedData_df[\"(-1)volume weighted price\"] = CleanedData_df['volume weighted price'].shift(periods = 1)\n",
    "CleanedData_df.pop('volume weighted price')\n",
    "# Average power of the last three days\n",
    "CleanedData_df['(-1)SMA3_avgKWH'] = CleanedData_df['(-1)avgKWH'].rolling(3).mean()\n",
    "CleanedData_df"
   ],
   "metadata": {
    "collapsed": false,
    "ExecuteTime": {
     "end_time": "2023-12-07T01:05:33.354268200Z",
     "start_time": "2023-12-07T01:05:33.076412700Z"
    }
   }
  },
  {
   "cell_type": "markdown",
   "source": [
    "# Engineer cyclical time series features."
   ],
   "metadata": {
    "collapsed": false
   }
  },
  {
   "cell_type": "markdown",
   "source": [
    "Add cyclical time series variable month, week of year, and time of year"
   ],
   "metadata": {
    "collapsed": false
   }
  },
  {
   "cell_type": "code",
   "execution_count": 397,
   "outputs": [],
   "source": [
    "date_time = pd.to_datetime(CleanedData_df['Date'], format='%Y-%m-%d')\n",
    "timestamp_s = date_time.map(pd.Timestamp.timestamp) #Dates in seconds\n",
    "\n",
    "# Day of week\n",
    "weekday = CleanedData_df[\"Date\"].apply(lambda dt: dt.weekday())\n",
    "CleanedData_df['weekday sin'] = np.sin(weekday*(2*np.pi/7))\n",
    "CleanedData_df['weekday cos'] = np.cos(weekday*(2*np.pi/7))\n",
    "# Month of the year\n",
    "month = CleanedData_df[\"Date\"].apply(lambda dt: dt.month)\n",
    "CleanedData_df['month sin'] = np.sin(month*(2*np.pi/12))\n",
    "CleanedData_df['month cos'] = np.cos(month*(2*np.pi/12))\n",
    "#From tensorflow time_series #Feature-engineering example\n",
    "# Time of year\n",
    "day = 24*60*60\n",
    "year = (365.2425)*day\n",
    "CleanedData_df['Time of Year sin'] = np.sin(timestamp_s * (2 * np.pi / year))\n",
    "CleanedData_df['Time of Year cos'] = np.cos(timestamp_s * (2 * np.pi / year))\n",
    "# Year\n",
    "CleanedData_df['year'] = CleanedData_df[\"Date\"].apply(lambda dt: dt.year)\n",
    "CleanedData_df\n",
    "# Season\n",
    "# 0=spring,1=summer,2=fall,3=winter\n",
    "MonthToSeasonMapping = {1: 3, 2: 3, 3: 0, 4: 0, 5: 0, 6: 1, 7: 1, 8: 1, 9: 2, 10: 2, 11: 2, 12: 3}\n",
    "season = CleanedData_df['Date'].dt.month.map(MonthToSeasonMapping)\n",
    "CleanedData_df['season sin'] = np.sin(season * (2 * np.pi / 4))\n",
    "CleanedData_df['season cos'] = np.cos(season * (2 * np.pi / 4))"
   ],
   "metadata": {
    "collapsed": false,
    "ExecuteTime": {
     "end_time": "2023-12-07T01:05:33.354268200Z",
     "start_time": "2023-12-07T01:05:33.095576900Z"
    }
   }
  },
  {
   "cell_type": "markdown",
   "source": [],
   "metadata": {
    "collapsed": false
   }
  },
  {
   "cell_type": "code",
   "execution_count": 398,
   "outputs": [
    {
     "data": {
      "text/plain": "          Date     avgKWH  cloud_cover  sunshine  global_radiation  max_temp  \\\n0   2011-11-23   6.952692          7.0       2.0              35.0      13.5   \n1   2011-11-24   8.536480          3.0       2.0              35.0      12.5   \n2   2011-11-25   9.499781          3.0       5.0              52.0      14.0   \n3   2011-11-26  10.267707          4.0       0.7              24.0      13.9   \n4   2011-11-27  10.850805          3.0       5.9              55.0      13.2   \n..         ...        ...          ...       ...               ...       ...   \n824 2014-02-24  10.114827          4.0       4.4              82.0      10.7   \n825 2014-02-25  10.072142          5.0       2.0              60.0      11.8   \n826 2014-02-26  10.028621          1.0       7.7             111.0      12.0   \n827 2014-02-27  10.081745          4.0       4.9              90.0       8.4   \n828 2014-02-28   0.399668          7.0       1.0              50.0      10.1   \n\n     mean_temp  min_temp  precipitation  pressure  ...  (-1)SMA3_avgKWH  \\\n0          6.8       2.6            0.2  102720.0  ...              NaN   \n1          8.6       3.7            0.2  102710.0  ...              NaN   \n2         11.0       9.5            0.0  102450.0  ...              NaN   \n3         10.2       6.3            0.0  102580.0  ...         8.329651   \n4         11.8       9.7            0.0  102130.0  ...         9.434656   \n..         ...       ...            ...       ...  ...              ...   \n824       10.9       6.8            3.2  100500.0  ...        10.568265   \n825        9.4       8.1            2.6  100050.0  ...        10.543070   \n826        7.4       2.9            2.8  101270.0  ...        10.435435   \n827        8.9       5.7            4.8  100700.0  ...        10.071863   \n828        5.1       1.8            3.4   99890.0  ...        10.060836   \n\n     weekday sin  weekday cos  month sin  month cos  Time of Year sin  \\\n0       0.974928    -0.222521  -0.500000   0.866025         -0.624187   \n1       0.433884    -0.900969  -0.500000   0.866025         -0.610655   \n2      -0.433884    -0.900969  -0.500000   0.866025         -0.596943   \n3      -0.974928    -0.222521  -0.500000   0.866025         -0.583054   \n4      -0.781831     0.623490  -0.500000   0.866025         -0.568992   \n..           ...          ...        ...        ...               ...   \n824     0.000000     1.000000   0.866025   0.500000          0.804377   \n825     0.781831     0.623490   0.866025   0.500000          0.814478   \n826     0.974928    -0.222521   0.866025   0.500000          0.824338   \n827     0.433884    -0.900969   0.866025   0.500000          0.833954   \n828    -0.433884    -0.900969   0.866025   0.500000          0.843324   \n\n     Time of Year cos  year    season sin    season cos  \n0            0.781275  2011  1.224647e-16 -1.000000e+00  \n1            0.791896  2011  1.224647e-16 -1.000000e+00  \n2            0.802284  2011  1.224647e-16 -1.000000e+00  \n3            0.812434  2011  1.224647e-16 -1.000000e+00  \n4            0.822343  2011  1.224647e-16 -1.000000e+00  \n..                ...   ...           ...           ...  \n824          0.594119  2014 -1.000000e+00 -1.836970e-16  \n825          0.580194  2014 -1.000000e+00 -1.836970e-16  \n826          0.566097  2014 -1.000000e+00 -1.836970e-16  \n827          0.551833  2014 -1.000000e+00 -1.836970e-16  \n828          0.537406  2014 -1.000000e+00 -1.836970e-16  \n\n[829 rows x 24 columns]",
      "text/html": "<div>\n<style scoped>\n    .dataframe tbody tr th:only-of-type {\n        vertical-align: middle;\n    }\n\n    .dataframe tbody tr th {\n        vertical-align: top;\n    }\n\n    .dataframe thead th {\n        text-align: right;\n    }\n</style>\n<table border=\"1\" class=\"dataframe\">\n  <thead>\n    <tr style=\"text-align: right;\">\n      <th></th>\n      <th>Date</th>\n      <th>avgKWH</th>\n      <th>cloud_cover</th>\n      <th>sunshine</th>\n      <th>global_radiation</th>\n      <th>max_temp</th>\n      <th>mean_temp</th>\n      <th>min_temp</th>\n      <th>precipitation</th>\n      <th>pressure</th>\n      <th>...</th>\n      <th>(-1)SMA3_avgKWH</th>\n      <th>weekday sin</th>\n      <th>weekday cos</th>\n      <th>month sin</th>\n      <th>month cos</th>\n      <th>Time of Year sin</th>\n      <th>Time of Year cos</th>\n      <th>year</th>\n      <th>season sin</th>\n      <th>season cos</th>\n    </tr>\n  </thead>\n  <tbody>\n    <tr>\n      <th>0</th>\n      <td>2011-11-23</td>\n      <td>6.952692</td>\n      <td>7.0</td>\n      <td>2.0</td>\n      <td>35.0</td>\n      <td>13.5</td>\n      <td>6.8</td>\n      <td>2.6</td>\n      <td>0.2</td>\n      <td>102720.0</td>\n      <td>...</td>\n      <td>NaN</td>\n      <td>0.974928</td>\n      <td>-0.222521</td>\n      <td>-0.500000</td>\n      <td>0.866025</td>\n      <td>-0.624187</td>\n      <td>0.781275</td>\n      <td>2011</td>\n      <td>1.224647e-16</td>\n      <td>-1.000000e+00</td>\n    </tr>\n    <tr>\n      <th>1</th>\n      <td>2011-11-24</td>\n      <td>8.536480</td>\n      <td>3.0</td>\n      <td>2.0</td>\n      <td>35.0</td>\n      <td>12.5</td>\n      <td>8.6</td>\n      <td>3.7</td>\n      <td>0.2</td>\n      <td>102710.0</td>\n      <td>...</td>\n      <td>NaN</td>\n      <td>0.433884</td>\n      <td>-0.900969</td>\n      <td>-0.500000</td>\n      <td>0.866025</td>\n      <td>-0.610655</td>\n      <td>0.791896</td>\n      <td>2011</td>\n      <td>1.224647e-16</td>\n      <td>-1.000000e+00</td>\n    </tr>\n    <tr>\n      <th>2</th>\n      <td>2011-11-25</td>\n      <td>9.499781</td>\n      <td>3.0</td>\n      <td>5.0</td>\n      <td>52.0</td>\n      <td>14.0</td>\n      <td>11.0</td>\n      <td>9.5</td>\n      <td>0.0</td>\n      <td>102450.0</td>\n      <td>...</td>\n      <td>NaN</td>\n      <td>-0.433884</td>\n      <td>-0.900969</td>\n      <td>-0.500000</td>\n      <td>0.866025</td>\n      <td>-0.596943</td>\n      <td>0.802284</td>\n      <td>2011</td>\n      <td>1.224647e-16</td>\n      <td>-1.000000e+00</td>\n    </tr>\n    <tr>\n      <th>3</th>\n      <td>2011-11-26</td>\n      <td>10.267707</td>\n      <td>4.0</td>\n      <td>0.7</td>\n      <td>24.0</td>\n      <td>13.9</td>\n      <td>10.2</td>\n      <td>6.3</td>\n      <td>0.0</td>\n      <td>102580.0</td>\n      <td>...</td>\n      <td>8.329651</td>\n      <td>-0.974928</td>\n      <td>-0.222521</td>\n      <td>-0.500000</td>\n      <td>0.866025</td>\n      <td>-0.583054</td>\n      <td>0.812434</td>\n      <td>2011</td>\n      <td>1.224647e-16</td>\n      <td>-1.000000e+00</td>\n    </tr>\n    <tr>\n      <th>4</th>\n      <td>2011-11-27</td>\n      <td>10.850805</td>\n      <td>3.0</td>\n      <td>5.9</td>\n      <td>55.0</td>\n      <td>13.2</td>\n      <td>11.8</td>\n      <td>9.7</td>\n      <td>0.0</td>\n      <td>102130.0</td>\n      <td>...</td>\n      <td>9.434656</td>\n      <td>-0.781831</td>\n      <td>0.623490</td>\n      <td>-0.500000</td>\n      <td>0.866025</td>\n      <td>-0.568992</td>\n      <td>0.822343</td>\n      <td>2011</td>\n      <td>1.224647e-16</td>\n      <td>-1.000000e+00</td>\n    </tr>\n    <tr>\n      <th>...</th>\n      <td>...</td>\n      <td>...</td>\n      <td>...</td>\n      <td>...</td>\n      <td>...</td>\n      <td>...</td>\n      <td>...</td>\n      <td>...</td>\n      <td>...</td>\n      <td>...</td>\n      <td>...</td>\n      <td>...</td>\n      <td>...</td>\n      <td>...</td>\n      <td>...</td>\n      <td>...</td>\n      <td>...</td>\n      <td>...</td>\n      <td>...</td>\n      <td>...</td>\n      <td>...</td>\n    </tr>\n    <tr>\n      <th>824</th>\n      <td>2014-02-24</td>\n      <td>10.114827</td>\n      <td>4.0</td>\n      <td>4.4</td>\n      <td>82.0</td>\n      <td>10.7</td>\n      <td>10.9</td>\n      <td>6.8</td>\n      <td>3.2</td>\n      <td>100500.0</td>\n      <td>...</td>\n      <td>10.568265</td>\n      <td>0.000000</td>\n      <td>1.000000</td>\n      <td>0.866025</td>\n      <td>0.500000</td>\n      <td>0.804377</td>\n      <td>0.594119</td>\n      <td>2014</td>\n      <td>-1.000000e+00</td>\n      <td>-1.836970e-16</td>\n    </tr>\n    <tr>\n      <th>825</th>\n      <td>2014-02-25</td>\n      <td>10.072142</td>\n      <td>5.0</td>\n      <td>2.0</td>\n      <td>60.0</td>\n      <td>11.8</td>\n      <td>9.4</td>\n      <td>8.1</td>\n      <td>2.6</td>\n      <td>100050.0</td>\n      <td>...</td>\n      <td>10.543070</td>\n      <td>0.781831</td>\n      <td>0.623490</td>\n      <td>0.866025</td>\n      <td>0.500000</td>\n      <td>0.814478</td>\n      <td>0.580194</td>\n      <td>2014</td>\n      <td>-1.000000e+00</td>\n      <td>-1.836970e-16</td>\n    </tr>\n    <tr>\n      <th>826</th>\n      <td>2014-02-26</td>\n      <td>10.028621</td>\n      <td>1.0</td>\n      <td>7.7</td>\n      <td>111.0</td>\n      <td>12.0</td>\n      <td>7.4</td>\n      <td>2.9</td>\n      <td>2.8</td>\n      <td>101270.0</td>\n      <td>...</td>\n      <td>10.435435</td>\n      <td>0.974928</td>\n      <td>-0.222521</td>\n      <td>0.866025</td>\n      <td>0.500000</td>\n      <td>0.824338</td>\n      <td>0.566097</td>\n      <td>2014</td>\n      <td>-1.000000e+00</td>\n      <td>-1.836970e-16</td>\n    </tr>\n    <tr>\n      <th>827</th>\n      <td>2014-02-27</td>\n      <td>10.081745</td>\n      <td>4.0</td>\n      <td>4.9</td>\n      <td>90.0</td>\n      <td>8.4</td>\n      <td>8.9</td>\n      <td>5.7</td>\n      <td>4.8</td>\n      <td>100700.0</td>\n      <td>...</td>\n      <td>10.071863</td>\n      <td>0.433884</td>\n      <td>-0.900969</td>\n      <td>0.866025</td>\n      <td>0.500000</td>\n      <td>0.833954</td>\n      <td>0.551833</td>\n      <td>2014</td>\n      <td>-1.000000e+00</td>\n      <td>-1.836970e-16</td>\n    </tr>\n    <tr>\n      <th>828</th>\n      <td>2014-02-28</td>\n      <td>0.399668</td>\n      <td>7.0</td>\n      <td>1.0</td>\n      <td>50.0</td>\n      <td>10.1</td>\n      <td>5.1</td>\n      <td>1.8</td>\n      <td>3.4</td>\n      <td>99890.0</td>\n      <td>...</td>\n      <td>10.060836</td>\n      <td>-0.433884</td>\n      <td>-0.900969</td>\n      <td>0.866025</td>\n      <td>0.500000</td>\n      <td>0.843324</td>\n      <td>0.537406</td>\n      <td>2014</td>\n      <td>-1.000000e+00</td>\n      <td>-1.836970e-16</td>\n    </tr>\n  </tbody>\n</table>\n<p>829 rows × 24 columns</p>\n</div>"
     },
     "execution_count": 398,
     "metadata": {},
     "output_type": "execute_result"
    }
   ],
   "source": [
    "CleanedData_df"
   ],
   "metadata": {
    "collapsed": false,
    "ExecuteTime": {
     "end_time": "2023-12-07T01:05:33.354268200Z",
     "start_time": "2023-12-07T01:05:33.109357800Z"
    }
   }
  },
  {
   "cell_type": "markdown",
   "source": [
    "By implementing the time offset variables we have created records with NA values, lets drop those."
   ],
   "metadata": {
    "collapsed": false
   }
  },
  {
   "cell_type": "code",
   "execution_count": 399,
   "outputs": [
    {
     "data": {
      "text/plain": "          Date     avgKWH  cloud_cover  sunshine  global_radiation  max_temp  \\\n0   2011-11-26  10.267707          4.0       0.7              24.0      13.9   \n1   2011-11-27  10.850805          3.0       5.9              55.0      13.2   \n2   2011-11-28   9.103382          5.0       0.0              15.0      13.9   \n3   2011-11-29   9.424468          6.0       0.0              15.0      12.8   \n4   2011-11-30   8.931027          4.0       3.7              42.0      11.0   \n..         ...        ...          ...       ...               ...       ...   \n821 2014-02-24  10.114827          4.0       4.4              82.0      10.7   \n822 2014-02-25  10.072142          5.0       2.0              60.0      11.8   \n823 2014-02-26  10.028621          1.0       7.7             111.0      12.0   \n824 2014-02-27  10.081745          4.0       4.9              90.0       8.4   \n825 2014-02-28   0.399668          7.0       1.0              50.0      10.1   \n\n     mean_temp  min_temp  precipitation  pressure  ...  (-1)SMA3_avgKWH  \\\n0         10.2       6.3            0.0  102580.0  ...         8.329651   \n1         11.8       9.7            0.0  102130.0  ...         9.434656   \n2          6.7       0.2            0.0  102270.0  ...        10.206098   \n3          8.6       3.3            0.4  100960.0  ...        10.073965   \n4          9.2       5.5            1.2  101920.0  ...         9.792885   \n..         ...       ...            ...       ...  ...              ...   \n821       10.9       6.8            3.2  100500.0  ...        10.568265   \n822        9.4       8.1            2.6  100050.0  ...        10.543070   \n823        7.4       2.9            2.8  101270.0  ...        10.435435   \n824        8.9       5.7            4.8  100700.0  ...        10.071863   \n825        5.1       1.8            3.4   99890.0  ...        10.060836   \n\n     weekday sin  weekday cos  month sin  month cos  Time of Year sin  \\\n0      -0.974928    -0.222521  -0.500000   0.866025         -0.583054   \n1      -0.781831     0.623490  -0.500000   0.866025         -0.568992   \n2       0.000000     1.000000  -0.500000   0.866025         -0.554762   \n3       0.781831     0.623490  -0.500000   0.866025         -0.540368   \n4       0.974928    -0.222521  -0.500000   0.866025         -0.525814   \n..           ...          ...        ...        ...               ...   \n821     0.000000     1.000000   0.866025   0.500000          0.804377   \n822     0.781831     0.623490   0.866025   0.500000          0.814478   \n823     0.974928    -0.222521   0.866025   0.500000          0.824338   \n824     0.433884    -0.900969   0.866025   0.500000          0.833954   \n825    -0.433884    -0.900969   0.866025   0.500000          0.843324   \n\n     Time of Year cos  year    season sin    season cos  \n0            0.812434  2011  1.224647e-16 -1.000000e+00  \n1            0.822343  2011  1.224647e-16 -1.000000e+00  \n2            0.832009  2011  1.224647e-16 -1.000000e+00  \n3            0.841429  2011  1.224647e-16 -1.000000e+00  \n4            0.850600  2011  1.224647e-16 -1.000000e+00  \n..                ...   ...           ...           ...  \n821          0.594119  2014 -1.000000e+00 -1.836970e-16  \n822          0.580194  2014 -1.000000e+00 -1.836970e-16  \n823          0.566097  2014 -1.000000e+00 -1.836970e-16  \n824          0.551833  2014 -1.000000e+00 -1.836970e-16  \n825          0.537406  2014 -1.000000e+00 -1.836970e-16  \n\n[826 rows x 24 columns]",
      "text/html": "<div>\n<style scoped>\n    .dataframe tbody tr th:only-of-type {\n        vertical-align: middle;\n    }\n\n    .dataframe tbody tr th {\n        vertical-align: top;\n    }\n\n    .dataframe thead th {\n        text-align: right;\n    }\n</style>\n<table border=\"1\" class=\"dataframe\">\n  <thead>\n    <tr style=\"text-align: right;\">\n      <th></th>\n      <th>Date</th>\n      <th>avgKWH</th>\n      <th>cloud_cover</th>\n      <th>sunshine</th>\n      <th>global_radiation</th>\n      <th>max_temp</th>\n      <th>mean_temp</th>\n      <th>min_temp</th>\n      <th>precipitation</th>\n      <th>pressure</th>\n      <th>...</th>\n      <th>(-1)SMA3_avgKWH</th>\n      <th>weekday sin</th>\n      <th>weekday cos</th>\n      <th>month sin</th>\n      <th>month cos</th>\n      <th>Time of Year sin</th>\n      <th>Time of Year cos</th>\n      <th>year</th>\n      <th>season sin</th>\n      <th>season cos</th>\n    </tr>\n  </thead>\n  <tbody>\n    <tr>\n      <th>0</th>\n      <td>2011-11-26</td>\n      <td>10.267707</td>\n      <td>4.0</td>\n      <td>0.7</td>\n      <td>24.0</td>\n      <td>13.9</td>\n      <td>10.2</td>\n      <td>6.3</td>\n      <td>0.0</td>\n      <td>102580.0</td>\n      <td>...</td>\n      <td>8.329651</td>\n      <td>-0.974928</td>\n      <td>-0.222521</td>\n      <td>-0.500000</td>\n      <td>0.866025</td>\n      <td>-0.583054</td>\n      <td>0.812434</td>\n      <td>2011</td>\n      <td>1.224647e-16</td>\n      <td>-1.000000e+00</td>\n    </tr>\n    <tr>\n      <th>1</th>\n      <td>2011-11-27</td>\n      <td>10.850805</td>\n      <td>3.0</td>\n      <td>5.9</td>\n      <td>55.0</td>\n      <td>13.2</td>\n      <td>11.8</td>\n      <td>9.7</td>\n      <td>0.0</td>\n      <td>102130.0</td>\n      <td>...</td>\n      <td>9.434656</td>\n      <td>-0.781831</td>\n      <td>0.623490</td>\n      <td>-0.500000</td>\n      <td>0.866025</td>\n      <td>-0.568992</td>\n      <td>0.822343</td>\n      <td>2011</td>\n      <td>1.224647e-16</td>\n      <td>-1.000000e+00</td>\n    </tr>\n    <tr>\n      <th>2</th>\n      <td>2011-11-28</td>\n      <td>9.103382</td>\n      <td>5.0</td>\n      <td>0.0</td>\n      <td>15.0</td>\n      <td>13.9</td>\n      <td>6.7</td>\n      <td>0.2</td>\n      <td>0.0</td>\n      <td>102270.0</td>\n      <td>...</td>\n      <td>10.206098</td>\n      <td>0.000000</td>\n      <td>1.000000</td>\n      <td>-0.500000</td>\n      <td>0.866025</td>\n      <td>-0.554762</td>\n      <td>0.832009</td>\n      <td>2011</td>\n      <td>1.224647e-16</td>\n      <td>-1.000000e+00</td>\n    </tr>\n    <tr>\n      <th>3</th>\n      <td>2011-11-29</td>\n      <td>9.424468</td>\n      <td>6.0</td>\n      <td>0.0</td>\n      <td>15.0</td>\n      <td>12.8</td>\n      <td>8.6</td>\n      <td>3.3</td>\n      <td>0.4</td>\n      <td>100960.0</td>\n      <td>...</td>\n      <td>10.073965</td>\n      <td>0.781831</td>\n      <td>0.623490</td>\n      <td>-0.500000</td>\n      <td>0.866025</td>\n      <td>-0.540368</td>\n      <td>0.841429</td>\n      <td>2011</td>\n      <td>1.224647e-16</td>\n      <td>-1.000000e+00</td>\n    </tr>\n    <tr>\n      <th>4</th>\n      <td>2011-11-30</td>\n      <td>8.931027</td>\n      <td>4.0</td>\n      <td>3.7</td>\n      <td>42.0</td>\n      <td>11.0</td>\n      <td>9.2</td>\n      <td>5.5</td>\n      <td>1.2</td>\n      <td>101920.0</td>\n      <td>...</td>\n      <td>9.792885</td>\n      <td>0.974928</td>\n      <td>-0.222521</td>\n      <td>-0.500000</td>\n      <td>0.866025</td>\n      <td>-0.525814</td>\n      <td>0.850600</td>\n      <td>2011</td>\n      <td>1.224647e-16</td>\n      <td>-1.000000e+00</td>\n    </tr>\n    <tr>\n      <th>...</th>\n      <td>...</td>\n      <td>...</td>\n      <td>...</td>\n      <td>...</td>\n      <td>...</td>\n      <td>...</td>\n      <td>...</td>\n      <td>...</td>\n      <td>...</td>\n      <td>...</td>\n      <td>...</td>\n      <td>...</td>\n      <td>...</td>\n      <td>...</td>\n      <td>...</td>\n      <td>...</td>\n      <td>...</td>\n      <td>...</td>\n      <td>...</td>\n      <td>...</td>\n      <td>...</td>\n    </tr>\n    <tr>\n      <th>821</th>\n      <td>2014-02-24</td>\n      <td>10.114827</td>\n      <td>4.0</td>\n      <td>4.4</td>\n      <td>82.0</td>\n      <td>10.7</td>\n      <td>10.9</td>\n      <td>6.8</td>\n      <td>3.2</td>\n      <td>100500.0</td>\n      <td>...</td>\n      <td>10.568265</td>\n      <td>0.000000</td>\n      <td>1.000000</td>\n      <td>0.866025</td>\n      <td>0.500000</td>\n      <td>0.804377</td>\n      <td>0.594119</td>\n      <td>2014</td>\n      <td>-1.000000e+00</td>\n      <td>-1.836970e-16</td>\n    </tr>\n    <tr>\n      <th>822</th>\n      <td>2014-02-25</td>\n      <td>10.072142</td>\n      <td>5.0</td>\n      <td>2.0</td>\n      <td>60.0</td>\n      <td>11.8</td>\n      <td>9.4</td>\n      <td>8.1</td>\n      <td>2.6</td>\n      <td>100050.0</td>\n      <td>...</td>\n      <td>10.543070</td>\n      <td>0.781831</td>\n      <td>0.623490</td>\n      <td>0.866025</td>\n      <td>0.500000</td>\n      <td>0.814478</td>\n      <td>0.580194</td>\n      <td>2014</td>\n      <td>-1.000000e+00</td>\n      <td>-1.836970e-16</td>\n    </tr>\n    <tr>\n      <th>823</th>\n      <td>2014-02-26</td>\n      <td>10.028621</td>\n      <td>1.0</td>\n      <td>7.7</td>\n      <td>111.0</td>\n      <td>12.0</td>\n      <td>7.4</td>\n      <td>2.9</td>\n      <td>2.8</td>\n      <td>101270.0</td>\n      <td>...</td>\n      <td>10.435435</td>\n      <td>0.974928</td>\n      <td>-0.222521</td>\n      <td>0.866025</td>\n      <td>0.500000</td>\n      <td>0.824338</td>\n      <td>0.566097</td>\n      <td>2014</td>\n      <td>-1.000000e+00</td>\n      <td>-1.836970e-16</td>\n    </tr>\n    <tr>\n      <th>824</th>\n      <td>2014-02-27</td>\n      <td>10.081745</td>\n      <td>4.0</td>\n      <td>4.9</td>\n      <td>90.0</td>\n      <td>8.4</td>\n      <td>8.9</td>\n      <td>5.7</td>\n      <td>4.8</td>\n      <td>100700.0</td>\n      <td>...</td>\n      <td>10.071863</td>\n      <td>0.433884</td>\n      <td>-0.900969</td>\n      <td>0.866025</td>\n      <td>0.500000</td>\n      <td>0.833954</td>\n      <td>0.551833</td>\n      <td>2014</td>\n      <td>-1.000000e+00</td>\n      <td>-1.836970e-16</td>\n    </tr>\n    <tr>\n      <th>825</th>\n      <td>2014-02-28</td>\n      <td>0.399668</td>\n      <td>7.0</td>\n      <td>1.0</td>\n      <td>50.0</td>\n      <td>10.1</td>\n      <td>5.1</td>\n      <td>1.8</td>\n      <td>3.4</td>\n      <td>99890.0</td>\n      <td>...</td>\n      <td>10.060836</td>\n      <td>-0.433884</td>\n      <td>-0.900969</td>\n      <td>0.866025</td>\n      <td>0.500000</td>\n      <td>0.843324</td>\n      <td>0.537406</td>\n      <td>2014</td>\n      <td>-1.000000e+00</td>\n      <td>-1.836970e-16</td>\n    </tr>\n  </tbody>\n</table>\n<p>826 rows × 24 columns</p>\n</div>"
     },
     "execution_count": 399,
     "metadata": {},
     "output_type": "execute_result"
    }
   ],
   "source": [
    "CleanedData_df = CleanedData_df.dropna()\n",
    "CleanedData_df = CleanedData_df.reset_index(drop=True)\n",
    "CleanedData_df"
   ],
   "metadata": {
    "collapsed": false,
    "ExecuteTime": {
     "end_time": "2023-12-07T01:05:33.380291800Z",
     "start_time": "2023-12-07T01:05:33.130208400Z"
    }
   }
  },
  {
   "cell_type": "markdown",
   "source": [
    "Fix days elapsed"
   ],
   "metadata": {
    "collapsed": false
   }
  },
  {
   "cell_type": "code",
   "execution_count": 400,
   "outputs": [],
   "source": [
    "# Elapsed days\n",
    "MIN_DATE = CleanedData_df['Date'].min()\n",
    "CleanedData_df['days_elapsed'] = CleanedData_df.apply(lambda x: (x[\"Date\"] - MIN_DATE).days, axis=1)"
   ],
   "metadata": {
    "collapsed": false,
    "ExecuteTime": {
     "end_time": "2023-12-07T01:05:33.585715300Z",
     "start_time": "2023-12-07T01:05:33.151297400Z"
    }
   }
  },
  {
   "cell_type": "markdown",
   "source": [
    "Plot average KWH looking for outliers"
   ],
   "metadata": {
    "collapsed": false
   }
  },
  {
   "cell_type": "code",
   "execution_count": 401,
   "outputs": [
    {
     "data": {
      "text/plain": "(array([15340., 15431., 15522., 15614., 15706., 15796., 15887., 15979.,\n        16071., 16161.]),\n [Text(15340.0, 0, '2012-01'),\n  Text(15431.0, 0, '2012-04'),\n  Text(15522.0, 0, '2012-07'),\n  Text(15614.0, 0, '2012-10'),\n  Text(15706.0, 0, '2013-01'),\n  Text(15796.0, 0, '2013-04'),\n  Text(15887.0, 0, '2013-07'),\n  Text(15979.0, 0, '2013-10'),\n  Text(16071.0, 0, '2014-01'),\n  Text(16161.0, 0, '2014-04')])"
     },
     "execution_count": 401,
     "metadata": {},
     "output_type": "execute_result"
    },
    {
     "data": {
      "text/plain": "<Figure size 640x480 with 1 Axes>",
      "image/png": "[encoded data removed]"
     },
     "metadata": {},
     "output_type": "display_data"
    }
   ],
   "source": [
    "sns.lineplot(y = CleanedData_df['avgKWH'],x=CleanedData_df['Date'])\n",
    "plt.xticks(rotation=90)"
   ],
   "metadata": {
    "collapsed": false,
    "ExecuteTime": {
     "end_time": "2023-12-07T01:05:34.040178200Z",
     "start_time": "2023-12-07T01:05:33.163094600Z"
    }
   }
  },
  {
   "cell_type": "markdown",
   "source": [
    "That last data point is at least an order of magnitude smaller than the next smallest point that is very odd. Lets go look at how many data points went into making that day"
   ],
   "metadata": {
    "collapsed": false
   }
  },
  {
   "cell_type": "code",
   "execution_count": 402,
   "outputs": [
    {
     "data": {
      "text/plain": "                      Date          KWH\ncount                 1355  1355.000000\nmean   2014-02-28 00:00:00     0.399668\nmin    2014-02-28 00:00:00     0.004000\n25%    2014-02-28 00:00:00     0.118000\n50%    2014-02-28 00:00:00     0.224000\n75%    2014-02-28 00:00:00     0.422000\nmax    2014-02-28 00:00:00    11.380000\nstd                    NaN     0.671423",
      "text/html": "<div>\n<style scoped>\n    .dataframe tbody tr th:only-of-type {\n        vertical-align: middle;\n    }\n\n    .dataframe tbody tr th {\n        vertical-align: top;\n    }\n\n    .dataframe thead th {\n        text-align: right;\n    }\n</style>\n<table border=\"1\" class=\"dataframe\">\n  <thead>\n    <tr style=\"text-align: right;\">\n      <th></th>\n      <th>Date</th>\n      <th>KWH</th>\n    </tr>\n  </thead>\n  <tbody>\n    <tr>\n      <th>count</th>\n      <td>1355</td>\n      <td>1355.000000</td>\n    </tr>\n    <tr>\n      <th>mean</th>\n      <td>2014-02-28 00:00:00</td>\n      <td>0.399668</td>\n    </tr>\n    <tr>\n      <th>min</th>\n      <td>2014-02-28 00:00:00</td>\n      <td>0.004000</td>\n    </tr>\n    <tr>\n      <th>25%</th>\n      <td>2014-02-28 00:00:00</td>\n      <td>0.118000</td>\n    </tr>\n    <tr>\n      <th>50%</th>\n      <td>2014-02-28 00:00:00</td>\n      <td>0.224000</td>\n    </tr>\n    <tr>\n      <th>75%</th>\n      <td>2014-02-28 00:00:00</td>\n      <td>0.422000</td>\n    </tr>\n    <tr>\n      <th>max</th>\n      <td>2014-02-28 00:00:00</td>\n      <td>11.380000</td>\n    </tr>\n    <tr>\n      <th>std</th>\n      <td>NaN</td>\n      <td>0.671423</td>\n    </tr>\n  </tbody>\n</table>\n</div>"
     },
     "execution_count": 402,
     "metadata": {},
     "output_type": "execute_result"
    }
   ],
   "source": [
    "weird_day = LondonEnergy_df_backup[LondonEnergy_df_backup.Date ==dt.datetime(2014, 2, 28)]\n",
    "weird_day.describe()"
   ],
   "metadata": {
    "collapsed": false,
    "ExecuteTime": {
     "end_time": "2023-12-07T01:05:34.041179600Z",
     "start_time": "2023-12-07T01:05:33.526604500Z"
    }
   }
  },
  {
   "cell_type": "markdown",
   "source": [
    "There appears to be a reasonable amount of data points but the values are incredibly low and the graph clearly shows this being a black swan event. Searching online found no news regarding anything that could explain this more than 10x magnitude outlier.\n",
    "For being more than an order of magnitude smaller than all other data points this day will be trimmed as an outlier."
   ],
   "metadata": {
    "collapsed": false
   }
  },
  {
   "cell_type": "code",
   "execution_count": 403,
   "outputs": [],
   "source": [
    "CleanedData_df = CleanedData_df.drop(CleanedData_df.tail(1).index)"
   ],
   "metadata": {
    "collapsed": false,
    "ExecuteTime": {
     "end_time": "2023-12-07T01:05:34.041179600Z",
     "start_time": "2023-12-07T01:05:33.540201100Z"
    }
   }
  },
  {
   "cell_type": "code",
   "execution_count": 404,
   "outputs": [
    {
     "data": {
      "text/plain": "(array([15340., 15431., 15522., 15614., 15706., 15796., 15887., 15979.,\n        16071., 16161.]),\n [Text(15340.0, 0, '2012-01'),\n  Text(15431.0, 0, '2012-04'),\n  Text(15522.0, 0, '2012-07'),\n  Text(15614.0, 0, '2012-10'),\n  Text(15706.0, 0, '2013-01'),\n  Text(15796.0, 0, '2013-04'),\n  Text(15887.0, 0, '2013-07'),\n  Text(15979.0, 0, '2013-10'),\n  Text(16071.0, 0, '2014-01'),\n  Text(16161.0, 0, '2014-04')])"
     },
     "execution_count": 404,
     "metadata": {},
     "output_type": "execute_result"
    },
    {
     "data": {
      "text/plain": "<Figure size 640x480 with 1 Axes>",
      "image/png": "[encoded data removed]"
     },
     "metadata": {},
     "output_type": "display_data"
    }
   ],
   "source": [
    "sns.lineplot(y = CleanedData_df['avgKWH'],x=CleanedData_df['Date'])\n",
    "plt.xticks(rotation=90)"
   ],
   "metadata": {
    "collapsed": false,
    "ExecuteTime": {
     "end_time": "2023-12-07T01:05:34.349459800Z",
     "start_time": "2023-12-07T01:05:33.544678800Z"
    }
   }
  },
  {
   "cell_type": "markdown",
   "source": [
    "There are no nulls and all days are present"
   ],
   "metadata": {
    "collapsed": false
   }
  },
  {
   "cell_type": "code",
   "execution_count": 405,
   "outputs": [
    {
     "data": {
      "text/plain": "                      Date      avgKWH  cloud_cover    sunshine  \\\ncount                  825  825.000000   825.000000  825.000000   \nmean   2013-01-11 00:00:00   10.090612     4.712727    3.860485   \nmin    2011-11-26 00:00:00    7.084190     0.000000    0.000000   \n25%    2012-06-19 00:00:00    8.400525     3.000000    0.300000   \n50%    2013-01-11 00:00:00   10.101834     5.000000    2.900000   \n75%    2013-08-05 00:00:00   11.393651     7.000000    6.300000   \nmax    2014-02-27 00:00:00   15.574589     8.000000   14.500000   \nstd                    NaN    1.765952     2.351130    3.810762   \n\n       global_radiation    max_temp   mean_temp    min_temp  precipitation  \\\ncount        825.000000  825.000000  825.000000  825.000000     825.000000   \nmean         105.361212   14.531394   10.787515    6.990788       1.916242   \nmin           12.000000   -0.200000   -2.600000   -7.600000       0.000000   \n25%           35.000000   10.000000    6.700000    3.000000       0.000000   \n50%           78.000000   13.300000    9.900000    6.700000       0.200000   \n75%          164.000000   19.200000   15.200000   11.300000       2.200000   \nmax          333.000000   34.100000   25.400000   20.700000      29.800000   \nstd           84.584840    6.602868    5.734229    5.274999       3.768605   \n\n            pressure  ...  (-1)SMA3_avgKWH  weekday sin  weekday cos  \\\ncount     825.000000  ...       825.000000   825.000000   825.000000   \nmean   101402.860606  ...        10.087441     0.000526     0.001092   \nmin     97900.000000  ...         7.454487    -0.974928    -0.900969   \n25%    100740.000000  ...         8.394349    -0.781831    -0.900969   \n50%    101440.000000  ...        10.097629     0.000000    -0.222521   \n75%    102160.000000  ...        11.370676     0.781831     0.623490   \nmax    104120.000000  ...        14.751757     0.974928     1.000000   \nstd      1117.388952  ...         1.738413     0.707803     0.707267   \n\n          month sin     month cos  Time of Year sin  Time of Year cos  \\\ncount  8.250000e+02  8.250000e+02        825.000000        825.000000   \nmean   4.038849e-02  9.023620e-02          0.018514          0.100668   \nmin   -1.000000e+00 -1.000000e+00         -0.999998         -1.000000   \n25%   -5.000000e-01 -5.000000e-01         -0.630684         -0.628470   \n50%    1.224647e-16  6.123234e-17          0.035237          0.200559   \n75%    5.000000e-01  8.660254e-01          0.678263          0.829688   \nmax    1.000000e+00  1.000000e+00          0.999990          0.999995   \nstd    6.898662e-01  7.179921e-01          0.683628          0.723448   \n\n              year    season sin    season cos  \ncount   825.000000  8.250000e+02  8.250000e+02  \nmean   2012.539394 -1.042424e-01 -3.636364e-03  \nmin    2011.000000 -1.000000e+00 -1.000000e+00  \n25%    2012.000000 -1.000000e+00 -1.836970e-16  \n50%    2013.000000  0.000000e+00 -1.836970e-16  \n75%    2013.000000  1.224647e-16  6.123234e-17  \nmax    2014.000000  1.000000e+00  1.000000e+00  \nstd       0.690583  7.349090e-01  6.709914e-01  \n\n[8 rows x 24 columns]",
      "text/html": "<div>\n<style scoped>\n    .dataframe tbody tr th:only-of-type {\n        vertical-align: middle;\n    }\n\n    .dataframe tbody tr th {\n        vertical-align: top;\n    }\n\n    .dataframe thead th {\n        text-align: right;\n    }\n</style>\n<table border=\"1\" class=\"dataframe\">\n  <thead>\n    <tr style=\"text-align: right;\">\n      <th></th>\n      <th>Date</th>\n      <th>avgKWH</th>\n      <th>cloud_cover</th>\n      <th>sunshine</th>\n      <th>global_radiation</th>\n      <th>max_temp</th>\n      <th>mean_temp</th>\n      <th>min_temp</th>\n      <th>precipitation</th>\n      <th>pressure</th>\n      <th>...</th>\n      <th>(-1)SMA3_avgKWH</th>\n      <th>weekday sin</th>\n      <th>weekday cos</th>\n      <th>month sin</th>\n      <th>month cos</th>\n      <th>Time of Year sin</th>\n      <th>Time of Year cos</th>\n      <th>year</th>\n      <th>season sin</th>\n      <th>season cos</th>\n    </tr>\n  </thead>\n  <tbody>\n    <tr>\n      <th>count</th>\n      <td>825</td>\n      <td>825.000000</td>\n      <td>825.000000</td>\n      <td>825.000000</td>\n      <td>825.000000</td>\n      <td>825.000000</td>\n      <td>825.000000</td>\n      <td>825.000000</td>\n      <td>825.000000</td>\n      <td>825.000000</td>\n      <td>...</td>\n      <td>825.000000</td>\n      <td>825.000000</td>\n      <td>825.000000</td>\n      <td>8.250000e+02</td>\n      <td>8.250000e+02</td>\n      <td>825.000000</td>\n      <td>825.000000</td>\n      <td>825.000000</td>\n      <td>8.250000e+02</td>\n      <td>8.250000e+02</td>\n    </tr>\n    <tr>\n      <th>mean</th>\n      <td>2013-01-11 00:00:00</td>\n      <td>10.090612</td>\n      <td>4.712727</td>\n      <td>3.860485</td>\n      <td>105.361212</td>\n      <td>14.531394</td>\n      <td>10.787515</td>\n      <td>6.990788</td>\n      <td>1.916242</td>\n      <td>101402.860606</td>\n      <td>...</td>\n      <td>10.087441</td>\n      <td>0.000526</td>\n      <td>0.001092</td>\n      <td>4.038849e-02</td>\n      <td>9.023620e-02</td>\n      <td>0.018514</td>\n      <td>0.100668</td>\n      <td>2012.539394</td>\n      <td>-1.042424e-01</td>\n      <td>-3.636364e-03</td>\n    </tr>\n    <tr>\n      <th>min</th>\n      <td>2011-11-26 00:00:00</td>\n      <td>7.084190</td>\n      <td>0.000000</td>\n      <td>0.000000</td>\n      <td>12.000000</td>\n      <td>-0.200000</td>\n      <td>-2.600000</td>\n      <td>-7.600000</td>\n      <td>0.000000</td>\n      <td>97900.000000</td>\n      <td>...</td>\n      <td>7.454487</td>\n      <td>-0.974928</td>\n      <td>-0.900969</td>\n      <td>-1.000000e+00</td>\n      <td>-1.000000e+00</td>\n      <td>-0.999998</td>\n      <td>-1.000000</td>\n      <td>2011.000000</td>\n      <td>-1.000000e+00</td>\n      <td>-1.000000e+00</td>\n    </tr>\n    <tr>\n      <th>25%</th>\n      <td>2012-06-19 00:00:00</td>\n      <td>8.400525</td>\n      <td>3.000000</td>\n      <td>0.300000</td>\n      <td>35.000000</td>\n      <td>10.000000</td>\n      <td>6.700000</td>\n      <td>3.000000</td>\n      <td>0.000000</td>\n      <td>100740.000000</td>\n      <td>...</td>\n      <td>8.394349</td>\n      <td>-0.781831</td>\n      <td>-0.900969</td>\n      <td>-5.000000e-01</td>\n      <td>-5.000000e-01</td>\n      <td>-0.630684</td>\n      <td>-0.628470</td>\n      <td>2012.000000</td>\n      <td>-1.000000e+00</td>\n      <td>-1.836970e-16</td>\n    </tr>\n    <tr>\n      <th>50%</th>\n      <td>2013-01-11 00:00:00</td>\n      <td>10.101834</td>\n      <td>5.000000</td>\n      <td>2.900000</td>\n      <td>78.000000</td>\n      <td>13.300000</td>\n      <td>9.900000</td>\n      <td>6.700000</td>\n      <td>0.200000</td>\n      <td>101440.000000</td>\n      <td>...</td>\n      <td>10.097629</td>\n      <td>0.000000</td>\n      <td>-0.222521</td>\n      <td>1.224647e-16</td>\n      <td>6.123234e-17</td>\n      <td>0.035237</td>\n      <td>0.200559</td>\n      <td>2013.000000</td>\n      <td>0.000000e+00</td>\n      <td>-1.836970e-16</td>\n    </tr>\n    <tr>\n      <th>75%</th>\n      <td>2013-08-05 00:00:00</td>\n      <td>11.393651</td>\n      <td>7.000000</td>\n      <td>6.300000</td>\n      <td>164.000000</td>\n      <td>19.200000</td>\n      <td>15.200000</td>\n      <td>11.300000</td>\n      <td>2.200000</td>\n      <td>102160.000000</td>\n      <td>...</td>\n      <td>11.370676</td>\n      <td>0.781831</td>\n      <td>0.623490</td>\n      <td>5.000000e-01</td>\n      <td>8.660254e-01</td>\n      <td>0.678263</td>\n      <td>0.829688</td>\n      <td>2013.000000</td>\n      <td>1.224647e-16</td>\n      <td>6.123234e-17</td>\n    </tr>\n    <tr>\n      <th>max</th>\n      <td>2014-02-27 00:00:00</td>\n      <td>15.574589</td>\n      <td>8.000000</td>\n      <td>14.500000</td>\n      <td>333.000000</td>\n      <td>34.100000</td>\n      <td>25.400000</td>\n      <td>20.700000</td>\n      <td>29.800000</td>\n      <td>104120.000000</td>\n      <td>...</td>\n      <td>14.751757</td>\n      <td>0.974928</td>\n      <td>1.000000</td>\n      <td>1.000000e+00</td>\n      <td>1.000000e+00</td>\n      <td>0.999990</td>\n      <td>0.999995</td>\n      <td>2014.000000</td>\n      <td>1.000000e+00</td>\n      <td>1.000000e+00</td>\n    </tr>\n    <tr>\n      <th>std</th>\n      <td>NaN</td>\n      <td>1.765952</td>\n      <td>2.351130</td>\n      <td>3.810762</td>\n      <td>84.584840</td>\n      <td>6.602868</td>\n      <td>5.734229</td>\n      <td>5.274999</td>\n      <td>3.768605</td>\n      <td>1117.388952</td>\n      <td>...</td>\n      <td>1.738413</td>\n      <td>0.707803</td>\n      <td>0.707267</td>\n      <td>6.898662e-01</td>\n      <td>7.179921e-01</td>\n      <td>0.683628</td>\n      <td>0.723448</td>\n      <td>0.690583</td>\n      <td>7.349090e-01</td>\n      <td>6.709914e-01</td>\n    </tr>\n  </tbody>\n</table>\n<p>8 rows × 24 columns</p>\n</div>"
     },
     "execution_count": 405,
     "metadata": {},
     "output_type": "execute_result"
    }
   ],
   "source": [
    "CleanedData_df.describe()"
   ],
   "metadata": {
    "collapsed": false,
    "ExecuteTime": {
     "end_time": "2023-12-07T01:05:34.387494700Z",
     "start_time": "2023-12-07T01:05:33.946393600Z"
    }
   }
  },
  {
   "cell_type": "code",
   "execution_count": 406,
   "outputs": [
    {
     "name": "stdout",
     "output_type": "stream",
     "text": [
      "<class 'pandas.core.frame.DataFrame'>\n",
      "RangeIndex: 825 entries, 0 to 824\n",
      "Data columns (total 24 columns):\n",
      " #   Column                     Non-Null Count  Dtype         \n",
      "---  ------                     --------------  -----         \n",
      " 0   Date                       825 non-null    datetime64[ns]\n",
      " 1   avgKWH                     825 non-null    float64       \n",
      " 2   cloud_cover                825 non-null    float64       \n",
      " 3   sunshine                   825 non-null    float64       \n",
      " 4   global_radiation           825 non-null    float64       \n",
      " 5   max_temp                   825 non-null    float64       \n",
      " 6   mean_temp                  825 non-null    float64       \n",
      " 7   min_temp                   825 non-null    float64       \n",
      " 8   precipitation              825 non-null    float64       \n",
      " 9   pressure                   825 non-null    float64       \n",
      " 10  snow_depth                 825 non-null    float64       \n",
      " 11  days_elapsed               825 non-null    int64         \n",
      " 12  (-1)avgKWH                 825 non-null    float64       \n",
      " 13  (-1)volume weighted price  825 non-null    float64       \n",
      " 14  (-1)SMA3_avgKWH            825 non-null    float64       \n",
      " 15  weekday sin                825 non-null    float64       \n",
      " 16  weekday cos                825 non-null    float64       \n",
      " 17  month sin                  825 non-null    float64       \n",
      " 18  month cos                  825 non-null    float64       \n",
      " 19  Time of Year sin           825 non-null    float64       \n",
      " 20  Time of Year cos           825 non-null    float64       \n",
      " 21  year                       825 non-null    int64         \n",
      " 22  season sin                 825 non-null    float64       \n",
      " 23  season cos                 825 non-null    float64       \n",
      "dtypes: datetime64[ns](1), float64(21), int64(2)\n",
      "memory usage: 154.8 KB\n"
     ]
    }
   ],
   "source": [
    "CleanedData_df.info()"
   ],
   "metadata": {
    "collapsed": false,
    "ExecuteTime": {
     "end_time": "2023-12-07T01:05:34.428693600Z",
     "start_time": "2023-12-07T01:05:33.986846300Z"
    }
   }
  },
  {
   "cell_type": "markdown",
   "source": [
    "# Save Final Data\n",
    "Save the final cleaned dataset as a feather file to the clean data folder for use with other notebooks"
   ],
   "metadata": {
    "collapsed": false
   }
  },
  {
   "cell_type": "code",
   "execution_count": 407,
   "outputs": [],
   "source": [
    "CleanedData_df.to_feather(\"../data/clean/CleanedData.feather\")"
   ],
   "metadata": {
    "collapsed": false,
    "ExecuteTime": {
     "end_time": "2023-12-07T01:05:34.429532700Z",
     "start_time": "2023-12-07T01:05:33.995155Z"
    }
   }
  },
  {
   "cell_type": "markdown",
   "source": [
    "# Ensure Save was sucessful"
   ],
   "metadata": {
    "collapsed": false
   }
  },
  {
   "cell_type": "code",
   "execution_count": 408,
   "outputs": [
    {
     "data": {
      "text/plain": "          Date     avgKWH  cloud_cover  sunshine  global_radiation  max_temp  \\\n0   2011-11-26  10.267707          4.0       0.7              24.0      13.9   \n1   2011-11-27  10.850805          3.0       5.9              55.0      13.2   \n2   2011-11-28   9.103382          5.0       0.0              15.0      13.9   \n3   2011-11-29   9.424468          6.0       0.0              15.0      12.8   \n4   2011-11-30   8.931027          4.0       3.7              42.0      11.0   \n..         ...        ...          ...       ...               ...       ...   \n820 2014-02-23  11.119338          6.0       0.0              29.0      14.9   \n821 2014-02-24  10.114827          4.0       4.4              82.0      10.7   \n822 2014-02-25  10.072142          5.0       2.0              60.0      11.8   \n823 2014-02-26  10.028621          1.0       7.7             111.0      12.0   \n824 2014-02-27  10.081745          4.0       4.9              90.0       8.4   \n\n     mean_temp  min_temp  precipitation  pressure  ...  (-1)SMA3_avgKWH  \\\n0         10.2       6.3            0.0  102580.0  ...         8.329651   \n1         11.8       9.7            0.0  102130.0  ...         9.434656   \n2          6.7       0.2            0.0  102270.0  ...        10.206098   \n3          8.6       3.3            0.4  100960.0  ...        10.073965   \n4          9.2       5.5            1.2  101920.0  ...         9.792885   \n..         ...       ...            ...       ...  ...              ...   \n820        9.7       6.8            0.0  101030.0  ...        10.287379   \n821       10.9       6.8            3.2  100500.0  ...        10.568265   \n822        9.4       8.1            2.6  100050.0  ...        10.543070   \n823        7.4       2.9            2.8  101270.0  ...        10.435435   \n824        8.9       5.7            4.8  100700.0  ...        10.071863   \n\n     weekday sin  weekday cos  month sin  month cos  Time of Year sin  \\\n0      -0.974928    -0.222521  -0.500000   0.866025         -0.583054   \n1      -0.781831     0.623490  -0.500000   0.866025         -0.568992   \n2       0.000000     1.000000  -0.500000   0.866025         -0.554762   \n3       0.781831     0.623490  -0.500000   0.866025         -0.540368   \n4       0.974928    -0.222521  -0.500000   0.866025         -0.525814   \n..           ...          ...        ...        ...               ...   \n820    -0.781831     0.623490   0.866025   0.500000          0.794038   \n821     0.000000     1.000000   0.866025   0.500000          0.804377   \n822     0.781831     0.623490   0.866025   0.500000          0.814478   \n823     0.974928    -0.222521   0.866025   0.500000          0.824338   \n824     0.433884    -0.900969   0.866025   0.500000          0.833954   \n\n     Time of Year cos  year    season sin    season cos  \n0            0.812434  2011  1.224647e-16 -1.000000e+00  \n1            0.822343  2011  1.224647e-16 -1.000000e+00  \n2            0.832009  2011  1.224647e-16 -1.000000e+00  \n3            0.841429  2011  1.224647e-16 -1.000000e+00  \n4            0.850600  2011  1.224647e-16 -1.000000e+00  \n..                ...   ...           ...           ...  \n820          0.607868  2014 -1.000000e+00 -1.836970e-16  \n821          0.594119  2014 -1.000000e+00 -1.836970e-16  \n822          0.580194  2014 -1.000000e+00 -1.836970e-16  \n823          0.566097  2014 -1.000000e+00 -1.836970e-16  \n824          0.551833  2014 -1.000000e+00 -1.836970e-16  \n\n[825 rows x 24 columns]",
      "text/html": "<div>\n<style scoped>\n    .dataframe tbody tr th:only-of-type {\n        vertical-align: middle;\n    }\n\n    .dataframe tbody tr th {\n        vertical-align: top;\n    }\n\n    .dataframe thead th {\n        text-align: right;\n    }\n</style>\n<table border=\"1\" class=\"dataframe\">\n  <thead>\n    <tr style=\"text-align: right;\">\n      <th></th>\n      <th>Date</th>\n      <th>avgKWH</th>\n      <th>cloud_cover</th>\n      <th>sunshine</th>\n      <th>global_radiation</th>\n      <th>max_temp</th>\n      <th>mean_temp</th>\n      <th>min_temp</th>\n      <th>precipitation</th>\n      <th>pressure</th>\n      <th>...</th>\n      <th>(-1)SMA3_avgKWH</th>\n      <th>weekday sin</th>\n      <th>weekday cos</th>\n      <th>month sin</th>\n      <th>month cos</th>\n      <th>Time of Year sin</th>\n      <th>Time of Year cos</th>\n      <th>year</th>\n      <th>season sin</th>\n      <th>season cos</th>\n    </tr>\n  </thead>\n  <tbody>\n    <tr>\n      <th>0</th>\n      <td>2011-11-26</td>\n      <td>10.267707</td>\n      <td>4.0</td>\n      <td>0.7</td>\n      <td>24.0</td>\n      <td>13.9</td>\n      <td>10.2</td>\n      <td>6.3</td>\n      <td>0.0</td>\n      <td>102580.0</td>\n      <td>...</td>\n      <td>8.329651</td>\n      <td>-0.974928</td>\n      <td>-0.222521</td>\n      <td>-0.500000</td>\n      <td>0.866025</td>\n      <td>-0.583054</td>\n      <td>0.812434</td>\n      <td>2011</td>\n      <td>1.224647e-16</td>\n      <td>-1.000000e+00</td>\n    </tr>\n    <tr>\n      <th>1</th>\n      <td>2011-11-27</td>\n      <td>10.850805</td>\n      <td>3.0</td>\n      <td>5.9</td>\n      <td>55.0</td>\n      <td>13.2</td>\n      <td>11.8</td>\n      <td>9.7</td>\n      <td>0.0</td>\n      <td>102130.0</td>\n      <td>...</td>\n      <td>9.434656</td>\n      <td>-0.781831</td>\n      <td>0.623490</td>\n      <td>-0.500000</td>\n      <td>0.866025</td>\n      <td>-0.568992</td>\n      <td>0.822343</td>\n      <td>2011</td>\n      <td>1.224647e-16</td>\n      <td>-1.000000e+00</td>\n    </tr>\n    <tr>\n      <th>2</th>\n      <td>2011-11-28</td>\n      <td>9.103382</td>\n      <td>5.0</td>\n      <td>0.0</td>\n      <td>15.0</td>\n      <td>13.9</td>\n      <td>6.7</td>\n      <td>0.2</td>\n      <td>0.0</td>\n      <td>102270.0</td>\n      <td>...</td>\n      <td>10.206098</td>\n      <td>0.000000</td>\n      <td>1.000000</td>\n      <td>-0.500000</td>\n      <td>0.866025</td>\n      <td>-0.554762</td>\n      <td>0.832009</td>\n      <td>2011</td>\n      <td>1.224647e-16</td>\n      <td>-1.000000e+00</td>\n    </tr>\n    <tr>\n      <th>3</th>\n      <td>2011-11-29</td>\n      <td>9.424468</td>\n      <td>6.0</td>\n      <td>0.0</td>\n      <td>15.0</td>\n      <td>12.8</td>\n      <td>8.6</td>\n      <td>3.3</td>\n      <td>0.4</td>\n      <td>100960.0</td>\n      <td>...</td>\n      <td>10.073965</td>\n      <td>0.781831</td>\n      <td>0.623490</td>\n      <td>-0.500000</td>\n      <td>0.866025</td>\n      <td>-0.540368</td>\n      <td>0.841429</td>\n      <td>2011</td>\n      <td>1.224647e-16</td>\n      <td>-1.000000e+00</td>\n    </tr>\n    <tr>\n      <th>4</th>\n      <td>2011-11-30</td>\n      <td>8.931027</td>\n      <td>4.0</td>\n      <td>3.7</td>\n      <td>42.0</td>\n      <td>11.0</td>\n      <td>9.2</td>\n      <td>5.5</td>\n      <td>1.2</td>\n      <td>101920.0</td>\n      <td>...</td>\n      <td>9.792885</td>\n      <td>0.974928</td>\n      <td>-0.222521</td>\n      <td>-0.500000</td>\n      <td>0.866025</td>\n      <td>-0.525814</td>\n      <td>0.850600</td>\n      <td>2011</td>\n      <td>1.224647e-16</td>\n      <td>-1.000000e+00</td>\n    </tr>\n    <tr>\n      <th>...</th>\n      <td>...</td>\n      <td>...</td>\n      <td>...</td>\n      <td>...</td>\n      <td>...</td>\n      <td>...</td>\n      <td>...</td>\n      <td>...</td>\n      <td>...</td>\n      <td>...</td>\n      <td>...</td>\n      <td>...</td>\n      <td>...</td>\n      <td>...</td>\n      <td>...</td>\n      <td>...</td>\n      <td>...</td>\n      <td>...</td>\n      <td>...</td>\n      <td>...</td>\n      <td>...</td>\n    </tr>\n    <tr>\n      <th>820</th>\n      <td>2014-02-23</td>\n      <td>11.119338</td>\n      <td>6.0</td>\n      <td>0.0</td>\n      <td>29.0</td>\n      <td>14.9</td>\n      <td>9.7</td>\n      <td>6.8</td>\n      <td>0.0</td>\n      <td>101030.0</td>\n      <td>...</td>\n      <td>10.287379</td>\n      <td>-0.781831</td>\n      <td>0.623490</td>\n      <td>0.866025</td>\n      <td>0.500000</td>\n      <td>0.794038</td>\n      <td>0.607868</td>\n      <td>2014</td>\n      <td>-1.000000e+00</td>\n      <td>-1.836970e-16</td>\n    </tr>\n    <tr>\n      <th>821</th>\n      <td>2014-02-24</td>\n      <td>10.114827</td>\n      <td>4.0</td>\n      <td>4.4</td>\n      <td>82.0</td>\n      <td>10.7</td>\n      <td>10.9</td>\n      <td>6.8</td>\n      <td>3.2</td>\n      <td>100500.0</td>\n      <td>...</td>\n      <td>10.568265</td>\n      <td>0.000000</td>\n      <td>1.000000</td>\n      <td>0.866025</td>\n      <td>0.500000</td>\n      <td>0.804377</td>\n      <td>0.594119</td>\n      <td>2014</td>\n      <td>-1.000000e+00</td>\n      <td>-1.836970e-16</td>\n    </tr>\n    <tr>\n      <th>822</th>\n      <td>2014-02-25</td>\n      <td>10.072142</td>\n      <td>5.0</td>\n      <td>2.0</td>\n      <td>60.0</td>\n      <td>11.8</td>\n      <td>9.4</td>\n      <td>8.1</td>\n      <td>2.6</td>\n      <td>100050.0</td>\n      <td>...</td>\n      <td>10.543070</td>\n      <td>0.781831</td>\n      <td>0.623490</td>\n      <td>0.866025</td>\n      <td>0.500000</td>\n      <td>0.814478</td>\n      <td>0.580194</td>\n      <td>2014</td>\n      <td>-1.000000e+00</td>\n      <td>-1.836970e-16</td>\n    </tr>\n    <tr>\n      <th>823</th>\n      <td>2014-02-26</td>\n      <td>10.028621</td>\n      <td>1.0</td>\n      <td>7.7</td>\n      <td>111.0</td>\n      <td>12.0</td>\n      <td>7.4</td>\n      <td>2.9</td>\n      <td>2.8</td>\n      <td>101270.0</td>\n      <td>...</td>\n      <td>10.435435</td>\n      <td>0.974928</td>\n      <td>-0.222521</td>\n      <td>0.866025</td>\n      <td>0.500000</td>\n      <td>0.824338</td>\n      <td>0.566097</td>\n      <td>2014</td>\n      <td>-1.000000e+00</td>\n      <td>-1.836970e-16</td>\n    </tr>\n    <tr>\n      <th>824</th>\n      <td>2014-02-27</td>\n      <td>10.081745</td>\n      <td>4.0</td>\n      <td>4.9</td>\n      <td>90.0</td>\n      <td>8.4</td>\n      <td>8.9</td>\n      <td>5.7</td>\n      <td>4.8</td>\n      <td>100700.0</td>\n      <td>...</td>\n      <td>10.071863</td>\n      <td>0.433884</td>\n      <td>-0.900969</td>\n      <td>0.866025</td>\n      <td>0.500000</td>\n      <td>0.833954</td>\n      <td>0.551833</td>\n      <td>2014</td>\n      <td>-1.000000e+00</td>\n      <td>-1.836970e-16</td>\n    </tr>\n  </tbody>\n</table>\n<p>825 rows × 24 columns</p>\n</div>"
     },
     "execution_count": 408,
     "metadata": {},
     "output_type": "execute_result"
    }
   ],
   "source": [
    "Load_df = pd.read_feather(\"../data/clean/CleanedData.feather\")\n",
    "Load_df"
   ],
   "metadata": {
    "collapsed": false,
    "ExecuteTime": {
     "end_time": "2023-12-07T01:05:34.429532700Z",
     "start_time": "2023-12-07T01:05:34.003006700Z"
    }
   }
  }
 ],
 "metadata": {
  "kernelspec": {
   "display_name": "Python 3 (ipykernel)",
   "language": "python",
   "name": "python3"
  },
  "language_info": {
   "codemirror_mode": {
    "name": "ipython",
    "version": 3
   },
   "file_extension": ".py",
   "mimetype": "text/x-python",
   "name": "python",
   "nbconvert_exporter": "python",
   "pygments_lexer": "ipython3",
   "version": "3.11.6"
  }
 },
 "nbformat": 4,
 "nbformat_minor": 5
}

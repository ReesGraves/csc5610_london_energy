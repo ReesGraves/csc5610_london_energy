{
 "cells": [
  {
   "cell_type": "code",
   "execution_count": 129,
   "metadata": {
    "ExecuteTime": {
     "end_time": "2023-12-05T21:54:30.226684900Z",
     "start_time": "2023-12-05T21:54:30.167405300Z"
    }
   },
   "outputs": [],
   "source": [
    "import warnings\n",
    "warnings.filterwarnings(\"ignore\")\n",
    "from glob import glob\n",
    "import pandas as pd"
   ]
  },
  {
   "cell_type": "markdown",
   "source": [
    "# Load Merged and Cleaned Data"
   ],
   "metadata": {
    "collapsed": false
   }
  },
  {
   "cell_type": "code",
   "execution_count": 130,
   "outputs": [
    {
     "data": {
      "text/plain": "          Date  volume weighted price  cloud_cover  sunshine  \\\n0   2011-11-23                  49.85          7.0       2.0   \n1   2011-11-24                  44.97          3.0       2.0   \n2   2011-11-25                  42.66          3.0       5.0   \n3   2011-11-26                  41.20          4.0       0.7   \n4   2011-11-27                  42.83          3.0       5.9   \n..         ...                    ...          ...       ...   \n824 2014-02-24                  42.81          4.0       4.4   \n825 2014-02-25                  41.60          5.0       2.0   \n826 2014-02-26                  47.71          1.0       7.7   \n827 2014-02-27                  45.77          4.0       4.9   \n828 2014-02-28                  45.33          7.0       1.0   \n\n     global_radiation  max_temp  mean_temp  min_temp  precipitation  pressure  \\\n0                35.0      13.5        6.8       2.6            0.2  102720.0   \n1                35.0      12.5        8.6       3.7            0.2  102710.0   \n2                52.0      14.0       11.0       9.5            0.0  102450.0   \n3                24.0      13.9       10.2       6.3            0.0  102580.0   \n4                55.0      13.2       11.8       9.7            0.0  102130.0   \n..                ...       ...        ...       ...            ...       ...   \n824              82.0      10.7       10.9       6.8            3.2  100500.0   \n825              60.0      11.8        9.4       8.1            2.6  100050.0   \n826             111.0      12.0        7.4       2.9            2.8  101270.0   \n827              90.0       8.4        8.9       5.7            4.8  100700.0   \n828              50.0      10.1        5.1       1.8            3.4   99890.0   \n\n     snow_depth  days_elapsed  weekday sin  weekday cos  month sin  month cos  \\\n0           0.0             0     0.974928    -0.222521  -0.500000   0.866025   \n1           0.0             1     0.433884    -0.900969  -0.500000   0.866025   \n2           0.0             2    -0.433884    -0.900969  -0.500000   0.866025   \n3           0.0             3    -0.974928    -0.222521  -0.500000   0.866025   \n4           0.0             4    -0.781831     0.623490  -0.500000   0.866025   \n..          ...           ...          ...          ...        ...        ...   \n824         0.0           824     0.000000     1.000000   0.866025   0.500000   \n825         0.0           825     0.781831     0.623490   0.866025   0.500000   \n826         0.0           826     0.974928    -0.222521   0.866025   0.500000   \n827         0.0           827     0.433884    -0.900969   0.866025   0.500000   \n828         0.0           828    -0.433884    -0.900969   0.866025   0.500000   \n\n     Time of Year sin  Time of Year cos  year     avgKWH  \n0           -0.624187          0.781275  2011   6.952692  \n1           -0.610655          0.791896  2011   8.536480  \n2           -0.596943          0.802284  2011   9.499781  \n3           -0.583054          0.812434  2011  10.267707  \n4           -0.568992          0.822343  2011  10.850805  \n..                ...               ...   ...        ...  \n824          0.804377          0.594119  2014  10.092758  \n825          0.814478          0.580194  2014  10.042841  \n826          0.824338          0.566097  2014   9.992153  \n827          0.833954          0.551833  2014  10.045084  \n828          0.843324          0.537406  2014   0.394141  \n\n[829 rows x 20 columns]",
      "text/html": "<div>\n<style scoped>\n    .dataframe tbody tr th:only-of-type {\n        vertical-align: middle;\n    }\n\n    .dataframe tbody tr th {\n        vertical-align: top;\n    }\n\n    .dataframe thead th {\n        text-align: right;\n    }\n</style>\n<table border=\"1\" class=\"dataframe\">\n  <thead>\n    <tr style=\"text-align: right;\">\n      <th></th>\n      <th>Date</th>\n      <th>volume weighted price</th>\n      <th>cloud_cover</th>\n      <th>sunshine</th>\n      <th>global_radiation</th>\n      <th>max_temp</th>\n      <th>mean_temp</th>\n      <th>min_temp</th>\n      <th>precipitation</th>\n      <th>pressure</th>\n      <th>snow_depth</th>\n      <th>days_elapsed</th>\n      <th>weekday sin</th>\n      <th>weekday cos</th>\n      <th>month sin</th>\n      <th>month cos</th>\n      <th>Time of Year sin</th>\n      <th>Time of Year cos</th>\n      <th>year</th>\n      <th>avgKWH</th>\n    </tr>\n  </thead>\n  <tbody>\n    <tr>\n      <th>0</th>\n      <td>2011-11-23</td>\n      <td>49.85</td>\n      <td>7.0</td>\n      <td>2.0</td>\n      <td>35.0</td>\n      <td>13.5</td>\n      <td>6.8</td>\n      <td>2.6</td>\n      <td>0.2</td>\n      <td>102720.0</td>\n      <td>0.0</td>\n      <td>0</td>\n      <td>0.974928</td>\n      <td>-0.222521</td>\n      <td>-0.500000</td>\n      <td>0.866025</td>\n      <td>-0.624187</td>\n      <td>0.781275</td>\n      <td>2011</td>\n      <td>6.952692</td>\n    </tr>\n    <tr>\n      <th>1</th>\n      <td>2011-11-24</td>\n      <td>44.97</td>\n      <td>3.0</td>\n      <td>2.0</td>\n      <td>35.0</td>\n      <td>12.5</td>\n      <td>8.6</td>\n      <td>3.7</td>\n      <td>0.2</td>\n      <td>102710.0</td>\n      <td>0.0</td>\n      <td>1</td>\n      <td>0.433884</td>\n      <td>-0.900969</td>\n      <td>-0.500000</td>\n      <td>0.866025</td>\n      <td>-0.610655</td>\n      <td>0.791896</td>\n      <td>2011</td>\n      <td>8.536480</td>\n    </tr>\n    <tr>\n      <th>2</th>\n      <td>2011-11-25</td>\n      <td>42.66</td>\n      <td>3.0</td>\n      <td>5.0</td>\n      <td>52.0</td>\n      <td>14.0</td>\n      <td>11.0</td>\n      <td>9.5</td>\n      <td>0.0</td>\n      <td>102450.0</td>\n      <td>0.0</td>\n      <td>2</td>\n      <td>-0.433884</td>\n      <td>-0.900969</td>\n      <td>-0.500000</td>\n      <td>0.866025</td>\n      <td>-0.596943</td>\n      <td>0.802284</td>\n      <td>2011</td>\n      <td>9.499781</td>\n    </tr>\n    <tr>\n      <th>3</th>\n      <td>2011-11-26</td>\n      <td>41.20</td>\n      <td>4.0</td>\n      <td>0.7</td>\n      <td>24.0</td>\n      <td>13.9</td>\n      <td>10.2</td>\n      <td>6.3</td>\n      <td>0.0</td>\n      <td>102580.0</td>\n      <td>0.0</td>\n      <td>3</td>\n      <td>-0.974928</td>\n      <td>-0.222521</td>\n      <td>-0.500000</td>\n      <td>0.866025</td>\n      <td>-0.583054</td>\n      <td>0.812434</td>\n      <td>2011</td>\n      <td>10.267707</td>\n    </tr>\n    <tr>\n      <th>4</th>\n      <td>2011-11-27</td>\n      <td>42.83</td>\n      <td>3.0</td>\n      <td>5.9</td>\n      <td>55.0</td>\n      <td>13.2</td>\n      <td>11.8</td>\n      <td>9.7</td>\n      <td>0.0</td>\n      <td>102130.0</td>\n      <td>0.0</td>\n      <td>4</td>\n      <td>-0.781831</td>\n      <td>0.623490</td>\n      <td>-0.500000</td>\n      <td>0.866025</td>\n      <td>-0.568992</td>\n      <td>0.822343</td>\n      <td>2011</td>\n      <td>10.850805</td>\n    </tr>\n    <tr>\n      <th>...</th>\n      <td>...</td>\n      <td>...</td>\n      <td>...</td>\n      <td>...</td>\n      <td>...</td>\n      <td>...</td>\n      <td>...</td>\n      <td>...</td>\n      <td>...</td>\n      <td>...</td>\n      <td>...</td>\n      <td>...</td>\n      <td>...</td>\n      <td>...</td>\n      <td>...</td>\n      <td>...</td>\n      <td>...</td>\n      <td>...</td>\n      <td>...</td>\n      <td>...</td>\n    </tr>\n    <tr>\n      <th>824</th>\n      <td>2014-02-24</td>\n      <td>42.81</td>\n      <td>4.0</td>\n      <td>4.4</td>\n      <td>82.0</td>\n      <td>10.7</td>\n      <td>10.9</td>\n      <td>6.8</td>\n      <td>3.2</td>\n      <td>100500.0</td>\n      <td>0.0</td>\n      <td>824</td>\n      <td>0.000000</td>\n      <td>1.000000</td>\n      <td>0.866025</td>\n      <td>0.500000</td>\n      <td>0.804377</td>\n      <td>0.594119</td>\n      <td>2014</td>\n      <td>10.092758</td>\n    </tr>\n    <tr>\n      <th>825</th>\n      <td>2014-02-25</td>\n      <td>41.60</td>\n      <td>5.0</td>\n      <td>2.0</td>\n      <td>60.0</td>\n      <td>11.8</td>\n      <td>9.4</td>\n      <td>8.1</td>\n      <td>2.6</td>\n      <td>100050.0</td>\n      <td>0.0</td>\n      <td>825</td>\n      <td>0.781831</td>\n      <td>0.623490</td>\n      <td>0.866025</td>\n      <td>0.500000</td>\n      <td>0.814478</td>\n      <td>0.580194</td>\n      <td>2014</td>\n      <td>10.042841</td>\n    </tr>\n    <tr>\n      <th>826</th>\n      <td>2014-02-26</td>\n      <td>47.71</td>\n      <td>1.0</td>\n      <td>7.7</td>\n      <td>111.0</td>\n      <td>12.0</td>\n      <td>7.4</td>\n      <td>2.9</td>\n      <td>2.8</td>\n      <td>101270.0</td>\n      <td>0.0</td>\n      <td>826</td>\n      <td>0.974928</td>\n      <td>-0.222521</td>\n      <td>0.866025</td>\n      <td>0.500000</td>\n      <td>0.824338</td>\n      <td>0.566097</td>\n      <td>2014</td>\n      <td>9.992153</td>\n    </tr>\n    <tr>\n      <th>827</th>\n      <td>2014-02-27</td>\n      <td>45.77</td>\n      <td>4.0</td>\n      <td>4.9</td>\n      <td>90.0</td>\n      <td>8.4</td>\n      <td>8.9</td>\n      <td>5.7</td>\n      <td>4.8</td>\n      <td>100700.0</td>\n      <td>0.0</td>\n      <td>827</td>\n      <td>0.433884</td>\n      <td>-0.900969</td>\n      <td>0.866025</td>\n      <td>0.500000</td>\n      <td>0.833954</td>\n      <td>0.551833</td>\n      <td>2014</td>\n      <td>10.045084</td>\n    </tr>\n    <tr>\n      <th>828</th>\n      <td>2014-02-28</td>\n      <td>45.33</td>\n      <td>7.0</td>\n      <td>1.0</td>\n      <td>50.0</td>\n      <td>10.1</td>\n      <td>5.1</td>\n      <td>1.8</td>\n      <td>3.4</td>\n      <td>99890.0</td>\n      <td>0.0</td>\n      <td>828</td>\n      <td>-0.433884</td>\n      <td>-0.900969</td>\n      <td>0.866025</td>\n      <td>0.500000</td>\n      <td>0.843324</td>\n      <td>0.537406</td>\n      <td>2014</td>\n      <td>0.394141</td>\n    </tr>\n  </tbody>\n</table>\n<p>829 rows × 20 columns</p>\n</div>"
     },
     "execution_count": 130,
     "metadata": {},
     "output_type": "execute_result"
    }
   ],
   "source": [
    "AllData_df = pd.read_feather(\"../data/clean/CleanedData.feather\")\n",
    "AllData_df"
   ],
   "metadata": {
    "collapsed": false,
    "ExecuteTime": {
     "end_time": "2023-12-05T21:54:30.360138Z",
     "start_time": "2023-12-05T21:54:30.172411800Z"
    }
   }
  },
  {
   "cell_type": "code",
   "execution_count": 131,
   "outputs": [
    {
     "name": "stdout",
     "output_type": "stream",
     "text": [
      "<class 'pandas.core.frame.DataFrame'>\n",
      "RangeIndex: 829 entries, 0 to 828\n",
      "Data columns (total 20 columns):\n",
      " #   Column                 Non-Null Count  Dtype         \n",
      "---  ------                 --------------  -----         \n",
      " 0   Date                   829 non-null    datetime64[ns]\n",
      " 1   volume weighted price  829 non-null    float64       \n",
      " 2   cloud_cover            829 non-null    float64       \n",
      " 3   sunshine               829 non-null    float64       \n",
      " 4   global_radiation       829 non-null    float64       \n",
      " 5   max_temp               829 non-null    float64       \n",
      " 6   mean_temp              829 non-null    float64       \n",
      " 7   min_temp               829 non-null    float64       \n",
      " 8   precipitation          829 non-null    float64       \n",
      " 9   pressure               829 non-null    float64       \n",
      " 10  snow_depth             829 non-null    float64       \n",
      " 11  days_elapsed           829 non-null    int64         \n",
      " 12  weekday sin            829 non-null    float64       \n",
      " 13  weekday cos            829 non-null    float64       \n",
      " 14  month sin              829 non-null    float64       \n",
      " 15  month cos              829 non-null    float64       \n",
      " 16  Time of Year sin       829 non-null    float64       \n",
      " 17  Time of Year cos       829 non-null    float64       \n",
      " 18  year                   829 non-null    int64         \n",
      " 19  avgKWH                 829 non-null    float64       \n",
      "dtypes: datetime64[ns](1), float64(17), int64(2)\n",
      "memory usage: 129.7 KB\n"
     ]
    }
   ],
   "source": [
    "AllData_df.info()"
   ],
   "metadata": {
    "collapsed": false,
    "ExecuteTime": {
     "end_time": "2023-12-05T21:54:30.360138Z",
     "start_time": "2023-12-05T21:54:30.198135100Z"
    }
   }
  },
  {
   "cell_type": "markdown",
   "metadata": {},
   "source": [
    "### Load Electricity Cost"
   ]
  },
  {
   "cell_type": "code",
   "execution_count": 132,
   "outputs": [],
   "source": [
    "\n",
    "# electricity_cost_df = pd.DataFrame()\n",
    "# electricity_cost_data_paths = glob(\"../data/clean/2*.xls\")\n",
    "# for electricity_cost_data_path in electricity_cost_data_paths:\n",
    "#     electricity_cost_df = pd.concat([pd.read_csv(electricity_cost_data_path), electricity_cost_df])\n",
    "# electricity_cost_df[\"Datetime\"] = pd.to_datetime(electricity_cost_df[\"Datetime\"], format=\"%d-%b-%y\")"
   ],
   "metadata": {
    "collapsed": false,
    "ExecuteTime": {
     "end_time": "2023-12-05T21:54:30.360138Z",
     "start_time": "2023-12-05T21:54:30.204409500Z"
    }
   }
  },
  {
   "cell_type": "code",
   "execution_count": 133,
   "metadata": {
    "ExecuteTime": {
     "end_time": "2023-12-05T21:54:30.361139Z",
     "start_time": "2023-12-05T21:54:30.206827200Z"
    }
   },
   "outputs": [],
   "source": [
    "# electricity_cost_df.sort_values(\"Datetime\").head()"
   ]
  },
  {
   "cell_type": "markdown",
   "metadata": {},
   "source": [
    "### Load Energy Usage"
   ]
  },
  {
   "cell_type": "code",
   "execution_count": 134,
   "metadata": {
    "ExecuteTime": {
     "end_time": "2023-12-05T21:54:30.361139Z",
     "start_time": "2023-12-05T21:54:30.212082100Z"
    }
   },
   "outputs": [],
   "source": [
    "# energy_df = pd.read_csv(\"../data/clean/LondonEnergy.xls\")\n",
    "# energy_df[\"Date\"] = pd.to_datetime(energy_df[\"Date\"], format=\"%m/%d/%Y\")\n",
    "# total_starting_rows = len(energy_df.index)\n",
    "# energy_df.sort_values(\"Date\").head()"
   ]
  },
  {
   "cell_type": "markdown",
   "metadata": {},
   "source": [
    "### Load Weather Data"
   ]
  },
  {
   "cell_type": "code",
   "execution_count": 135,
   "metadata": {
    "ExecuteTime": {
     "end_time": "2023-12-05T21:54:30.361139Z",
     "start_time": "2023-12-05T21:54:30.214590100Z"
    }
   },
   "outputs": [],
   "source": [
    "# weather_df = pd.read_csv(\"../data/clean/LondonWeather.xls\")\n",
    "# weather_df[\"date\"] = pd.to_datetime(weather_df[\"date\"], format=\"%Y%m%d\")\n",
    "# weather_df.sort_values(\"date\").head()"
   ]
  },
  {
   "cell_type": "markdown",
   "metadata": {},
   "source": [
    "# Merge Datasets"
   ]
  },
  {
   "cell_type": "code",
   "execution_count": 136,
   "metadata": {
    "ExecuteTime": {
     "end_time": "2023-12-05T21:54:30.361139Z",
     "start_time": "2023-12-05T21:54:30.217585700Z"
    }
   },
   "outputs": [],
   "source": [
    "# merged_df = pd.merge(energy_df, electricity_cost_df, left_on=\"Date\", right_on=\"Datetime\")\n",
    "# merged_df = pd.merge(merged_df, weather_df, left_on=\"Date\", right_on=\"date\")\n",
    "# print(merged_df.columns)\n",
    "# merged_df.head()"
   ]
  },
  {
   "cell_type": "code",
   "execution_count": 137,
   "metadata": {
    "ExecuteTime": {
     "end_time": "2023-12-05T21:54:30.361139Z",
     "start_time": "2023-12-05T21:54:30.221065600Z"
    }
   },
   "outputs": [],
   "source": [
    "# assert(len(merged_df.index) == total_starting_rows) # Assert we didn't lose any data"
   ]
  },
  {
   "cell_type": "code",
   "execution_count": 138,
   "metadata": {
    "ExecuteTime": {
     "end_time": "2023-12-05T21:54:30.361139Z",
     "start_time": "2023-12-05T21:54:30.224471900Z"
    }
   },
   "outputs": [],
   "source": [
    "# # Drop redundant date columns\n",
    "# merged_df = merged_df.drop([\"Datetime\", \"date\"], axis=1)"
   ]
  },
  {
   "cell_type": "markdown",
   "metadata": {},
   "source": [
    "# Test Train Split\n",
    "For the test train split on time series data, we will use a rolling k fold\n",
    "\n",
    "https://stats.stackexchange.com/questions/14099/using-k-fold-cross-validation-for-time-series-model-selection\n",
    "```\n",
    "Split 1: Test [1] Train [2]\n",
    "Split 2: Test [1, 2] Train [3]\n",
    "Split 3: Test [1, 2, 3] Train [4]\n",
    "Split 4: Test [1, 2, 3, 4] Train [5]\n",
    "Split 5: Test [1, 2, 3, 4, 5] Train [6]\n",
    "```"
   ]
  },
  {
   "cell_type": "code",
   "execution_count": 139,
   "metadata": {
    "ExecuteTime": {
     "end_time": "2023-12-05T21:54:30.361139Z",
     "start_time": "2023-12-05T21:54:30.227685700Z"
    }
   },
   "outputs": [
    {
     "data": {
      "text/plain": "          Date  volume weighted price  cloud_cover  sunshine  \\\n0   2011-11-23                  49.85          7.0       2.0   \n1   2011-11-24                  44.97          3.0       2.0   \n2   2011-11-25                  42.66          3.0       5.0   \n3   2011-11-26                  41.20          4.0       0.7   \n4   2011-11-27                  42.83          3.0       5.9   \n..         ...                    ...          ...       ...   \n824 2014-02-24                  42.81          4.0       4.4   \n825 2014-02-25                  41.60          5.0       2.0   \n826 2014-02-26                  47.71          1.0       7.7   \n827 2014-02-27                  45.77          4.0       4.9   \n828 2014-02-28                  45.33          7.0       1.0   \n\n     global_radiation  max_temp  mean_temp  min_temp  precipitation  pressure  \\\n0                35.0      13.5        6.8       2.6            0.2  102720.0   \n1                35.0      12.5        8.6       3.7            0.2  102710.0   \n2                52.0      14.0       11.0       9.5            0.0  102450.0   \n3                24.0      13.9       10.2       6.3            0.0  102580.0   \n4                55.0      13.2       11.8       9.7            0.0  102130.0   \n..                ...       ...        ...       ...            ...       ...   \n824              82.0      10.7       10.9       6.8            3.2  100500.0   \n825              60.0      11.8        9.4       8.1            2.6  100050.0   \n826             111.0      12.0        7.4       2.9            2.8  101270.0   \n827              90.0       8.4        8.9       5.7            4.8  100700.0   \n828              50.0      10.1        5.1       1.8            3.4   99890.0   \n\n     ...  days_elapsed  weekday sin  weekday cos  month sin  month cos  \\\n0    ...             0     0.974928    -0.222521  -0.500000   0.866025   \n1    ...             1     0.433884    -0.900969  -0.500000   0.866025   \n2    ...             2    -0.433884    -0.900969  -0.500000   0.866025   \n3    ...             3    -0.974928    -0.222521  -0.500000   0.866025   \n4    ...             4    -0.781831     0.623490  -0.500000   0.866025   \n..   ...           ...          ...          ...        ...        ...   \n824  ...           824     0.000000     1.000000   0.866025   0.500000   \n825  ...           825     0.781831     0.623490   0.866025   0.500000   \n826  ...           826     0.974928    -0.222521   0.866025   0.500000   \n827  ...           827     0.433884    -0.900969   0.866025   0.500000   \n828  ...           828    -0.433884    -0.900969   0.866025   0.500000   \n\n     Time of Year sin  Time of Year cos  year     avgKWH  DateIndex  \n0           -0.624187          0.781275  2011   6.952692          0  \n1           -0.610655          0.791896  2011   8.536480          1  \n2           -0.596943          0.802284  2011   9.499781          2  \n3           -0.583054          0.812434  2011  10.267707          3  \n4           -0.568992          0.822343  2011  10.850805          4  \n..                ...               ...   ...        ...        ...  \n824          0.804377          0.594119  2014  10.092758        824  \n825          0.814478          0.580194  2014  10.042841        825  \n826          0.824338          0.566097  2014   9.992153        826  \n827          0.833954          0.551833  2014  10.045084        827  \n828          0.843324          0.537406  2014   0.394141        828  \n\n[829 rows x 21 columns]",
      "text/html": "<div>\n<style scoped>\n    .dataframe tbody tr th:only-of-type {\n        vertical-align: middle;\n    }\n\n    .dataframe tbody tr th {\n        vertical-align: top;\n    }\n\n    .dataframe thead th {\n        text-align: right;\n    }\n</style>\n<table border=\"1\" class=\"dataframe\">\n  <thead>\n    <tr style=\"text-align: right;\">\n      <th></th>\n      <th>Date</th>\n      <th>volume weighted price</th>\n      <th>cloud_cover</th>\n      <th>sunshine</th>\n      <th>global_radiation</th>\n      <th>max_temp</th>\n      <th>mean_temp</th>\n      <th>min_temp</th>\n      <th>precipitation</th>\n      <th>pressure</th>\n      <th>...</th>\n      <th>days_elapsed</th>\n      <th>weekday sin</th>\n      <th>weekday cos</th>\n      <th>month sin</th>\n      <th>month cos</th>\n      <th>Time of Year sin</th>\n      <th>Time of Year cos</th>\n      <th>year</th>\n      <th>avgKWH</th>\n      <th>DateIndex</th>\n    </tr>\n  </thead>\n  <tbody>\n    <tr>\n      <th>0</th>\n      <td>2011-11-23</td>\n      <td>49.85</td>\n      <td>7.0</td>\n      <td>2.0</td>\n      <td>35.0</td>\n      <td>13.5</td>\n      <td>6.8</td>\n      <td>2.6</td>\n      <td>0.2</td>\n      <td>102720.0</td>\n      <td>...</td>\n      <td>0</td>\n      <td>0.974928</td>\n      <td>-0.222521</td>\n      <td>-0.500000</td>\n      <td>0.866025</td>\n      <td>-0.624187</td>\n      <td>0.781275</td>\n      <td>2011</td>\n      <td>6.952692</td>\n      <td>0</td>\n    </tr>\n    <tr>\n      <th>1</th>\n      <td>2011-11-24</td>\n      <td>44.97</td>\n      <td>3.0</td>\n      <td>2.0</td>\n      <td>35.0</td>\n      <td>12.5</td>\n      <td>8.6</td>\n      <td>3.7</td>\n      <td>0.2</td>\n      <td>102710.0</td>\n      <td>...</td>\n      <td>1</td>\n      <td>0.433884</td>\n      <td>-0.900969</td>\n      <td>-0.500000</td>\n      <td>0.866025</td>\n      <td>-0.610655</td>\n      <td>0.791896</td>\n      <td>2011</td>\n      <td>8.536480</td>\n      <td>1</td>\n    </tr>\n    <tr>\n      <th>2</th>\n      <td>2011-11-25</td>\n      <td>42.66</td>\n      <td>3.0</td>\n      <td>5.0</td>\n      <td>52.0</td>\n      <td>14.0</td>\n      <td>11.0</td>\n      <td>9.5</td>\n      <td>0.0</td>\n      <td>102450.0</td>\n      <td>...</td>\n      <td>2</td>\n      <td>-0.433884</td>\n      <td>-0.900969</td>\n      <td>-0.500000</td>\n      <td>0.866025</td>\n      <td>-0.596943</td>\n      <td>0.802284</td>\n      <td>2011</td>\n      <td>9.499781</td>\n      <td>2</td>\n    </tr>\n    <tr>\n      <th>3</th>\n      <td>2011-11-26</td>\n      <td>41.20</td>\n      <td>4.0</td>\n      <td>0.7</td>\n      <td>24.0</td>\n      <td>13.9</td>\n      <td>10.2</td>\n      <td>6.3</td>\n      <td>0.0</td>\n      <td>102580.0</td>\n      <td>...</td>\n      <td>3</td>\n      <td>-0.974928</td>\n      <td>-0.222521</td>\n      <td>-0.500000</td>\n      <td>0.866025</td>\n      <td>-0.583054</td>\n      <td>0.812434</td>\n      <td>2011</td>\n      <td>10.267707</td>\n      <td>3</td>\n    </tr>\n    <tr>\n      <th>4</th>\n      <td>2011-11-27</td>\n      <td>42.83</td>\n      <td>3.0</td>\n      <td>5.9</td>\n      <td>55.0</td>\n      <td>13.2</td>\n      <td>11.8</td>\n      <td>9.7</td>\n      <td>0.0</td>\n      <td>102130.0</td>\n      <td>...</td>\n      <td>4</td>\n      <td>-0.781831</td>\n      <td>0.623490</td>\n      <td>-0.500000</td>\n      <td>0.866025</td>\n      <td>-0.568992</td>\n      <td>0.822343</td>\n      <td>2011</td>\n      <td>10.850805</td>\n      <td>4</td>\n    </tr>\n    <tr>\n      <th>...</th>\n      <td>...</td>\n      <td>...</td>\n      <td>...</td>\n      <td>...</td>\n      <td>...</td>\n      <td>...</td>\n      <td>...</td>\n      <td>...</td>\n      <td>...</td>\n      <td>...</td>\n      <td>...</td>\n      <td>...</td>\n      <td>...</td>\n      <td>...</td>\n      <td>...</td>\n      <td>...</td>\n      <td>...</td>\n      <td>...</td>\n      <td>...</td>\n      <td>...</td>\n      <td>...</td>\n    </tr>\n    <tr>\n      <th>824</th>\n      <td>2014-02-24</td>\n      <td>42.81</td>\n      <td>4.0</td>\n      <td>4.4</td>\n      <td>82.0</td>\n      <td>10.7</td>\n      <td>10.9</td>\n      <td>6.8</td>\n      <td>3.2</td>\n      <td>100500.0</td>\n      <td>...</td>\n      <td>824</td>\n      <td>0.000000</td>\n      <td>1.000000</td>\n      <td>0.866025</td>\n      <td>0.500000</td>\n      <td>0.804377</td>\n      <td>0.594119</td>\n      <td>2014</td>\n      <td>10.092758</td>\n      <td>824</td>\n    </tr>\n    <tr>\n      <th>825</th>\n      <td>2014-02-25</td>\n      <td>41.60</td>\n      <td>5.0</td>\n      <td>2.0</td>\n      <td>60.0</td>\n      <td>11.8</td>\n      <td>9.4</td>\n      <td>8.1</td>\n      <td>2.6</td>\n      <td>100050.0</td>\n      <td>...</td>\n      <td>825</td>\n      <td>0.781831</td>\n      <td>0.623490</td>\n      <td>0.866025</td>\n      <td>0.500000</td>\n      <td>0.814478</td>\n      <td>0.580194</td>\n      <td>2014</td>\n      <td>10.042841</td>\n      <td>825</td>\n    </tr>\n    <tr>\n      <th>826</th>\n      <td>2014-02-26</td>\n      <td>47.71</td>\n      <td>1.0</td>\n      <td>7.7</td>\n      <td>111.0</td>\n      <td>12.0</td>\n      <td>7.4</td>\n      <td>2.9</td>\n      <td>2.8</td>\n      <td>101270.0</td>\n      <td>...</td>\n      <td>826</td>\n      <td>0.974928</td>\n      <td>-0.222521</td>\n      <td>0.866025</td>\n      <td>0.500000</td>\n      <td>0.824338</td>\n      <td>0.566097</td>\n      <td>2014</td>\n      <td>9.992153</td>\n      <td>826</td>\n    </tr>\n    <tr>\n      <th>827</th>\n      <td>2014-02-27</td>\n      <td>45.77</td>\n      <td>4.0</td>\n      <td>4.9</td>\n      <td>90.0</td>\n      <td>8.4</td>\n      <td>8.9</td>\n      <td>5.7</td>\n      <td>4.8</td>\n      <td>100700.0</td>\n      <td>...</td>\n      <td>827</td>\n      <td>0.433884</td>\n      <td>-0.900969</td>\n      <td>0.866025</td>\n      <td>0.500000</td>\n      <td>0.833954</td>\n      <td>0.551833</td>\n      <td>2014</td>\n      <td>10.045084</td>\n      <td>827</td>\n    </tr>\n    <tr>\n      <th>828</th>\n      <td>2014-02-28</td>\n      <td>45.33</td>\n      <td>7.0</td>\n      <td>1.0</td>\n      <td>50.0</td>\n      <td>10.1</td>\n      <td>5.1</td>\n      <td>1.8</td>\n      <td>3.4</td>\n      <td>99890.0</td>\n      <td>...</td>\n      <td>828</td>\n      <td>-0.433884</td>\n      <td>-0.900969</td>\n      <td>0.866025</td>\n      <td>0.500000</td>\n      <td>0.843324</td>\n      <td>0.537406</td>\n      <td>2014</td>\n      <td>0.394141</td>\n      <td>828</td>\n    </tr>\n  </tbody>\n</table>\n<p>829 rows × 21 columns</p>\n</div>"
     },
     "execution_count": 139,
     "metadata": {},
     "output_type": "execute_result"
    }
   ],
   "source": [
    "import numpy as np\n",
    "\n",
    "first_date = AllData_df[\"Date\"].min()\n",
    "AllData_df['DateIndex'] = AllData_df[\"Date\"].apply(lambda x: (x- first_date).days).astype(int)\n",
    "AllData_df = AllData_df.reindex(np.arange(len(AllData_df.index)))\n",
    "AllData_df = AllData_df.sort_values(\"DateIndex\")\n",
    "AllData_df"
   ]
  },
  {
   "cell_type": "code",
   "execution_count": 140,
   "metadata": {
    "ExecuteTime": {
     "end_time": "2023-12-05T21:54:30.709302900Z",
     "start_time": "2023-12-05T21:54:30.252039900Z"
    }
   },
   "outputs": [
    {
     "data": {
      "text/plain": "<Axes: title={'center': 'Data Distrubtion by Date'}, xlabel='Date', ylabel='Count'>"
     },
     "execution_count": 140,
     "metadata": {},
     "output_type": "execute_result"
    },
    {
     "data": {
      "text/plain": "<Figure size 1000x1000 with 1 Axes>",
      "image/png": "[encoded data removed]"
     },
     "metadata": {},
     "output_type": "display_data"
    }
   ],
   "source": [
    "import seaborn as sns\n",
    "import matplotlib.pyplot as plt\n",
    "plt.figure(figsize=(10,10))\n",
    "plt.title(\"Data Distrubtion by Date\")\n",
    "sns.histplot(AllData_df[\"Date\"], bins=92)"
   ]
  },
  {
   "cell_type": "code",
   "execution_count": 141,
   "metadata": {
    "ExecuteTime": {
     "end_time": "2023-12-05T21:54:30.713206800Z",
     "start_time": "2023-12-05T21:54:30.707301100Z"
    }
   },
   "outputs": [
    {
     "data": {
      "text/plain": "[(0, 137), (138, 275), (276, 413), (414, 551), (552, 689), (690, 828)]"
     },
     "execution_count": 141,
     "metadata": {},
     "output_type": "execute_result"
    }
   ],
   "source": [
    "# Split Data into 6 even segments.\n",
    "SPLIT_COUNT = 6\n",
    "\n",
    "splits = []\n",
    "date_indexes = AllData_df[\"DateIndex\"]\n",
    "data_length = len(date_indexes)\n",
    "for i in range(SPLIT_COUNT):\n",
    "    split = date_indexes[int(i * data_length / SPLIT_COUNT):int((i+1) * data_length / SPLIT_COUNT)]\n",
    "    splits.append((split.min(), split.max()))\n",
    "    if i != 0:\n",
    "        if splits[i][0] == splits[i-1][1]:\n",
    "            splits[i] = (splits[i][0] + 1, splits[i][1])\n",
    "\n",
    "splits"
   ]
  },
  {
   "cell_type": "code",
   "execution_count": 142,
   "metadata": {
    "ExecuteTime": {
     "end_time": "2023-12-05T21:54:30.721992700Z",
     "start_time": "2023-12-05T21:54:30.714207200Z"
    }
   },
   "outputs": [
    {
     "name": "stdout",
     "output_type": "stream",
     "text": [
      "Split 0 has length: 138\n",
      "Split 1 has length: 138\n",
      "Split 2 has length: 138\n",
      "Split 3 has length: 138\n",
      "Split 4 has length: 138\n",
      "Split 5 has length: 139\n"
     ]
    }
   ],
   "source": [
    "AllData_df[\"split\"] = -1\n",
    "for i, split in enumerate(splits):\n",
    "    print(f\"Split {i} has length: {len(AllData_df[(AllData_df['DateIndex'] >= split[0]) & (AllData_df['DateIndex'] <= split[1])].index )}\")\n",
    "    AllData_df.loc[(AllData_df[\"DateIndex\"] >= split[0]) & (AllData_df[\"DateIndex\"] <= split[1]), \"split\"] = i"
   ]
  },
  {
   "cell_type": "code",
   "execution_count": 143,
   "metadata": {
    "ExecuteTime": {
     "end_time": "2023-12-05T21:54:31.743646800Z",
     "start_time": "2023-12-05T21:54:30.724996100Z"
    }
   },
   "outputs": [
    {
     "data": {
      "text/plain": "<Axes: title={'center': '6 Folds for Test Train Split'}, xlabel='DateIndex', ylabel='Count'>"
     },
     "execution_count": 143,
     "metadata": {},
     "output_type": "execute_result"
    },
    {
     "data": {
      "text/plain": "<Figure size 1000x1000 with 1 Axes>",
      "image/png": "[encoded data removed]"
     },
     "metadata": {},
     "output_type": "display_data"
    }
   ],
   "source": [
    "plt.figure(figsize=(10,10))\n",
    "plt.title(\"6 Folds for Test Train Split\")\n",
    "sns.histplot(data=AllData_df, x=\"DateIndex\", hue=\"split\", multiple=\"stack\", bins=92)"
   ]
  },
  {
   "cell_type": "code",
   "execution_count": 144,
   "metadata": {
    "ExecuteTime": {
     "end_time": "2023-12-05T21:54:31.859597100Z",
     "start_time": "2023-12-05T21:54:31.743646800Z"
    }
   },
   "outputs": [
    {
     "name": "stdout",
     "output_type": "stream",
     "text": [
      "Train 0 has length 138\n",
      "Test 0 has length 138\n",
      "Train 1 has length 276\n",
      "Test 1 has length 138\n",
      "Train 2 has length 414\n",
      "Test 2 has length 138\n",
      "Train 3 has length 552\n",
      "Test 3 has length 138\n",
      "Train 4 has length 690\n",
      "Test 4 has length 139\n"
     ]
    }
   ],
   "source": [
    "import os\n",
    "os.makedirs(\"../data/test_train_split\", exist_ok=True)\n",
    "\n",
    "for i in range(len(splits) - 1):\n",
    "    train_df = AllData_df[AllData_df[\"split\"] <= i]\n",
    "    train_df = train_df.drop([\"DateIndex\", \"split\"], axis=1)\n",
    "    print(f\"Train {i} has length {len(train_df.index)}\")\n",
    "    train_df.to_feather(f\"../data/test_train_split/train_{i}.feather\")\n",
    "\n",
    "    test_df = AllData_df[AllData_df[\"split\"] == i+1]\n",
    "    test_df = test_df.drop([\"DateIndex\", \"split\"], axis=1)\n",
    "    print(f\"Test {i} has length {len(test_df.index)}\")\n",
    "    test_df.to_feather(f\"../data/test_train_split/test_{i}.feather\")"
   ]
  },
  {
   "cell_type": "code",
   "execution_count": 144,
   "metadata": {
    "ExecuteTime": {
     "end_time": "2023-12-05T21:54:31.859597100Z",
     "start_time": "2023-12-05T21:54:31.782022300Z"
    }
   },
   "outputs": [],
   "source": []
  }
 ],
 "metadata": {
  "kernelspec": {
   "display_name": ".venv",
   "language": "python",
   "name": "python3"
  },
  "language_info": {
   "codemirror_mode": {
    "name": "ipython",
    "version": 3
   },
   "file_extension": ".py",
   "mimetype": "text/x-python",
   "name": "python",
   "nbconvert_exporter": "python",
   "pygments_lexer": "ipython3",
   "version": "3.11.4"
  }
 },
 "nbformat": 4,
 "nbformat_minor": 2
}
